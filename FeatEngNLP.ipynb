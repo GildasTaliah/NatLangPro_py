{
  "nbformat": 4,
  "nbformat_minor": 0,
  "metadata": {
    "colab": {
      "provenance": [],
      "authorship_tag": "ABX9TyO09uGJ0fn8aWnoLDHWOaCt",
      "include_colab_link": true
    },
    "kernelspec": {
      "name": "python3",
      "display_name": "Python 3"
    },
    "language_info": {
      "name": "python"
    }
  },
  "cells": [
    {
      "cell_type": "markdown",
      "metadata": {
        "id": "view-in-github",
        "colab_type": "text"
      },
      "source": [
        "<a href=\"https://colab.research.google.com/github/GildasTaliah/NatLangPro_py/blob/main/FeatEngNLP.ipynb\" target=\"_parent\"><img src=\"https://colab.research.google.com/assets/colab-badge.svg\" alt=\"Open In Colab\"/></a>"
      ]
    },
    {
      "cell_type": "code",
      "execution_count": null,
      "metadata": {
        "id": "Rq67jRli3YuP"
      },
      "outputs": [],
      "source": []
    },
    {
      "cell_type": "markdown",
      "source": [
        "# **FEATURE ENGINEERING FOR NLP IN PYTHON**\n",
        "\n",
        "**Description**\n",
        "\n",
        "In this course, you will learn techniques that will allow you to extract useful information from text and process them into a format suitable for applying ML models. More specifically, you will learn about POS tagging, named entity recognition, readability scores, the n-gram and tf-idf models, and how to implement them using scikit-learn and spaCy. You will also learn to compute how similar two documents are to each other.  In the process, you will predict the sentiment of movie reviews and build movie and Ted Talk recommenders. Following the course, you will be able to engineer critical features out of any text and solve some of the most challenging problems in data science!"
      ],
      "metadata": {
        "id": "pYduauZB3nC4"
      }
    },
    {
      "cell_type": "markdown",
      "source": [
        "# **1. Basic Features and Readability scores.**\n",
        "\n",
        "Learn to compute basic features such as number of words, number of characters, average word length and number of special characters (such as Twitter hashtags and mentions). You will also learn to compute readability scores and determine the amount of education required to comprehend a piece of text.\n",
        "\n"
      ],
      "metadata": {
        "id": "Nczhumzr4agl"
      }
    },
    {
      "cell_type": "code",
      "source": [
        "# Data sets\n",
        "import pandas as pd\n",
        "\n",
        "# Real and Fake News\n",
        "url = \"https://assets.datacamp.com/production/repositories/4375/datasets/dd0cbaa4d6df483b6cb8fb8365152f5e3d743990/fakenews.csv\"\n",
        "real_and_fake_news = pd.read_csv(url)\n",
        "real_and_fake_news = real_and_fake_news.drop(columns = [\"Unnamed: 0\"])\n",
        "# convert to csv\n",
        "real_and_fake_news.to_csv(\"real_and_fake_news.csv\", index=False)\n",
        "\n",
        "\n",
        "# TED talk transcript\n",
        "url = \"https://assets.datacamp.com/production/repositories/4375/datasets/923cfcdab7e4297c2e3c4c859a5add798ae51d3b/ted.csv\"\n",
        "ted = pd.read_csv(url)\n",
        "ted.head()\n",
        "# convert to csv\n",
        "ted.to_csv(\"ted.csv\", index=False)\n",
        "\n",
        "# Preprocessed movie\n",
        "url = \"https://assets.datacamp.com/production/repositories/4375/datasets/4281f3352173b69c17965c8f5261603cc18c7d0b/movie_reviews_clean.csv\"\n",
        "movie_reviews_clean = pd.read_csv(url)\n",
        "# convert to csv\n",
        "movie_reviews_clean.to_csv(\"movie_reviews_clean.csv\", index=False)\n",
        "\n",
        "# movie plots and taglines\n",
        "movie_plot_taglines= \"https://assets.datacamp.com/production/repositories/4375/datasets/83f27c4ad045c098d3db5596154316e4ee0a28a8/movie_overviews.csv\"\n",
        "movie_plot_taglines = pd.read_csv(movie_plot_taglines)\n",
        "# convert to csv\n",
        "movie_plot_taglines.to_csv(\"movie_plot_taglines.csv\", index=False)\n",
        "\n",
        "# Russian trol tweets\n",
        "url = \"https://assets.datacamp.com/production/repositories/4375/datasets/f67c0cd351c8431bde5ac9724f9031102e38edb3/russian_tweets.csv\"\n",
        "russian_tweets = pd.read_csv(url)\n",
        "russian_tweets = russian_tweets.drop(columns = [\"Unnamed: 0\"])\n",
        "# convert to csv\n",
        "russian_tweets.to_csv(\"russian_tweets.csv\", index=False)\n",
        "\n",
        "russian_tweets.head()"
      ],
      "metadata": {
        "colab": {
          "base_uri": "https://localhost:8080/",
          "height": 260
        },
        "id": "Zxvjpc5AMuLc",
        "outputId": "db0e7283-0aea-4537-9df3-3904ea463e96"
      },
      "execution_count": 76,
      "outputs": [
        {
          "output_type": "execute_result",
          "data": {
            "text/plain": [
              "                                             content\n",
              "0  LIVE STREAM VIDEO=> Donald Trump Rallies in Co...\n",
              "1  Muslim Attacks NYPD Cops with Meat Cleaver. Me...\n",
              "2  .@vfpatlas well that's a swella word there (di...\n",
              "3  RT wehking_pamela: Bobby_Axelrod2k MMFlint don...\n",
              "4  Жители обстреливаемых районов Донецка проводят..."
            ],
            "text/html": [
              "\n",
              "  <div id=\"df-685c7430-ed94-446e-b0c7-c2569d7080f0\" class=\"colab-df-container\">\n",
              "    <div>\n",
              "<style scoped>\n",
              "    .dataframe tbody tr th:only-of-type {\n",
              "        vertical-align: middle;\n",
              "    }\n",
              "\n",
              "    .dataframe tbody tr th {\n",
              "        vertical-align: top;\n",
              "    }\n",
              "\n",
              "    .dataframe thead th {\n",
              "        text-align: right;\n",
              "    }\n",
              "</style>\n",
              "<table border=\"1\" class=\"dataframe\">\n",
              "  <thead>\n",
              "    <tr style=\"text-align: right;\">\n",
              "      <th></th>\n",
              "      <th>content</th>\n",
              "    </tr>\n",
              "  </thead>\n",
              "  <tbody>\n",
              "    <tr>\n",
              "      <th>0</th>\n",
              "      <td>LIVE STREAM VIDEO=&gt; Donald Trump Rallies in Co...</td>\n",
              "    </tr>\n",
              "    <tr>\n",
              "      <th>1</th>\n",
              "      <td>Muslim Attacks NYPD Cops with Meat Cleaver. Me...</td>\n",
              "    </tr>\n",
              "    <tr>\n",
              "      <th>2</th>\n",
              "      <td>.@vfpatlas well that's a swella word there (di...</td>\n",
              "    </tr>\n",
              "    <tr>\n",
              "      <th>3</th>\n",
              "      <td>RT wehking_pamela: Bobby_Axelrod2k MMFlint don...</td>\n",
              "    </tr>\n",
              "    <tr>\n",
              "      <th>4</th>\n",
              "      <td>Жители обстреливаемых районов Донецка проводят...</td>\n",
              "    </tr>\n",
              "  </tbody>\n",
              "</table>\n",
              "</div>\n",
              "    <div class=\"colab-df-buttons\">\n",
              "\n",
              "  <div class=\"colab-df-container\">\n",
              "    <button class=\"colab-df-convert\" onclick=\"convertToInteractive('df-685c7430-ed94-446e-b0c7-c2569d7080f0')\"\n",
              "            title=\"Convert this dataframe to an interactive table.\"\n",
              "            style=\"display:none;\">\n",
              "\n",
              "  <svg xmlns=\"http://www.w3.org/2000/svg\" height=\"24px\" viewBox=\"0 -960 960 960\">\n",
              "    <path d=\"M120-120v-720h720v720H120Zm60-500h600v-160H180v160Zm220 220h160v-160H400v160Zm0 220h160v-160H400v160ZM180-400h160v-160H180v160Zm440 0h160v-160H620v160ZM180-180h160v-160H180v160Zm440 0h160v-160H620v160Z\"/>\n",
              "  </svg>\n",
              "    </button>\n",
              "\n",
              "  <style>\n",
              "    .colab-df-container {\n",
              "      display:flex;\n",
              "      gap: 12px;\n",
              "    }\n",
              "\n",
              "    .colab-df-convert {\n",
              "      background-color: #E8F0FE;\n",
              "      border: none;\n",
              "      border-radius: 50%;\n",
              "      cursor: pointer;\n",
              "      display: none;\n",
              "      fill: #1967D2;\n",
              "      height: 32px;\n",
              "      padding: 0 0 0 0;\n",
              "      width: 32px;\n",
              "    }\n",
              "\n",
              "    .colab-df-convert:hover {\n",
              "      background-color: #E2EBFA;\n",
              "      box-shadow: 0px 1px 2px rgba(60, 64, 67, 0.3), 0px 1px 3px 1px rgba(60, 64, 67, 0.15);\n",
              "      fill: #174EA6;\n",
              "    }\n",
              "\n",
              "    .colab-df-buttons div {\n",
              "      margin-bottom: 4px;\n",
              "    }\n",
              "\n",
              "    [theme=dark] .colab-df-convert {\n",
              "      background-color: #3B4455;\n",
              "      fill: #D2E3FC;\n",
              "    }\n",
              "\n",
              "    [theme=dark] .colab-df-convert:hover {\n",
              "      background-color: #434B5C;\n",
              "      box-shadow: 0px 1px 3px 1px rgba(0, 0, 0, 0.15);\n",
              "      filter: drop-shadow(0px 1px 2px rgba(0, 0, 0, 0.3));\n",
              "      fill: #FFFFFF;\n",
              "    }\n",
              "  </style>\n",
              "\n",
              "    <script>\n",
              "      const buttonEl =\n",
              "        document.querySelector('#df-685c7430-ed94-446e-b0c7-c2569d7080f0 button.colab-df-convert');\n",
              "      buttonEl.style.display =\n",
              "        google.colab.kernel.accessAllowed ? 'block' : 'none';\n",
              "\n",
              "      async function convertToInteractive(key) {\n",
              "        const element = document.querySelector('#df-685c7430-ed94-446e-b0c7-c2569d7080f0');\n",
              "        const dataTable =\n",
              "          await google.colab.kernel.invokeFunction('convertToInteractive',\n",
              "                                                    [key], {});\n",
              "        if (!dataTable) return;\n",
              "\n",
              "        const docLinkHtml = 'Like what you see? Visit the ' +\n",
              "          '<a target=\"_blank\" href=https://colab.research.google.com/notebooks/data_table.ipynb>data table notebook</a>'\n",
              "          + ' to learn more about interactive tables.';\n",
              "        element.innerHTML = '';\n",
              "        dataTable['output_type'] = 'display_data';\n",
              "        await google.colab.output.renderOutput(dataTable, element);\n",
              "        const docLink = document.createElement('div');\n",
              "        docLink.innerHTML = docLinkHtml;\n",
              "        element.appendChild(docLink);\n",
              "      }\n",
              "    </script>\n",
              "  </div>\n",
              "\n",
              "\n",
              "<div id=\"df-388f7877-1ee9-405f-8bf8-ba728c25491c\">\n",
              "  <button class=\"colab-df-quickchart\" onclick=\"quickchart('df-388f7877-1ee9-405f-8bf8-ba728c25491c')\"\n",
              "            title=\"Suggest charts\"\n",
              "            style=\"display:none;\">\n",
              "\n",
              "<svg xmlns=\"http://www.w3.org/2000/svg\" height=\"24px\"viewBox=\"0 0 24 24\"\n",
              "     width=\"24px\">\n",
              "    <g>\n",
              "        <path d=\"M19 3H5c-1.1 0-2 .9-2 2v14c0 1.1.9 2 2 2h14c1.1 0 2-.9 2-2V5c0-1.1-.9-2-2-2zM9 17H7v-7h2v7zm4 0h-2V7h2v10zm4 0h-2v-4h2v4z\"/>\n",
              "    </g>\n",
              "</svg>\n",
              "  </button>\n",
              "\n",
              "<style>\n",
              "  .colab-df-quickchart {\n",
              "      --bg-color: #E8F0FE;\n",
              "      --fill-color: #1967D2;\n",
              "      --hover-bg-color: #E2EBFA;\n",
              "      --hover-fill-color: #174EA6;\n",
              "      --disabled-fill-color: #AAA;\n",
              "      --disabled-bg-color: #DDD;\n",
              "  }\n",
              "\n",
              "  [theme=dark] .colab-df-quickchart {\n",
              "      --bg-color: #3B4455;\n",
              "      --fill-color: #D2E3FC;\n",
              "      --hover-bg-color: #434B5C;\n",
              "      --hover-fill-color: #FFFFFF;\n",
              "      --disabled-bg-color: #3B4455;\n",
              "      --disabled-fill-color: #666;\n",
              "  }\n",
              "\n",
              "  .colab-df-quickchart {\n",
              "    background-color: var(--bg-color);\n",
              "    border: none;\n",
              "    border-radius: 50%;\n",
              "    cursor: pointer;\n",
              "    display: none;\n",
              "    fill: var(--fill-color);\n",
              "    height: 32px;\n",
              "    padding: 0;\n",
              "    width: 32px;\n",
              "  }\n",
              "\n",
              "  .colab-df-quickchart:hover {\n",
              "    background-color: var(--hover-bg-color);\n",
              "    box-shadow: 0 1px 2px rgba(60, 64, 67, 0.3), 0 1px 3px 1px rgba(60, 64, 67, 0.15);\n",
              "    fill: var(--button-hover-fill-color);\n",
              "  }\n",
              "\n",
              "  .colab-df-quickchart-complete:disabled,\n",
              "  .colab-df-quickchart-complete:disabled:hover {\n",
              "    background-color: var(--disabled-bg-color);\n",
              "    fill: var(--disabled-fill-color);\n",
              "    box-shadow: none;\n",
              "  }\n",
              "\n",
              "  .colab-df-spinner {\n",
              "    border: 2px solid var(--fill-color);\n",
              "    border-color: transparent;\n",
              "    border-bottom-color: var(--fill-color);\n",
              "    animation:\n",
              "      spin 1s steps(1) infinite;\n",
              "  }\n",
              "\n",
              "  @keyframes spin {\n",
              "    0% {\n",
              "      border-color: transparent;\n",
              "      border-bottom-color: var(--fill-color);\n",
              "      border-left-color: var(--fill-color);\n",
              "    }\n",
              "    20% {\n",
              "      border-color: transparent;\n",
              "      border-left-color: var(--fill-color);\n",
              "      border-top-color: var(--fill-color);\n",
              "    }\n",
              "    30% {\n",
              "      border-color: transparent;\n",
              "      border-left-color: var(--fill-color);\n",
              "      border-top-color: var(--fill-color);\n",
              "      border-right-color: var(--fill-color);\n",
              "    }\n",
              "    40% {\n",
              "      border-color: transparent;\n",
              "      border-right-color: var(--fill-color);\n",
              "      border-top-color: var(--fill-color);\n",
              "    }\n",
              "    60% {\n",
              "      border-color: transparent;\n",
              "      border-right-color: var(--fill-color);\n",
              "    }\n",
              "    80% {\n",
              "      border-color: transparent;\n",
              "      border-right-color: var(--fill-color);\n",
              "      border-bottom-color: var(--fill-color);\n",
              "    }\n",
              "    90% {\n",
              "      border-color: transparent;\n",
              "      border-bottom-color: var(--fill-color);\n",
              "    }\n",
              "  }\n",
              "</style>\n",
              "\n",
              "  <script>\n",
              "    async function quickchart(key) {\n",
              "      const quickchartButtonEl =\n",
              "        document.querySelector('#' + key + ' button');\n",
              "      quickchartButtonEl.disabled = true;  // To prevent multiple clicks.\n",
              "      quickchartButtonEl.classList.add('colab-df-spinner');\n",
              "      try {\n",
              "        const charts = await google.colab.kernel.invokeFunction(\n",
              "            'suggestCharts', [key], {});\n",
              "      } catch (error) {\n",
              "        console.error('Error during call to suggestCharts:', error);\n",
              "      }\n",
              "      quickchartButtonEl.classList.remove('colab-df-spinner');\n",
              "      quickchartButtonEl.classList.add('colab-df-quickchart-complete');\n",
              "    }\n",
              "    (() => {\n",
              "      let quickchartButtonEl =\n",
              "        document.querySelector('#df-388f7877-1ee9-405f-8bf8-ba728c25491c button');\n",
              "      quickchartButtonEl.style.display =\n",
              "        google.colab.kernel.accessAllowed ? 'block' : 'none';\n",
              "    })();\n",
              "  </script>\n",
              "</div>\n",
              "\n",
              "    </div>\n",
              "  </div>\n"
            ],
            "application/vnd.google.colaboratory.intrinsic+json": {
              "type": "dataframe",
              "variable_name": "russian_tweets",
              "summary": "{\n  \"name\": \"russian_tweets\",\n  \"rows\": 1000,\n  \"fields\": [\n    {\n      \"column\": \"content\",\n      \"properties\": {\n        \"dtype\": \"string\",\n        \"num_unique_values\": 1000,\n        \"samples\": [\n          \"I've barely been on twitter today but I'm fresh out of patience for ignorant morons.\",\n          \"Rich people aren\\u2019t more important than poor people #ReclaimMLK # #PPCHistory https://t.co/h8dtTXOQxJ\",\n          \"#ARealKenyanWomanShouldNever let her peers degrade her... Stay classy.. Read books.. Be real.. Eat vegies.. Do your squats.. And PRAY!\"\n        ],\n        \"semantic_type\": \"\",\n        \"description\": \"\"\n      }\n    }\n  ]\n}"
            }
          },
          "metadata": {},
          "execution_count": 76
        }
      ]
    },
    {
      "cell_type": "code",
      "source": [
        "df1 = real_and_fake_news\n",
        "# Print the features of df1\n",
        "print(df1.columns)\n",
        "\n",
        "# Perform one-hot encoding\n",
        "df1 = pd.get_dummies(df1, columns=['label'])\n",
        "\n",
        "# Print the new features of df1\n",
        "print(df1.columns)\n",
        "\n",
        "# Print first five rows of df1\n",
        "print(df1.head())\n",
        "\n",
        "\"Great job! You have successfully performed one-hot encoding on this dataframe. \\\n",
        "Notice how the feature 5 (which represents sex) gets converted to two features \\\n",
        "feature 5_male and feature 5_female. With one-hot encoding performed, df1 only \\\n",
        "contains numerical features and can now be fed into any standard ML model!\""
      ],
      "metadata": {
        "colab": {
          "base_uri": "https://localhost:8080/",
          "height": 240
        },
        "id": "HS4WaWIbU-8-",
        "outputId": "dd574606-6453-476c-d3bc-b0a32a33ec6a"
      },
      "execution_count": 2,
      "outputs": [
        {
          "output_type": "stream",
          "name": "stdout",
          "text": [
            "Index(['title', 'label'], dtype='object')\n",
            "Index(['title', 'label_FAKE', 'label_REAL'], dtype='object')\n",
            "                                               title  label_FAKE  label_REAL\n",
            "0                       You Can Smell Hillary’s Fear        True       False\n",
            "1  Watch The Exact Moment Paul Ryan Committed Pol...        True       False\n",
            "2        Kerry to go to Paris in gesture of sympathy       False        True\n",
            "3  Bernie supporters on Twitter erupt in anger ag...        True       False\n",
            "4   The Battle of New York: Why This Primary Matters       False        True\n"
          ]
        },
        {
          "output_type": "execute_result",
          "data": {
            "text/plain": [
              "'Great job! You have successfully performed one-hot encoding on this dataframe. Notice how the feature 5 (which represents sex) gets converted to two features feature 5_male and feature 5_female. With one-hot encoding performed, df1 only contains numerical features and can now be fed into any standard ML model!'"
            ],
            "application/vnd.google.colaboratory.intrinsic+json": {
              "type": "string"
            }
          },
          "metadata": {},
          "execution_count": 2
        }
      ]
    },
    {
      "cell_type": "markdown",
      "source": [
        "**Character count of Russian tweets**\n",
        "\n",
        "In this exercise, you have been given a dataframe tweets which contains some tweets associated with Russia's Internet Research Agency and compiled by FiveThirtyEight.\n",
        "\n",
        "Your task is to create a new feature 'char_count' in tweets which computes the number of characters for each tweet. Also, compute the average length of each tweet. The tweets are available in the content feature of tweets.\n",
        "\n",
        "Be aware that this is real data from Twitter and as such there is always a risk that it may contain profanity or other offensive content (in this exercise, and any following exercises that also use real Twitter data)."
      ],
      "metadata": {
        "id": "GYyPlMS5YMWT"
      }
    },
    {
      "cell_type": "code",
      "source": [
        "russian_tweets.head()"
      ],
      "metadata": {
        "colab": {
          "base_uri": "https://localhost:8080/",
          "height": 260
        },
        "id": "Ze465TifZB2w",
        "outputId": "f0a70513-42ca-46d6-c590-af774c5cba3a"
      },
      "execution_count": 3,
      "outputs": [
        {
          "output_type": "execute_result",
          "data": {
            "text/plain": [
              "                                             content\n",
              "0  LIVE STREAM VIDEO=> Donald Trump Rallies in Co...\n",
              "1  Muslim Attacks NYPD Cops with Meat Cleaver. Me...\n",
              "2  .@vfpatlas well that's a swella word there (di...\n",
              "3  RT wehking_pamela: Bobby_Axelrod2k MMFlint don...\n",
              "4  Жители обстреливаемых районов Донецка проводят..."
            ],
            "text/html": [
              "\n",
              "  <div id=\"df-d52d1f03-ab7c-4fb4-b4df-12e5e5e9f30a\" class=\"colab-df-container\">\n",
              "    <div>\n",
              "<style scoped>\n",
              "    .dataframe tbody tr th:only-of-type {\n",
              "        vertical-align: middle;\n",
              "    }\n",
              "\n",
              "    .dataframe tbody tr th {\n",
              "        vertical-align: top;\n",
              "    }\n",
              "\n",
              "    .dataframe thead th {\n",
              "        text-align: right;\n",
              "    }\n",
              "</style>\n",
              "<table border=\"1\" class=\"dataframe\">\n",
              "  <thead>\n",
              "    <tr style=\"text-align: right;\">\n",
              "      <th></th>\n",
              "      <th>content</th>\n",
              "    </tr>\n",
              "  </thead>\n",
              "  <tbody>\n",
              "    <tr>\n",
              "      <th>0</th>\n",
              "      <td>LIVE STREAM VIDEO=&gt; Donald Trump Rallies in Co...</td>\n",
              "    </tr>\n",
              "    <tr>\n",
              "      <th>1</th>\n",
              "      <td>Muslim Attacks NYPD Cops with Meat Cleaver. Me...</td>\n",
              "    </tr>\n",
              "    <tr>\n",
              "      <th>2</th>\n",
              "      <td>.@vfpatlas well that's a swella word there (di...</td>\n",
              "    </tr>\n",
              "    <tr>\n",
              "      <th>3</th>\n",
              "      <td>RT wehking_pamela: Bobby_Axelrod2k MMFlint don...</td>\n",
              "    </tr>\n",
              "    <tr>\n",
              "      <th>4</th>\n",
              "      <td>Жители обстреливаемых районов Донецка проводят...</td>\n",
              "    </tr>\n",
              "  </tbody>\n",
              "</table>\n",
              "</div>\n",
              "    <div class=\"colab-df-buttons\">\n",
              "\n",
              "  <div class=\"colab-df-container\">\n",
              "    <button class=\"colab-df-convert\" onclick=\"convertToInteractive('df-d52d1f03-ab7c-4fb4-b4df-12e5e5e9f30a')\"\n",
              "            title=\"Convert this dataframe to an interactive table.\"\n",
              "            style=\"display:none;\">\n",
              "\n",
              "  <svg xmlns=\"http://www.w3.org/2000/svg\" height=\"24px\" viewBox=\"0 -960 960 960\">\n",
              "    <path d=\"M120-120v-720h720v720H120Zm60-500h600v-160H180v160Zm220 220h160v-160H400v160Zm0 220h160v-160H400v160ZM180-400h160v-160H180v160Zm440 0h160v-160H620v160ZM180-180h160v-160H180v160Zm440 0h160v-160H620v160Z\"/>\n",
              "  </svg>\n",
              "    </button>\n",
              "\n",
              "  <style>\n",
              "    .colab-df-container {\n",
              "      display:flex;\n",
              "      gap: 12px;\n",
              "    }\n",
              "\n",
              "    .colab-df-convert {\n",
              "      background-color: #E8F0FE;\n",
              "      border: none;\n",
              "      border-radius: 50%;\n",
              "      cursor: pointer;\n",
              "      display: none;\n",
              "      fill: #1967D2;\n",
              "      height: 32px;\n",
              "      padding: 0 0 0 0;\n",
              "      width: 32px;\n",
              "    }\n",
              "\n",
              "    .colab-df-convert:hover {\n",
              "      background-color: #E2EBFA;\n",
              "      box-shadow: 0px 1px 2px rgba(60, 64, 67, 0.3), 0px 1px 3px 1px rgba(60, 64, 67, 0.15);\n",
              "      fill: #174EA6;\n",
              "    }\n",
              "\n",
              "    .colab-df-buttons div {\n",
              "      margin-bottom: 4px;\n",
              "    }\n",
              "\n",
              "    [theme=dark] .colab-df-convert {\n",
              "      background-color: #3B4455;\n",
              "      fill: #D2E3FC;\n",
              "    }\n",
              "\n",
              "    [theme=dark] .colab-df-convert:hover {\n",
              "      background-color: #434B5C;\n",
              "      box-shadow: 0px 1px 3px 1px rgba(0, 0, 0, 0.15);\n",
              "      filter: drop-shadow(0px 1px 2px rgba(0, 0, 0, 0.3));\n",
              "      fill: #FFFFFF;\n",
              "    }\n",
              "  </style>\n",
              "\n",
              "    <script>\n",
              "      const buttonEl =\n",
              "        document.querySelector('#df-d52d1f03-ab7c-4fb4-b4df-12e5e5e9f30a button.colab-df-convert');\n",
              "      buttonEl.style.display =\n",
              "        google.colab.kernel.accessAllowed ? 'block' : 'none';\n",
              "\n",
              "      async function convertToInteractive(key) {\n",
              "        const element = document.querySelector('#df-d52d1f03-ab7c-4fb4-b4df-12e5e5e9f30a');\n",
              "        const dataTable =\n",
              "          await google.colab.kernel.invokeFunction('convertToInteractive',\n",
              "                                                    [key], {});\n",
              "        if (!dataTable) return;\n",
              "\n",
              "        const docLinkHtml = 'Like what you see? Visit the ' +\n",
              "          '<a target=\"_blank\" href=https://colab.research.google.com/notebooks/data_table.ipynb>data table notebook</a>'\n",
              "          + ' to learn more about interactive tables.';\n",
              "        element.innerHTML = '';\n",
              "        dataTable['output_type'] = 'display_data';\n",
              "        await google.colab.output.renderOutput(dataTable, element);\n",
              "        const docLink = document.createElement('div');\n",
              "        docLink.innerHTML = docLinkHtml;\n",
              "        element.appendChild(docLink);\n",
              "      }\n",
              "    </script>\n",
              "  </div>\n",
              "\n",
              "\n",
              "<div id=\"df-45d96f5f-3e1c-4779-977e-37c1a597bd25\">\n",
              "  <button class=\"colab-df-quickchart\" onclick=\"quickchart('df-45d96f5f-3e1c-4779-977e-37c1a597bd25')\"\n",
              "            title=\"Suggest charts\"\n",
              "            style=\"display:none;\">\n",
              "\n",
              "<svg xmlns=\"http://www.w3.org/2000/svg\" height=\"24px\"viewBox=\"0 0 24 24\"\n",
              "     width=\"24px\">\n",
              "    <g>\n",
              "        <path d=\"M19 3H5c-1.1 0-2 .9-2 2v14c0 1.1.9 2 2 2h14c1.1 0 2-.9 2-2V5c0-1.1-.9-2-2-2zM9 17H7v-7h2v7zm4 0h-2V7h2v10zm4 0h-2v-4h2v4z\"/>\n",
              "    </g>\n",
              "</svg>\n",
              "  </button>\n",
              "\n",
              "<style>\n",
              "  .colab-df-quickchart {\n",
              "      --bg-color: #E8F0FE;\n",
              "      --fill-color: #1967D2;\n",
              "      --hover-bg-color: #E2EBFA;\n",
              "      --hover-fill-color: #174EA6;\n",
              "      --disabled-fill-color: #AAA;\n",
              "      --disabled-bg-color: #DDD;\n",
              "  }\n",
              "\n",
              "  [theme=dark] .colab-df-quickchart {\n",
              "      --bg-color: #3B4455;\n",
              "      --fill-color: #D2E3FC;\n",
              "      --hover-bg-color: #434B5C;\n",
              "      --hover-fill-color: #FFFFFF;\n",
              "      --disabled-bg-color: #3B4455;\n",
              "      --disabled-fill-color: #666;\n",
              "  }\n",
              "\n",
              "  .colab-df-quickchart {\n",
              "    background-color: var(--bg-color);\n",
              "    border: none;\n",
              "    border-radius: 50%;\n",
              "    cursor: pointer;\n",
              "    display: none;\n",
              "    fill: var(--fill-color);\n",
              "    height: 32px;\n",
              "    padding: 0;\n",
              "    width: 32px;\n",
              "  }\n",
              "\n",
              "  .colab-df-quickchart:hover {\n",
              "    background-color: var(--hover-bg-color);\n",
              "    box-shadow: 0 1px 2px rgba(60, 64, 67, 0.3), 0 1px 3px 1px rgba(60, 64, 67, 0.15);\n",
              "    fill: var(--button-hover-fill-color);\n",
              "  }\n",
              "\n",
              "  .colab-df-quickchart-complete:disabled,\n",
              "  .colab-df-quickchart-complete:disabled:hover {\n",
              "    background-color: var(--disabled-bg-color);\n",
              "    fill: var(--disabled-fill-color);\n",
              "    box-shadow: none;\n",
              "  }\n",
              "\n",
              "  .colab-df-spinner {\n",
              "    border: 2px solid var(--fill-color);\n",
              "    border-color: transparent;\n",
              "    border-bottom-color: var(--fill-color);\n",
              "    animation:\n",
              "      spin 1s steps(1) infinite;\n",
              "  }\n",
              "\n",
              "  @keyframes spin {\n",
              "    0% {\n",
              "      border-color: transparent;\n",
              "      border-bottom-color: var(--fill-color);\n",
              "      border-left-color: var(--fill-color);\n",
              "    }\n",
              "    20% {\n",
              "      border-color: transparent;\n",
              "      border-left-color: var(--fill-color);\n",
              "      border-top-color: var(--fill-color);\n",
              "    }\n",
              "    30% {\n",
              "      border-color: transparent;\n",
              "      border-left-color: var(--fill-color);\n",
              "      border-top-color: var(--fill-color);\n",
              "      border-right-color: var(--fill-color);\n",
              "    }\n",
              "    40% {\n",
              "      border-color: transparent;\n",
              "      border-right-color: var(--fill-color);\n",
              "      border-top-color: var(--fill-color);\n",
              "    }\n",
              "    60% {\n",
              "      border-color: transparent;\n",
              "      border-right-color: var(--fill-color);\n",
              "    }\n",
              "    80% {\n",
              "      border-color: transparent;\n",
              "      border-right-color: var(--fill-color);\n",
              "      border-bottom-color: var(--fill-color);\n",
              "    }\n",
              "    90% {\n",
              "      border-color: transparent;\n",
              "      border-bottom-color: var(--fill-color);\n",
              "    }\n",
              "  }\n",
              "</style>\n",
              "\n",
              "  <script>\n",
              "    async function quickchart(key) {\n",
              "      const quickchartButtonEl =\n",
              "        document.querySelector('#' + key + ' button');\n",
              "      quickchartButtonEl.disabled = true;  // To prevent multiple clicks.\n",
              "      quickchartButtonEl.classList.add('colab-df-spinner');\n",
              "      try {\n",
              "        const charts = await google.colab.kernel.invokeFunction(\n",
              "            'suggestCharts', [key], {});\n",
              "      } catch (error) {\n",
              "        console.error('Error during call to suggestCharts:', error);\n",
              "      }\n",
              "      quickchartButtonEl.classList.remove('colab-df-spinner');\n",
              "      quickchartButtonEl.classList.add('colab-df-quickchart-complete');\n",
              "    }\n",
              "    (() => {\n",
              "      let quickchartButtonEl =\n",
              "        document.querySelector('#df-45d96f5f-3e1c-4779-977e-37c1a597bd25 button');\n",
              "      quickchartButtonEl.style.display =\n",
              "        google.colab.kernel.accessAllowed ? 'block' : 'none';\n",
              "    })();\n",
              "  </script>\n",
              "</div>\n",
              "\n",
              "    </div>\n",
              "  </div>\n"
            ],
            "application/vnd.google.colaboratory.intrinsic+json": {
              "type": "dataframe",
              "variable_name": "russian_tweets",
              "summary": "{\n  \"name\": \"russian_tweets\",\n  \"rows\": 1000,\n  \"fields\": [\n    {\n      \"column\": \"content\",\n      \"properties\": {\n        \"dtype\": \"string\",\n        \"num_unique_values\": 1000,\n        \"samples\": [\n          \"I've barely been on twitter today but I'm fresh out of patience for ignorant morons.\",\n          \"Rich people aren\\u2019t more important than poor people #ReclaimMLK # #PPCHistory https://t.co/h8dtTXOQxJ\",\n          \"#ARealKenyanWomanShouldNever let her peers degrade her... Stay classy.. Read books.. Be real.. Eat vegies.. Do your squats.. And PRAY!\"\n        ],\n        \"semantic_type\": \"\",\n        \"description\": \"\"\n      }\n    }\n  ]\n}"
            }
          },
          "metadata": {},
          "execution_count": 3
        }
      ]
    },
    {
      "cell_type": "code",
      "source": [
        "# Create a feature char_count\n",
        "tweets = russian_tweets\n",
        "tweets['char_count'] = tweets['content'].apply(len)\n",
        "\n",
        "# Print the average character count\n",
        "print(tweets['char_count'].mean(), '\\n')\n",
        "\n",
        "\"Great job! Notice that the average character count of these tweets is approximately 104, \\\n",
        "which is much higher than the overall average tweet length of around 40 characters. \\\n",
        "Depending on what you're working on, this may be something worth investigating into. \\\n",
        "For your information, there is research that indicates that fake news articles tend to \\\n",
        "have longer titles! Therefore, even extremely basic features such as character counts can prove to be very useful in certain applications.\""
      ],
      "metadata": {
        "colab": {
          "base_uri": "https://localhost:8080/",
          "height": 130
        },
        "id": "8aVS6niBYx4o",
        "outputId": "5be07b00-4aee-4d7c-f50e-ca83f930b100"
      },
      "execution_count": 4,
      "outputs": [
        {
          "output_type": "stream",
          "name": "stdout",
          "text": [
            "103.462 \n",
            "\n"
          ]
        },
        {
          "output_type": "execute_result",
          "data": {
            "text/plain": [
              "\"Great job! Notice that the average character count of these tweets is approximately 104, which is much higher than the overall average tweet length of around 40 characters. Depending on what you're working on, this may be something worth investigating into. For your information, there is research that indicates that fake news articles tend to have longer titles! Therefore, even extremely basic features such as character counts can prove to be very useful in certain applications.\""
            ],
            "application/vnd.google.colaboratory.intrinsic+json": {
              "type": "string"
            }
          },
          "metadata": {},
          "execution_count": 4
        }
      ]
    },
    {
      "cell_type": "markdown",
      "source": [
        "**Word count of TED talks**\n",
        "\n",
        "ted is a dataframe that contains the transcripts of 500 TED talks. Your job is to compute a new feature word_count which contains the approximate number of words for each talk. Consequently, you also need to compute the average word count of the talks. The transcripts are available as the transcript feature in ted.\n",
        "\n",
        "In order to complete this task, you will need to define a function count_words that takes in a string as an argument and returns the number of words in the string. You will then need to apply this function to the transcript feature of ted to create the new feature word_count and compute its mean."
      ],
      "metadata": {
        "id": "XvXYv-s6ZtSv"
      }
    },
    {
      "cell_type": "code",
      "source": [
        "# Function that returns number of words in a string\n",
        "def count_words(string):\n",
        "\t# Split the string into words\n",
        "    words = string.split()\n",
        "\n",
        "    # Return the number of words\n",
        "    return len(words)\n",
        "\n",
        "# Create a new feature word_count\n",
        "ted['word_count'] = ted['transcript'].apply(count_words)\n",
        "\n",
        "# Print the average word count of the talks\n",
        "print(ted['word_count'].mean(), '\\n')\n",
        "\n",
        "\n",
        "\"Amazing work! You now know how to compute the number of words in a given piece of text. \\\n",
        "Also, notice that the average length of a talk is close to 2000 words. You can use the word_count \\\n",
        "feature to compute its correlation with other variables such as number of views, number of comments, etc. and derive extremely interesting insights about TED.\""
      ],
      "metadata": {
        "colab": {
          "base_uri": "https://localhost:8080/",
          "height": 108
        },
        "id": "IXM0fSFaZ7tF",
        "outputId": "5a4fb34c-b374-4340-9603-efd8716a278b"
      },
      "execution_count": 5,
      "outputs": [
        {
          "output_type": "stream",
          "name": "stdout",
          "text": [
            "1987.1 \n",
            "\n"
          ]
        },
        {
          "output_type": "execute_result",
          "data": {
            "text/plain": [
              "'Amazing work! You now know how to compute the number of words in a given piece of text. Also, notice that the average length of a talk is close to 2000 words. You can use the word_count feature to compute its correlation with other variables such as number of views, number of comments, etc. and derive extremely interesting insights about TED.'"
            ],
            "application/vnd.google.colaboratory.intrinsic+json": {
              "type": "string"
            }
          },
          "metadata": {},
          "execution_count": 5
        }
      ]
    },
    {
      "cell_type": "markdown",
      "source": [
        "**Hashtags and mentions in Russian tweets**\n",
        "\n",
        "Let's revisit the tweets dataframe containing the Russian tweets. In this exercise, you will compute the number of hashtags and mentions in each tweet by defining two functions count_hashtags() and count_mentions() respectively and applying them to the content feature of tweets.\n",
        "\n",
        "In case you don't recall, the tweets are contained in the content feature of tweets."
      ],
      "metadata": {
        "id": "hOeh8YhOaL3u"
      }
    },
    {
      "cell_type": "code",
      "source": [
        "import matplotlib.pyplot as plt\n",
        "plt.style.use('ggplot')\n",
        "# Function that returns number of hashtags in a string\n",
        "def count_hashtags(string):\n",
        "\t# Split the string into words\n",
        "    words = string.split()\n",
        "\n",
        "    # Create a list of words that are hashtags\n",
        "    hashtags = [word for word in words if word.startswith('#')]\n",
        "\n",
        "    # Return number of hashtags\n",
        "    return(len(hashtags))\n",
        "\n",
        "# Create a feature hashtag_count and display distribution\n",
        "tweets['hashtag_count'] = tweets['content'].apply(count_hashtags)\n",
        "tweets['hashtag_count'].hist()\n",
        "plt.title('Hashtag count distribution')\n",
        "plt.show()"
      ],
      "metadata": {
        "colab": {
          "base_uri": "https://localhost:8080/",
          "height": 454
        },
        "id": "pjVjIZU1aXhG",
        "outputId": "790edcd5-d2b8-4ce0-8bf7-253e94cb1227"
      },
      "execution_count": 6,
      "outputs": [
        {
          "output_type": "display_data",
          "data": {
            "text/plain": [
              "<Figure size 640x480 with 1 Axes>"
            ],
            "image/png": "[encoded data removed]"
          },
          "metadata": {}
        }
      ]
    },
    {
      "cell_type": "code",
      "source": [
        "# Function that returns number of mentions in a string\n",
        "def count_mentions(string):\n",
        "\t# Split the string into words\n",
        "    words = string.split()\n",
        "\n",
        "    # Create a list of words that are mentions\n",
        "    mentions = [word for word in words if word.startswith('@')]\n",
        "\n",
        "    # Return number of mentions\n",
        "    return(len(mentions))\n",
        "\n",
        "# Create a feature mention_count and display distribution\n",
        "tweets['mention_count'] = tweets['content'].apply(count_mentions)\n",
        "tweets['mention_count'].hist()\n",
        "plt.title('Mention count distribution')\n",
        "plt.show()\n",
        "\n",
        "\"Excellent work! You now have a good grasp of how to compute various types of summary \\\n",
        "features. In the next lesson, we will learn about more advanced features that are capable of capturing more nuanced information beyond simple word and character counts.\""
      ],
      "metadata": {
        "colab": {
          "base_uri": "https://localhost:8080/",
          "height": 500
        },
        "id": "3G4xqyKiak-P",
        "outputId": "69aa840b-224a-4c9d-e157-615893ffc53d"
      },
      "execution_count": 7,
      "outputs": [
        {
          "output_type": "display_data",
          "data": {
            "text/plain": [
              "<Figure size 640x480 with 1 Axes>"
            ],
            "image/png": "[encoded data removed]"
          },
          "metadata": {}
        },
        {
          "output_type": "execute_result",
          "data": {
            "text/plain": [
              "'Excellent work! You now have a good grasp of how to compute various types of summary features. In the next lesson, we will learn about more advanced features that are capable of capturing more nuanced information beyond simple word and character counts.'"
            ],
            "application/vnd.google.colaboratory.intrinsic+json": {
              "type": "string"
            }
          },
          "metadata": {},
          "execution_count": 7
        }
      ]
    },
    {
      "cell_type": "code",
      "source": [
        "# Function that returns number of mentions in a string\n",
        "def count_(string, letter):\n",
        "\t# Split the string into words\n",
        "    words = string.split()\n",
        "\n",
        "    # Create a list of words that are mentions\n",
        "    mentions = [word for word in words if word.startswith(letter)]\n",
        "\n",
        "    # Return number of mentions\n",
        "    return(len(mentions))\n",
        "\n",
        "letter = 'A'\n",
        "tweets['words_with_A'] = tweets['content'].apply(count_, letter = letter)\n",
        "tweets['words_with_A'].plot(kind = 'hist')\n",
        "plt.title('Words Starting with the letter A')\n",
        "plt.show()\n",
        "\n",
        "# drop column for A\n",
        "tweets = tweets.drop(columns = ['words_with_A'])"
      ],
      "metadata": {
        "colab": {
          "base_uri": "https://localhost:8080/",
          "height": 454
        },
        "id": "LArKJ2Mea3x4",
        "outputId": "f67f55f2-40f5-47bb-a545-e1d0f4b28db6"
      },
      "execution_count": 8,
      "outputs": [
        {
          "output_type": "display_data",
          "data": {
            "text/plain": [
              "<Figure size 640x480 with 1 Axes>"
            ],
            "image/png": "[encoded data removed]"
          },
          "metadata": {}
        }
      ]
    },
    {
      "cell_type": "code",
      "source": [],
      "metadata": {
        "id": "ZSt_MKqefKF0"
      },
      "execution_count": 8,
      "outputs": []
    },
    {
      "cell_type": "markdown",
      "source": [
        "**Readability of 'The Myth of Sisyphus'**\n",
        "\n",
        "In this exercise, you will compute the Flesch reading ease score for Albert Camus' famous essay The Myth of Sisyphus. We will then interpret the value of this score as explained in the video and try to determine the reading level of the essay.\n",
        "\n",
        "The entire essay is in the form of a string and is available as sisyphus_essay."
      ],
      "metadata": {
        "id": "ug-91E9KdiYZ"
      }
    },
    {
      "cell_type": "code",
      "source": [
        "sisyphus_essay = [\"The gods had condemned Sisyphus to ceaselessly rolling a rock to the top of a mountain, whence the stone would fall back of its own weight. They had thought with some reason that there is no more dreadful punishment than futile and hopeless labor. If one believes Homer, Sisyphus was the wisest and most prudent of mortals. According to another tradition, however, he was disposed to practice the profession of highwayman. I see no contradiction in this. Opinions differ as to the reasons why he became the futile laborer of the underworld. To begin with, he is accused of a certain levity in regard to the gods. He stole their secrets. Egina, the daughter of Esopus, was carried off by Jupiter. The father was shocked by that disappearance and complained to Sisyphus. He, who knew of the abduction, offered to tell about it on condition that Esopus would give water to the citadel of Corinth. To the celestial thunderbolts he preferred the benediction of water. He was punished for this in the underworld. Homer tells us also that Sisyphus had put Death in chains. Pluto could not endure the sight of his deserted, silent empire. He dispatched the god of war, who liberated Death from the hands of her conqueror. It is said that Sisyphus, being near to death, rashly wanted to test his wife\\'s love. He ordered her to cast his unburied body into the middle of the public square. Sisyphus woke up in the underworld. And there, annoyed by an obedience so contrary to human love, he obtained from Pluto permission to return to earth in order to chastise his wife. But when he had seen again the face of this world, enjoyed water and sun, warm stones and the sea, he no longer wanted to go back to the infernal darkness. Recalls, signs of anger, warnings were of no avail. Many years more he lived facing the curve of the gulf, the sparkling sea, and the smiles of earth. A decree of the gods was necessary. Mercury came and seized the impudent man by the collar and, snatching him from his joys, lead him forcibly back to the underworld, where his rock was ready for him. You have already grasped that Sisyphus is the absurd hero. He is, as much through his passions as through his torture. His scorn of the gods, his hatred of death, and his passion for life won him that unspeakable penalty in which the whole being is exerted toward accomplishing nothing. This is the price that must be paid for the passions of this earth. Nothing is told us about Sisyphus in the underworld. Myths are made for the imagination to breathe life into them. As for this myth, one sees merely the whole effort of a body straining to raise the huge stone, to roll it, and push it up a slope a hundred times over; one sees the face screwed up, the cheek tight against the stone, the shoulder bracing the clay-covered mass, the foot wedging it, the fresh start with arms outstretched, the wholly human security of two earth-clotted hands. At the very end of his long effort measured by skyless space and time without depth, the purpose is achieved. Then Sisyphus watches the stone rush down in a few moments toward tlower world whence he will have to push it up again toward the summit. He goes back down to the plain. It is during that return, that pause, that Sisyphus interests me. A face that toils so close to stones is already stone itself! I see that man going back down with a heavy yet measured step toward the torment of which he will never know the end. That hour like a breathing-space which returns as surely as his suffering, that is the hour of consciousness. At each of those moments when he leaves the heights and gradually sinks toward the lairs of the gods, he is superior to his fate. He is stronger than his rock. If this myth is tragic, that is because its hero is conscious. Where would his torture be, indeed, if at every step the hope of succeeding upheld him? The workman of today works everyday in his life at the same tasks, and his fate is no less absurd. But it is tragic only at the rare moments when it becomes conscious. Sisyphus, proletarian of the gods, powerless and rebellious, knows the whole extent of his wretched condition: it is what he thinks of during his descent. The lucidity that was to constitute his torture at the same time crowns his victory. There is no fate that can not be surmounted by scorn. If the descent is thus sometimes performed in sorrow, it can also take place in joy. This word is not too much. Again I fancy Sisyphus returning toward his rock, and the sorrow was in the beginning. When the images of earth cling too tightly to memory, when the call of happiness becomes too insistent, it happens that melancholy arises in man\\'s heart: this is the rock\\'s victory, this is the rock itself. The boundless grief is too heavy to bear. These are our nights of Gethsemane. But crushing truths perish from being acknowledged. Thus, Edipus at the outset obeys fate without knowing it. But from the moment he knows, his tragedy begins. Yet at the same moment, blind and desperate, he realizes that the only bond linking him to the world is the cool hand of a girl. Then a tremendous remark rings out: Despite so many ordeals, my advanced age and the nobility of my soul make me conclude that all is well. Sophocles Edipus, like Dostoevskys Kirilov, thus gives the recipe for the absurd victory. Ancient wisdom confirms modern heroism. One does not discover the absurd without being tempted to write a manual of happiness. What!---by such narrow ways--? There is but one world, however. Happiness and the absurd are two sons of the same earth. They are inseparable. It would be a mistake to say that happiness necessarily springs from the absurd. Discovery. It happens as well that the felling of the absurd springs from happiness. I conclude that all is well, says Edipus, and that remark is sacred. It echoes in the wild and limited universe of man. It teaches that all is not, has not been, exhausted. It drives out of this world a god who had come into it with dissatisfaction and a preference for futile suffering. It makes of fate a human matter, which must be settled among men. All Sisyphus\\' silent joy is contained therein. His fate belongs to him. His rock is a thing. Likewise, the absurd man, when he contemplates his torment, silences all the idols. In the universe suddenly restored to its silence, the myriad wondering little voices of the earth rise up. Unconscious, secret calls, invitations from all the faces, they are the necessary reverse and price of victory. There is no sun without shadow, and it is essential to know the night. The absurd man says yes and his efforts will henceforth be unceasing. If there is a personal fate, there is no higher destiny, or at least there is, but one which he concludes is inevitable and despicable. For the rest, he knows himself to be the master of his days. At that subtle moment when man glances backward over his life, Sisyphus returning toward his rock, in that slight pivoting he contemplates that series of unrelated actions which become his fate, created by him, combined under his memory\\'s eye and soon sealed by his death. Thus, convinced of the wholly human origin of all that is human, a blind man eager to see who knows that the night has no end, he is still on the go. The rock is still rolling. I leave Sisyphus at the foot of the mountain! One always finds ones burden again. But Sisyphus teaches the higher fidelity that negates the gods and raises rocks. He too concludes that all is well. This universe henceforth without a master seems to him neither sterile nor futile. Each atom of that stone, each mineral flake of that night filled mountain, in itself forms a world. The struggle itself toward the heights is enough to fill a mans heart. One must imagine Sisyphus happy. \"]\n",
        "\n",
        "sisyphus_essay = ' '.join(sisyphus_essay)\n",
        "sisyphus_essay"
      ],
      "metadata": {
        "colab": {
          "base_uri": "https://localhost:8080/",
          "height": 154
        },
        "id": "W1G6dqfbiLo2",
        "outputId": "e0d6477e-7c7a-4ba3-c1f1-13312d9f03ac"
      },
      "execution_count": 9,
      "outputs": [
        {
          "output_type": "execute_result",
          "data": {
            "text/plain": [
              "\"The gods had condemned Sisyphus to ceaselessly rolling a rock to the top of a mountain, whence the stone would fall back of its own weight. They had thought with some reason that there is no more dreadful punishment than futile and hopeless labor. If one believes Homer, Sisyphus was the wisest and most prudent of mortals. According to another tradition, however, he was disposed to practice the profession of highwayman. I see no contradiction in this. Opinions differ as to the reasons why he became the futile laborer of the underworld. To begin with, he is accused of a certain levity in regard to the gods. He stole their secrets. Egina, the daughter of Esopus, was carried off by Jupiter. The father was shocked by that disappearance and complained to Sisyphus. He, who knew of the abduction, offered to tell about it on condition that Esopus would give water to the citadel of Corinth. To the celestial thunderbolts he preferred the benediction of water. He was punished for this in the underworld. Homer tells us also that Sisyphus had put Death in chains. Pluto could not endure the sight of his deserted, silent empire. He dispatched the god of war, who liberated Death from the hands of her conqueror. It is said that Sisyphus, being near to death, rashly wanted to test his wife's love. He ordered her to cast his unburied body into the middle of the public square. Sisyphus woke up in the underworld. And there, annoyed by an obedience so contrary to human love, he obtained from Pluto permission to return to earth in order to chastise his wife. But when he had seen again the face of this world, enjoyed water and sun, warm stones and the sea, he no longer wanted to go back to the infernal darkness. Recalls, signs of anger, warnings were of no avail. Many years more he lived facing the curve of the gulf, the sparkling sea, and the smiles of earth. A decree of the gods was necessary. Mercury came and seized the impudent man by the collar and, snatching him from his joys, lead him forcibly back to the underworld, where his rock was ready for him. You have already grasped that Sisyphus is the absurd hero. He is, as much through his passions as through his torture. His scorn of the gods, his hatred of death, and his passion for life won him that unspeakable penalty in which the whole being is exerted toward accomplishing nothing. This is the price that must be paid for the passions of this earth. Nothing is told us about Sisyphus in the underworld. Myths are made for the imagination to breathe life into them. As for this myth, one sees merely the whole effort of a body straining to raise the huge stone, to roll it, and push it up a slope a hundred times over; one sees the face screwed up, the cheek tight against the stone, the shoulder bracing the clay-covered mass, the foot wedging it, the fresh start with arms outstretched, the wholly human security of two earth-clotted hands. At the very end of his long effort measured by skyless space and time without depth, the purpose is achieved. Then Sisyphus watches the stone rush down in a few moments toward tlower world whence he will have to push it up again toward the summit. He goes back down to the plain. It is during that return, that pause, that Sisyphus interests me. A face that toils so close to stones is already stone itself! I see that man going back down with a heavy yet measured step toward the torment of which he will never know the end. That hour like a breathing-space which returns as surely as his suffering, that is the hour of consciousness. At each of those moments when he leaves the heights and gradually sinks toward the lairs of the gods, he is superior to his fate. He is stronger than his rock. If this myth is tragic, that is because its hero is conscious. Where would his torture be, indeed, if at every step the hope of succeeding upheld him? The workman of today works everyday in his life at the same tasks, and his fate is no less absurd. But it is tragic only at the rare moments when it becomes conscious. Sisyphus, proletarian of the gods, powerless and rebellious, knows the whole extent of his wretched condition: it is what he thinks of during his descent. The lucidity that was to constitute his torture at the same time crowns his victory. There is no fate that can not be surmounted by scorn. If the descent is thus sometimes performed in sorrow, it can also take place in joy. This word is not too much. Again I fancy Sisyphus returning toward his rock, and the sorrow was in the beginning. When the images of earth cling too tightly to memory, when the call of happiness becomes too insistent, it happens that melancholy arises in man's heart: this is the rock's victory, this is the rock itself. The boundless grief is too heavy to bear. These are our nights of Gethsemane. But crushing truths perish from being acknowledged. Thus, Edipus at the outset obeys fate without knowing it. But from the moment he knows, his tragedy begins. Yet at the same moment, blind and desperate, he realizes that the only bond linking him to the world is the cool hand of a girl. Then a tremendous remark rings out: Despite so many ordeals, my advanced age and the nobility of my soul make me conclude that all is well. Sophocles Edipus, like Dostoevskys Kirilov, thus gives the recipe for the absurd victory. Ancient wisdom confirms modern heroism. One does not discover the absurd without being tempted to write a manual of happiness. What!---by such narrow ways--? There is but one world, however. Happiness and the absurd are two sons of the same earth. They are inseparable. It would be a mistake to say that happiness necessarily springs from the absurd. Discovery. It happens as well that the felling of the absurd springs from happiness. I conclude that all is well, says Edipus, and that remark is sacred. It echoes in the wild and limited universe of man. It teaches that all is not, has not been, exhausted. It drives out of this world a god who had come into it with dissatisfaction and a preference for futile suffering. It makes of fate a human matter, which must be settled among men. All Sisyphus' silent joy is contained therein. His fate belongs to him. His rock is a thing. Likewise, the absurd man, when he contemplates his torment, silences all the idols. In the universe suddenly restored to its silence, the myriad wondering little voices of the earth rise up. Unconscious, secret calls, invitations from all the faces, they are the necessary reverse and price of victory. There is no sun without shadow, and it is essential to know the night. The absurd man says yes and his efforts will henceforth be unceasing. If there is a personal fate, there is no higher destiny, or at least there is, but one which he concludes is inevitable and despicable. For the rest, he knows himself to be the master of his days. At that subtle moment when man glances backward over his life, Sisyphus returning toward his rock, in that slight pivoting he contemplates that series of unrelated actions which become his fate, created by him, combined under his memory's eye and soon sealed by his death. Thus, convinced of the wholly human origin of all that is human, a blind man eager to see who knows that the night has no end, he is still on the go. The rock is still rolling. I leave Sisyphus at the foot of the mountain! One always finds ones burden again. But Sisyphus teaches the higher fidelity that negates the gods and raises rocks. He too concludes that all is well. This universe henceforth without a master seems to him neither sterile nor futile. Each atom of that stone, each mineral flake of that night filled mountain, in itself forms a world. The struggle itself toward the heights is enough to fill a mans heart. One must imagine Sisyphus happy. \""
            ],
            "application/vnd.google.colaboratory.intrinsic+json": {
              "type": "string"
            }
          },
          "metadata": {},
          "execution_count": 9
        }
      ]
    },
    {
      "cell_type": "code",
      "source": [
        "import nltk\n",
        "nltk.download('punkt_tab')"
      ],
      "metadata": {
        "colab": {
          "base_uri": "https://localhost:8080/"
        },
        "id": "RfD1or4kgYuD",
        "outputId": "91316ea9-93d1-44ee-abdb-0797594f5aa7"
      },
      "execution_count": 10,
      "outputs": [
        {
          "output_type": "stream",
          "name": "stderr",
          "text": [
            "[nltk_data] Downloading package punkt_tab to /root/nltk_data...\n",
            "[nltk_data]   Unzipping tokenizers/punkt_tab.zip.\n"
          ]
        },
        {
          "output_type": "execute_result",
          "data": {
            "text/plain": [
              "True"
            ]
          },
          "metadata": {},
          "execution_count": 10
        }
      ]
    },
    {
      "cell_type": "code",
      "source": [
        "#!pip install readability-lxml\n",
        "\n",
        "#!pip install readability-lxml\n",
        "#!pip install lxml[html_clean]  # or pip install lxml_html_clean"
      ],
      "metadata": {
        "id": "JYCOiGthg8UT"
      },
      "execution_count": 11,
      "outputs": []
    },
    {
      "cell_type": "code",
      "source": [
        "# Import Readability\n",
        "#from readability import Readability\n",
        "\n",
        "# Compute the readability scores object\n",
        "#readability_scores = Readability(sisyphus_essay)\n",
        "\n",
        "# Print the flesch reading ease score\n",
        "#flesch = readability_scores.flesch()\n",
        "#print(\"The Flesch Reading Ease is %.2f\" % (flesch.score))\n",
        "\n",
        "#\"Excellent! You now know to compute the Flesch reading ease score for a given body of text. \\\n",
        "#Notice that the score for this essay is approximately 68.65. This indicates that the essay is at the readability level of a 8th grade American student.\""
      ],
      "metadata": {
        "id": "XrRXdkzKe68k"
      },
      "execution_count": 12,
      "outputs": []
    },
    {
      "cell_type": "code",
      "source": [
        "!pip install textstat"
      ],
      "metadata": {
        "id": "jGas66tnhw88",
        "colab": {
          "base_uri": "https://localhost:8080/"
        },
        "outputId": "3657a2f6-0daf-4a20-c841-76b4fddf18f7"
      },
      "execution_count": 13,
      "outputs": [
        {
          "output_type": "stream",
          "name": "stdout",
          "text": [
            "Collecting textstat\n",
            "  Downloading textstat-0.7.4-py3-none-any.whl.metadata (14 kB)\n",
            "Collecting pyphen (from textstat)\n",
            "  Downloading pyphen-0.17.0-py3-none-any.whl.metadata (3.2 kB)\n",
            "Requirement already satisfied: setuptools in /usr/local/lib/python3.10/dist-packages (from textstat) (75.1.0)\n",
            "Downloading textstat-0.7.4-py3-none-any.whl (105 kB)\n",
            "\u001b[2K   \u001b[90m━━━━━━━━━━━━━━━━━━━━━━━━━━━━━━━━━━━━━━━━\u001b[0m \u001b[32m105.1/105.1 kB\u001b[0m \u001b[31m2.3 MB/s\u001b[0m eta \u001b[36m0:00:00\u001b[0m\n",
            "\u001b[?25hDownloading pyphen-0.17.0-py3-none-any.whl (2.1 MB)\n",
            "\u001b[2K   \u001b[90m━━━━━━━━━━━━━━━━━━━━━━━━━━━━━━━━━━━━━━━━\u001b[0m \u001b[32m2.1/2.1 MB\u001b[0m \u001b[31m23.0 MB/s\u001b[0m eta \u001b[36m0:00:00\u001b[0m\n",
            "\u001b[?25hInstalling collected packages: pyphen, textstat\n",
            "Successfully installed pyphen-0.17.0 textstat-0.7.4\n"
          ]
        }
      ]
    },
    {
      "cell_type": "code",
      "source": [
        "import textstat\n",
        "\n",
        "# Compute the Flesch Reading Ease score\n",
        "flesch_score = textstat.flesch_reading_ease(sisyphus_essay)\n",
        "\n",
        "# Print the score\n",
        "print(f\"The Flesch Reading Ease is: {flesch_score}\")"
      ],
      "metadata": {
        "colab": {
          "base_uri": "https://localhost:8080/"
        },
        "id": "IXlrDrbFhuWv",
        "outputId": "8258505b-63b2-4905-e3e2-c245c4db4cbd"
      },
      "execution_count": 14,
      "outputs": [
        {
          "output_type": "stream",
          "name": "stdout",
          "text": [
            "The Flesch Reading Ease is: 73.37\n"
          ]
        }
      ]
    },
    {
      "cell_type": "markdown",
      "source": [],
      "metadata": {
        "id": "UdxPXx_0ioJ7"
      }
    },
    {
      "cell_type": "code",
      "source": [],
      "metadata": {
        "id": "BLwoj2NCioTb"
      },
      "execution_count": 14,
      "outputs": []
    },
    {
      "cell_type": "code",
      "source": [
        "forbes = [ \"The idea is to create more transparency about companies and individuals that are breaking the law or are non-compliant with official obligations and incentivize the right behaviors with the overall goal of improving governance and market order. The Chinese Communist Party intends the social credit score system to “allow the trustworthy to roam freely under heaven while making it hard for the discredited to take a single step. Even though the system is still under development it currently plays out in real life in myriad ways for private citizens, businesses and government officials. Generally, higher credit scores give people a variety of advantages. Individuals are often given perks such as discounted energy bills and access or better visibility on dating websites. Often, those with higher social credit scores are able to forgo deposits on rental properties, bicycles, and umbrellas. They can even get better travel deals. In addition, Chinese hospitals are currently experimenting with social credit scores. A social credit score above 650 at one hospital allows an individual to see a doctor without lining up to pay. \" ]\n",
        "forbes = ' '.join(forbes)\n",
        "print(forbes[:200], '\\n')\n",
        "\n",
        "harvard_law = [\"In his important new book, The Schoolhouse Gate: Public Education, the Supreme Court, and the Battle for the American Mind, Professor Justin Driver reminds us that private controversies that arise within the confines of public schools are part of a broader historical arc — one that tracks a range of cultural and intellectual flashpoints in U.S. history. Moreover, Driver explains, these tensions are reflected in constitutional law, and indeed in the history and jurisprudence of the Supreme Court. As such, debates that arise in the context of public education are not simply about the conflict between academic freedom, public safety, and student rights. They mirror our persistent struggle to reconcile our interest in fostering a pluralistic society, rooted in the ideal of individual autonomy, with our desire to cultivate a sense of national unity and shared identity (or, put differently, our effort to reconcile our desire to forge common norms of citizenship with our fear of state indoctrination and overencroachment). In this regard, these debates reflect the unique role that both the school and the courts have played in defining and enforcing the boundaries of American citizenship.\"]\n",
        "harvard_law = ' '.join(harvard_law)\n",
        "print(harvard_law[:400], '\\n')\n",
        "\n",
        "r_digest =  [\"This week 30 passengers were reportedly injured when a Turkish Airlines flight landing at John F. Kennedy International Airport encountered turbulent conditions. Injuries included bruises, bloody noses, and broken bones. In mid-February, a Delta Airlines flight made an emergency landing to assist three passengers in getting to the nearest hospital after some sudden and unexpected turbulence. Doctors treated 15 passengers after a flight from Miami to Buenos Aires last October for everything from severe bruising to nosebleeds after the plane caught some rough winds over Brazil. In 2016, 23 passengers were injured on a United Airlines flight after severe turbulence threw people into the cabin ceiling. The list goes on. Turbulence has been become increasingly common, with painful outcomes for those on board. And more costly to the airlines, too. Forbes estimates that the cost of turbulence has risen to over $500 million each year in damages and delays. And there are no signs the increase in turbulence will be stopping anytime soon. \"]\n",
        "r_digest = ' '.join(r_digest)\n",
        "print(r_digest[:350], '\\n')\n",
        "\n",
        "time_kids = [\"That, of course, is easier said than done. The more you eat salty foods, the more you develop a taste for them. The key to changing your diet is to start small. “Small changes in sodium in foods are not usually noticed,” Quader says. Eventually, she adds, the effort will reset a kid’s taste buds so the salt cravings stop. Bridget Murphy is a dietitian at New York University’s Langone Medical Center. She suggests kids try adding spices to their food instead of salt. Eating fruits and veggies and cutting back on packaged foods will also help. Need a little inspiration? Murphy offers this tip: Focus on the immediate effects of a diet that is high in sodium. High blood pressure can make it difficult to be active. “Do you want to be able to think clearly and perform well in school?” she asks. “If you’re an athlete, do you want to run faster?” If you answered yes to these questions, then it’s time to shake the salt habit. \"]\n",
        "time_kids = ' '.join(time_kids)\n",
        "print(time_kids[:400], '\\n')\n",
        "\n",
        "# List of excerpts\n",
        "excerpts = [forbes, harvard_law, r_digest, time_kids]"
      ],
      "metadata": {
        "colab": {
          "base_uri": "https://localhost:8080/"
        },
        "id": "l8ykYbQKkMYL",
        "outputId": "56b75a3c-2773-4a33-e002-16c75c2be531"
      },
      "execution_count": 15,
      "outputs": [
        {
          "output_type": "stream",
          "name": "stdout",
          "text": [
            "The idea is to create more transparency about companies and individuals that are breaking the law or are non-compliant with official obligations and incentivize the right behaviors with the overall go \n",
            "\n",
            "In his important new book, The Schoolhouse Gate: Public Education, the Supreme Court, and the Battle for the American Mind, Professor Justin Driver reminds us that private controversies that arise within the confines of public schools are part of a broader historical arc — one that tracks a range of cultural and intellectual flashpoints in U.S. history. Moreover, Driver explains, these tensions ar \n",
            "\n",
            "This week 30 passengers were reportedly injured when a Turkish Airlines flight landing at John F. Kennedy International Airport encountered turbulent conditions. Injuries included bruises, bloody noses, and broken bones. In mid-February, a Delta Airlines flight made an emergency landing to assist three passengers in getting to the nearest hospital  \n",
            "\n",
            "That, of course, is easier said than done. The more you eat salty foods, the more you develop a taste for them. The key to changing your diet is to start small. “Small changes in sodium in foods are not usually noticed,” Quader says. Eventually, she adds, the effort will reset a kid’s taste buds so the salt cravings stop. Bridget Murphy is a dietitian at New York University’s Langone Medical Cente \n",
            "\n"
          ]
        }
      ]
    },
    {
      "cell_type": "code",
      "source": [
        "# Loop through excerpts and compute Gunning Fog index\n",
        "gunning_fog_scores = []\n",
        "for excerpt in excerpts:\n",
        "    gf_score = textstat.gunning_fog(excerpt)\n",
        "    gunning_fog_scores.append(gf_score)\n",
        "\n",
        "# Print the Gunning Fog indices\n",
        "print(gunning_fog_scores)\n",
        "\n",
        "\"Great job! You are now adept at computing readability scores for various pieces of text. \\\n",
        "Notice that the Harvard Law Review excerpt has the highest Gunning fog index; indicating that it can be comprehended only by readers who have graduated college. \\\n",
        "On the other hand, the Time for Kids article, intended for children, has a much lower fog index and can be comprehended by 5th grade students.\""
      ],
      "metadata": {
        "colab": {
          "base_uri": "https://localhost:8080/",
          "height": 108
        },
        "id": "SXABtUbBkjMG",
        "outputId": "6a188cbe-4965-49d5-f88b-d3e220aed5d9"
      },
      "execution_count": 16,
      "outputs": [
        {
          "output_type": "stream",
          "name": "stdout",
          "text": [
            "[15.11, 20.47, 9.11, 7.21]\n"
          ]
        },
        {
          "output_type": "execute_result",
          "data": {
            "text/plain": [
              "'Great job! You are now adept at computing readability scores for various pieces of text. Notice that the Harvard Law Review excerpt has the highest Gunning fog index; indicating that it can be comprehended only by readers who have graduated college. On the other hand, the Time for Kids article, intended for children, has a much lower fog index and can be comprehended by 5th grade students.'"
            ],
            "application/vnd.google.colaboratory.intrinsic+json": {
              "type": "string"
            }
          },
          "metadata": {},
          "execution_count": 16
        }
      ]
    },
    {
      "cell_type": "markdown",
      "source": [
        "# **2.Text preprocessing, POS tagging and NER**\n",
        "\n",
        "In this chapter, you will learn about tokenization and lemmatization. You will then learn how to perform text cleaning, part-of-speech tagging, and named entity recognition using the spaCy library. Upon mastering these concepts, you will proceed to make the Gettysburg address machine-friendly, analyze noun usage in fake news, and identify people mentioned in a TechCrunch article.\n",
        "\n"
      ],
      "metadata": {
        "id": "a_gmUhb8lJSF"
      }
    },
    {
      "cell_type": "markdown",
      "source": [
        "**Tokenizing the Gettysburg Address**\n",
        "\n",
        "In this exercise, you will be tokenizing one of the most famous speeches of all time: the Gettysburg Address delivered by American President Abraham Lincoln during the American Civil War.\n",
        "\n",
        "The entire speech is available as a string named gettysburg."
      ],
      "metadata": {
        "id": "-_3VVzcyiPkf"
      }
    },
    {
      "cell_type": "code",
      "source": [
        "gettysburg = \"Four score and seven years ago our fathers brought forth on this continent, a new nation, conceived in Liberty, and dedicated to the proposition that all men are created equal. Now we're engaged in a great civil war, testing whether that nation, or any nation so conceived and so dedicated, can long endure. We're met on a great battlefield of that war. We've come to dedicate a portion of that field, as a final resting place for those who here gave their lives that that nation might live. It's altogether fitting and proper that we should do this. But, in a larger sense, we can't dedicate - we can not consecrate - we can not hallow - this ground. The brave men, living and dead, who struggled here, have consecrated it, far above our poor power to add or detract. The world will little note, nor long remember what we say here, but it can never forget what they did here. It is for us the living, rather, to be dedicated here to the unfinished work which they who fought here have thus far so nobly advanced. It's rather for us to be here dedicated to the great task remaining before us - that from these honored dead we take increased devotion to that cause for which they gave the last full measure of devotion - that we here highly resolve that these dead shall not have died in vain - that this nation, under God, shall have a new birth of freedom - and that government of the people, by the people, for the people, shall not perish from the earth.\"\n"
      ],
      "metadata": {
        "id": "eR-aEabviPt1"
      },
      "execution_count": 17,
      "outputs": []
    },
    {
      "cell_type": "code",
      "source": [
        "import spacy\n",
        "\n",
        "# Load the en_core_web_sm model\n",
        "nlp = spacy.load('en_core_web_sm')\n",
        "\n",
        "# Create a Doc object\n",
        "doc = nlp(gettysburg)\n",
        "\n",
        "# Generate the tokens\n",
        "tokens = [token.text for token in doc]\n",
        "print(tokens, '\\n')\n",
        "\n",
        "\" Excellent work! You now know how to tokenize a piece of text. In the next exercise, we will perform similar steps and conduct lemmatization. \""
      ],
      "metadata": {
        "colab": {
          "base_uri": "https://localhost:8080/",
          "height": 106
        },
        "id": "7hwhhs-Lijss",
        "outputId": "c32d0b6e-1536-4456-be32-c71170faa9ac"
      },
      "execution_count": 18,
      "outputs": [
        {
          "output_type": "stream",
          "name": "stdout",
          "text": [
            "['Four', 'score', 'and', 'seven', 'years', 'ago', 'our', 'fathers', 'brought', 'forth', 'on', 'this', 'continent', ',', 'a', 'new', 'nation', ',', 'conceived', 'in', 'Liberty', ',', 'and', 'dedicated', 'to', 'the', 'proposition', 'that', 'all', 'men', 'are', 'created', 'equal', '.', 'Now', 'we', \"'re\", 'engaged', 'in', 'a', 'great', 'civil', 'war', ',', 'testing', 'whether', 'that', 'nation', ',', 'or', 'any', 'nation', 'so', 'conceived', 'and', 'so', 'dedicated', ',', 'can', 'long', 'endure', '.', 'We', \"'re\", 'met', 'on', 'a', 'great', 'battlefield', 'of', 'that', 'war', '.', 'We', \"'ve\", 'come', 'to', 'dedicate', 'a', 'portion', 'of', 'that', 'field', ',', 'as', 'a', 'final', 'resting', 'place', 'for', 'those', 'who', 'here', 'gave', 'their', 'lives', 'that', 'that', 'nation', 'might', 'live', '.', 'It', \"'s\", 'altogether', 'fitting', 'and', 'proper', 'that', 'we', 'should', 'do', 'this', '.', 'But', ',', 'in', 'a', 'larger', 'sense', ',', 'we', 'ca', \"n't\", 'dedicate', '-', 'we', 'can', 'not', 'consecrate', '-', 'we', 'can', 'not', 'hallow', '-', 'this', 'ground', '.', 'The', 'brave', 'men', ',', 'living', 'and', 'dead', ',', 'who', 'struggled', 'here', ',', 'have', 'consecrated', 'it', ',', 'far', 'above', 'our', 'poor', 'power', 'to', 'add', 'or', 'detract', '.', 'The', 'world', 'will', 'little', 'note', ',', 'nor', 'long', 'remember', 'what', 'we', 'say', 'here', ',', 'but', 'it', 'can', 'never', 'forget', 'what', 'they', 'did', 'here', '.', 'It', 'is', 'for', 'us', 'the', 'living', ',', 'rather', ',', 'to', 'be', 'dedicated', 'here', 'to', 'the', 'unfinished', 'work', 'which', 'they', 'who', 'fought', 'here', 'have', 'thus', 'far', 'so', 'nobly', 'advanced', '.', 'It', \"'s\", 'rather', 'for', 'us', 'to', 'be', 'here', 'dedicated', 'to', 'the', 'great', 'task', 'remaining', 'before', 'us', '-', 'that', 'from', 'these', 'honored', 'dead', 'we', 'take', 'increased', 'devotion', 'to', 'that', 'cause', 'for', 'which', 'they', 'gave', 'the', 'last', 'full', 'measure', 'of', 'devotion', '-', 'that', 'we', 'here', 'highly', 'resolve', 'that', 'these', 'dead', 'shall', 'not', 'have', 'died', 'in', 'vain', '-', 'that', 'this', 'nation', ',', 'under', 'God', ',', 'shall', 'have', 'a', 'new', 'birth', 'of', 'freedom', '-', 'and', 'that', 'government', 'of', 'the', 'people', ',', 'by', 'the', 'people', ',', 'for', 'the', 'people', ',', 'shall', 'not', 'perish', 'from', 'the', 'earth', '.'] \n",
            "\n"
          ]
        },
        {
          "output_type": "execute_result",
          "data": {
            "text/plain": [
              "' Excellent work! You now know how to tokenize a piece of text. In the next exercise, we will perform similar steps and conduct lemmatization. '"
            ],
            "application/vnd.google.colaboratory.intrinsic+json": {
              "type": "string"
            }
          },
          "metadata": {},
          "execution_count": 18
        }
      ]
    },
    {
      "cell_type": "markdown",
      "source": [
        "**Lemmatizing the Gettysburg address**\n",
        "\n",
        "In this exercise, we will perform lemmatization on the same gettysburg address from before.\n",
        "\n",
        "However, this time, we will also take a look at the speech, before and after lemmatization, and try to adjudge the kind of changes that take place to make the piece more machine friendly."
      ],
      "metadata": {
        "id": "bzXonw1oi5zj"
      }
    },
    {
      "cell_type": "code",
      "source": [
        "import spacy\n",
        "\n",
        "# Load the en_core_web_sm model\n",
        "nlp = spacy.load('en_core_web_sm')\n",
        "\n",
        "# Create a Doc object\n",
        "doc = nlp(gettysburg)\n",
        "\n",
        "# Generate lemmas\n",
        "lemmas = [token.lemma_ for token in doc]\n",
        "\n",
        "# Convert lemmas into a string\n",
        "print(' '.join(lemmas), '\\n')\n",
        "\n",
        "\"Excellent! You're now proficient at performing lemmatization using spaCy. Observe the \\\n",
        "lemmatized version of the speech. It isn't very readable to humans but it is in a much more convenient format for a machine to process.\""
      ],
      "metadata": {
        "colab": {
          "base_uri": "https://localhost:8080/",
          "height": 128
        },
        "id": "Cg24QRX5jJuB",
        "outputId": "b0215f60-0649-40aa-da20-2d7b76316aa9"
      },
      "execution_count": 19,
      "outputs": [
        {
          "output_type": "stream",
          "name": "stdout",
          "text": [
            "four score and seven year ago our father bring forth on this continent , a new nation , conceive in Liberty , and dedicate to the proposition that all man be create equal . now we be engage in a great civil war , test whether that nation , or any nation so conceive and so dedicated , can long endure . we be meet on a great battlefield of that war . we have come to dedicate a portion of that field , as a final resting place for those who here give their life that that nation might live . it be altogether fitting and proper that we should do this . but , in a large sense , we can not dedicate - we can not consecrate - we can not hallow - this ground . the brave man , living and dead , who struggle here , have consecrate it , far above our poor power to add or detract . the world will little note , nor long remember what we say here , but it can never forget what they do here . it be for we the living , rather , to be dedicate here to the unfinished work which they who fight here have thus far so nobly advanced . it be rather for we to be here dedicated to the great task remain before we - that from these honored dead we take increase devotion to that cause for which they give the last full measure of devotion - that we here highly resolve that these dead shall not have die in vain - that this nation , under God , shall have a new birth of freedom - and that government of the people , by the people , for the people , shall not perish from the earth . \n",
            "\n"
          ]
        },
        {
          "output_type": "execute_result",
          "data": {
            "text/plain": [
              "\"Excellent! You're now proficient at performing lemmatization using spaCy. Observe the lemmatized version of the speech. It isn't very readable to humans but it is in a much more convenient format for a machine to process.\""
            ],
            "application/vnd.google.colaboratory.intrinsic+json": {
              "type": "string"
            }
          },
          "metadata": {},
          "execution_count": 19
        }
      ]
    },
    {
      "cell_type": "markdown",
      "source": [],
      "metadata": {
        "id": "LvwFj9u1koaL"
      }
    },
    {
      "cell_type": "markdown",
      "source": [
        "**Cleaning a blog post**\n",
        "\n",
        "In this exercise, you have been given an excerpt from a blog post. Your task is to clean this text into a more machine friendly format. This will involve converting to lowercase, lemmatization and removing stopwords, punctuations and non-alphabetic characters.\n",
        "\n",
        "The excerpt is available as a string blog and has been printed to the console. The list of stopwords are available as stopwords."
      ],
      "metadata": {
        "id": "0AfHw93ooPQY"
      }
    },
    {
      "cell_type": "code",
      "source": [
        "\n",
        "stopwords = ['fifteen', 'noone', 'whereupon','could','ten','all','please','indeed','whole','beside','therein','using','but','very','already','about','no','regarding','afterwards','front','go','in','make','three','here','what','without','yourselves','which',\n",
        "            'nothing', 'am','between','along','herein','sometimes','did','as','within','elsewhere','was','forty','becoming','how','will','other','bottom','these','amount','across','the','than','first','namely','may','none','anyway', 'again', 'eleven', 'his',\n",
        "           'meanwhile','name','re','from','some','thru','upon','whither','he','such','down','my','often','whether','made','while','empty','two','latter','whatever','cannot','less','many','you','ours','done',\n",
        "           'thus', 'since','everything','for','more','unless','former','anyone','per','seeming','hereafter','on','yours','always','due','last','alone','one','something','twenty','until','latterly','seems','were','where','eight','ourselves','further','themselves','therefore',\n",
        "           'they', 'whenever', 'after', 'among','when','at','through','put','thereby','then','should','formerly','third','who','this','neither','others','twelve','also','else', 'seemed', 'has','ever','someone','its','that','does','sixty','why','do','whereas','are','either',\n",
        "           'hereupon', 'rather','because','might','those','via','hence','itself','show','perhaps','various','during','otherwise','thereafter','yourself','become','now','same','enough','been','take','their','seem','there','next','above','mostly','once','a','top',\n",
        "           'almost', 'six','every','nobody','any','say','each','them','must','she','throughout','whence','hundred','not','however','together','several','myself','i','anything','somehow','or','used','keep','much','thereupon','ca','just','behind','can','becomes','me',\n",
        "           'had', 'only', 'back','four','somewhere','if','by','whereafter','everywhere','beforehand','well','doing','everyone','nor','five','wherein','so','amongst','though','still','move','except','see','us','your','against','although','is','became','call','have','most',\n",
        "           'wherever','few' 'out','whom','yet','be','own','off','quite','with','and','side','whoever','would','both','fifty','before','full','get''sometime','beyond','part','least','besides','around','even' 'whose' 'hereby', 'up','being','we','an','him','below',\n",
        "           'reover','really','it','of','our','nowhere','whereby','too','her','toward','anyhow','give','never','another','anywhere','mine', 'herself', 'over', 'himself', 'to', 'onto', 'into', 'thence', 'towards', 'hers', 'nevertheless', 'serious', 'under',\n",
        "            'nine'] #\n",
        "\n",
        "print(stopwords[-15:], '\\n')\n",
        "\n",
        "blog = \"Twenty-first-century politics has witnessed an alarming rise of populism in the U.S. and Europe. The first warning signs came with the UK Brexit Referendum vote in 2016 swinging in the way of Leave. \\\n",
        "This was followed by a stupendous victory by billionaire Donald Trump to become the 45th President of the United States in November 2016. Since then, Europe has seen a steady rise in populist and far-right \\\n",
        "parties that have capitalized on Europe’s Immigration Crisis to raise nationalist and anti-Europe sentiments. Some instances include Alternative for Germany (AfD) winning 12.6% of all seats and entering the \\\n",
        "Bundestag, thus upsetting Germany’s political order for the first time since the Second World War, the success of the Five Star Movement in Italy and the surge in popularity of neo-nazism and neo-fascism in \\\n",
        "countries such as Hungary, Czech Republic, Poland and Austria.\"\n",
        "\n",
        "print(''.join(blog)[:20], '\\n')\n",
        "print(blog.split()[:10])\n"
      ],
      "metadata": {
        "colab": {
          "base_uri": "https://localhost:8080/"
        },
        "id": "iEEspaDlkok2",
        "outputId": "17bc7260-9b2c-4c57-9005-909e3082699a"
      },
      "execution_count": 20,
      "outputs": [
        {
          "output_type": "stream",
          "name": "stdout",
          "text": [
            "['anywhere', 'mine', 'herself', 'over', 'himself', 'to', 'onto', 'into', 'thence', 'towards', 'hers', 'nevertheless', 'serious', 'under', 'nine'] \n",
            "\n",
            "Twenty-first-century \n",
            "\n",
            "['Twenty-first-century', 'politics', 'has', 'witnessed', 'an', 'alarming', 'rise', 'of', 'populism', 'in']\n"
          ]
        }
      ]
    },
    {
      "cell_type": "code",
      "source": [
        "# Load model and create Doc object\n",
        "nlp = spacy.load('en_core_web_sm')\n",
        "doc = nlp(blog)\n",
        "\n",
        "# Generate lemmatized tokens\n",
        "lemmas = [token.lemma_ for token in doc]\n",
        "\n",
        "# Remove stopwords and non-alphabetic tokens\n",
        "a_lemmas = [lemma for lemma in lemmas\n",
        "            if lemma.isalpha() and lemma not in stopwords]\n",
        "\n",
        "# Print string after text cleaning\n",
        "print(' '.join(a_lemmas), '\\n')\n",
        "\n",
        "\n",
        "\"Great job! Take a look at the cleaned text; it is lowercased and devoid of numbers,\\\n",
        " punctuations and commonly used stopwords. Also, note that the word U.S. was present \\\n",
        " in the original text. Since it had periods in between, our text cleaning process \\\n",
        " completely removed it. This may not be ideal behavior. It is always advisable to use your custom functions in place of isalpha() for more nuanced cases.\""
      ],
      "metadata": {
        "colab": {
          "base_uri": "https://localhost:8080/",
          "height": 150
        },
        "id": "ZQeMwT45q_Si",
        "outputId": "f1457b7c-ef26-426b-c3a9-ac84f18acdea"
      },
      "execution_count": 21,
      "outputs": [
        {
          "output_type": "stream",
          "name": "stdout",
          "text": [
            "century politic witness alarming rise populism Europe warning sign come UK Brexit Referendum vote swinge way Leave follow stupendous victory billionaire Donald Trump President United States November Europe steady rise populist far right party capitalize Europe Immigration Crisis raise nationalist anti europe sentiment instance include Alternative Germany AfD win seat enter Bundestag upset Germany political order time Second World War success Five Star Movement Italy surge popularity neo nazism neo fascism country Hungary Czech Republic Poland Austria \n",
            "\n"
          ]
        },
        {
          "output_type": "execute_result",
          "data": {
            "text/plain": [
              "'Great job! Take a look at the cleaned text; it is lowercased and devoid of numbers, punctuations and commonly used stopwords. Also, note that the word U.S. was present  in the original text. Since it had periods in between, our text cleaning process  completely removed it. This may not be ideal behavior. It is always advisable to use your custom functions in place of isalpha() for more nuanced cases.'"
            ],
            "application/vnd.google.colaboratory.intrinsic+json": {
              "type": "string"
            }
          },
          "metadata": {},
          "execution_count": 21
        }
      ]
    },
    {
      "cell_type": "markdown",
      "source": [
        "**Cleaning TED talks in a dataframe\n",
        "In this exercise, we will revisit the TED Talks from the first chapter. You have been a given a dataframe ted consisting of 5 TED Talks. Your task is to clean these talks using techniques discussed earlier by writing a function preprocess and applying it to the transcript feature of the dataframe.\n",
        "\n",
        "The stopwords list is available as stopwords."
      ],
      "metadata": {
        "id": "_G-2D8inrUfV"
      }
    },
    {
      "cell_type": "code",
      "source": [
        "#ted = pd.read_csv(\"ted.csv\")\n",
        "ted.head()"
      ],
      "metadata": {
        "colab": {
          "base_uri": "https://localhost:8080/",
          "height": 260
        },
        "id": "0hWvaaIlrpXQ",
        "outputId": "17b535a7-d4b2-4636-b751-b631bc4a930a"
      },
      "execution_count": 22,
      "outputs": [
        {
          "output_type": "execute_result",
          "data": {
            "text/plain": [
              "                                          transcript  \\\n",
              "0  We're going to talk — my — a new lecture, just...   \n",
              "1  This is a representation of your brain, and yo...   \n",
              "2  It's a great honor today to share with you The...   \n",
              "3  My passions are music, technology and making t...   \n",
              "4  It used to be that if you wanted to get a comp...   \n",
              "\n",
              "                                                 url  word_count  \n",
              "0  https://www.ted.com/talks/al_seckel_says_our_b...        1704  \n",
              "1  https://www.ted.com/talks/aaron_o_connell_maki...        1387  \n",
              "2  https://www.ted.com/talks/carter_emmart_demos_...         890  \n",
              "3  https://www.ted.com/talks/jared_ficklin_new_wa...        1548  \n",
              "4  https://www.ted.com/talks/jeremy_howard_the_wo...        3480  "
            ],
            "text/html": [
              "\n",
              "  <div id=\"df-af6f5c79-6a2f-4254-8700-8be49d07db9a\" class=\"colab-df-container\">\n",
              "    <div>\n",
              "<style scoped>\n",
              "    .dataframe tbody tr th:only-of-type {\n",
              "        vertical-align: middle;\n",
              "    }\n",
              "\n",
              "    .dataframe tbody tr th {\n",
              "        vertical-align: top;\n",
              "    }\n",
              "\n",
              "    .dataframe thead th {\n",
              "        text-align: right;\n",
              "    }\n",
              "</style>\n",
              "<table border=\"1\" class=\"dataframe\">\n",
              "  <thead>\n",
              "    <tr style=\"text-align: right;\">\n",
              "      <th></th>\n",
              "      <th>transcript</th>\n",
              "      <th>url</th>\n",
              "      <th>word_count</th>\n",
              "    </tr>\n",
              "  </thead>\n",
              "  <tbody>\n",
              "    <tr>\n",
              "      <th>0</th>\n",
              "      <td>We're going to talk — my — a new lecture, just...</td>\n",
              "      <td>https://www.ted.com/talks/al_seckel_says_our_b...</td>\n",
              "      <td>1704</td>\n",
              "    </tr>\n",
              "    <tr>\n",
              "      <th>1</th>\n",
              "      <td>This is a representation of your brain, and yo...</td>\n",
              "      <td>https://www.ted.com/talks/aaron_o_connell_maki...</td>\n",
              "      <td>1387</td>\n",
              "    </tr>\n",
              "    <tr>\n",
              "      <th>2</th>\n",
              "      <td>It's a great honor today to share with you The...</td>\n",
              "      <td>https://www.ted.com/talks/carter_emmart_demos_...</td>\n",
              "      <td>890</td>\n",
              "    </tr>\n",
              "    <tr>\n",
              "      <th>3</th>\n",
              "      <td>My passions are music, technology and making t...</td>\n",
              "      <td>https://www.ted.com/talks/jared_ficklin_new_wa...</td>\n",
              "      <td>1548</td>\n",
              "    </tr>\n",
              "    <tr>\n",
              "      <th>4</th>\n",
              "      <td>It used to be that if you wanted to get a comp...</td>\n",
              "      <td>https://www.ted.com/talks/jeremy_howard_the_wo...</td>\n",
              "      <td>3480</td>\n",
              "    </tr>\n",
              "  </tbody>\n",
              "</table>\n",
              "</div>\n",
              "    <div class=\"colab-df-buttons\">\n",
              "\n",
              "  <div class=\"colab-df-container\">\n",
              "    <button class=\"colab-df-convert\" onclick=\"convertToInteractive('df-af6f5c79-6a2f-4254-8700-8be49d07db9a')\"\n",
              "            title=\"Convert this dataframe to an interactive table.\"\n",
              "            style=\"display:none;\">\n",
              "\n",
              "  <svg xmlns=\"http://www.w3.org/2000/svg\" height=\"24px\" viewBox=\"0 -960 960 960\">\n",
              "    <path d=\"M120-120v-720h720v720H120Zm60-500h600v-160H180v160Zm220 220h160v-160H400v160Zm0 220h160v-160H400v160ZM180-400h160v-160H180v160Zm440 0h160v-160H620v160ZM180-180h160v-160H180v160Zm440 0h160v-160H620v160Z\"/>\n",
              "  </svg>\n",
              "    </button>\n",
              "\n",
              "  <style>\n",
              "    .colab-df-container {\n",
              "      display:flex;\n",
              "      gap: 12px;\n",
              "    }\n",
              "\n",
              "    .colab-df-convert {\n",
              "      background-color: #E8F0FE;\n",
              "      border: none;\n",
              "      border-radius: 50%;\n",
              "      cursor: pointer;\n",
              "      display: none;\n",
              "      fill: #1967D2;\n",
              "      height: 32px;\n",
              "      padding: 0 0 0 0;\n",
              "      width: 32px;\n",
              "    }\n",
              "\n",
              "    .colab-df-convert:hover {\n",
              "      background-color: #E2EBFA;\n",
              "      box-shadow: 0px 1px 2px rgba(60, 64, 67, 0.3), 0px 1px 3px 1px rgba(60, 64, 67, 0.15);\n",
              "      fill: #174EA6;\n",
              "    }\n",
              "\n",
              "    .colab-df-buttons div {\n",
              "      margin-bottom: 4px;\n",
              "    }\n",
              "\n",
              "    [theme=dark] .colab-df-convert {\n",
              "      background-color: #3B4455;\n",
              "      fill: #D2E3FC;\n",
              "    }\n",
              "\n",
              "    [theme=dark] .colab-df-convert:hover {\n",
              "      background-color: #434B5C;\n",
              "      box-shadow: 0px 1px 3px 1px rgba(0, 0, 0, 0.15);\n",
              "      filter: drop-shadow(0px 1px 2px rgba(0, 0, 0, 0.3));\n",
              "      fill: #FFFFFF;\n",
              "    }\n",
              "  </style>\n",
              "\n",
              "    <script>\n",
              "      const buttonEl =\n",
              "        document.querySelector('#df-af6f5c79-6a2f-4254-8700-8be49d07db9a button.colab-df-convert');\n",
              "      buttonEl.style.display =\n",
              "        google.colab.kernel.accessAllowed ? 'block' : 'none';\n",
              "\n",
              "      async function convertToInteractive(key) {\n",
              "        const element = document.querySelector('#df-af6f5c79-6a2f-4254-8700-8be49d07db9a');\n",
              "        const dataTable =\n",
              "          await google.colab.kernel.invokeFunction('convertToInteractive',\n",
              "                                                    [key], {});\n",
              "        if (!dataTable) return;\n",
              "\n",
              "        const docLinkHtml = 'Like what you see? Visit the ' +\n",
              "          '<a target=\"_blank\" href=https://colab.research.google.com/notebooks/data_table.ipynb>data table notebook</a>'\n",
              "          + ' to learn more about interactive tables.';\n",
              "        element.innerHTML = '';\n",
              "        dataTable['output_type'] = 'display_data';\n",
              "        await google.colab.output.renderOutput(dataTable, element);\n",
              "        const docLink = document.createElement('div');\n",
              "        docLink.innerHTML = docLinkHtml;\n",
              "        element.appendChild(docLink);\n",
              "      }\n",
              "    </script>\n",
              "  </div>\n",
              "\n",
              "\n",
              "<div id=\"df-b3e45bb7-ab08-40dc-b8a9-346c664b6d9c\">\n",
              "  <button class=\"colab-df-quickchart\" onclick=\"quickchart('df-b3e45bb7-ab08-40dc-b8a9-346c664b6d9c')\"\n",
              "            title=\"Suggest charts\"\n",
              "            style=\"display:none;\">\n",
              "\n",
              "<svg xmlns=\"http://www.w3.org/2000/svg\" height=\"24px\"viewBox=\"0 0 24 24\"\n",
              "     width=\"24px\">\n",
              "    <g>\n",
              "        <path d=\"M19 3H5c-1.1 0-2 .9-2 2v14c0 1.1.9 2 2 2h14c1.1 0 2-.9 2-2V5c0-1.1-.9-2-2-2zM9 17H7v-7h2v7zm4 0h-2V7h2v10zm4 0h-2v-4h2v4z\"/>\n",
              "    </g>\n",
              "</svg>\n",
              "  </button>\n",
              "\n",
              "<style>\n",
              "  .colab-df-quickchart {\n",
              "      --bg-color: #E8F0FE;\n",
              "      --fill-color: #1967D2;\n",
              "      --hover-bg-color: #E2EBFA;\n",
              "      --hover-fill-color: #174EA6;\n",
              "      --disabled-fill-color: #AAA;\n",
              "      --disabled-bg-color: #DDD;\n",
              "  }\n",
              "\n",
              "  [theme=dark] .colab-df-quickchart {\n",
              "      --bg-color: #3B4455;\n",
              "      --fill-color: #D2E3FC;\n",
              "      --hover-bg-color: #434B5C;\n",
              "      --hover-fill-color: #FFFFFF;\n",
              "      --disabled-bg-color: #3B4455;\n",
              "      --disabled-fill-color: #666;\n",
              "  }\n",
              "\n",
              "  .colab-df-quickchart {\n",
              "    background-color: var(--bg-color);\n",
              "    border: none;\n",
              "    border-radius: 50%;\n",
              "    cursor: pointer;\n",
              "    display: none;\n",
              "    fill: var(--fill-color);\n",
              "    height: 32px;\n",
              "    padding: 0;\n",
              "    width: 32px;\n",
              "  }\n",
              "\n",
              "  .colab-df-quickchart:hover {\n",
              "    background-color: var(--hover-bg-color);\n",
              "    box-shadow: 0 1px 2px rgba(60, 64, 67, 0.3), 0 1px 3px 1px rgba(60, 64, 67, 0.15);\n",
              "    fill: var(--button-hover-fill-color);\n",
              "  }\n",
              "\n",
              "  .colab-df-quickchart-complete:disabled,\n",
              "  .colab-df-quickchart-complete:disabled:hover {\n",
              "    background-color: var(--disabled-bg-color);\n",
              "    fill: var(--disabled-fill-color);\n",
              "    box-shadow: none;\n",
              "  }\n",
              "\n",
              "  .colab-df-spinner {\n",
              "    border: 2px solid var(--fill-color);\n",
              "    border-color: transparent;\n",
              "    border-bottom-color: var(--fill-color);\n",
              "    animation:\n",
              "      spin 1s steps(1) infinite;\n",
              "  }\n",
              "\n",
              "  @keyframes spin {\n",
              "    0% {\n",
              "      border-color: transparent;\n",
              "      border-bottom-color: var(--fill-color);\n",
              "      border-left-color: var(--fill-color);\n",
              "    }\n",
              "    20% {\n",
              "      border-color: transparent;\n",
              "      border-left-color: var(--fill-color);\n",
              "      border-top-color: var(--fill-color);\n",
              "    }\n",
              "    30% {\n",
              "      border-color: transparent;\n",
              "      border-left-color: var(--fill-color);\n",
              "      border-top-color: var(--fill-color);\n",
              "      border-right-color: var(--fill-color);\n",
              "    }\n",
              "    40% {\n",
              "      border-color: transparent;\n",
              "      border-right-color: var(--fill-color);\n",
              "      border-top-color: var(--fill-color);\n",
              "    }\n",
              "    60% {\n",
              "      border-color: transparent;\n",
              "      border-right-color: var(--fill-color);\n",
              "    }\n",
              "    80% {\n",
              "      border-color: transparent;\n",
              "      border-right-color: var(--fill-color);\n",
              "      border-bottom-color: var(--fill-color);\n",
              "    }\n",
              "    90% {\n",
              "      border-color: transparent;\n",
              "      border-bottom-color: var(--fill-color);\n",
              "    }\n",
              "  }\n",
              "</style>\n",
              "\n",
              "  <script>\n",
              "    async function quickchart(key) {\n",
              "      const quickchartButtonEl =\n",
              "        document.querySelector('#' + key + ' button');\n",
              "      quickchartButtonEl.disabled = true;  // To prevent multiple clicks.\n",
              "      quickchartButtonEl.classList.add('colab-df-spinner');\n",
              "      try {\n",
              "        const charts = await google.colab.kernel.invokeFunction(\n",
              "            'suggestCharts', [key], {});\n",
              "      } catch (error) {\n",
              "        console.error('Error during call to suggestCharts:', error);\n",
              "      }\n",
              "      quickchartButtonEl.classList.remove('colab-df-spinner');\n",
              "      quickchartButtonEl.classList.add('colab-df-quickchart-complete');\n",
              "    }\n",
              "    (() => {\n",
              "      let quickchartButtonEl =\n",
              "        document.querySelector('#df-b3e45bb7-ab08-40dc-b8a9-346c664b6d9c button');\n",
              "      quickchartButtonEl.style.display =\n",
              "        google.colab.kernel.accessAllowed ? 'block' : 'none';\n",
              "    })();\n",
              "  </script>\n",
              "</div>\n",
              "\n",
              "    </div>\n",
              "  </div>\n"
            ],
            "application/vnd.google.colaboratory.intrinsic+json": {
              "type": "dataframe",
              "variable_name": "ted",
              "summary": "{\n  \"name\": \"ted\",\n  \"rows\": 500,\n  \"fields\": [\n    {\n      \"column\": \"transcript\",\n      \"properties\": {\n        \"dtype\": \"string\",\n        \"num_unique_values\": 500,\n        \"samples\": [\n          \"Chris Anderson: Elon, what kind of crazy dream would persuade you to think of trying to take on the auto industry and build an all-electric car?Elon Musk: Well, it goes back to when I was in university. I thought about, what are the problems that are most likely to affect the future of the world or the future of humanity? I think it's extremely important that we have sustainable transport and sustainable energy production. That sort of overall sustainable energy problem is the biggest problem that we have to solve this century, independent of environmental concerns. In fact, even if producing CO2 was good for the environment, given that we're going to run out of hydrocarbons, we need to find some sustainable means of operating.CA: Most of American electricity comes from burning fossil fuels. How can an electric car that plugs into that electricity help?EM: Right. There's two elements to that answer. One is that, even if you take the same source fuel and produce power at the power plant and use it to charge electric cars, you're still better off. So if you take, say, natural gas, which is the most prevalent hydrocarbon source fuel, if you burn that in a modern General Electric natural gas turbine, you'll get about 60 percent efficiency. If you put that same fuel in an internal combustion engine car, you get about 20 percent efficiency. And the reason is, in the stationary power plant, you can afford to have something that weighs a lot more, is voluminous, and you can take the waste heat and run a steam turbine and generate a secondary power source. So in effect, even after you've taken transmission loss into account and everything, even using the same source fuel, you're at least twice as better off charging an electric car, then burning it at the power plant.CA: That scale delivers efficiency.EM: Yes, it does. And then the other point is, we have to have sustainable means of power generation anyway, electricity generation. So given that we have to solve sustainable electricity generation, then it makes sense for us to have electric cars as the mode of transport.CA: So we've got some video here of the Tesla being assembled, which, if we could play that first video \\u2014 So what is innovative about this process in this vehicle?EM: Sure. So, in order to accelerate the advent of electric transport, and I should say that I think, actually, all modes of transport will become fully electric with the ironic exception of rockets. There's just no way around Newton's third law. The question is how do you accelerate the advent of electric transport? And in order to do that for cars, you have to come up with a really energy efficient car, so that means making it incredibly light, and so what you're seeing here is the only all-aluminum body and chassis car made in North America. In fact, we applied a lot of rocket design techniques to make the car light despite having a very large battery pack. And then it also has the lowest drag coefficient of any car of its size. So as a result, the energy usage is very low, and it has the most advanced battery pack, and that's what gives it the range that's competitive, so you can actually have on the order of a 250-mile range.CA: I mean, those battery packs are incredibly heavy, but you think the math can still work out intelligently \\u2014 by combining light body, heavy battery, you can still gain spectacular efficiency.EM: Exactly. The rest of the car has to be very light to offset the mass of the pack, and then you have to have a low drag coefficient so that you have good highway range. And in fact, customers of the Model S are sort of competing with each other to try to get the highest possible range. I think somebody recently got 420 miles out of a single charge.CA: Bruno Bowden, who's here, did that, broke the world record.EM: Congratulations.CA: That was the good news. The bad news was that to do it, he had to drive at 18 miles an hour constant speed and got pulled over by the cops. (Laughter)EM: I mean, you can certainly drive \\u2014 if you drive it 65 miles an hour, under normal conditions, 250 miles is a reasonable number.CA: Let's show that second video showing the Tesla in action on ice. Not at all a dig at The New York Times, this, by the way. What is the most surprising thing about the experience of driving the car?EM: In creating an electric car, the responsiveness of the car is really incredible. So we wanted really to have people feel as though they've almost got to mind meld with the car, so you just feel like you and the car are kind of one, and as you corner and accelerate, it just happens, like the car has ESP. You can do that with an electric car because of its responsiveness. You can't do that with a gasoline car. I think that's really a profound difference, and people only experience that when they have a test drive.CA: I mean, this is a beautiful but expensive car. Is there a road map where this becomes a mass-market vehicle?EM: Yeah. The goal of Tesla has always been to have a sort of three-step process, where version one was an expensive car at low volume, version two is medium priced and medium volume, and then version three would be low price, high volume. So we're at step two at this point. So we had a $100,000 sports car, which was the Roadster. Then we've got the Model S, which starts at around 50,000 dollars. And our third generation car, which should hopefully be out in about three or four years will be a $30,000 car. But whenever you've got really new technology, it generally takes about three major versions in order to make it a compelling mass-market product. And so I think we're making progress in that direction, and I feel confident that we'll get there.CA: I mean, right now, if you've got a short commute, you can drive, you can get back, you can charge it at home. There isn't a huge nationwide network of charging stations now that are fast. Do you see that coming, really, truly, or just on a few key routes?EM: There actually are far more charging stations than people realize, and at Tesla we developed something called a Supercharging technology, and we're offering that if you buy a Model S for free, forever. And so this is something that maybe a lot of people don't realize. We actually have California and Nevada covered, and we've got the Eastern seaboard from Boston to D.C. covered. By the end of this year, you'll be able to drive from L.A. to New York just using the Supercharger network, which charges at five times the rate of anything else. And the key thing is to have a ratio of drive to stop, to stop time, of about six or seven. So if you drive for three hours, you want to stop for 20 or 30 minutes, because that's normally what people will stop for. So if you start a trip at 9 a.m., by noon you want to stop to have a bite to eat, hit the restroom, coffee, and keep going.CA: So your proposition to consumers is, for the full charge, it could take an hour. So it's common \\u2014 don't expect to be out of here in 10 minutes. Wait for an hour, but the good news is, you're helping save the planet, and by the way, the electricity is free. You don't pay anything.EM: Actually, what we're expecting is for people to stop for about 20 to 30 minutes, not for an hour. It's actually better to drive for about maybe 160, 170 miles and then stop for half an hour and then keep going. That's the natural cadence of a trip. CA: All right. So this is only one string to your energy bow. You've been working on this solar company SolarCity. What's unusual about that?EM: Well, as I mentioned earlier, we have to have sustainable electricity production as well as consumption, so I'm quite confident that the primary means of power generation will be solar. I mean, it's really indirect fusion, is what it is. We've got this giant fusion generator in the sky called the sun, and we just need to tap a little bit of that energy for purposes of human civilization. What most people know but don't realize they know is that the world is almost entirely solar-powered already. If the sun wasn't there, we'd be a frozen ice ball at three degrees Kelvin, and the sun powers the entire system of precipitation. The whole ecosystem is solar-powered.CA: But in a gallon of gasoline, you have, effectively, thousands of years of sun power compressed into a small space, so it's hard to make the numbers work right now on solar, and to remotely compete with, for example, natural gas, fracked natural gas. How are you going to build a business here?EM: Well actually, I'm confident that solar will beat everything, hands down, including natural gas.(Applause)CA: How?EM: It must, actually. If it doesn't, we're in deep trouble.CA: But you're not selling solar panels to consumers. What are you doing? EM: No, we actually are. You can buy a solar system or you can lease a solar system. Most people choose to lease. And the thing about solar power is that it doesn't have any feed stock or operational costs, so once it's installed, it's just there. It works for decades. It'll work for probably a century. So therefore, the key thing to do is to get the cost of that initial installation low, and then get the cost of the financing low, because that interest \\u2014 those are the two factors that drive the cost of solar. And we've made huge progress in that direction, and that's why I'm confident we'll actually beat natural gas.CA: So your current proposition to consumers is, don't pay so much up front.EM: Zero.CA: Pay zero up front. We will install panels on your roof. You will then pay, how long is a typical lease?EM: Typical leases are 20 years, but the value proposition is, as you're sort of alluding to, quite straightforward. It's no money down, and your utility bill decreases. Pretty good deal.CA: So that seems like a win for the consumer. No risk, you'll pay less than you're paying now. For you, the dream here then is that \\u2014 I mean, who owns the electricity from those panels for the longer term? I mean, how do you, the company, benefit?EM: Well, essentially, SolarCity raises a chunk of capital from say, a company or a bank. Google is one of our big partners here. And they have an expected return on that capital. With that capital, SolarCity purchases and installs the panel on the roof and then charges the homeowner or business owner a monthly lease payment, which is less than the utility bill.CA: But you yourself get a long-term commercial benefit from that power. You're kind of building a new type of distributed utility.EM: Exactly. What it amounts to is a giant distributed utility. I think it's a good thing, because utilities have been this monopoly, and people haven't had any choice. So effectively it's the first time there's been competition for this monopoly, because the utilities have been the only ones that owned those power distribution lines, but now it's on your roof. So I think it's actually very empowering for homeowners and businesses.CA: And you really picture a future where a majority of power in America, within a decade or two, or within your lifetime, it goes solar?EM: I'm extremely confident that solar will be at least a plurality of power, and most likely a majority, and I predict it will be a plurality in less than 20 years. I made that bet with someone \\u2014CA: Definition of plurality is?EM: More from solar than any other source.CA: Ah. Who did you make the bet with?EM: With a friend who will remain nameless.CA: Just between us. (Laughter)EM: I made that bet, I think, two or three years ago, so in roughly 18 years, I think we'll see more power from solar than any other source.CA: All right, so let's go back to another bet that you made with yourself, I guess, a kind of crazy bet. You'd made some money from the sale of PayPal. You decided to build a space company. Why on Earth would someone do that? (Laughter)EM: I got that question a lot, that's true. People would say, \\\"Did you hear the joke about the guy who made a small fortune in the space industry?\\\" Obviously, \\\"He started with a large one,\\\" is the punchline. And so I tell people, well, I was trying to figure out the fastest way to turn a large fortune into a small one. And they'd look at me, like, \\\"Is he serious?\\\"CA: And strangely, you were. So what happened?EM: It was a close call. Things almost didn't work out. We came very close to failure, but we managed to get through that point in 2008. The goal of SpaceX is to try to advance rocket technology, and in particular to try to crack a problem that I think is vital for humanity to become a space-faring civilization, which is to have a rapidly and fully reusable rocket.CA: Would humanity become a space-faring civilization? So that was a dream of yours, in a way, from a young age? You've dreamed of Mars and beyond?EM: I did build rockets when I was a kid, but I didn't think I'd be involved in this. It was really more from the standpoint of what are the things that need to happen in order for the future to be an exciting and inspiring one? And I really think there's a fundamental difference, if you sort of look into the future, between a humanity that is a space-faring civilization, that's out there exploring the stars, on multiple planets, and I think that's really exciting, compared with one where we are forever confined to Earth until some eventual extinction event.CA: So you've somehow slashed the cost of building a rocket by 75 percent, depending on how you calculate it. How on Earth have you done that? NASA has been doing this for years. How have you done this?EM: Well, we've made significant advances in the technology of the airframe, the engines, the electronics and the launch operation. There's a long list of innovations that we've come up with there that are a little difficult to communicate in this talk, but \\u2014CA: Not least because you could still get copied, right? You haven't patented this stuff. It's really interesting to me.EM: No, we don't patent.CA: You didn't patent because you think it's more dangerous to patent than not to patent.EM: Since our primary competitors are national governments, the enforceability of patents is questionable.(Laughter) (Applause)CA: That's really, really interesting. But the big innovation is still ahead, and you're working on it now. Tell us about this.EM: Right, so the big innovation\\u2014CA: In fact, let's roll that video and you can talk us through it, what's happening here.EM: Absolutely. So the thing about rockets is that they're all expendable. All rockets that fly today are fully expendable. The space shuttle was an attempt at a reusable rocket, but even the main tank of the space shuttle was thrown away every time, and the parts that were reusable took a 10,000-person group nine months to refurbish for flight. So the space shuttle ended up costing a billion dollars per flight. Obviously that doesn't work very well for \\u2014CA: What just happened there? We just saw something land?EM: That's right. So it's important that the rocket stages be able to come back, to be able to return to the launch site and be ready to launch again within a matter of hours.CA: Wow. Reusable rockets.EM: Yes. (Applause) And so what a lot of people don't realize is, the cost of the fuel, of the propellant, is very small. It's much like on a jet. So the cost of the propellant is about .3 percent of the cost of the rocket. So it's possible to achieve, let's say, roughly 100-fold improvement in the cost of spaceflight if you can effectively reuse the rocket. That's why it's so important. Every mode of transport that we use, whether it's planes, trains, automobiles, bikes, horses, is reusable, but not rockets. So we must solve this problem in order to become a space-faring civilization.CA: You asked me the question earlier of how popular traveling on cruises would be if you had to burn your ships afterward.EM: Certain cruises are apparently highly problematic.CA: Definitely more expensive. So that's potentially absolutely disruptive technology, and, I guess, paves the way for your dream to actually take, at some point, to take humanity to Mars at scale. You'd like to see a colony on Mars.EM: Yeah, exactly. SpaceX, or some combination of companies and governments, needs to make progress in the direction of making life multi-planetary, of establishing a base on another planet, on Mars \\u2014 being the only realistic option \\u2014 and then building that base up until we're a true multi-planet species.CA: So progress on this \\\"let's make it reusable,\\\" how is that going? That was just a simulation video we saw. How's it going?EM: We're actually, we've been making some good progress recently with something we call the Grasshopper Test Project, where we're testing the vertical landing portion of the flight, the sort of terminal portion which is quite tricky. And we've had some good tests.CA: Can we see that?EM: Yeah. So that's just to give a sense of scale. We dressed a cowboy as Johnny Cash and bolted the mannequin to the rocket. (Laughter)CA: All right, let's see that video then, because this is actually amazing when you think about it. You've never seen this before. A rocket blasting off and then \\u2014EM: Yeah, so that rocket is about the size of a 12-story building. (Rocket launch) So now it's hovering at about 40 meters, and it's constantly adjusting the angle, the pitch  and yaw of the main engine, and maintaining roll  with cold gas thrusters.CA: How cool is that? (Applause) Elon, how have you done this? These projects are so \\u2014 Paypal, SolarCity, Tesla, SpaceX, they're so spectacularly different, they're such ambitious projects at scale. How on Earth has one person been able to innovate in this way? What is it about you?EM: I don't know, actually. I don't have a good answer for you. I work a lot. I mean, a lot.CA: Well, I have a theory.EM: Okay. All right.CA: My theory is that you have an ability to think at a system level of design that pulls together design, technology and business, so if TED was TBD, design, technology and business, into one package, synthesize it in a way that very few people can and \\u2014 and this is the critical thing \\u2014 feel so damn confident in that clicked-together package that you take crazy risks. You bet your fortune on it, and you seem to have done that multiple times. I mean, almost no one can do that. Is that \\u2014 could we have some of that secret sauce? Can we put it into our education system? Can someone learn from you? It is truly amazing what you've done.EM: Well, thanks. Thank you. Well, I do think there's a good framework for thinking. It is physics. You know, the sort of first principles reasoning. Generally I think there are \\u2014 what I mean by that is, boil things down to their fundamental truths and reason up from there, as opposed to reasoning by analogy. Through most of our life, we get through life by reasoning by analogy, which essentially means copying what other people do with slight variations. And you have to do that. Otherwise, mentally, you wouldn't be able to get through the day. But when you want to do something new, you have to apply the physics approach. Physics is really figuring out how to discover new things that are counterintuitive, like quantum mechanics. It's really counterintuitive. So I think that's an important thing to do, and then also to really pay attention to negative feedback, and solicit it, particularly from friends. This may sound like simple advice, but hardly anyone does that, and it's incredibly helpful.CA: Boys and girls watching, study physics. Learn from this man. Elon Musk, I wish we had all day, but thank you so much for coming to TED.EM: Thank you. CA: That was awesome. That was really, really cool. Look at that. (Applause)Just take a bow. That was fantastic. Thank you so much.\",\n          \"If you've been thinking about US politics and trying to make sense of it for the last year or so, you might have hit on something like the following three propositions: one, US partisanship has never been so bad before; two, for the first time, it's geographically spatialized \\u2014 we're divided between the coasts, which want to look outwards, and the center of the country, which wants to look inwards; and third, there's nothing we can do about it.I'm here to today to say that all three of these propositions, all of which sound reasonable, are not true. In fact, our US partisanship goes all the way back to the very beginning of the republic. It was geographically spatialized in almost eerily the same way that it is today, and it often has been throughout US history. And last, and by far most importantly, we actually have an extraordinary mechanism that's designed to help us manage factional disagreement and partisanship. That technology is the Constitution. And this is an evolving, subtly, supplely designed entity that has the specific purpose of teaching us how to manage factional disagreement where it's possible to do that, and giving us techniques for overcoming that disagreement when that's possible.Now, in order to tell you the story, I want to go back to a pivotal moment in US history, and that is the moment when factional disagreement and partisanship was born. There actually was a birth moment \\u2014 a moment in US history when partisanship snapped into place. The person who's at the core of that story is James Madison. And at the moment that this began, James Madison was riding high. He himself was the Einstein of not only the US Constitution, but of constitutional thought more globally, and, to give him his due, he knew it. In a period of time of just three years, from 1785 to 1788, he had conceived, theorized, designed, passed and gotten ratified the US Constitution.And just to give you some sense of the enormity of what that accomplishment actually was, although Madison couldn't have known it at the time, today that same constitutional technology that he invented is still in use not only in the US, but, 230 years later, in places like Canada, India, South Africa, Brazil. So in an extraordinary range of contexts all over the world, this technology is still the dominant, most used, most effective technology to manage governance.In that moment, Madison believed that, having solved this problem, the country would run smoothly, and that he had designed a technology that would minimize the results of factions so there would be no political parties. Remarkably, he thought he had designed a constitution that was against political parties and would make them unnecessary.He had gotten an enormous degree of help in the final marketing phase of his constitutional project from a man you may have heard of, called Alexander Hamilton. Now, Hamilton was everything Madison was not. He was passionate, where Madison was restrained. He was pansexual, where Madison didn't speak to a woman expect for once until he was 42 years old, and then married Dolley and lived happily ever after for 40 years.(Laughter)To put it bluntly, Hamilton's the kind of person about whom you would write a hip-hop musical \\u2014(Laughter)and Madison is the kind of person about whom you would not write a hip-hop musical.(Laughter)Or indeed, a musical of any kind at all.But together, they had become a rather unlikely pairing, and they had produced the Federalist Papers, which offered a justification and, as I mentioned, a marketing plan for the Constitution, which had been wildly effective and wildly successful.Once the new government was in place, Hamilton became Secretary of the Treasury, and he had a very specific idea in mind. And that was to do for financial institutions and infrastructure exactly what Madison had done for constitutions. Again, his contemporaries all knew it. One of them told Madison, who can't have liked it very much, that Hamilton was the Newton of infrastructure. The idea was pretty straightforward. Hamilton would give the United States a national bank, a permanent national debt \\u2014 he said it would be \\\"immortal,\\\" his phrase \\u2014 and a manufacturing policy that would enable trade and manufacturing rather than agriculture, which was where the country's primary wealth had historically been.Madison went utterly ballistic. And in this pivotal, critical decision, instead of just telling the world that his old friend Hamilton was wrong and was adopting the wrong policies, he actually began to argue that Hamilton's ideas were unconstitutional \\u2014 that they violated the very nature of the Constitution that the two of them had drafted together. Hamilton responded the way you would expect. He declared Madison to be his \\\"personal and political enemy\\\" \\u2014 these are his words.So these two founders who had been such close friends and such close allies and such partners, then began to produce enmity. And they did it in the good, old-fashioned way. First, they founded political parties. Madison created a party originally called the Democratic Republican Party \\u2014 \\\"Republican\\\" for short \\u2014 and Hamilton created a party called the Federalist Party. Those two parties adopted positions on national politics that were extreme and exaggerated. To give you a clear example: Madison, who had always believed that the country would have some manufacturing and some trade and some agriculture, began attacking Hamilton as a kind of tool of the financial markets whom Hamilton himself intended to put in charge of the country. That was an overstatement, but it was something Madison came to believe.He also attacked city life, and he said that the coasts were corrupt, and what people needed to do was to look inwards to the center of the country, to farmers, who were the essence of Republican virtue, and they should go back to the values that had made American great, specifically the values of the Revolution, and those were the values of low taxes, agriculture and less trade. Hamilton responded to this by saying that Madison was na\\u00efve, that he was childish, and that his goal was to turn the United States into a primitive autarchy, self-reliant and completely ineffectual on the global scale.(Laughter)They both meant it, and there was some truth to each of their claims, because each side was grossly exaggerating the views of the other in order to fight their war. They founded newspapers, and so for the first time in US history, the news that people received came entirely through the lens of either the Republican or the Federalist party.How does this end? Well, as it turned out, the Constitution did its work. But it did its work in surprising ways that Madison himself had not fully anticipated. First, there was a series of elections. And the first two times out of the box, the Federalists destroyed the Republicans. Madison was astonished. Of course, he blamed the press.(Laughter)And in a rather innovative view \\u2014 Madison never failed to innovate when he thought about anything \\u2014 he said the reason that the press was so pro-Federalist is that the advertisers were all Federalists, because they were traders on the coasts who got their capital from Britain, which Federalism was in bed with. That was his initial explanation. But despite the fact that the Federalists, once in power, actually enacted laws that criminalized criticism of the government \\u2014 that happened in the United States \\u2014 nevertheless, the Republicans fought back, and Madison began to emphasize the freedom of speech, which he had built into the Bill of Rights, and the capacity of civil society to organize. And sure enough, nationally, small local groups \\u2014 they were called Democratic-Republican Societies \\u2014 began to form and protest against Federalist-dominated hegemony. Eventually, the Republicans managed to win a national election \\u2014 that was in 1800. Madison became the Secretary of State, his friend and mentor Jefferson became president, and they actually, over time, managed to put the Federalists completely out of business. That was their goal.Now, why did that happen? It happened because in the structure of the Constitution were several features that actually managed faction the way there were supposed to do in the first place. What were those? One \\u2014 most important of all \\u2014 the freedom of speech. This was an innovative idea at the time. Namely, that if you were out of power, you could still say that the government was terrible.Two, civil society organization. The capacity to put together private groups, individuals, political parties and others who would organize to try to bring about fundamental change. Perhaps most significantly was the separation of powers \\u2014 an extraordinary component of the Constitution. The thing about the separation of powers is that it did then and it does now, drive governance to the center. You can get elected to office in the United States with help from the periphery, right or left. It turns out, you actually can't govern unless you bring on board the center. There are midterm elections that come incredibly fast after a presidency begins. Those drive presidents towards the center.There's a structure in which the president, in fact, does not rule or even govern, but can only propose laws which other people have to agree with \\u2014 another feature that tends to drive presidents who actually want to get things done to the center. And a glance at the newspapers today will reveal to you that these principles are still completely in operation. No matter how a president gets elected, the president cannot get anything done unless the president first of all follows the rules of the Constitution, because if not, the courts will stand up, as indeed has sometimes occurred, not only recently, but in the past, in US history. And furthermore, the president needs people, elected officials who know they need to win election from centrist voters, also to back his or her policies in order to pass laws. Without it, nothing much happens.The takeaway of this brief excursus into the history of partisanship, then, is the following: partisanship is real; it's profound; it's extraordinarily powerful, and it's terribly upsetting. But the design of the Constitution is greater than partisanship. It enables us to manage partisanship when that's possible, and it enables us actually to overcome partisan division and produce compromise, when and only when that is possible. A technology like that is a technology that worked for the founders, it worked for their grandchildren, it didn't work at the moment of the Civil War, but then it started working again. And it worked for our grandparents, our parents, and it's going to work for us.(Applause)So what you should do is really simple. Stand up for what you believe in, support the organizations that you care about, speak out on the issues that matter to you, get involved, make change, express you opinion, and do it with respect and knowledge and confidence that it's only by working together that the constitutional technology can do the job that it is designed to do.Stand up for what you believe, but take a deep breath while you do it. It's going to be OK.Thanks.(Applause)\",\n          \"When my father and I started a company to 3D print human tissues and organs, some people initially thought we were a little crazy. But since then, much progress has been made, both in our lab and other labs around the world. And given this, we started getting questions like, \\\"If you can grow human body parts, can you also grow animal products like meat and leather?\\\"When someone first suggested this to me, quite frankly I thought they were a little crazy, but what I soon came to realize was that this is not so crazy after all. What's crazy is what we do today. I'm convinced that in 30 years, when we look back on today and on how we raise and slaughter billions of animals to make our hamburgers and our handbags, we'll see this as being wasteful and indeed crazy. Did you know that today we maintain a global herd of 60 billion animals to provide our meat, dairy, eggs and leather goods? And over the next few decades, as the world's population expands to 10 billion, this will need to nearly double to 100 billion animals.But maintaining this herd takes a major toll on our planet. Animals are not just raw materials. They're living beings, and already our livestock is one of the largest users of land, fresh water, and one of the biggest producers of greenhouse gases which drive climate change. On top of this, when you get so many animals so close together, it creates a breeding ground for disease and opportunities for harm and abuse. Clearly, we cannot continue on this path which puts the environment, public health, and food security at risk.There is another way, because essentially, animal products are just collections of tissues, and right now we breed and raise highly complex animals only to create products that are made of relatively simple tissues. What if, instead of starting with a complex and sentient animal, we started with what the tissues are made of, the basic unit of life, the cell?This is biofabrication, where cells themselves can be used to grow biological products like tissues and organs. Already in medicine, biofabrication techniques have been used to grow sophisticated body parts, like ears, windpipes, skin, blood vessels and bone, that have been successfully implanted into patients. And beyond medicine, biofabrication can be a humane, sustainable and scalable new industry.And we should begin by reimagining leather. I emphasize leather because it is so widely used. It is beautiful, and it has long been a part of our history. Growing leather is also technically simpler than growing other animal products like meat. It mainly uses one cell type, and it is largely two-dimensional. It is also less polarizing for consumers and regulators. Until biofabrication is better understood, it is clear that, initially at least, more people would be willing to wear novel materials than would be willing to eat novel foods, no matter how delicious. In this sense, leather is a gateway material, a beginning for the mainstream biofabrication industry. If we can succeed here, it brings our other consumer bioproducts like meat closer on the horizon.Now how do we do it? To grow leather, we begin by taking cells from an animal, through a simple biopsy. The animal could be a cow, lamb, or even something more exotic. This process does no harm, and Daisy the cow can live a happy life. We then isolate the skin cells and multiply them in a cell culture medium. This takes millions of cells and expands them into billions. And we then coax these cells to produce collagen, as they would naturally. This collagen is the stuff between cells. It's natural connective tissue. It's the extracellular matrix, but in leather, it's the main building block. And what we next do is we take the cells and their collagen and we spread them out to form sheets, and then we layer these thin sheets on top of one another, like phyllo pastry, to form thicker sheets, which we then let mature. And finally, we take this multilayered skin and through a shorter and much less chemical tanning process, we create leather. And so I'm very excited to show you, for the first time, the first batch of our cultured leather, fresh from the lab. This is real, genuine leather, without the animal sacrifice. It can have all the characteristics of leather because it is made of the same cells, and better yet, there is no hair to remove, no scars or insect's bites, and no waste. This leather can be grown in the shape of a wallet, a handbag or a car seat. It is not limited to the irregular shape of a cow or an alligator.And because we make this material, we grow this leather from the ground up, we can control its properties in very interesting ways. This piece of leather is a mere seven tissue layers thick, and as you can see, it is nearly transparent. And this leather is 21 layers thick and quite opaque. You don't have that kind of fine control with conventional leather. And we can tune this leather for other desirable qualities, like softness, breathability, durability, elasticity and even things like pattern. We can mimic nature, but in some ways also improve upon it. This type of leather can do what today's leather does, but with imagination, probably much more.What could the future of animal products look like? It need not look like this, which is actually the state of the art today. Rather, it could be much more like this. Already, we have been manufacturing with cell cultures for thousands of years, beginning with products like wine, beer and yogurt. And speaking of food, our cultured food has evolved, and today we prepare cultured food in beautiful, sterile facilities like this. A brewery is essentially a bioreactor. It is where cell culture takes place. Imagine that in this facility, instead of brewing beer, we were brewing leather or meat. Imagine touring this facility, learning about how the leather or meat is cultured, seeing the process from beginning to end, and even trying some. It's clean, open and educational, and this is in contrast to the hidden, guarded and remote factories where leather and meat is produced today. Perhaps biofabrication is a natural evolution of manufacturing for mankind. It's environmentally responsible, efficient and humane. It allows us to be creative. We can design new materials, new products, and new facilities. We need to move past just killing animals as a resource to something more civilized and evolved. Perhaps we are ready for something literally and figuratively more cultured.Thank you.(Applause)\"\n        ],\n        \"semantic_type\": \"\",\n        \"description\": \"\"\n      }\n    },\n    {\n      \"column\": \"url\",\n      \"properties\": {\n        \"dtype\": \"string\",\n        \"num_unique_values\": 500,\n        \"samples\": [\n          \"https://www.ted.com/talks/elon_musk_the_mind_behind_tesla_spacex_solarcity\\n\",\n          \"https://www.ted.com/talks/noah_feldman_hamilton_vs_madison_and_the_birth_of_american_partisanship\\n\",\n          \"https://www.ted.com/talks/andras_forgacs_leather_and_meat_without_killing_animals\\n\"\n        ],\n        \"semantic_type\": \"\",\n        \"description\": \"\"\n      }\n    },\n    {\n      \"column\": \"word_count\",\n      \"properties\": {\n        \"dtype\": \"number\",\n        \"std\": 931,\n        \"min\": 3,\n        \"max\": 5872,\n        \"num_unique_values\": 464,\n        \"samples\": [\n          2007,\n          3341,\n          2137\n        ],\n        \"semantic_type\": \"\",\n        \"description\": \"\"\n      }\n    }\n  ]\n}"
            }
          },
          "metadata": {},
          "execution_count": 22
        }
      ]
    },
    {
      "cell_type": "code",
      "source": [
        "# Function to preprocess text\n",
        "def preprocess(text):\n",
        "  \t# Create Doc object\n",
        "    doc = nlp(text, disable=['ner', 'parser'])\n",
        "    # Generate lemmas\n",
        "    lemmas = [token.lemma_ for token in doc]\n",
        "    # Remove stopwords and non-alphabetic characters\n",
        "    a_lemmas = [lemma for lemma in lemmas\n",
        "            if lemma.isalpha() and lemma not in stopwords]\n",
        "\n",
        "    return ' '.join(a_lemmas)\n",
        "\n",
        "# Apply preprocess to ted['transcript']\n",
        "ted['transcript'] = ted['transcript'].apply(preprocess)\n",
        "print(ted['transcript'], '\\n')\n",
        "\n",
        "\"Excellent job! You have preprocessed all the TED talk transcripts contained in \\\n",
        "ted and it is now in a good shape to perform operations such as vectorization \\\n",
        "(as we will soon see how). You now have a good understanding of how text \\\n",
        "preprocessing works and why it is important. In the next lessons, we will move on to generating word level features for our texts.\""
      ],
      "metadata": {
        "colab": {
          "base_uri": "https://localhost:8080/",
          "height": 350
        },
        "id": "7oKt06cNrhg8",
        "outputId": "0d31ddbe-b946-4c2e-9556-fc96c60b87db"
      },
      "execution_count": 23,
      "outputs": [
        {
          "output_type": "stream",
          "name": "stdout",
          "text": [
            "0      talk new lecture TED I illusion create TED I t...\n",
            "1      representation brain brain break left half log...\n",
            "2      great honor today share Digital Universe creat...\n",
            "3      passion music technology thing combination thi...\n",
            "4      use want get computer new program programming ...\n",
            "                             ...                        \n",
            "495    today I unpack example iconic design perfect s...\n",
            "496    brother belong demographic Pat percent accord ...\n",
            "497    John Hockenberry great Tom I want start questi...\n",
            "498    right moment kill More car internet even littl...\n",
            "499    get real problem math education right basicall...\n",
            "Name: transcript, Length: 500, dtype: object \n",
            "\n"
          ]
        },
        {
          "output_type": "execute_result",
          "data": {
            "text/plain": [
              "'Excellent job! You have preprocessed all the TED talk transcripts contained in ted and it is now in a good shape to perform operations such as vectorization (as we will soon see how). You now have a good understanding of how text preprocessing works and why it is important. In the next lessons, we will move on to generating word level features for our texts.'"
            ],
            "application/vnd.google.colaboratory.intrinsic+json": {
              "type": "string"
            }
          },
          "metadata": {},
          "execution_count": 23
        }
      ]
    },
    {
      "cell_type": "code",
      "source": [
        "ted.head()"
      ],
      "metadata": {
        "colab": {
          "base_uri": "https://localhost:8080/",
          "height": 260
        },
        "id": "QWNjucNvszeO",
        "outputId": "f795ef1e-d73d-41e1-afa5-735d9c8d17a9"
      },
      "execution_count": 24,
      "outputs": [
        {
          "output_type": "execute_result",
          "data": {
            "text/plain": [
              "                                          transcript  \\\n",
              "0  talk new lecture TED I illusion create TED I t...   \n",
              "1  representation brain brain break left half log...   \n",
              "2  great honor today share Digital Universe creat...   \n",
              "3  passion music technology thing combination thi...   \n",
              "4  use want get computer new program programming ...   \n",
              "\n",
              "                                                 url  word_count  \n",
              "0  https://www.ted.com/talks/al_seckel_says_our_b...        1704  \n",
              "1  https://www.ted.com/talks/aaron_o_connell_maki...        1387  \n",
              "2  https://www.ted.com/talks/carter_emmart_demos_...         890  \n",
              "3  https://www.ted.com/talks/jared_ficklin_new_wa...        1548  \n",
              "4  https://www.ted.com/talks/jeremy_howard_the_wo...        3480  "
            ],
            "text/html": [
              "\n",
              "  <div id=\"df-2d1b35d6-e0a3-41df-a4f5-7877adf15608\" class=\"colab-df-container\">\n",
              "    <div>\n",
              "<style scoped>\n",
              "    .dataframe tbody tr th:only-of-type {\n",
              "        vertical-align: middle;\n",
              "    }\n",
              "\n",
              "    .dataframe tbody tr th {\n",
              "        vertical-align: top;\n",
              "    }\n",
              "\n",
              "    .dataframe thead th {\n",
              "        text-align: right;\n",
              "    }\n",
              "</style>\n",
              "<table border=\"1\" class=\"dataframe\">\n",
              "  <thead>\n",
              "    <tr style=\"text-align: right;\">\n",
              "      <th></th>\n",
              "      <th>transcript</th>\n",
              "      <th>url</th>\n",
              "      <th>word_count</th>\n",
              "    </tr>\n",
              "  </thead>\n",
              "  <tbody>\n",
              "    <tr>\n",
              "      <th>0</th>\n",
              "      <td>talk new lecture TED I illusion create TED I t...</td>\n",
              "      <td>https://www.ted.com/talks/al_seckel_says_our_b...</td>\n",
              "      <td>1704</td>\n",
              "    </tr>\n",
              "    <tr>\n",
              "      <th>1</th>\n",
              "      <td>representation brain brain break left half log...</td>\n",
              "      <td>https://www.ted.com/talks/aaron_o_connell_maki...</td>\n",
              "      <td>1387</td>\n",
              "    </tr>\n",
              "    <tr>\n",
              "      <th>2</th>\n",
              "      <td>great honor today share Digital Universe creat...</td>\n",
              "      <td>https://www.ted.com/talks/carter_emmart_demos_...</td>\n",
              "      <td>890</td>\n",
              "    </tr>\n",
              "    <tr>\n",
              "      <th>3</th>\n",
              "      <td>passion music technology thing combination thi...</td>\n",
              "      <td>https://www.ted.com/talks/jared_ficklin_new_wa...</td>\n",
              "      <td>1548</td>\n",
              "    </tr>\n",
              "    <tr>\n",
              "      <th>4</th>\n",
              "      <td>use want get computer new program programming ...</td>\n",
              "      <td>https://www.ted.com/talks/jeremy_howard_the_wo...</td>\n",
              "      <td>3480</td>\n",
              "    </tr>\n",
              "  </tbody>\n",
              "</table>\n",
              "</div>\n",
              "    <div class=\"colab-df-buttons\">\n",
              "\n",
              "  <div class=\"colab-df-container\">\n",
              "    <button class=\"colab-df-convert\" onclick=\"convertToInteractive('df-2d1b35d6-e0a3-41df-a4f5-7877adf15608')\"\n",
              "            title=\"Convert this dataframe to an interactive table.\"\n",
              "            style=\"display:none;\">\n",
              "\n",
              "  <svg xmlns=\"http://www.w3.org/2000/svg\" height=\"24px\" viewBox=\"0 -960 960 960\">\n",
              "    <path d=\"M120-120v-720h720v720H120Zm60-500h600v-160H180v160Zm220 220h160v-160H400v160Zm0 220h160v-160H400v160ZM180-400h160v-160H180v160Zm440 0h160v-160H620v160ZM180-180h160v-160H180v160Zm440 0h160v-160H620v160Z\"/>\n",
              "  </svg>\n",
              "    </button>\n",
              "\n",
              "  <style>\n",
              "    .colab-df-container {\n",
              "      display:flex;\n",
              "      gap: 12px;\n",
              "    }\n",
              "\n",
              "    .colab-df-convert {\n",
              "      background-color: #E8F0FE;\n",
              "      border: none;\n",
              "      border-radius: 50%;\n",
              "      cursor: pointer;\n",
              "      display: none;\n",
              "      fill: #1967D2;\n",
              "      height: 32px;\n",
              "      padding: 0 0 0 0;\n",
              "      width: 32px;\n",
              "    }\n",
              "\n",
              "    .colab-df-convert:hover {\n",
              "      background-color: #E2EBFA;\n",
              "      box-shadow: 0px 1px 2px rgba(60, 64, 67, 0.3), 0px 1px 3px 1px rgba(60, 64, 67, 0.15);\n",
              "      fill: #174EA6;\n",
              "    }\n",
              "\n",
              "    .colab-df-buttons div {\n",
              "      margin-bottom: 4px;\n",
              "    }\n",
              "\n",
              "    [theme=dark] .colab-df-convert {\n",
              "      background-color: #3B4455;\n",
              "      fill: #D2E3FC;\n",
              "    }\n",
              "\n",
              "    [theme=dark] .colab-df-convert:hover {\n",
              "      background-color: #434B5C;\n",
              "      box-shadow: 0px 1px 3px 1px rgba(0, 0, 0, 0.15);\n",
              "      filter: drop-shadow(0px 1px 2px rgba(0, 0, 0, 0.3));\n",
              "      fill: #FFFFFF;\n",
              "    }\n",
              "  </style>\n",
              "\n",
              "    <script>\n",
              "      const buttonEl =\n",
              "        document.querySelector('#df-2d1b35d6-e0a3-41df-a4f5-7877adf15608 button.colab-df-convert');\n",
              "      buttonEl.style.display =\n",
              "        google.colab.kernel.accessAllowed ? 'block' : 'none';\n",
              "\n",
              "      async function convertToInteractive(key) {\n",
              "        const element = document.querySelector('#df-2d1b35d6-e0a3-41df-a4f5-7877adf15608');\n",
              "        const dataTable =\n",
              "          await google.colab.kernel.invokeFunction('convertToInteractive',\n",
              "                                                    [key], {});\n",
              "        if (!dataTable) return;\n",
              "\n",
              "        const docLinkHtml = 'Like what you see? Visit the ' +\n",
              "          '<a target=\"_blank\" href=https://colab.research.google.com/notebooks/data_table.ipynb>data table notebook</a>'\n",
              "          + ' to learn more about interactive tables.';\n",
              "        element.innerHTML = '';\n",
              "        dataTable['output_type'] = 'display_data';\n",
              "        await google.colab.output.renderOutput(dataTable, element);\n",
              "        const docLink = document.createElement('div');\n",
              "        docLink.innerHTML = docLinkHtml;\n",
              "        element.appendChild(docLink);\n",
              "      }\n",
              "    </script>\n",
              "  </div>\n",
              "\n",
              "\n",
              "<div id=\"df-25f8f9ec-ea94-44db-9134-b366b748db43\">\n",
              "  <button class=\"colab-df-quickchart\" onclick=\"quickchart('df-25f8f9ec-ea94-44db-9134-b366b748db43')\"\n",
              "            title=\"Suggest charts\"\n",
              "            style=\"display:none;\">\n",
              "\n",
              "<svg xmlns=\"http://www.w3.org/2000/svg\" height=\"24px\"viewBox=\"0 0 24 24\"\n",
              "     width=\"24px\">\n",
              "    <g>\n",
              "        <path d=\"M19 3H5c-1.1 0-2 .9-2 2v14c0 1.1.9 2 2 2h14c1.1 0 2-.9 2-2V5c0-1.1-.9-2-2-2zM9 17H7v-7h2v7zm4 0h-2V7h2v10zm4 0h-2v-4h2v4z\"/>\n",
              "    </g>\n",
              "</svg>\n",
              "  </button>\n",
              "\n",
              "<style>\n",
              "  .colab-df-quickchart {\n",
              "      --bg-color: #E8F0FE;\n",
              "      --fill-color: #1967D2;\n",
              "      --hover-bg-color: #E2EBFA;\n",
              "      --hover-fill-color: #174EA6;\n",
              "      --disabled-fill-color: #AAA;\n",
              "      --disabled-bg-color: #DDD;\n",
              "  }\n",
              "\n",
              "  [theme=dark] .colab-df-quickchart {\n",
              "      --bg-color: #3B4455;\n",
              "      --fill-color: #D2E3FC;\n",
              "      --hover-bg-color: #434B5C;\n",
              "      --hover-fill-color: #FFFFFF;\n",
              "      --disabled-bg-color: #3B4455;\n",
              "      --disabled-fill-color: #666;\n",
              "  }\n",
              "\n",
              "  .colab-df-quickchart {\n",
              "    background-color: var(--bg-color);\n",
              "    border: none;\n",
              "    border-radius: 50%;\n",
              "    cursor: pointer;\n",
              "    display: none;\n",
              "    fill: var(--fill-color);\n",
              "    height: 32px;\n",
              "    padding: 0;\n",
              "    width: 32px;\n",
              "  }\n",
              "\n",
              "  .colab-df-quickchart:hover {\n",
              "    background-color: var(--hover-bg-color);\n",
              "    box-shadow: 0 1px 2px rgba(60, 64, 67, 0.3), 0 1px 3px 1px rgba(60, 64, 67, 0.15);\n",
              "    fill: var(--button-hover-fill-color);\n",
              "  }\n",
              "\n",
              "  .colab-df-quickchart-complete:disabled,\n",
              "  .colab-df-quickchart-complete:disabled:hover {\n",
              "    background-color: var(--disabled-bg-color);\n",
              "    fill: var(--disabled-fill-color);\n",
              "    box-shadow: none;\n",
              "  }\n",
              "\n",
              "  .colab-df-spinner {\n",
              "    border: 2px solid var(--fill-color);\n",
              "    border-color: transparent;\n",
              "    border-bottom-color: var(--fill-color);\n",
              "    animation:\n",
              "      spin 1s steps(1) infinite;\n",
              "  }\n",
              "\n",
              "  @keyframes spin {\n",
              "    0% {\n",
              "      border-color: transparent;\n",
              "      border-bottom-color: var(--fill-color);\n",
              "      border-left-color: var(--fill-color);\n",
              "    }\n",
              "    20% {\n",
              "      border-color: transparent;\n",
              "      border-left-color: var(--fill-color);\n",
              "      border-top-color: var(--fill-color);\n",
              "    }\n",
              "    30% {\n",
              "      border-color: transparent;\n",
              "      border-left-color: var(--fill-color);\n",
              "      border-top-color: var(--fill-color);\n",
              "      border-right-color: var(--fill-color);\n",
              "    }\n",
              "    40% {\n",
              "      border-color: transparent;\n",
              "      border-right-color: var(--fill-color);\n",
              "      border-top-color: var(--fill-color);\n",
              "    }\n",
              "    60% {\n",
              "      border-color: transparent;\n",
              "      border-right-color: var(--fill-color);\n",
              "    }\n",
              "    80% {\n",
              "      border-color: transparent;\n",
              "      border-right-color: var(--fill-color);\n",
              "      border-bottom-color: var(--fill-color);\n",
              "    }\n",
              "    90% {\n",
              "      border-color: transparent;\n",
              "      border-bottom-color: var(--fill-color);\n",
              "    }\n",
              "  }\n",
              "</style>\n",
              "\n",
              "  <script>\n",
              "    async function quickchart(key) {\n",
              "      const quickchartButtonEl =\n",
              "        document.querySelector('#' + key + ' button');\n",
              "      quickchartButtonEl.disabled = true;  // To prevent multiple clicks.\n",
              "      quickchartButtonEl.classList.add('colab-df-spinner');\n",
              "      try {\n",
              "        const charts = await google.colab.kernel.invokeFunction(\n",
              "            'suggestCharts', [key], {});\n",
              "      } catch (error) {\n",
              "        console.error('Error during call to suggestCharts:', error);\n",
              "      }\n",
              "      quickchartButtonEl.classList.remove('colab-df-spinner');\n",
              "      quickchartButtonEl.classList.add('colab-df-quickchart-complete');\n",
              "    }\n",
              "    (() => {\n",
              "      let quickchartButtonEl =\n",
              "        document.querySelector('#df-25f8f9ec-ea94-44db-9134-b366b748db43 button');\n",
              "      quickchartButtonEl.style.display =\n",
              "        google.colab.kernel.accessAllowed ? 'block' : 'none';\n",
              "    })();\n",
              "  </script>\n",
              "</div>\n",
              "\n",
              "    </div>\n",
              "  </div>\n"
            ],
            "application/vnd.google.colaboratory.intrinsic+json": {
              "type": "dataframe",
              "variable_name": "ted",
              "summary": "{\n  \"name\": \"ted\",\n  \"rows\": 500,\n  \"fields\": [\n    {\n      \"column\": \"transcript\",\n      \"properties\": {\n        \"dtype\": \"string\",\n        \"num_unique_values\": 500,\n        \"samples\": [\n          \"Chris Anderson Elon kind crazy dream persuade think try auto industry build electric Musk I university I think problem likely affect future world future humanity I think extremely important sustainable transport sustainable energy production sort overall sustainable energy problem big problem solve century independent environmental concern fact even produce good environment run out hydrocarbon need find sustainable mean operate CA Most american electricity come burn fossil fuel electric car plug electricity right element answer even source fuel produce power power plant use charge electric car natural gas prevalent hydrocarbon source fuel burn modern General Electric natural gas turbine get percent efficiency fuel internal combustion engine car get percent efficiency reason stationary power plant afford weigh lot voluminous waste heat run steam turbine generate secondary power source effect even transmission loss account even use source fuel twice charge electric car burn power plant CA scale deliver efficiency EM yes point sustainable mean power generation electricity generation solve sustainable electricity generation sense electric car mode transport CA get video Tesla assemble play video innovative process sure order accelerate advent electric transport I I think actually mode transport fully electric ironic exception rocket way Newton law question accelerate advent electric transport order car come energy efficient car mean incredibly light aluminum body chassis car North America fact apply lot rocket design technique car light despite large battery pack low drag coefficient car size result energy usage low advanced battery pack range competitive actually order mile range CA I mean battery pack incredibly heavy think math work out intelligently combine light body heavy battery gain spectacular efficiency EM exactly rest car light offset mass pack low drag coefficient good highway range fact customer Model S sort compete try get high possible range I think somebody recently get mile out single charge CA Bruno Bowden break world record EM Congratulations CA good news bad news drive mile hour constant speed get pull cop I mean certainly drive drive mile hour normal condition mile reasonable number CA let second video Tesla action ice dig New York Times way surprising thing experience drive create electric car responsiveness car incredible want people feel get mind meld car feel like car kind corner accelerate happen like car ESP electric car responsiveness gasoline car I think profound difference people experience test drive CA I mean beautiful expensive car road map mass market yeah goal Tesla sort step process version expensive car low volume version medium price medium volume version low price high volume step point sport car roadster get Model S start dollar generation car hopefully out year car get new technology generally major version order compelling mass market product I think progress direction I feel confident get CA I mean right get short commute drive get charge home huge nationwide network charge station fast come truly few key actually far charge station people realize Tesla develop supercharging technology offer buy Model S free forever maybe lot people realize actually California Nevada cover get eastern seaboard Boston cover end year able drive New York use Supercharger network charge time rate key thing ratio drive stop stop time seven drive hour want stop minute normally people stop start trip noon want stop bite eat hit restroom coffee CA proposition consumer charge hour common expect out minute wait hour good news help save planet way electricity free pay em actually expect people stop minute hour actually drive maybe mile stop half hour natural cadence trip CA right string energy bow work solar company SolarCity unusual I mention early sustainable electricity production consumption I confident primary mean power generation solar I mean indirect fusion get giant fusion generator sky sun need tap little bit energy purpose human civilization people know realize know world entirely solar powered sun frozen ice ball degree Kelvin sun power entire system precipitation ecosystem solar power CA gallon gasoline effectively thousand year sun power compress small space hard number work right solar remotely compete example natural gas fracke natural gas build business actually I confident solar beat hand include natural actually deep trouble CA sell solar panel consumer EM actually buy solar system lease solar system Most people choose lease thing solar power feed stock operational cost instal work decade work probably century key thing get cost initial installation low get cost financing low interest factor drive cost solar huge progress direction I confident actually beat natural gas CA current proposition consumer pay EM zero CA pay zero install panel roof pay long typical typical lease year value proposition sort allude straightforward money utility bill decrease pretty good deal CA like win consumer risk pay pay dream I mean electricity panel long term I mean company essentially SolarCity raise chunk capital company bank Google big partner expect return capital capital solarcity purchase install panel roof charge homeowner business owner monthly lease payment utility bill CA get long term commercial benefit power kind build new type distribute utility em exactly giant distribute utility I think good thing utility monopoly people choice effectively time competition monopoly utility power distribution line roof I think actually empowering homeowner business CA picture future majority power America decade lifetime I extremely confident solar plurality power likely majority I predict plurality year I bet CA Definition plurality solar source CA ah bet friend remain nameless CA I bet I think year ago roughly year I think power solar source CA right let bet I guess kind crazy bet money sale PayPal decide build space company Earth I get question lot true People hear joke guy small fortune space industry obviously start large punchline I tell people I try figure out fast way turn large fortune small look I like strangely close thing work out come close failure manage get point goal SpaceX try advance rocket technology particular try crack problem I think vital humanity space fare civilization rapidly fully reusable rocket CA humanity space fare civilization dream way young age dream Mars I build rocket I kid I think I involve standpoint thing need happen order future exciting inspire I think fundamental difference sort look future humanity space fare civilization out explore star multiple planet I think exciting compare forever confine Earth eventual extinction event CA slash cost build rocket percent depend calculate Earth NASA year significant advance technology airframe engine electronic launch operation long list innovation come little difficult communicate talk get copy right patent stuff interesting I EM patent CA patent think dangerous patent patent em primary competitor national government enforceability patent interesting big innovation ahead work tell em right big innovation CA fact let roll video talk happen EM absolutely thing rocket expendable rocket fly today fully expendable space shuttle attempt reusable rocket even main tank space shuttle throw away time reusable person group month refurbish flight space shuttle end cost billion dollar flight obviously work CA happen right important rocket stage able come able return launch site ready launch matter hour CA wow reusable rocket EM yes applause lot people realize cost fuel propellant small like jet cost propellant percent cost rocket possible achieve let roughly fold improvement cost spaceflight effectively reuse rocket important mode transport use plane train automobile bike horse reusable rocket solve problem order space fare civilization CA ask I question early popular travel cruise burn ship afterward EM certain cruise apparently highly problematic CA definitely expensive potentially absolutely disruptive technology I guess pave way dream actually point humanity Mars scale like colony Mars EM yeah exactly SpaceX combination company government need progress direction life multi planetary establish base planet Mars realistic option build base true multi planet specie CA progress let reusable simulation video actually good progress recently Grasshopper Test Project test vertical landing portion flight sort terminal portion tricky good test CA yeah sense scale dress cowboy Johnny Cash bolt mannequin rocket right let video actually amazing think rocket blast EM yeah rocket size story building rocket launch hover meter constantly adjust angle pitch yaw main engine maintain roll cold gas thruster CA cool applause Elon project Paypal SolarCity Tesla SpaceX spectacularly different ambitious project scale Earth person able innovate way I know actually I good answer I work lot I mean lot CA I theory EM okay right CA theory ability think system level design pull design technology business TED TBD design technology business package synthesize way few people critical thing feel damn confident click package crazy risk bet fortune multiple time I mean secret sauce education system learn truly amazing EM thank thank I think good framework think physics know sort principle reason generally I think I mean boil thing fundamental truth reason oppose reason analogy life get life reason analogy essentially mean copy people slight variation mentally able get day want new apply physics approach Physics figure out discover new thing counterintuitive like quantum mechanic counterintuitive I think important thing pay attention negative feedback solicit particularly friend sound like simple advice hardly incredibly helpful CA boy girl watch study physic learn man Elon Musk I wish day thank come thank CA awesome cool look bow fantastic thank\",\n          \"think US politic try sense year hit like follow proposition US partisanship bad time geographically spatialize divide coast want look outward center country want look inward today proposition sound reasonable true fact US partisanship way beginning republic geographically spatialize eerily way today US history far importantly actually extraordinary mechanism design help manage factional disagreement partisanship technology Constitution evolve subtly supplely design entity specific purpose teach manage factional disagreement possible technique overcome disagreement possible order tell story I want pivotal moment US history moment factional disagreement partisanship bear actually birth moment moment US history partisanship snap place person core story James Madison moment begin James Madison ride high Einstein US Constitution constitutional thought globally know period time year conceive theorize design pass get ratify US Constitution sense enormity accomplishment actually Madison know time today constitutional technology invent use US year later place like Canada India South Africa Brazil extraordinary range context world technology dominant effective technology manage governance moment Madison believe solve problem country run smoothly design technology minimize result faction political party remarkably think design constitution political party unnecessary get enormous degree help final marketing phase constitutional project man hear Alexander Hamilton Hamilton Madison passionate Madison restrain pansexual Madison speak woman expect year old marry Dolley live happily bluntly Hamilton kind person write hip hop musical Madison kind person write hip hop musical kind unlikely pairing produce Federalist Papers offer justification I mention marketing plan Constitution wildly effective wildly successful new government place Hamilton Secretary Treasury specific idea mind financial institution infrastructure exactly Madison constitution contemporary know tell Madison like Hamilton Newton infrastructure idea pretty straightforward Hamilton United States national bank permanent national debt immortal phrase manufacturing policy enable trade manufacturing agriculture country primary wealth historically Madison utterly ballistic pivotal critical decision instead tell world old friend Hamilton wrong adopt wrong policy actually begin argue Hamilton idea unconstitutional violate nature Constitution draft Hamilton respond way expect declare Madison personal political enemy word founder close friend close ally partner begin produce enmity good old fashioned way found political party Madison create party originally Democratic Republican Party republican short Hamilton create party Federalist Party party adopt position national politic extreme exaggerated clear example Madison believe country manufacturing trade agriculture begin attack Hamilton kind tool financial market Hamilton intend charge country overstatement Madison come believe attack city life coast corrupt people need look inward center country farmer essence republican virtue value american great specifically value Revolution value low taxis agriculture trade Hamilton respond Madison na\\u00efve childish goal turn United States primitive autarchy self reliant completely ineffectual global mean truth claim grossly exaggerate view order fight war found newspaper time US history news people receive come entirely lens Republican federalist party end turn out Constitution work work surprising way Madison fully anticipate series election time out box Federalists destroy Republicans Madison astonish course blame innovative view Madison fail innovate think reason press pro federalist advertiser federalist trader coast get capital Britain Federalism bed initial explanation despite fact Federalists power actually enact law criminalize criticism government happen United States Republicans fight Madison begin emphasize freedom speech build Bill Rights capacity civil society organize sure nationally small local group democratic Republican Societies begin form protest federalist dominate hegemony eventually Republicans manage win national election Madison Secretary State friend mentor Jefferson president actually time manage Federalists completely out business goal happen happen structure Constitution feature actually manage faction way suppose place important freedom speech innovative idea time out power government terrible civil society organization capacity private group individual political party organize try bring fundamental change significantly separation power extraordinary component Constitution thing separation power drive governance center get elect office United States help periphery right leave turn out actually govern bring board center midterm election come incredibly fast presidency begin drive president center structure president fact rule even govern propose law people agree feature tend drive president actually want get thing center glance newspaper today reveal principle completely operation matter president get elect president get president follow rule Constitution court stand occur recently past US history furthermore president need people elect official know need win election centrist voter policy order pass law happen takeaway brief excursus history partisanship follow partisanship real profound extraordinarily powerful terribly upsetting design Constitution great partisanship enable manage partisanship possible enable actually overcome partisan division produce compromise possible technology like technology work founder work grandchild work moment Civil War start work work grandparent parent work simple stand believe support organization care speak out issue matter get involve change express opinion respect knowledge confidence work constitutional technology job design stand believe deep breath\",\n          \"father I start company print human tissue organ people initially think little crazy progress lab lab world start get question like grow human body grow animal product like meat suggest I frankly I think little crazy I soon come realize crazy crazy today I convinced year look today raise slaughter billion animal hamburger handbag wasteful crazy know today maintain global herd billion animal provide meat dairy egg leather good few decade world population expand billion need nearly double billion animal maintain herd major toll planet animal raw material live livestock large user land fresh water big producer greenhouse gas drive climate change get animal close create breeding ground disease opportunity harm abuse clearly continue path environment public health food security risk way essentially animal product collection tissue right breed raise highly complex animal create product relatively simple tissue instead start complex sentient animal start tissue basic unit life biofabrication cell use grow biological product like tissue organ medicine biofabrication technique use grow sophisticated body like ear windpipe skin blood vessel bone successfully implant patient medicine biofabrication humane sustainable scalable new industry begin reimagine leather I emphasize leather widely beautiful long history grow leather technically simple grow animal product like meat mainly use cell type largely dimensional polarizing consumer regulator biofabrication understand clear initially people willing wear novel material willing eat novel food matter delicious sense leather gateway material beginning mainstream biofabrication industry succeed bring consumer bioproduct like meat close horizon grow leather begin cell animal simple biopsy animal cow lamb even exotic process harm Daisy cow live happy life isolate skin cell multiply cell culture medium million cell expand billion coax cell produce collagen naturally collagen stuff cell natural connective tissue extracellular matrix leather main building block cell collagen spread out form sheet layer thin sheet like phyllo pastry form thick sheet let mature finally multilayere skin short chemical tanning process create leather I excited time batch cultured leather fresh lab real genuine leather animal sacrifice characteristic leather cell hair remove scar insect bite waste leather grow shape wallet handbag car seat limit irregular shape cow alligator material grow leather ground control property interesting way piece leather mere seven tissue layer thick nearly transparent leather layer thick opaque kind fine control conventional leather tune leather desirable quality like softness breathability durability elasticity even thing like pattern mimic nature way improve type leather today leather imagination probably future animal product look like need look like actually state art today like manufacture cell culture thousand year begin product like wine beer yogurt speak food cultured food evolve today prepare cultured food beautiful sterile facility like brewery essentially bioreactor cell culture place imagine facility instead brewing beer brew leather meat imagine tour facility learn leather meat cultured process begin end even try clean open educational contrast hide guard remote factory leather meat produce today biofabrication natural evolution manufacture mankind environmentally responsible efficient humane allow creative design new material new product new facility need past kill animal resource civilized evolve ready literally figuratively cultured thank\"\n        ],\n        \"semantic_type\": \"\",\n        \"description\": \"\"\n      }\n    },\n    {\n      \"column\": \"url\",\n      \"properties\": {\n        \"dtype\": \"string\",\n        \"num_unique_values\": 500,\n        \"samples\": [\n          \"https://www.ted.com/talks/elon_musk_the_mind_behind_tesla_spacex_solarcity\\n\",\n          \"https://www.ted.com/talks/noah_feldman_hamilton_vs_madison_and_the_birth_of_american_partisanship\\n\",\n          \"https://www.ted.com/talks/andras_forgacs_leather_and_meat_without_killing_animals\\n\"\n        ],\n        \"semantic_type\": \"\",\n        \"description\": \"\"\n      }\n    },\n    {\n      \"column\": \"word_count\",\n      \"properties\": {\n        \"dtype\": \"number\",\n        \"std\": 931,\n        \"min\": 3,\n        \"max\": 5872,\n        \"num_unique_values\": 464,\n        \"samples\": [\n          2007,\n          3341,\n          2137\n        ],\n        \"semantic_type\": \"\",\n        \"description\": \"\"\n      }\n    }\n  ]\n}"
            }
          },
          "metadata": {},
          "execution_count": 24
        }
      ]
    },
    {
      "cell_type": "markdown",
      "source": [
        "**POS tagging in Lord of the Flies**\n",
        "\n",
        "In this exercise, you will perform part-of-speech tagging on a famous passage from one of the most well-known novels of all time, Lord of the Flies, authored by William Golding.\n",
        "\n",
        "The passage is available as lotf and has already been printed to the console."
      ],
      "metadata": {
        "id": "bc9crWd4s-Lo"
      }
    },
    {
      "cell_type": "code",
      "source": [
        "lotf = \"He found himself understanding the wearisomeness of this life, where every path was an improvisation and a considerable part of one’s waking life was spent watching one’s feet.\"\n",
        "\n",
        "# Load the en_core_web_sm model\n",
        "nlp = spacy.load('en_core_web_sm')\n",
        "\n",
        "# Create a Doc object\n",
        "doc = nlp(lotf)\n",
        "\n",
        "# Generate tokens and pos tags\n",
        "pos = [(token.text, token.pos_) for token in doc]\n",
        "[print(p) for p in pos]\n",
        "\n",
        "print()\n",
        "\"Good job! Examine the various POS tags attached to each token and evaluate if they make intuitive sense to you. You will notice that they are indeed labelled correctly according to the standard rules of English grammar.\""
      ],
      "metadata": {
        "colab": {
          "base_uri": "https://localhost:8080/",
          "height": 790
        },
        "id": "vJsU2iyBtEbX",
        "outputId": "2ca154bf-0276-450f-ecc9-fc0a8c24a6f2"
      },
      "execution_count": 25,
      "outputs": [
        {
          "output_type": "stream",
          "name": "stdout",
          "text": [
            "('He', 'PRON')\n",
            "('found', 'VERB')\n",
            "('himself', 'PRON')\n",
            "('understanding', 'VERB')\n",
            "('the', 'DET')\n",
            "('wearisomeness', 'NOUN')\n",
            "('of', 'ADP')\n",
            "('this', 'DET')\n",
            "('life', 'NOUN')\n",
            "(',', 'PUNCT')\n",
            "('where', 'SCONJ')\n",
            "('every', 'DET')\n",
            "('path', 'NOUN')\n",
            "('was', 'AUX')\n",
            "('an', 'DET')\n",
            "('improvisation', 'NOUN')\n",
            "('and', 'CCONJ')\n",
            "('a', 'DET')\n",
            "('considerable', 'ADJ')\n",
            "('part', 'NOUN')\n",
            "('of', 'ADP')\n",
            "('one', 'NUM')\n",
            "('’s', 'PART')\n",
            "('waking', 'VERB')\n",
            "('life', 'NOUN')\n",
            "('was', 'AUX')\n",
            "('spent', 'VERB')\n",
            "('watching', 'VERB')\n",
            "('one', 'NUM')\n",
            "('’s', 'PART')\n",
            "('feet', 'NOUN')\n",
            "('.', 'PUNCT')\n",
            "\n"
          ]
        },
        {
          "output_type": "execute_result",
          "data": {
            "text/plain": [
              "'Good job! Examine the various POS tags attached to each token and evaluate if they make intuitive sense to you. You will notice that they are indeed labelled correctly according to the standard rules of English grammar.'"
            ],
            "application/vnd.google.colaboratory.intrinsic+json": {
              "type": "string"
            }
          },
          "metadata": {},
          "execution_count": 25
        }
      ]
    },
    {
      "cell_type": "markdown",
      "source": [
        "**Counting nouns in a piece of text**\n",
        "\n",
        "In this exercise, we will write two functions, nouns() and proper_nouns() that will count the number of other nouns and proper nouns in a piece of text respectively.\n",
        "\n",
        "These functions will take in a piece of text and generate a list containing the POS tags for each word. It will then return the number of proper nouns/other nouns that the text contains. We will use these functions in the next exercise to generate interesting insights about fake news.\n",
        "\n",
        "The en_core_web_sm model has already been loaded as nlp in this exercise."
      ],
      "metadata": {
        "id": "XTNHNpXXtmyo"
      }
    },
    {
      "cell_type": "code",
      "source": [
        "nlp = spacy.load('en_core_web_sm')\n",
        "\n",
        "# Returns number of proper nouns\n",
        "def proper_nouns(text, model=nlp):\n",
        "  \t# Create doc object\n",
        "    doc = model(text)\n",
        "    # Generate list of POS tags\n",
        "    pos = [token.pos_ for token in doc]\n",
        "\n",
        "    # Return number of proper nouns\n",
        "    return pos.count('PROPN')\n",
        "\n",
        "print(proper_nouns(\"Abdul, Bill and Cathy went to the market to buy apples.\", nlp))"
      ],
      "metadata": {
        "colab": {
          "base_uri": "https://localhost:8080/"
        },
        "id": "MC_emzLvtmIp",
        "outputId": "4b1f9456-8614-44eb-d70d-76707e78c282"
      },
      "execution_count": 26,
      "outputs": [
        {
          "output_type": "stream",
          "name": "stdout",
          "text": [
            "3\n"
          ]
        }
      ]
    },
    {
      "cell_type": "code",
      "source": [
        "nlp = spacy.load('en_core_web_sm')\n",
        "\n",
        "# Returns number of other nouns\n",
        "def nouns(text, model=nlp):\n",
        "  \t# Create doc object\n",
        "    doc = model(text)\n",
        "    # Generate list of POS tags\n",
        "    pos = [token.pos_ for token in doc]\n",
        "\n",
        "    # Return number of other nouns\n",
        "    return pos.count('NOUN')\n",
        "\n",
        "print(nouns(\"Abdul, Bill and Cathy went to the market to buy apples.\", nlp))\n",
        "\n",
        "\"Great job! You now know how to write functions that compute the number of instances of a particulat POS \\\n",
        "tag in a given piece of text. In the next exercise, we will use these functions to generate features from text in a dataframe.\""
      ],
      "metadata": {
        "colab": {
          "base_uri": "https://localhost:8080/",
          "height": 86
        },
        "id": "iED3euBMuGP4",
        "outputId": "71ef0a30-4b04-4e94-b859-3e69ce4a23d5"
      },
      "execution_count": 27,
      "outputs": [
        {
          "output_type": "stream",
          "name": "stdout",
          "text": [
            "2\n"
          ]
        },
        {
          "output_type": "execute_result",
          "data": {
            "text/plain": [
              "'Great job! You now know how to write functions that compute the number of instances of a particulat POS tag in a given piece of text. In the next exercise, we will use these functions to generate features from text in a dataframe.'"
            ],
            "application/vnd.google.colaboratory.intrinsic+json": {
              "type": "string"
            }
          },
          "metadata": {},
          "execution_count": 27
        }
      ]
    },
    {
      "cell_type": "markdown",
      "source": [
        "**Noun usage in fake news**\n",
        "\n",
        "In this exercise, you have been given a dataframe headlines that contains news headlines that are either fake or real. Your task is to generate two new features num_propn and num_noun that represent the number of proper nouns and other nouns contained in the title feature of headlines.\n",
        "\n",
        "Next, we will compute the mean number of proper nouns and other nouns used in fake and real news headlines and compare the values. If there is a remarkable difference, then there is a good chance that using the num_propn and num_noun features in fake news detectors will improve its performance.\n",
        "\n",
        "To accomplish this task, the functions proper_nouns and nouns that you had built in the previous exercise have already been made available to you."
      ],
      "metadata": {
        "id": "nZ_J3nqYuQw-"
      }
    },
    {
      "cell_type": "code",
      "source": [
        "headlines = real_and_fake_news\n",
        "headlines.head()"
      ],
      "metadata": {
        "colab": {
          "base_uri": "https://localhost:8080/",
          "height": 260
        },
        "id": "t17Wb6oDukpp",
        "outputId": "fe5faf92-13c6-4baa-9be9-7d29438df772"
      },
      "execution_count": 28,
      "outputs": [
        {
          "output_type": "execute_result",
          "data": {
            "text/plain": [
              "                                               title label\n",
              "0                       You Can Smell Hillary’s Fear  FAKE\n",
              "1  Watch The Exact Moment Paul Ryan Committed Pol...  FAKE\n",
              "2        Kerry to go to Paris in gesture of sympathy  REAL\n",
              "3  Bernie supporters on Twitter erupt in anger ag...  FAKE\n",
              "4   The Battle of New York: Why This Primary Matters  REAL"
            ],
            "text/html": [
              "\n",
              "  <div id=\"df-393a1531-d2f9-4a1d-bdc1-2760d85fdcad\" class=\"colab-df-container\">\n",
              "    <div>\n",
              "<style scoped>\n",
              "    .dataframe tbody tr th:only-of-type {\n",
              "        vertical-align: middle;\n",
              "    }\n",
              "\n",
              "    .dataframe tbody tr th {\n",
              "        vertical-align: top;\n",
              "    }\n",
              "\n",
              "    .dataframe thead th {\n",
              "        text-align: right;\n",
              "    }\n",
              "</style>\n",
              "<table border=\"1\" class=\"dataframe\">\n",
              "  <thead>\n",
              "    <tr style=\"text-align: right;\">\n",
              "      <th></th>\n",
              "      <th>title</th>\n",
              "      <th>label</th>\n",
              "    </tr>\n",
              "  </thead>\n",
              "  <tbody>\n",
              "    <tr>\n",
              "      <th>0</th>\n",
              "      <td>You Can Smell Hillary’s Fear</td>\n",
              "      <td>FAKE</td>\n",
              "    </tr>\n",
              "    <tr>\n",
              "      <th>1</th>\n",
              "      <td>Watch The Exact Moment Paul Ryan Committed Pol...</td>\n",
              "      <td>FAKE</td>\n",
              "    </tr>\n",
              "    <tr>\n",
              "      <th>2</th>\n",
              "      <td>Kerry to go to Paris in gesture of sympathy</td>\n",
              "      <td>REAL</td>\n",
              "    </tr>\n",
              "    <tr>\n",
              "      <th>3</th>\n",
              "      <td>Bernie supporters on Twitter erupt in anger ag...</td>\n",
              "      <td>FAKE</td>\n",
              "    </tr>\n",
              "    <tr>\n",
              "      <th>4</th>\n",
              "      <td>The Battle of New York: Why This Primary Matters</td>\n",
              "      <td>REAL</td>\n",
              "    </tr>\n",
              "  </tbody>\n",
              "</table>\n",
              "</div>\n",
              "    <div class=\"colab-df-buttons\">\n",
              "\n",
              "  <div class=\"colab-df-container\">\n",
              "    <button class=\"colab-df-convert\" onclick=\"convertToInteractive('df-393a1531-d2f9-4a1d-bdc1-2760d85fdcad')\"\n",
              "            title=\"Convert this dataframe to an interactive table.\"\n",
              "            style=\"display:none;\">\n",
              "\n",
              "  <svg xmlns=\"http://www.w3.org/2000/svg\" height=\"24px\" viewBox=\"0 -960 960 960\">\n",
              "    <path d=\"M120-120v-720h720v720H120Zm60-500h600v-160H180v160Zm220 220h160v-160H400v160Zm0 220h160v-160H400v160ZM180-400h160v-160H180v160Zm440 0h160v-160H620v160ZM180-180h160v-160H180v160Zm440 0h160v-160H620v160Z\"/>\n",
              "  </svg>\n",
              "    </button>\n",
              "\n",
              "  <style>\n",
              "    .colab-df-container {\n",
              "      display:flex;\n",
              "      gap: 12px;\n",
              "    }\n",
              "\n",
              "    .colab-df-convert {\n",
              "      background-color: #E8F0FE;\n",
              "      border: none;\n",
              "      border-radius: 50%;\n",
              "      cursor: pointer;\n",
              "      display: none;\n",
              "      fill: #1967D2;\n",
              "      height: 32px;\n",
              "      padding: 0 0 0 0;\n",
              "      width: 32px;\n",
              "    }\n",
              "\n",
              "    .colab-df-convert:hover {\n",
              "      background-color: #E2EBFA;\n",
              "      box-shadow: 0px 1px 2px rgba(60, 64, 67, 0.3), 0px 1px 3px 1px rgba(60, 64, 67, 0.15);\n",
              "      fill: #174EA6;\n",
              "    }\n",
              "\n",
              "    .colab-df-buttons div {\n",
              "      margin-bottom: 4px;\n",
              "    }\n",
              "\n",
              "    [theme=dark] .colab-df-convert {\n",
              "      background-color: #3B4455;\n",
              "      fill: #D2E3FC;\n",
              "    }\n",
              "\n",
              "    [theme=dark] .colab-df-convert:hover {\n",
              "      background-color: #434B5C;\n",
              "      box-shadow: 0px 1px 3px 1px rgba(0, 0, 0, 0.15);\n",
              "      filter: drop-shadow(0px 1px 2px rgba(0, 0, 0, 0.3));\n",
              "      fill: #FFFFFF;\n",
              "    }\n",
              "  </style>\n",
              "\n",
              "    <script>\n",
              "      const buttonEl =\n",
              "        document.querySelector('#df-393a1531-d2f9-4a1d-bdc1-2760d85fdcad button.colab-df-convert');\n",
              "      buttonEl.style.display =\n",
              "        google.colab.kernel.accessAllowed ? 'block' : 'none';\n",
              "\n",
              "      async function convertToInteractive(key) {\n",
              "        const element = document.querySelector('#df-393a1531-d2f9-4a1d-bdc1-2760d85fdcad');\n",
              "        const dataTable =\n",
              "          await google.colab.kernel.invokeFunction('convertToInteractive',\n",
              "                                                    [key], {});\n",
              "        if (!dataTable) return;\n",
              "\n",
              "        const docLinkHtml = 'Like what you see? Visit the ' +\n",
              "          '<a target=\"_blank\" href=https://colab.research.google.com/notebooks/data_table.ipynb>data table notebook</a>'\n",
              "          + ' to learn more about interactive tables.';\n",
              "        element.innerHTML = '';\n",
              "        dataTable['output_type'] = 'display_data';\n",
              "        await google.colab.output.renderOutput(dataTable, element);\n",
              "        const docLink = document.createElement('div');\n",
              "        docLink.innerHTML = docLinkHtml;\n",
              "        element.appendChild(docLink);\n",
              "      }\n",
              "    </script>\n",
              "  </div>\n",
              "\n",
              "\n",
              "<div id=\"df-fde0d3a4-e39e-40b3-8968-0465ca234ecd\">\n",
              "  <button class=\"colab-df-quickchart\" onclick=\"quickchart('df-fde0d3a4-e39e-40b3-8968-0465ca234ecd')\"\n",
              "            title=\"Suggest charts\"\n",
              "            style=\"display:none;\">\n",
              "\n",
              "<svg xmlns=\"http://www.w3.org/2000/svg\" height=\"24px\"viewBox=\"0 0 24 24\"\n",
              "     width=\"24px\">\n",
              "    <g>\n",
              "        <path d=\"M19 3H5c-1.1 0-2 .9-2 2v14c0 1.1.9 2 2 2h14c1.1 0 2-.9 2-2V5c0-1.1-.9-2-2-2zM9 17H7v-7h2v7zm4 0h-2V7h2v10zm4 0h-2v-4h2v4z\"/>\n",
              "    </g>\n",
              "</svg>\n",
              "  </button>\n",
              "\n",
              "<style>\n",
              "  .colab-df-quickchart {\n",
              "      --bg-color: #E8F0FE;\n",
              "      --fill-color: #1967D2;\n",
              "      --hover-bg-color: #E2EBFA;\n",
              "      --hover-fill-color: #174EA6;\n",
              "      --disabled-fill-color: #AAA;\n",
              "      --disabled-bg-color: #DDD;\n",
              "  }\n",
              "\n",
              "  [theme=dark] .colab-df-quickchart {\n",
              "      --bg-color: #3B4455;\n",
              "      --fill-color: #D2E3FC;\n",
              "      --hover-bg-color: #434B5C;\n",
              "      --hover-fill-color: #FFFFFF;\n",
              "      --disabled-bg-color: #3B4455;\n",
              "      --disabled-fill-color: #666;\n",
              "  }\n",
              "\n",
              "  .colab-df-quickchart {\n",
              "    background-color: var(--bg-color);\n",
              "    border: none;\n",
              "    border-radius: 50%;\n",
              "    cursor: pointer;\n",
              "    display: none;\n",
              "    fill: var(--fill-color);\n",
              "    height: 32px;\n",
              "    padding: 0;\n",
              "    width: 32px;\n",
              "  }\n",
              "\n",
              "  .colab-df-quickchart:hover {\n",
              "    background-color: var(--hover-bg-color);\n",
              "    box-shadow: 0 1px 2px rgba(60, 64, 67, 0.3), 0 1px 3px 1px rgba(60, 64, 67, 0.15);\n",
              "    fill: var(--button-hover-fill-color);\n",
              "  }\n",
              "\n",
              "  .colab-df-quickchart-complete:disabled,\n",
              "  .colab-df-quickchart-complete:disabled:hover {\n",
              "    background-color: var(--disabled-bg-color);\n",
              "    fill: var(--disabled-fill-color);\n",
              "    box-shadow: none;\n",
              "  }\n",
              "\n",
              "  .colab-df-spinner {\n",
              "    border: 2px solid var(--fill-color);\n",
              "    border-color: transparent;\n",
              "    border-bottom-color: var(--fill-color);\n",
              "    animation:\n",
              "      spin 1s steps(1) infinite;\n",
              "  }\n",
              "\n",
              "  @keyframes spin {\n",
              "    0% {\n",
              "      border-color: transparent;\n",
              "      border-bottom-color: var(--fill-color);\n",
              "      border-left-color: var(--fill-color);\n",
              "    }\n",
              "    20% {\n",
              "      border-color: transparent;\n",
              "      border-left-color: var(--fill-color);\n",
              "      border-top-color: var(--fill-color);\n",
              "    }\n",
              "    30% {\n",
              "      border-color: transparent;\n",
              "      border-left-color: var(--fill-color);\n",
              "      border-top-color: var(--fill-color);\n",
              "      border-right-color: var(--fill-color);\n",
              "    }\n",
              "    40% {\n",
              "      border-color: transparent;\n",
              "      border-right-color: var(--fill-color);\n",
              "      border-top-color: var(--fill-color);\n",
              "    }\n",
              "    60% {\n",
              "      border-color: transparent;\n",
              "      border-right-color: var(--fill-color);\n",
              "    }\n",
              "    80% {\n",
              "      border-color: transparent;\n",
              "      border-right-color: var(--fill-color);\n",
              "      border-bottom-color: var(--fill-color);\n",
              "    }\n",
              "    90% {\n",
              "      border-color: transparent;\n",
              "      border-bottom-color: var(--fill-color);\n",
              "    }\n",
              "  }\n",
              "</style>\n",
              "\n",
              "  <script>\n",
              "    async function quickchart(key) {\n",
              "      const quickchartButtonEl =\n",
              "        document.querySelector('#' + key + ' button');\n",
              "      quickchartButtonEl.disabled = true;  // To prevent multiple clicks.\n",
              "      quickchartButtonEl.classList.add('colab-df-spinner');\n",
              "      try {\n",
              "        const charts = await google.colab.kernel.invokeFunction(\n",
              "            'suggestCharts', [key], {});\n",
              "      } catch (error) {\n",
              "        console.error('Error during call to suggestCharts:', error);\n",
              "      }\n",
              "      quickchartButtonEl.classList.remove('colab-df-spinner');\n",
              "      quickchartButtonEl.classList.add('colab-df-quickchart-complete');\n",
              "    }\n",
              "    (() => {\n",
              "      let quickchartButtonEl =\n",
              "        document.querySelector('#df-fde0d3a4-e39e-40b3-8968-0465ca234ecd button');\n",
              "      quickchartButtonEl.style.display =\n",
              "        google.colab.kernel.accessAllowed ? 'block' : 'none';\n",
              "    })();\n",
              "  </script>\n",
              "</div>\n",
              "\n",
              "    </div>\n",
              "  </div>\n"
            ],
            "application/vnd.google.colaboratory.intrinsic+json": {
              "type": "dataframe",
              "variable_name": "headlines",
              "summary": "{\n  \"name\": \"headlines\",\n  \"rows\": 100,\n  \"fields\": [\n    {\n      \"column\": \"title\",\n      \"properties\": {\n        \"dtype\": \"string\",\n        \"num_unique_values\": 100,\n        \"samples\": [\n          \"Celebrity Deathmatch: Darkmoon Sages Make Their Final Predictions on US Election\",\n          \"Tree Shaped Vertical Farms That Grow 24 Acres Of Urban Crops\",\n          \"Handicapping the Hispanic vote for 2016 GOPers\"\n        ],\n        \"semantic_type\": \"\",\n        \"description\": \"\"\n      }\n    },\n    {\n      \"column\": \"label\",\n      \"properties\": {\n        \"dtype\": \"category\",\n        \"num_unique_values\": 2,\n        \"samples\": [\n          \"REAL\",\n          \"FAKE\"\n        ],\n        \"semantic_type\": \"\",\n        \"description\": \"\"\n      }\n    }\n  ]\n}"
            }
          },
          "metadata": {},
          "execution_count": 28
        }
      ]
    },
    {
      "cell_type": "code",
      "source": [
        "headlines['num_propn'] = headlines['title'].apply(proper_nouns)\n",
        "\n",
        "# Compute mean of proper nouns\n",
        "real_propn = headlines[headlines['label'] == 'REAL']['num_propn'].mean()\n",
        "fake_propn = headlines[headlines['label'] == 'FAKE']['num_propn'].mean()\n",
        "\n",
        "# Print results\n",
        "print(\"Mean no. of proper nouns in real and fake headlines are %.2f and %.2f respectively\"%(real_propn, fake_propn))"
      ],
      "metadata": {
        "colab": {
          "base_uri": "https://localhost:8080/"
        },
        "id": "c_GA2anYuQBW",
        "outputId": "65eaa02d-999d-4974-873d-f765485a30a4"
      },
      "execution_count": 29,
      "outputs": [
        {
          "output_type": "stream",
          "name": "stdout",
          "text": [
            "Mean no. of proper nouns in real and fake headlines are 2.47 and 4.86 respectively\n"
          ]
        }
      ]
    },
    {
      "cell_type": "code",
      "source": [
        "headlines['num_noun'] = headlines['title'].apply(nouns)\n",
        "\n",
        "# Compute mean of other nouns\n",
        "real_noun = headlines[headlines['label'] == 'REAL']['num_noun'].mean()\n",
        "fake_noun = headlines[headlines['label'] == 'FAKE']['num_noun'].mean()\n",
        "\n",
        "# Print results\n",
        "print(\"Mean no. of other nouns in real and fake headlines are %.2f and %.2f respectively\"%(real_noun, fake_noun), '\\n')\n",
        "\n",
        "\"Excellent work! You now know to construct features using POS tags information. \\\n",
        "Notice how the mean number of proper nouns is considerably higher for fake news \\\n",
        "than it is for real news. The opposite seems to be true in the case of other nouns. \\\n",
        "This fact can be put to great use in designing fake news detectors.\""
      ],
      "metadata": {
        "colab": {
          "base_uri": "https://localhost:8080/",
          "height": 108
        },
        "id": "UfLY5dePvIHH",
        "outputId": "37b976ae-383c-4c89-8799-5b242ef97af6"
      },
      "execution_count": 30,
      "outputs": [
        {
          "output_type": "stream",
          "name": "stdout",
          "text": [
            "Mean no. of other nouns in real and fake headlines are 2.25 and 1.53 respectively \n",
            "\n"
          ]
        },
        {
          "output_type": "execute_result",
          "data": {
            "text/plain": [
              "'Excellent work! You now know to construct features using POS tags information. Notice how the mean number of proper nouns is considerably higher for fake news than it is for real news. The opposite seems to be true in the case of other nouns. This fact can be put to great use in designing fake news detectors.'"
            ],
            "application/vnd.google.colaboratory.intrinsic+json": {
              "type": "string"
            }
          },
          "metadata": {},
          "execution_count": 30
        }
      ]
    },
    {
      "cell_type": "markdown",
      "source": [
        "**Named entities in a sentence**\n",
        "\n",
        "In this exercise, we will identify and classify the labels of various named entities in a body of text using one of spaCy's statistical models. We will also verify the veracity of these labels."
      ],
      "metadata": {
        "id": "t3LQXeD7wYNb"
      }
    },
    {
      "cell_type": "code",
      "source": [
        "# Load the required model\n",
        "nlp = spacy.load('en_core_web_sm')\n",
        "\n",
        "# Create a Doc instance\n",
        "text = 'Jim Simmons is the CEO of RenTech. Its headquarters is in East Setauket, New York.'\n",
        "doc = nlp(text)\n",
        "\n",
        "# Print all named entities and their labels\n",
        "for ent in doc.ents:\n",
        "    print(ent.text, ent.label_)\n",
        "\n",
        "\"Good job! Notice how the model correctly predicted the labels of Google and Mountain View but mislabeled Sundar Pichai as an organization. As discussed in the video, the predictions of the model depend strongly on the data it is trained on. It is possible to train spaCy models on your custom data. You will learn to do this in more advanced NLP courses.\""
      ],
      "metadata": {
        "colab": {
          "base_uri": "https://localhost:8080/",
          "height": 152
        },
        "id": "eK6N6cNDwjNm",
        "outputId": "ef857fa1-7af7-4fb9-897d-462c7120ca7f"
      },
      "execution_count": 31,
      "outputs": [
        {
          "output_type": "stream",
          "name": "stdout",
          "text": [
            "Jim Simmons PERSON\n",
            "RenTech ORG\n",
            "East Setauket GPE\n",
            "New York GPE\n"
          ]
        },
        {
          "output_type": "execute_result",
          "data": {
            "text/plain": [
              "'Good job! Notice how the model correctly predicted the labels of Google and Mountain View but mislabeled Sundar Pichai as an organization. As discussed in the video, the predictions of the model depend strongly on the data it is trained on. It is possible to train spaCy models on your custom data. You will learn to do this in more advanced NLP courses.'"
            ],
            "application/vnd.google.colaboratory.intrinsic+json": {
              "type": "string"
            }
          },
          "metadata": {},
          "execution_count": 31
        }
      ]
    },
    {
      "cell_type": "markdown",
      "source": [
        "**Identifying people mentioned in a news article**\n",
        "\n",
        "In this exercise, you have been given a **made-upe** excerpt from a news article published in TechCrunch. Your task is to write a function find_people that identifies the names of people that have been mentioned in a particular piece of text. You will then use find_people to identify the people of interest in the article.\n",
        "\n",
        "The article is available as the string tc and has been printed to the console. The required spacy model has also been already loaded as nlp."
      ],
      "metadata": {
        "id": "diZaO1Wnyk1c"
      }
    },
    {
      "cell_type": "code",
      "source": [
        "tc = \"It’s' been a busy day for Facebook  exec op-eds. Earlier this morning, Sheryl Sandberg broke the site’s silence around the Christchurch massacre, and now Mark Zuckerberg is calling on governments and other bodies to increase regulation around the sorts of data Facebook traffics in. He’s hoping to get out in front of heavy-handed regulation and get a seat at the table shaping it. Elsewhere, Jim Simmon's and Prof Guido's RenTech reported a huge excess returns\"\n",
        "\n"
      ],
      "metadata": {
        "id": "QxiZuCN7y80T"
      },
      "execution_count": 32,
      "outputs": []
    },
    {
      "cell_type": "code",
      "source": [
        "def find_persons(text):\n",
        "  # Create Doc object\n",
        "  doc = nlp(text)\n",
        "\n",
        "  # Identify the persons\n",
        "  persons = [ent.text for ent in doc.ents if ent.label_ == 'PERSON']\n",
        "\n",
        "  # Return persons\n",
        "  return persons\n",
        "\n",
        "print(find_persons(tc), '\\n')\n",
        "\n",
        "\"Excellent work! The article was related to Facebook and our function correctly \\\n",
        "identified both the people mentioned. You can now see how NER could be used in a \\\n",
        "variety of applications. Publishers may use a technique like this to classify news \\\n",
        "articles by the people mentioned in them. A question answering system could also use \\\n",
        "something like this to answer questions such as 'Who are the people mentioned in this passage?'. \\\n",
        "With this, we come to an end of this chapter. In the next, we will learn how to conduct vectorization on documents.\""
      ],
      "metadata": {
        "colab": {
          "base_uri": "https://localhost:8080/",
          "height": 130
        },
        "id": "2f68y_nnykLd",
        "outputId": "bf649536-467e-45dc-ef12-fbcffbad5b7d"
      },
      "execution_count": 33,
      "outputs": [
        {
          "output_type": "stream",
          "name": "stdout",
          "text": [
            "['Sheryl Sandberg', 'Mark Zuckerberg', \"Jim Simmon's\", \"Prof Guido's\"] \n",
            "\n"
          ]
        },
        {
          "output_type": "execute_result",
          "data": {
            "text/plain": [
              "\"Excellent work! The article was related to Facebook and our function correctly identified both the people mentioned. You can now see how NER could be used in a variety of applications. Publishers may use a technique like this to classify news articles by the people mentioned in them. A question answering system could also use something like this to answer questions such as 'Who are the people mentioned in this passage?'. With this, we come to an end of this chapter. In the next, we will learn how to conduct vectorization on documents.\""
            ],
            "application/vnd.google.colaboratory.intrinsic+json": {
              "type": "string"
            }
          },
          "metadata": {},
          "execution_count": 33
        }
      ]
    },
    {
      "cell_type": "markdown",
      "source": [
        "# **3. N-Gram Models**\n",
        "\n",
        "Learn about n-gram modeling and use it to perform sentiment analysis on movie reviews.\n"
      ],
      "metadata": {
        "id": "rNKNyGGrbnHq"
      }
    },
    {
      "cell_type": "markdown",
      "source": [
        "**Word vectors with a given vocabulary**\n",
        "\n",
        "You have been given a corpus of documents and you have computed the vocabulary of the corpus to be the following: V: a, an, and, but, can, come, evening, forever, go, i, men, may, on, the, women\n",
        "\n",
        "Which of the following corresponds to the bag of words vector for the document \"men may come and men may go but i go on forever\"?\n",
        "\n",
        "$$(0, 0, 1, 1, 0, 1, 0, 1, 2, 1, 2, 2, 1, 0, 0)- A$$\n",
        "$$(2, 1, 0, 0, 2, 1, 0, 0, 0, 1)- B$$\n",
        "$$(0, 1, 0, 1, 1, 1, 2, 0, 2, 1, 0, 0, 0, 2, 0)- C$$\n",
        "\n",
        "Correct - A.\n",
        "- Good job! That is, indeed, the correct answer. Each value in the vector corresponds to the frequency of the corresponding word in the vocabulary.\n",
        "\n",
        "\n"
      ],
      "metadata": {
        "id": "k-QdzgBQcUcx"
      }
    },
    {
      "cell_type": "markdown",
      "source": [
        "**BoW model for movie taglines**\n",
        "\n",
        "In this exercise, you have been provided with a corpus of more than 7000 movie tag lines. Your job is to generate the bag of words representation bow_matrix for these taglines. For this exercise, we will ignore the text preprocessing step and generate bow_matrix directly.\n",
        "\n",
        "We will also investigate the shape of the resultant bow_matrix. The first five taglines in corpus have been printed to the console for you to examine."
      ],
      "metadata": {
        "id": "L33VwPSxfxgb"
      }
    },
    {
      "cell_type": "code",
      "source": [
        "# View head of movie\n",
        "movie_reviews_clean.head()"
      ],
      "metadata": {
        "colab": {
          "base_uri": "https://localhost:8080/",
          "height": 260
        },
        "id": "MMamg2zafw3y",
        "outputId": "4c7a229b-d723-4e8f-f8a7-c617ec9980ad"
      },
      "execution_count": 34,
      "outputs": [
        {
          "output_type": "execute_result",
          "data": {
            "text/plain": [
              "                                              review  sentiment\n",
              "0  this anime series starts out great interesting...          0\n",
              "1  some may go for a film like this but i most as...          0\n",
              "2  i ve seen this piece of perfection during the ...          1\n",
              "3  this movie is likely the worst movie i ve ever...          0\n",
              "4  it ll soon be 10 yrs since this movie was rele...          1"
            ],
            "text/html": [
              "\n",
              "  <div id=\"df-929b6ed8-3f6e-41d0-baea-2b6c3c860a23\" class=\"colab-df-container\">\n",
              "    <div>\n",
              "<style scoped>\n",
              "    .dataframe tbody tr th:only-of-type {\n",
              "        vertical-align: middle;\n",
              "    }\n",
              "\n",
              "    .dataframe tbody tr th {\n",
              "        vertical-align: top;\n",
              "    }\n",
              "\n",
              "    .dataframe thead th {\n",
              "        text-align: right;\n",
              "    }\n",
              "</style>\n",
              "<table border=\"1\" class=\"dataframe\">\n",
              "  <thead>\n",
              "    <tr style=\"text-align: right;\">\n",
              "      <th></th>\n",
              "      <th>review</th>\n",
              "      <th>sentiment</th>\n",
              "    </tr>\n",
              "  </thead>\n",
              "  <tbody>\n",
              "    <tr>\n",
              "      <th>0</th>\n",
              "      <td>this anime series starts out great interesting...</td>\n",
              "      <td>0</td>\n",
              "    </tr>\n",
              "    <tr>\n",
              "      <th>1</th>\n",
              "      <td>some may go for a film like this but i most as...</td>\n",
              "      <td>0</td>\n",
              "    </tr>\n",
              "    <tr>\n",
              "      <th>2</th>\n",
              "      <td>i ve seen this piece of perfection during the ...</td>\n",
              "      <td>1</td>\n",
              "    </tr>\n",
              "    <tr>\n",
              "      <th>3</th>\n",
              "      <td>this movie is likely the worst movie i ve ever...</td>\n",
              "      <td>0</td>\n",
              "    </tr>\n",
              "    <tr>\n",
              "      <th>4</th>\n",
              "      <td>it ll soon be 10 yrs since this movie was rele...</td>\n",
              "      <td>1</td>\n",
              "    </tr>\n",
              "  </tbody>\n",
              "</table>\n",
              "</div>\n",
              "    <div class=\"colab-df-buttons\">\n",
              "\n",
              "  <div class=\"colab-df-container\">\n",
              "    <button class=\"colab-df-convert\" onclick=\"convertToInteractive('df-929b6ed8-3f6e-41d0-baea-2b6c3c860a23')\"\n",
              "            title=\"Convert this dataframe to an interactive table.\"\n",
              "            style=\"display:none;\">\n",
              "\n",
              "  <svg xmlns=\"http://www.w3.org/2000/svg\" height=\"24px\" viewBox=\"0 -960 960 960\">\n",
              "    <path d=\"M120-120v-720h720v720H120Zm60-500h600v-160H180v160Zm220 220h160v-160H400v160Zm0 220h160v-160H400v160ZM180-400h160v-160H180v160Zm440 0h160v-160H620v160ZM180-180h160v-160H180v160Zm440 0h160v-160H620v160Z\"/>\n",
              "  </svg>\n",
              "    </button>\n",
              "\n",
              "  <style>\n",
              "    .colab-df-container {\n",
              "      display:flex;\n",
              "      gap: 12px;\n",
              "    }\n",
              "\n",
              "    .colab-df-convert {\n",
              "      background-color: #E8F0FE;\n",
              "      border: none;\n",
              "      border-radius: 50%;\n",
              "      cursor: pointer;\n",
              "      display: none;\n",
              "      fill: #1967D2;\n",
              "      height: 32px;\n",
              "      padding: 0 0 0 0;\n",
              "      width: 32px;\n",
              "    }\n",
              "\n",
              "    .colab-df-convert:hover {\n",
              "      background-color: #E2EBFA;\n",
              "      box-shadow: 0px 1px 2px rgba(60, 64, 67, 0.3), 0px 1px 3px 1px rgba(60, 64, 67, 0.15);\n",
              "      fill: #174EA6;\n",
              "    }\n",
              "\n",
              "    .colab-df-buttons div {\n",
              "      margin-bottom: 4px;\n",
              "    }\n",
              "\n",
              "    [theme=dark] .colab-df-convert {\n",
              "      background-color: #3B4455;\n",
              "      fill: #D2E3FC;\n",
              "    }\n",
              "\n",
              "    [theme=dark] .colab-df-convert:hover {\n",
              "      background-color: #434B5C;\n",
              "      box-shadow: 0px 1px 3px 1px rgba(0, 0, 0, 0.15);\n",
              "      filter: drop-shadow(0px 1px 2px rgba(0, 0, 0, 0.3));\n",
              "      fill: #FFFFFF;\n",
              "    }\n",
              "  </style>\n",
              "\n",
              "    <script>\n",
              "      const buttonEl =\n",
              "        document.querySelector('#df-929b6ed8-3f6e-41d0-baea-2b6c3c860a23 button.colab-df-convert');\n",
              "      buttonEl.style.display =\n",
              "        google.colab.kernel.accessAllowed ? 'block' : 'none';\n",
              "\n",
              "      async function convertToInteractive(key) {\n",
              "        const element = document.querySelector('#df-929b6ed8-3f6e-41d0-baea-2b6c3c860a23');\n",
              "        const dataTable =\n",
              "          await google.colab.kernel.invokeFunction('convertToInteractive',\n",
              "                                                    [key], {});\n",
              "        if (!dataTable) return;\n",
              "\n",
              "        const docLinkHtml = 'Like what you see? Visit the ' +\n",
              "          '<a target=\"_blank\" href=https://colab.research.google.com/notebooks/data_table.ipynb>data table notebook</a>'\n",
              "          + ' to learn more about interactive tables.';\n",
              "        element.innerHTML = '';\n",
              "        dataTable['output_type'] = 'display_data';\n",
              "        await google.colab.output.renderOutput(dataTable, element);\n",
              "        const docLink = document.createElement('div');\n",
              "        docLink.innerHTML = docLinkHtml;\n",
              "        element.appendChild(docLink);\n",
              "      }\n",
              "    </script>\n",
              "  </div>\n",
              "\n",
              "\n",
              "<div id=\"df-6b8f2032-d367-4c1e-bb69-cbdec602c69d\">\n",
              "  <button class=\"colab-df-quickchart\" onclick=\"quickchart('df-6b8f2032-d367-4c1e-bb69-cbdec602c69d')\"\n",
              "            title=\"Suggest charts\"\n",
              "            style=\"display:none;\">\n",
              "\n",
              "<svg xmlns=\"http://www.w3.org/2000/svg\" height=\"24px\"viewBox=\"0 0 24 24\"\n",
              "     width=\"24px\">\n",
              "    <g>\n",
              "        <path d=\"M19 3H5c-1.1 0-2 .9-2 2v14c0 1.1.9 2 2 2h14c1.1 0 2-.9 2-2V5c0-1.1-.9-2-2-2zM9 17H7v-7h2v7zm4 0h-2V7h2v10zm4 0h-2v-4h2v4z\"/>\n",
              "    </g>\n",
              "</svg>\n",
              "  </button>\n",
              "\n",
              "<style>\n",
              "  .colab-df-quickchart {\n",
              "      --bg-color: #E8F0FE;\n",
              "      --fill-color: #1967D2;\n",
              "      --hover-bg-color: #E2EBFA;\n",
              "      --hover-fill-color: #174EA6;\n",
              "      --disabled-fill-color: #AAA;\n",
              "      --disabled-bg-color: #DDD;\n",
              "  }\n",
              "\n",
              "  [theme=dark] .colab-df-quickchart {\n",
              "      --bg-color: #3B4455;\n",
              "      --fill-color: #D2E3FC;\n",
              "      --hover-bg-color: #434B5C;\n",
              "      --hover-fill-color: #FFFFFF;\n",
              "      --disabled-bg-color: #3B4455;\n",
              "      --disabled-fill-color: #666;\n",
              "  }\n",
              "\n",
              "  .colab-df-quickchart {\n",
              "    background-color: var(--bg-color);\n",
              "    border: none;\n",
              "    border-radius: 50%;\n",
              "    cursor: pointer;\n",
              "    display: none;\n",
              "    fill: var(--fill-color);\n",
              "    height: 32px;\n",
              "    padding: 0;\n",
              "    width: 32px;\n",
              "  }\n",
              "\n",
              "  .colab-df-quickchart:hover {\n",
              "    background-color: var(--hover-bg-color);\n",
              "    box-shadow: 0 1px 2px rgba(60, 64, 67, 0.3), 0 1px 3px 1px rgba(60, 64, 67, 0.15);\n",
              "    fill: var(--button-hover-fill-color);\n",
              "  }\n",
              "\n",
              "  .colab-df-quickchart-complete:disabled,\n",
              "  .colab-df-quickchart-complete:disabled:hover {\n",
              "    background-color: var(--disabled-bg-color);\n",
              "    fill: var(--disabled-fill-color);\n",
              "    box-shadow: none;\n",
              "  }\n",
              "\n",
              "  .colab-df-spinner {\n",
              "    border: 2px solid var(--fill-color);\n",
              "    border-color: transparent;\n",
              "    border-bottom-color: var(--fill-color);\n",
              "    animation:\n",
              "      spin 1s steps(1) infinite;\n",
              "  }\n",
              "\n",
              "  @keyframes spin {\n",
              "    0% {\n",
              "      border-color: transparent;\n",
              "      border-bottom-color: var(--fill-color);\n",
              "      border-left-color: var(--fill-color);\n",
              "    }\n",
              "    20% {\n",
              "      border-color: transparent;\n",
              "      border-left-color: var(--fill-color);\n",
              "      border-top-color: var(--fill-color);\n",
              "    }\n",
              "    30% {\n",
              "      border-color: transparent;\n",
              "      border-left-color: var(--fill-color);\n",
              "      border-top-color: var(--fill-color);\n",
              "      border-right-color: var(--fill-color);\n",
              "    }\n",
              "    40% {\n",
              "      border-color: transparent;\n",
              "      border-right-color: var(--fill-color);\n",
              "      border-top-color: var(--fill-color);\n",
              "    }\n",
              "    60% {\n",
              "      border-color: transparent;\n",
              "      border-right-color: var(--fill-color);\n",
              "    }\n",
              "    80% {\n",
              "      border-color: transparent;\n",
              "      border-right-color: var(--fill-color);\n",
              "      border-bottom-color: var(--fill-color);\n",
              "    }\n",
              "    90% {\n",
              "      border-color: transparent;\n",
              "      border-bottom-color: var(--fill-color);\n",
              "    }\n",
              "  }\n",
              "</style>\n",
              "\n",
              "  <script>\n",
              "    async function quickchart(key) {\n",
              "      const quickchartButtonEl =\n",
              "        document.querySelector('#' + key + ' button');\n",
              "      quickchartButtonEl.disabled = true;  // To prevent multiple clicks.\n",
              "      quickchartButtonEl.classList.add('colab-df-spinner');\n",
              "      try {\n",
              "        const charts = await google.colab.kernel.invokeFunction(\n",
              "            'suggestCharts', [key], {});\n",
              "      } catch (error) {\n",
              "        console.error('Error during call to suggestCharts:', error);\n",
              "      }\n",
              "      quickchartButtonEl.classList.remove('colab-df-spinner');\n",
              "      quickchartButtonEl.classList.add('colab-df-quickchart-complete');\n",
              "    }\n",
              "    (() => {\n",
              "      let quickchartButtonEl =\n",
              "        document.querySelector('#df-6b8f2032-d367-4c1e-bb69-cbdec602c69d button');\n",
              "      quickchartButtonEl.style.display =\n",
              "        google.colab.kernel.accessAllowed ? 'block' : 'none';\n",
              "    })();\n",
              "  </script>\n",
              "</div>\n",
              "\n",
              "    </div>\n",
              "  </div>\n"
            ],
            "application/vnd.google.colaboratory.intrinsic+json": {
              "type": "dataframe",
              "variable_name": "movie_reviews_clean",
              "summary": "{\n  \"name\": \"movie_reviews_clean\",\n  \"rows\": 1000,\n  \"fields\": [\n    {\n      \"column\": \"review\",\n      \"properties\": {\n        \"dtype\": \"string\",\n        \"num_unique_values\": 1000,\n        \"samples\": [\n          \" lies tells about an affair between an 18 year old bucktoothed female student and a scrawny 38 year old married man with the pair of protags spending about half the screen time engaged in naked sex and hokey whipping and the other half meandering through the pathetically naive storyline which seems little more than an excuse for the sex scenes with very poor production value including obvious sanitary appliances and phony softcore sex to a story which is a messy mix of comedy and drama lies quickly becomes redundant ad nauseam with an almost 2 hour run subtitles and so little substance lies is simply not recommendable c \",\n          \"chris penn is hilarious as the all time stoner brother of jeff spicoli this movie is great because it was a lot more real and funnier than fast times at ridgemont high casting was perfect and one of my favorite soundtracks of almost all eddie van halen which went on to become songs on ou812 and unlawful carnal knowledge this movie is one of the great stoner film heroes with cheech and chong fast times was more depressing than funny abortions friends cheating on friends jerking off in bathrooms bad jobs and failing school someone must hate the eighties to like ridgemont more than the wild life the film even had great cameos like the maker of city limits michelle schocked in the liquor store or ben stein in his first role in the sunny s surplus store \",\n          \"made after quartet was trio continued the quality of the earlier film versions of the short stories by maugham here the three stories are the verger mr know it all and sanitorium the first two are comic the verger is like a prolonged joke but one with a good pay off and the last more serious as health issues are involved again the author introduces the film and the stories james hayter soon to have his signature role as samuel pickwick is the hero in the verger he holds this small custodial type job in a church but the new vicar michael hordern is an intellectual snob when he hears hayter has no schooling he fires him hayter has saved some money so he tells his wife kathleen harrison he fancies buying a small news and tobacco shop he has a good eye and his store thrives soon he has a whole chain of stores when his grandchild is christened by hordern the latter is amazed to see how prosperous his ex verger the payoff is when bank manager felix aylmer meets with hayter about diversifying his investments i ll leave it to you to hear the unintentional but ironic coda of the meeting according to maugham he met a man like max kelada nigel patrick on a cruise in mr know it all kelada is a splashy friendly and slightly overbearing type from the middle east who is on a business trip regarding jewelry by steamship his state room mate is mr grey the ever quiet and proper wilfred hyde white who is somewhat silently disapproving of max max likes to enliven things and soon is heavily involved in the ship s entertainment at this point the story actually resembles part of the plot of the non maugham story and film china seas 1935 as max makes a bet that he can tell a real piece of jewelry from a fake after insisting that a piece of jewelry he spotted is real i won t describe the way max rises to the occasion sanitorium is the longest segment roland culver plays ashenden the fictional alter ego of maugham a writer and one time spy as in hitchcock s the secret agent here he has to use a sanitorium for a couple of months for his health he finds a remarkable crew of people including jean simmons as a frail but beautiful young woman finlay currie as an irascible scotsman john laurie as a second irascible scotsman who is at war with currie raymond huntley as a quiet patient who only shows his internal anger at his situation when his wife shows up and michael rennie as a young man who has a serious life threatening illness culver watches as three stories among these characters play out to their conclusions the last dealing with simmons and rennie is ironic but deeply moving it was a dandy follow up to the earlier quartet and well worth watching \"\n        ],\n        \"semantic_type\": \"\",\n        \"description\": \"\"\n      }\n    },\n    {\n      \"column\": \"sentiment\",\n      \"properties\": {\n        \"dtype\": \"number\",\n        \"std\": 0,\n        \"min\": 0,\n        \"max\": 1,\n        \"num_unique_values\": 2,\n        \"samples\": [\n          1,\n          0\n        ],\n        \"semantic_type\": \"\",\n        \"description\": \"\"\n      }\n    }\n  ]\n}"
            }
          },
          "metadata": {},
          "execution_count": 34
        }
      ]
    },
    {
      "cell_type": "code",
      "source": [
        "corpus = movie_reviews_clean['review'].values\n",
        "print('Firsts 3 docs', '\\n', corpus[:3], '\\n')\n",
        "\n",
        "# print shape\n",
        "print('Corpus Shape', corpus.shape, '\\n')\n",
        "\n",
        "# Import CountVectorizer\n",
        "from sklearn.feature_extraction.text import CountVectorizer\n",
        "\n",
        "# Create CountVectorizer object\n",
        "vectorizer = CountVectorizer()\n",
        "\n",
        "# Generate matrix of word vectors\n",
        "bow_matrix = vectorizer.fit_transform(corpus)\n",
        "\n",
        "# Print the shape of bow_matrix\n",
        "#import numpy as np\n",
        "#print(np.transpose(bow_matrix[:1]))\n",
        "print(bow_matrix.shape)\n",
        "\n",
        "\"Excellent! You now know how to generate a bag of words representation for a given \\\n",
        "corpus of documents. Notice that the word vectors created have more than 6600 dimensions. \\\n",
        "However, most of these dimensions have a value of zero since most words do not occur in a particular tagline.\""
      ],
      "metadata": {
        "colab": {
          "base_uri": "https://localhost:8080/",
          "height": 260
        },
        "id": "1WNmz_ifgT7L",
        "outputId": "25ad51d0-106f-4adb-db52-f6e7573a124d"
      },
      "execution_count": 35,
      "outputs": [
        {
          "output_type": "stream",
          "name": "stdout",
          "text": [
            "Firsts 3 docs \n",
            " ['this anime series starts out great interesting story exciting events interesting characters beautifully rendered and executed not everything is explained right away dangling a proverbial carrot before the viewer enticing the viewer to watch each succeeding episode but imagine the disappointment to find that the sci fi thriller giant robot adventure is only a backdrop for psycho babble and quasi religious preachy exploitation if you want to hear you re ok it s good to be you after being embattled with negative slogans and the characters negative emotions then this is for you if you want a good sci fi flick that is simply fun to watch forget this one both the original and the alternate endings were grossly disappointing to me all that and this movie was too preachy '\n",
            " 'some may go for a film like this but i most assuredly did not a college professor david norwell suddenly gets a yen for adoption he pretty much takes the first child offered a bad choice named adam as it turns out adam doesn t have both oars in the water which almost immediately causes untold stress and turmoil for dr norwell this sob story drolly played out with one problem after another all centered around adam s inabilities and seizures why norwell wanted to complicate his life with an unknown factor like an adoptive child was never explained along the way the good doctor managed to attract a wifey to share in all the hell the little one was dishing out personally i think both of them were one beer short of a sixpack bypass this yawner '\n",
            " 'i ve seen this piece of perfection during the fantasy filmfest in berlin and when i went out of the cinema i felt like being drugged down i ve seen a lot of films but there are just a few that i d call perfect like koyaanisqatsi or fight club subconscious cruelty is definitely one of them half of the people went out of the screening in berlin and i can understand them absolutely this is not a movie for normal people with dreams and illusions a person that is living in his her dreams day by day not wanting to see all the horror in our life and on our planet will be very shocked by this film if someone reads this now who has seen s c and also thinks it s great just contact me so far i haven t met anyone who shares my opinion it d be cool this film earns 10 points out of 10 finally i m really sorry for my bad english i m not a studied person und das ist auch gut so g :)'] \n",
            "\n",
            "Corpus Shape (1000,) \n",
            "\n",
            "(1000, 17782)\n"
          ]
        },
        {
          "output_type": "execute_result",
          "data": {
            "text/plain": [
              "'Excellent! You now know how to generate a bag of words representation for a given corpus of documents. Notice that the word vectors created have more than 6600 dimensions. However, most of these dimensions have a value of zero since most words do not occur in a particular tagline.'"
            ],
            "application/vnd.google.colaboratory.intrinsic+json": {
              "type": "string"
            }
          },
          "metadata": {},
          "execution_count": 35
        }
      ]
    },
    {
      "cell_type": "markdown",
      "source": [
        "**Analyzing dimensionality and preprocessing**\n",
        "\n",
        "In this exercise, you have been provided with a lem_corpus which contains the pre-processed versions of the movie taglines from the previous exercise. In other words, the taglines have been lowercased and lemmatized, and stopwords have been removed.\n",
        "\n",
        "Your job is to generate the bag of words representation bow_lem_matrix for these lemmatized taglines and compare its shape with that of bow_matrix obtained in the previous exercise. The first five lemmatized taglines in lem_corpus have been printed to the console for you to examine."
      ],
      "metadata": {
        "id": "WKrO8jFMiNPB"
      }
    },
    {
      "cell_type": "code",
      "source": [
        "# let us pretend reviews have been lematized\n",
        "lem_corpus = movie_reviews_clean['review'].values\n",
        "print('Firsts 3 docs', '\\n', lem_corpus[:3], '\\n')\n",
        "\n",
        "# print shape\n",
        "print('Corpus Shape', lem_corpus.shape, '\\n')"
      ],
      "metadata": {
        "colab": {
          "base_uri": "https://localhost:8080/"
        },
        "id": "5RQpdOUOihdG",
        "outputId": "90a1ce23-39b6-49e1-a1ab-bc55ad428708"
      },
      "execution_count": 36,
      "outputs": [
        {
          "output_type": "stream",
          "name": "stdout",
          "text": [
            "Firsts 3 docs \n",
            " ['this anime series starts out great interesting story exciting events interesting characters beautifully rendered and executed not everything is explained right away dangling a proverbial carrot before the viewer enticing the viewer to watch each succeeding episode but imagine the disappointment to find that the sci fi thriller giant robot adventure is only a backdrop for psycho babble and quasi religious preachy exploitation if you want to hear you re ok it s good to be you after being embattled with negative slogans and the characters negative emotions then this is for you if you want a good sci fi flick that is simply fun to watch forget this one both the original and the alternate endings were grossly disappointing to me all that and this movie was too preachy '\n",
            " 'some may go for a film like this but i most assuredly did not a college professor david norwell suddenly gets a yen for adoption he pretty much takes the first child offered a bad choice named adam as it turns out adam doesn t have both oars in the water which almost immediately causes untold stress and turmoil for dr norwell this sob story drolly played out with one problem after another all centered around adam s inabilities and seizures why norwell wanted to complicate his life with an unknown factor like an adoptive child was never explained along the way the good doctor managed to attract a wifey to share in all the hell the little one was dishing out personally i think both of them were one beer short of a sixpack bypass this yawner '\n",
            " 'i ve seen this piece of perfection during the fantasy filmfest in berlin and when i went out of the cinema i felt like being drugged down i ve seen a lot of films but there are just a few that i d call perfect like koyaanisqatsi or fight club subconscious cruelty is definitely one of them half of the people went out of the screening in berlin and i can understand them absolutely this is not a movie for normal people with dreams and illusions a person that is living in his her dreams day by day not wanting to see all the horror in our life and on our planet will be very shocked by this film if someone reads this now who has seen s c and also thinks it s great just contact me so far i haven t met anyone who shares my opinion it d be cool this film earns 10 points out of 10 finally i m really sorry for my bad english i m not a studied person und das ist auch gut so g :)'] \n",
            "\n",
            "Corpus Shape (1000,) \n",
            "\n"
          ]
        }
      ]
    },
    {
      "cell_type": "code",
      "source": [
        "# Import CountVectorizer\n",
        "from sklearn.feature_extraction.text import CountVectorizer\n",
        "\n",
        "# Create CountVectorizer object\n",
        "vectorizer = CountVectorizer()\n",
        "\n",
        "# Generate matrix of word vectors\n",
        "bow_lem_matrix = vectorizer.fit_transform(lem_corpus)\n",
        "\n",
        "# Print the shape of bow_lem_matrix\n",
        "print(bow_lem_matrix.shape)\n",
        "\n",
        "\"Good job! Notice how the number of features have reduced significantly from around \\\n",
        "6600 to around 5223 for pre-processed movie taglines. The reduced number of dimensions \\\n",
        "on account of text preprocessing usually leads to better performance when conducting \\\n",
        "machine learning and it is a good idea to consider it. However, as mentioned in a previous lesson, the final decision always depends on the nature of the application.\""
      ],
      "metadata": {
        "colab": {
          "base_uri": "https://localhost:8080/",
          "height": 108
        },
        "id": "Y3hIg3ydicDN",
        "outputId": "57e6c384-e5c1-48c9-df7a-9f335be714ed"
      },
      "execution_count": 37,
      "outputs": [
        {
          "output_type": "stream",
          "name": "stdout",
          "text": [
            "(1000, 17782)\n"
          ]
        },
        {
          "output_type": "execute_result",
          "data": {
            "text/plain": [
              "'Good job! Notice how the number of features have reduced significantly from around 6600 to around 5223 for pre-processed movie taglines. The reduced number of dimensions on account of text preprocessing usually leads to better performance when conducting machine learning and it is a good idea to consider it. However, as mentioned in a previous lesson, the final decision always depends on the nature of the application.'"
            ],
            "application/vnd.google.colaboratory.intrinsic+json": {
              "type": "string"
            }
          },
          "metadata": {},
          "execution_count": 37
        }
      ]
    },
    {
      "cell_type": "markdown",
      "source": [
        "**Mapping feature indices with feature names**\n",
        "\n",
        "In the lesson video, we had seen that CountVectorizer doesn't necessarily index the vocabulary in alphabetical order. In this exercise, we will learn to map each feature index to its corresponding feature name from the vocabulary.\n",
        "\n",
        "We will use the same three sentences on lions from the video. The sentences are available in a list named corpus and has already been printed to the console."
      ],
      "metadata": {
        "id": "3Qh5db2Fiv4Z"
      }
    },
    {
      "cell_type": "code",
      "source": [
        "corpus = ['The lion is the king of the jungle', 'Lions have lifespans of a decade', 'The lion is an endangered species']\n",
        "\n",
        "# Create CountVectorizer object\n",
        "vectorizer = CountVectorizer()\n",
        "\n",
        "# Generate matrix of word vectors\n",
        "bow_matrix = vectorizer.fit_transform(corpus)\n",
        "\n",
        "# Convert bow_matrix into a DataFrame\n",
        "bow_df = pd.DataFrame(bow_matrix.toarray())\n",
        "\n",
        "# Map the column names to vocabulary\n",
        "#bow_df.columns = vectorizer.get_feature_names()\n",
        "#bow_df.columns = # Use get_feature_names_out instead of get_feature_names\n",
        "bow_df.columns = vectorizer.get_feature_names_out()\n",
        "\n",
        "\n",
        "# Print bow_df\n",
        "print(bow_df, '\\n')\n",
        "\n",
        "\"Great job! Observe that the column names refer to the token whose frequency is being \\\n",
        "recorded. Therefore, since the first column name is an, the first feature represents the number of times the word 'an' occurs in a particular sentence. get_feature_names() essentially gives us a list which represents the mapping of the feature indices to the feature name in the vocabulary.\""
      ],
      "metadata": {
        "colab": {
          "base_uri": "https://localhost:8080/",
          "height": 306
        },
        "id": "d3_HsDjiiu-H",
        "outputId": "6faadf83-95a7-408a-ee13-206148c21f87"
      },
      "execution_count": 38,
      "outputs": [
        {
          "output_type": "stream",
          "name": "stdout",
          "text": [
            "   an  decade  endangered  have  is  jungle  king  lifespans  lion  lions  of  \\\n",
            "0   0       0           0     0   1       1     1          0     1      0   1   \n",
            "1   0       1           0     1   0       0     0          1     0      1   1   \n",
            "2   1       0           1     0   1       0     0          0     1      0   0   \n",
            "\n",
            "   species  the  \n",
            "0        0    3  \n",
            "1        0    0  \n",
            "2        1    1   \n",
            "\n"
          ]
        },
        {
          "output_type": "execute_result",
          "data": {
            "text/plain": [
              "\"Great job! Observe that the column names refer to the token whose frequency is being recorded. Therefore, since the first column name is an, the first feature represents the number of times the word 'an' occurs in a particular sentence. get_feature_names() essentially gives us a list which represents the mapping of the feature indices to the feature name in the vocabulary.\""
            ],
            "application/vnd.google.colaboratory.intrinsic+json": {
              "type": "string"
            }
          },
          "metadata": {},
          "execution_count": 38
        }
      ]
    },
    {
      "cell_type": "markdown",
      "source": [
        "**BoW vectors for movie reviews**\n",
        "\n",
        "In this exercise, you have been given two pandas Series, X_train and X_test, which consist of movie reviews. They represent the training and the test review data respectively. Your task is to preprocess the reviews and generate BoW vectors for these two sets using CountVectorizer.\n",
        "\n",
        "Once we have generated the BoW vector matrices X_train_bow and X_test_bow, we will be in a very good position to apply a machine learning model to it and conduct sentiment analysis."
      ],
      "metadata": {
        "id": "63jglQ3aWmcW"
      }
    },
    {
      "cell_type": "code",
      "source": [
        "# View movie reviews\n",
        "movie_reviews_clean.head()"
      ],
      "metadata": {
        "colab": {
          "base_uri": "https://localhost:8080/",
          "height": 260
        },
        "id": "cS-8ZgjSWvk-",
        "outputId": "e0b28897-5be6-40c9-c704-d2fce6eedc82"
      },
      "execution_count": 39,
      "outputs": [
        {
          "output_type": "execute_result",
          "data": {
            "text/plain": [
              "                                              review  sentiment\n",
              "0  this anime series starts out great interesting...          0\n",
              "1  some may go for a film like this but i most as...          0\n",
              "2  i ve seen this piece of perfection during the ...          1\n",
              "3  this movie is likely the worst movie i ve ever...          0\n",
              "4  it ll soon be 10 yrs since this movie was rele...          1"
            ],
            "text/html": [
              "\n",
              "  <div id=\"df-b8d9dc01-ced6-4fa5-8fa1-392e96489566\" class=\"colab-df-container\">\n",
              "    <div>\n",
              "<style scoped>\n",
              "    .dataframe tbody tr th:only-of-type {\n",
              "        vertical-align: middle;\n",
              "    }\n",
              "\n",
              "    .dataframe tbody tr th {\n",
              "        vertical-align: top;\n",
              "    }\n",
              "\n",
              "    .dataframe thead th {\n",
              "        text-align: right;\n",
              "    }\n",
              "</style>\n",
              "<table border=\"1\" class=\"dataframe\">\n",
              "  <thead>\n",
              "    <tr style=\"text-align: right;\">\n",
              "      <th></th>\n",
              "      <th>review</th>\n",
              "      <th>sentiment</th>\n",
              "    </tr>\n",
              "  </thead>\n",
              "  <tbody>\n",
              "    <tr>\n",
              "      <th>0</th>\n",
              "      <td>this anime series starts out great interesting...</td>\n",
              "      <td>0</td>\n",
              "    </tr>\n",
              "    <tr>\n",
              "      <th>1</th>\n",
              "      <td>some may go for a film like this but i most as...</td>\n",
              "      <td>0</td>\n",
              "    </tr>\n",
              "    <tr>\n",
              "      <th>2</th>\n",
              "      <td>i ve seen this piece of perfection during the ...</td>\n",
              "      <td>1</td>\n",
              "    </tr>\n",
              "    <tr>\n",
              "      <th>3</th>\n",
              "      <td>this movie is likely the worst movie i ve ever...</td>\n",
              "      <td>0</td>\n",
              "    </tr>\n",
              "    <tr>\n",
              "      <th>4</th>\n",
              "      <td>it ll soon be 10 yrs since this movie was rele...</td>\n",
              "      <td>1</td>\n",
              "    </tr>\n",
              "  </tbody>\n",
              "</table>\n",
              "</div>\n",
              "    <div class=\"colab-df-buttons\">\n",
              "\n",
              "  <div class=\"colab-df-container\">\n",
              "    <button class=\"colab-df-convert\" onclick=\"convertToInteractive('df-b8d9dc01-ced6-4fa5-8fa1-392e96489566')\"\n",
              "            title=\"Convert this dataframe to an interactive table.\"\n",
              "            style=\"display:none;\">\n",
              "\n",
              "  <svg xmlns=\"http://www.w3.org/2000/svg\" height=\"24px\" viewBox=\"0 -960 960 960\">\n",
              "    <path d=\"M120-120v-720h720v720H120Zm60-500h600v-160H180v160Zm220 220h160v-160H400v160Zm0 220h160v-160H400v160ZM180-400h160v-160H180v160Zm440 0h160v-160H620v160ZM180-180h160v-160H180v160Zm440 0h160v-160H620v160Z\"/>\n",
              "  </svg>\n",
              "    </button>\n",
              "\n",
              "  <style>\n",
              "    .colab-df-container {\n",
              "      display:flex;\n",
              "      gap: 12px;\n",
              "    }\n",
              "\n",
              "    .colab-df-convert {\n",
              "      background-color: #E8F0FE;\n",
              "      border: none;\n",
              "      border-radius: 50%;\n",
              "      cursor: pointer;\n",
              "      display: none;\n",
              "      fill: #1967D2;\n",
              "      height: 32px;\n",
              "      padding: 0 0 0 0;\n",
              "      width: 32px;\n",
              "    }\n",
              "\n",
              "    .colab-df-convert:hover {\n",
              "      background-color: #E2EBFA;\n",
              "      box-shadow: 0px 1px 2px rgba(60, 64, 67, 0.3), 0px 1px 3px 1px rgba(60, 64, 67, 0.15);\n",
              "      fill: #174EA6;\n",
              "    }\n",
              "\n",
              "    .colab-df-buttons div {\n",
              "      margin-bottom: 4px;\n",
              "    }\n",
              "\n",
              "    [theme=dark] .colab-df-convert {\n",
              "      background-color: #3B4455;\n",
              "      fill: #D2E3FC;\n",
              "    }\n",
              "\n",
              "    [theme=dark] .colab-df-convert:hover {\n",
              "      background-color: #434B5C;\n",
              "      box-shadow: 0px 1px 3px 1px rgba(0, 0, 0, 0.15);\n",
              "      filter: drop-shadow(0px 1px 2px rgba(0, 0, 0, 0.3));\n",
              "      fill: #FFFFFF;\n",
              "    }\n",
              "  </style>\n",
              "\n",
              "    <script>\n",
              "      const buttonEl =\n",
              "        document.querySelector('#df-b8d9dc01-ced6-4fa5-8fa1-392e96489566 button.colab-df-convert');\n",
              "      buttonEl.style.display =\n",
              "        google.colab.kernel.accessAllowed ? 'block' : 'none';\n",
              "\n",
              "      async function convertToInteractive(key) {\n",
              "        const element = document.querySelector('#df-b8d9dc01-ced6-4fa5-8fa1-392e96489566');\n",
              "        const dataTable =\n",
              "          await google.colab.kernel.invokeFunction('convertToInteractive',\n",
              "                                                    [key], {});\n",
              "        if (!dataTable) return;\n",
              "\n",
              "        const docLinkHtml = 'Like what you see? Visit the ' +\n",
              "          '<a target=\"_blank\" href=https://colab.research.google.com/notebooks/data_table.ipynb>data table notebook</a>'\n",
              "          + ' to learn more about interactive tables.';\n",
              "        element.innerHTML = '';\n",
              "        dataTable['output_type'] = 'display_data';\n",
              "        await google.colab.output.renderOutput(dataTable, element);\n",
              "        const docLink = document.createElement('div');\n",
              "        docLink.innerHTML = docLinkHtml;\n",
              "        element.appendChild(docLink);\n",
              "      }\n",
              "    </script>\n",
              "  </div>\n",
              "\n",
              "\n",
              "<div id=\"df-514948fc-7e15-478a-b58d-d64309057bcb\">\n",
              "  <button class=\"colab-df-quickchart\" onclick=\"quickchart('df-514948fc-7e15-478a-b58d-d64309057bcb')\"\n",
              "            title=\"Suggest charts\"\n",
              "            style=\"display:none;\">\n",
              "\n",
              "<svg xmlns=\"http://www.w3.org/2000/svg\" height=\"24px\"viewBox=\"0 0 24 24\"\n",
              "     width=\"24px\">\n",
              "    <g>\n",
              "        <path d=\"M19 3H5c-1.1 0-2 .9-2 2v14c0 1.1.9 2 2 2h14c1.1 0 2-.9 2-2V5c0-1.1-.9-2-2-2zM9 17H7v-7h2v7zm4 0h-2V7h2v10zm4 0h-2v-4h2v4z\"/>\n",
              "    </g>\n",
              "</svg>\n",
              "  </button>\n",
              "\n",
              "<style>\n",
              "  .colab-df-quickchart {\n",
              "      --bg-color: #E8F0FE;\n",
              "      --fill-color: #1967D2;\n",
              "      --hover-bg-color: #E2EBFA;\n",
              "      --hover-fill-color: #174EA6;\n",
              "      --disabled-fill-color: #AAA;\n",
              "      --disabled-bg-color: #DDD;\n",
              "  }\n",
              "\n",
              "  [theme=dark] .colab-df-quickchart {\n",
              "      --bg-color: #3B4455;\n",
              "      --fill-color: #D2E3FC;\n",
              "      --hover-bg-color: #434B5C;\n",
              "      --hover-fill-color: #FFFFFF;\n",
              "      --disabled-bg-color: #3B4455;\n",
              "      --disabled-fill-color: #666;\n",
              "  }\n",
              "\n",
              "  .colab-df-quickchart {\n",
              "    background-color: var(--bg-color);\n",
              "    border: none;\n",
              "    border-radius: 50%;\n",
              "    cursor: pointer;\n",
              "    display: none;\n",
              "    fill: var(--fill-color);\n",
              "    height: 32px;\n",
              "    padding: 0;\n",
              "    width: 32px;\n",
              "  }\n",
              "\n",
              "  .colab-df-quickchart:hover {\n",
              "    background-color: var(--hover-bg-color);\n",
              "    box-shadow: 0 1px 2px rgba(60, 64, 67, 0.3), 0 1px 3px 1px rgba(60, 64, 67, 0.15);\n",
              "    fill: var(--button-hover-fill-color);\n",
              "  }\n",
              "\n",
              "  .colab-df-quickchart-complete:disabled,\n",
              "  .colab-df-quickchart-complete:disabled:hover {\n",
              "    background-color: var(--disabled-bg-color);\n",
              "    fill: var(--disabled-fill-color);\n",
              "    box-shadow: none;\n",
              "  }\n",
              "\n",
              "  .colab-df-spinner {\n",
              "    border: 2px solid var(--fill-color);\n",
              "    border-color: transparent;\n",
              "    border-bottom-color: var(--fill-color);\n",
              "    animation:\n",
              "      spin 1s steps(1) infinite;\n",
              "  }\n",
              "\n",
              "  @keyframes spin {\n",
              "    0% {\n",
              "      border-color: transparent;\n",
              "      border-bottom-color: var(--fill-color);\n",
              "      border-left-color: var(--fill-color);\n",
              "    }\n",
              "    20% {\n",
              "      border-color: transparent;\n",
              "      border-left-color: var(--fill-color);\n",
              "      border-top-color: var(--fill-color);\n",
              "    }\n",
              "    30% {\n",
              "      border-color: transparent;\n",
              "      border-left-color: var(--fill-color);\n",
              "      border-top-color: var(--fill-color);\n",
              "      border-right-color: var(--fill-color);\n",
              "    }\n",
              "    40% {\n",
              "      border-color: transparent;\n",
              "      border-right-color: var(--fill-color);\n",
              "      border-top-color: var(--fill-color);\n",
              "    }\n",
              "    60% {\n",
              "      border-color: transparent;\n",
              "      border-right-color: var(--fill-color);\n",
              "    }\n",
              "    80% {\n",
              "      border-color: transparent;\n",
              "      border-right-color: var(--fill-color);\n",
              "      border-bottom-color: var(--fill-color);\n",
              "    }\n",
              "    90% {\n",
              "      border-color: transparent;\n",
              "      border-bottom-color: var(--fill-color);\n",
              "    }\n",
              "  }\n",
              "</style>\n",
              "\n",
              "  <script>\n",
              "    async function quickchart(key) {\n",
              "      const quickchartButtonEl =\n",
              "        document.querySelector('#' + key + ' button');\n",
              "      quickchartButtonEl.disabled = true;  // To prevent multiple clicks.\n",
              "      quickchartButtonEl.classList.add('colab-df-spinner');\n",
              "      try {\n",
              "        const charts = await google.colab.kernel.invokeFunction(\n",
              "            'suggestCharts', [key], {});\n",
              "      } catch (error) {\n",
              "        console.error('Error during call to suggestCharts:', error);\n",
              "      }\n",
              "      quickchartButtonEl.classList.remove('colab-df-spinner');\n",
              "      quickchartButtonEl.classList.add('colab-df-quickchart-complete');\n",
              "    }\n",
              "    (() => {\n",
              "      let quickchartButtonEl =\n",
              "        document.querySelector('#df-514948fc-7e15-478a-b58d-d64309057bcb button');\n",
              "      quickchartButtonEl.style.display =\n",
              "        google.colab.kernel.accessAllowed ? 'block' : 'none';\n",
              "    })();\n",
              "  </script>\n",
              "</div>\n",
              "\n",
              "    </div>\n",
              "  </div>\n"
            ],
            "application/vnd.google.colaboratory.intrinsic+json": {
              "type": "dataframe",
              "variable_name": "movie_reviews_clean",
              "summary": "{\n  \"name\": \"movie_reviews_clean\",\n  \"rows\": 1000,\n  \"fields\": [\n    {\n      \"column\": \"review\",\n      \"properties\": {\n        \"dtype\": \"string\",\n        \"num_unique_values\": 1000,\n        \"samples\": [\n          \" lies tells about an affair between an 18 year old bucktoothed female student and a scrawny 38 year old married man with the pair of protags spending about half the screen time engaged in naked sex and hokey whipping and the other half meandering through the pathetically naive storyline which seems little more than an excuse for the sex scenes with very poor production value including obvious sanitary appliances and phony softcore sex to a story which is a messy mix of comedy and drama lies quickly becomes redundant ad nauseam with an almost 2 hour run subtitles and so little substance lies is simply not recommendable c \",\n          \"chris penn is hilarious as the all time stoner brother of jeff spicoli this movie is great because it was a lot more real and funnier than fast times at ridgemont high casting was perfect and one of my favorite soundtracks of almost all eddie van halen which went on to become songs on ou812 and unlawful carnal knowledge this movie is one of the great stoner film heroes with cheech and chong fast times was more depressing than funny abortions friends cheating on friends jerking off in bathrooms bad jobs and failing school someone must hate the eighties to like ridgemont more than the wild life the film even had great cameos like the maker of city limits michelle schocked in the liquor store or ben stein in his first role in the sunny s surplus store \",\n          \"made after quartet was trio continued the quality of the earlier film versions of the short stories by maugham here the three stories are the verger mr know it all and sanitorium the first two are comic the verger is like a prolonged joke but one with a good pay off and the last more serious as health issues are involved again the author introduces the film and the stories james hayter soon to have his signature role as samuel pickwick is the hero in the verger he holds this small custodial type job in a church but the new vicar michael hordern is an intellectual snob when he hears hayter has no schooling he fires him hayter has saved some money so he tells his wife kathleen harrison he fancies buying a small news and tobacco shop he has a good eye and his store thrives soon he has a whole chain of stores when his grandchild is christened by hordern the latter is amazed to see how prosperous his ex verger the payoff is when bank manager felix aylmer meets with hayter about diversifying his investments i ll leave it to you to hear the unintentional but ironic coda of the meeting according to maugham he met a man like max kelada nigel patrick on a cruise in mr know it all kelada is a splashy friendly and slightly overbearing type from the middle east who is on a business trip regarding jewelry by steamship his state room mate is mr grey the ever quiet and proper wilfred hyde white who is somewhat silently disapproving of max max likes to enliven things and soon is heavily involved in the ship s entertainment at this point the story actually resembles part of the plot of the non maugham story and film china seas 1935 as max makes a bet that he can tell a real piece of jewelry from a fake after insisting that a piece of jewelry he spotted is real i won t describe the way max rises to the occasion sanitorium is the longest segment roland culver plays ashenden the fictional alter ego of maugham a writer and one time spy as in hitchcock s the secret agent here he has to use a sanitorium for a couple of months for his health he finds a remarkable crew of people including jean simmons as a frail but beautiful young woman finlay currie as an irascible scotsman john laurie as a second irascible scotsman who is at war with currie raymond huntley as a quiet patient who only shows his internal anger at his situation when his wife shows up and michael rennie as a young man who has a serious life threatening illness culver watches as three stories among these characters play out to their conclusions the last dealing with simmons and rennie is ironic but deeply moving it was a dandy follow up to the earlier quartet and well worth watching \"\n        ],\n        \"semantic_type\": \"\",\n        \"description\": \"\"\n      }\n    },\n    {\n      \"column\": \"sentiment\",\n      \"properties\": {\n        \"dtype\": \"number\",\n        \"std\": 0,\n        \"min\": 0,\n        \"max\": 1,\n        \"num_unique_values\": 2,\n        \"samples\": [\n          1,\n          0\n        ],\n        \"semantic_type\": \"\",\n        \"description\": \"\"\n      }\n    }\n  ]\n}"
            }
          },
          "metadata": {},
          "execution_count": 39
        }
      ]
    },
    {
      "cell_type": "code",
      "source": [
        "from sklearn.model_selection import train_test_split\n",
        "\n",
        "# Split into training and test sets\n",
        "# split to train test etc\n",
        "X_train, X_test, y_train, y_test = train_test_split(movie_reviews_clean['review'], \\\n",
        "                                  movie_reviews_clean['sentiment'], test_size=0.25, random_state=75, stratify=movie_reviews_clean['sentiment'])\n"
      ],
      "metadata": {
        "id": "IsjvJjfSX4gO"
      },
      "execution_count": 40,
      "outputs": []
    },
    {
      "cell_type": "code",
      "source": [
        "# Import CountVectorizer\n",
        "from sklearn.feature_extraction.text import CountVectorizer\n",
        "\n",
        "# Create a CountVectorizer object\n",
        "vectorizer = CountVectorizer(lowercase=True, stop_words='english')\n",
        "\n",
        "# Fit and transform X_train\n",
        "\"\"\" Learn the vocabulary from X_train.\n",
        "Transform X_train based on the learned vocabulary.\n",
        "\"\"\"\n",
        "X_train_bow = vectorizer.fit_transform(X_train)\n",
        "\n",
        "# Transform X_test\n",
        "\"\"\" Transform X_test based on the learned vocabulary.\n",
        "We use transform() on X_test because it is test data, and you do not want to modify or extend the vocabulary.\n",
        "\n",
        "\"\"\"\n",
        "X_test_bow = vectorizer.transform(X_test)\n",
        "\n",
        "# Print shape of X_train_bow and X_test_bow\n",
        "print(X_train_bow.shape)\n",
        "print(X_test_bow.shape)\n",
        "\n",
        "\"  Great job! You now have a good idea of preprocessing text and transforming them into \\\n",
        "their bag-of-words representation using CountVectorizer. In this exercise, you have set the \\\n",
        "lowercase argument to True. However, note that this is the default value of lowercase and \\\n",
        "passing it explicitly is not necessary. Also, note that both X_train_bow and X_test_bow have 8158 features. \\\n",
        "There were words present in X_test that were not in X_train. CountVectorizer chose to ignore them in order to ensure that the dimensions of both sets remain the same. \""
      ],
      "metadata": {
        "colab": {
          "base_uri": "https://localhost:8080/",
          "height": 152
        },
        "id": "bgRPky8cXib8",
        "outputId": "ac1ca3ec-2539-4c25-b5be-984faeb62bc4"
      },
      "execution_count": 41,
      "outputs": [
        {
          "output_type": "stream",
          "name": "stdout",
          "text": [
            "(750, 14988)\n",
            "(250, 14988)\n"
          ]
        },
        {
          "output_type": "execute_result",
          "data": {
            "text/plain": [
              "'  Great job! You now have a good idea of preprocessing text and transforming them into their bag-of-words representation using CountVectorizer. In this exercise, you have set the lowercase argument to True. However, note that this is the default value of lowercase and passing it explicitly is not necessary. Also, note that both X_train_bow and X_test_bow have 8158 features. There were words present in X_test that were not in X_train. CountVectorizer chose to ignore them in order to ensure that the dimensions of both sets remain the same. '"
            ],
            "application/vnd.google.colaboratory.intrinsic+json": {
              "type": "string"
            }
          },
          "metadata": {},
          "execution_count": 41
        }
      ]
    },
    {
      "cell_type": "markdown",
      "source": [
        "**Predicting the sentiment of a movie review**\n",
        "\n",
        "In the previous exercise, you generated the bag-of-words representations for the training and test movie review data. In this exercise, we will use this model to train a Naive Bayes classifier that can detect the sentiment of a movie review and compute its accuracy. Note that since this is a binary classification problem, the model is only capable of classifying a review as either positive (1) or negative (0). It is incapable of detecting neutral reviews.\n",
        "\n",
        "In case you don't recall, the training and test BoW vectors are available as X_train_bow and X_test_bow respectively. The corresponding labels are available as y_train and y_test respectively. Also, for you reference, the original movie review dataset is available as df."
      ],
      "metadata": {
        "id": "qPkRYD1UX_hI"
      }
    },
    {
      "cell_type": "code",
      "source": [
        "from sklearn.naive_bayes import MultinomialNB\n",
        "from sklearn import metrics\n",
        "\n",
        "# Create a MultinomialNB object\n",
        "clf = MultinomialNB()\n",
        "\n",
        "# Fit the classifier using the training data\n",
        "\n",
        "\n",
        "# Create a MultinomialNB object\n",
        "clf = MultinomialNB()\n",
        "\n",
        "# Fit the classifier\n",
        "clf.fit(X_train_bow, y_train)\n",
        "\n",
        "# Measure the accuracy\n",
        "accuracy = clf.score(X_test_bow, y_test)\n",
        "print(\"The accuracy of the classifier on the test set is %.3f\" % accuracy)\n",
        "\n",
        "# Predict the sentiment of a negative review\n",
        "review = \"The movie was terrible. The music was underwhelming and the acting mediocre.\"\n",
        "prediction = clf.predict(vectorizer.transform([review]))[0]\n",
        "print(\"The sentiment predicted by the classifier is %i\" % (prediction))\n",
        "\n",
        "\"Excellent work! You have successfully performed basic sentiment analysis. \\\n",
        "Note that the accuracy of the classifier is 73.2%. Considering the fact that \\\n",
        "it was trained on only 750 reviews, this is reasonably good performance. \\\n",
        "The classifier also correctly predicts the sentiment of a mini negative review which we passed into it.\""
      ],
      "metadata": {
        "colab": {
          "base_uri": "https://localhost:8080/",
          "height": 108
        },
        "id": "T1sLhQ5EX-i1",
        "outputId": "c70f283d-b066-47bd-8254-ef6d20bbecb3"
      },
      "execution_count": 42,
      "outputs": [
        {
          "output_type": "stream",
          "name": "stdout",
          "text": [
            "The accuracy of the classifier on the test set is 0.816\n",
            "The sentiment predicted by the classifier is 0\n"
          ]
        },
        {
          "output_type": "execute_result",
          "data": {
            "text/plain": [
              "'Excellent work! You have successfully performed basic sentiment analysis. Note that the accuracy of the classifier is 73.2%. Considering the fact that it was trained on only 750 reviews, this is reasonably good performance. The classifier also correctly predicts the sentiment of a mini negative review which we passed into it.'"
            ],
            "application/vnd.google.colaboratory.intrinsic+json": {
              "type": "string"
            }
          },
          "metadata": {},
          "execution_count": 42
        }
      ]
    },
    {
      "cell_type": "markdown",
      "source": [
        "**Building and n-gram Model**\n",
        "\n",
        "**n-gram models for movie tag lines**\n",
        "\n",
        "In this exercise, we have been provided with a corpus of more than 9000 movie tag lines. Our job is to generate n-gram models up to n equal to 1, n equal to 2 and n equal to 3 for this data and discover the number of features for each model.\n",
        "\n",
        "We will then compare the number of features generated for each model."
      ],
      "metadata": {
        "id": "me14acxpZcYy"
      }
    },
    {
      "cell_type": "code",
      "source": [
        "# We use movie reviwes for this\n",
        "corpus = movie_reviews_clean['review']\n",
        "# Generate n-grams upto n=1\n",
        "vectorizer_ng1 = CountVectorizer(ngram_range=(1,1))\n",
        "ng1 = vectorizer_ng1.fit_transform(corpus)\n",
        "\n",
        "# Generate n-grams upto n=2\n",
        "vectorizer_ng2 = CountVectorizer(ngram_range=(1,2))\n",
        "ng2 = vectorizer_ng2.fit_transform(corpus)\n",
        "\n",
        "# Generate n-grams upto n=3\n",
        "vectorizer_ng3 = CountVectorizer(ngram_range=(1,3))\n",
        "ng3 = vectorizer_ng3.fit_transform(corpus)\n",
        "\n",
        "# Print the number of features for each model\n",
        "print(\"ng1, ng2 and ng3 have %i, %i and %i features respectively\" % (ng1.shape[1], ng2.shape[1], ng3.shape[1]))\n",
        "print()\n",
        "\n",
        "\"Good job! You now know how to generate n-gram models containing \\\n",
        "higher order n-grams. Notice that ng2 has over 37,000 features whereas ng3 has over 76,000 features. \\\n",
        "This is much greater than the 6,000 dimensions obtained for ng1. As the n-gram range increases, \\\n",
        "so does the number of features, leading to increased computational costs and a problem known as the curse of dimensionality.\""
      ],
      "metadata": {
        "colab": {
          "base_uri": "https://localhost:8080/",
          "height": 130
        },
        "id": "hD4xPd5fZcjv",
        "outputId": "1c89742f-2758-4aee-d952-6488d81f1808"
      },
      "execution_count": 43,
      "outputs": [
        {
          "output_type": "stream",
          "name": "stdout",
          "text": [
            "ng1, ng2 and ng3 have 17782, 134432 and 322694 features respectively\n",
            "\n"
          ]
        },
        {
          "output_type": "execute_result",
          "data": {
            "text/plain": [
              "'Good job! You now know how to generate n-gram models containing higher order n-grams. Notice that ng2 has over 37,000 features whereas ng3 has over 76,000 features. This is much greater than the 6,000 dimensions obtained for ng1. As the n-gram range increases, so does the number of features, leading to increased computational costs and a problem known as the curse of dimensionality.'"
            ],
            "application/vnd.google.colaboratory.intrinsic+json": {
              "type": "string"
            }
          },
          "metadata": {},
          "execution_count": 43
        }
      ]
    },
    {
      "cell_type": "markdown",
      "source": [
        "**Higher order n-grams for sentiment analysis**\n",
        "\n",
        "Similar to a previous exercise, we are going to build a classifier that can detect if the review of a particular movie is positive or negative. However, this time, we will use n-grams up to n=2 for the task.\n",
        "\n",
        "The n-gram training reviews are available as X_train_ng. The corresponding test reviews are available as X_test_ng. Finally, use y_train and y_test to access the training and test sentiment classes respectively."
      ],
      "metadata": {
        "id": "Ev1BME8Tal2n"
      }
    },
    {
      "cell_type": "code",
      "source": [
        "# Instantiate Vectrorizer with n_gram = 2 model\n",
        "vectorizer_2ng = CountVectorizer(ngram_range=(2,2), lowercase=True, stop_words='english')\n",
        "\n",
        "#\n",
        "X_train_ng = vectorizer_2ng.fit_transform(X_train)\n",
        "X_test_ng = vectorizer_2ng.transform(X_test)\n",
        "\n",
        "\n",
        "# Define an instance of MultinomialNB\n",
        "clf_ng = MultinomialNB()\n",
        "\n",
        "# Fit the classifier\n",
        "clf_ng.fit(X_train_ng, y_train)\n",
        "\n",
        "# Measure the accuracy\n",
        "accuracy = clf_ng.score(X_test_ng, y_test)\n",
        "print(\"The accuracy of the classifier on the test set is %.3f\" % accuracy)\n",
        "\n",
        "# Predict the sentiment of a negative review\n",
        "review = \"The movie was not good. The plot had several holes and the acting lacked panache.\"\n",
        "prediction = clf_ng.predict(vectorizer_2ng.transform([review]))[0]\n",
        "print(\"The sentiment predicted by the classifier is %i\" % (prediction))\n",
        "\n",
        "print()\n",
        "\n",
        "\"Excellent job! You're now adept at performing sentiment analysis using text. Notice how this classifier performs slightly better than the BoW version. Also, it succeeds at correctly identifying the sentiment of the mini-review as negative. In the next chapter, we will learn more complex methods of vectorizing textual data.\""
      ],
      "metadata": {
        "colab": {
          "base_uri": "https://localhost:8080/",
          "height": 130
        },
        "id": "Rpejazkua8Uy",
        "outputId": "2b1478d7-424b-4403-cab4-19349240dabe"
      },
      "execution_count": 44,
      "outputs": [
        {
          "output_type": "stream",
          "name": "stdout",
          "text": [
            "The accuracy of the classifier on the test set is 0.676\n",
            "The sentiment predicted by the classifier is 0\n",
            "\n"
          ]
        },
        {
          "output_type": "execute_result",
          "data": {
            "text/plain": [
              "\"Excellent job! You're now adept at performing sentiment analysis using text. Notice how this classifier performs slightly better than the BoW version. Also, it succeeds at correctly identifying the sentiment of the mini-review as negative. In the next chapter, we will learn more complex methods of vectorizing textual data.\""
            ],
            "application/vnd.google.colaboratory.intrinsic+json": {
              "type": "string"
            }
          },
          "metadata": {},
          "execution_count": 44
        }
      ]
    },
    {
      "cell_type": "markdown",
      "source": [
        "**Comparing performance of n-gram models**\n",
        "\n",
        "You now know how to conduct sentiment analysis by converting text into various n-gram representations and feeding them to a classifier. In this exercise, we will conduct sentiment analysis for the same movie reviews from before using two n-gram models: unigrams and n-grams upto n equal to 3.\n",
        "\n",
        "We will then compare the performance using three criteria: accuracy of the model on the test set, time taken to execute the program and the number of features created when generating the n-gram representation."
      ],
      "metadata": {
        "id": "yGhO9JvDcc8e"
      }
    },
    {
      "cell_type": "code",
      "source": [],
      "metadata": {
        "id": "6AiPajh7cpyj"
      },
      "execution_count": 44,
      "outputs": []
    },
    {
      "cell_type": "code",
      "source": [
        "import time\n",
        "\n",
        "\" Initialize a CountVectorizer object such that it generates unigrams.\"\n",
        "\n",
        "start_time = time.time()\n",
        "df = movie_reviews_clean\n",
        "# Splitting the data into training and test sets\n",
        "train_X, test_X, train_y, test_y = train_test_split(df['review'], df['sentiment'], test_size=0.5, random_state=42, stratify=df['sentiment'])\n",
        "\n",
        "# Generating ngrams\n",
        "vectorizer = CountVectorizer()\n",
        "train_X = vectorizer.fit_transform(train_X)\n",
        "test_X = vectorizer.transform(test_X)\n",
        "\n",
        "# Fit classifier\n",
        "clf = MultinomialNB()\n",
        "clf.fit(train_X, train_y)\n",
        "\n",
        "# Print accuracy, time and number of dimensions\n",
        "print(\"The program took %.3f seconds to complete. The accuracy on the test set is %.2f. The ngram representation had %i features.\" % (time.time() - start_time, clf.score(test_X, test_y), train_X.shape[1]))"
      ],
      "metadata": {
        "colab": {
          "base_uri": "https://localhost:8080/"
        },
        "id": "xwYxMuoTcy_l",
        "outputId": "6174df55-114b-45be-8c24-6cd72e977d9d"
      },
      "execution_count": 45,
      "outputs": [
        {
          "output_type": "stream",
          "name": "stdout",
          "text": [
            "The program took 0.379 seconds to complete. The accuracy on the test set is 0.75. The ngram representation had 12347 features.\n"
          ]
        }
      ]
    },
    {
      "cell_type": "code",
      "source": [
        "\" Initialize a CountVectorizer object such that it generates ngrams upto n=3.\"\n",
        "\n",
        "start_time = time.time()\n",
        "# Splitting the data into training and test sets\n",
        "train_X, test_X, train_y, test_y = train_test_split(df['review'], df['sentiment'], test_size=0.5, random_state=42, stratify=df['sentiment'])\n",
        "\n",
        "# Generating ngrams\n",
        "vectorizer = CountVectorizer(ngram_range=(1,3))\n",
        "train_X = vectorizer.fit_transform(train_X)\n",
        "test_X = vectorizer.transform(test_X)\n",
        "\n",
        "# Fit classifier\n",
        "clf = MultinomialNB()\n",
        "clf.fit(train_X, train_y)\n",
        "\n",
        "# Print accuracy, time and number of dimensions\n",
        "print(\"The program took %.3f seconds to complete. The accuracy on the test set is %.2f. The ngram representation had %i features.\" % (time.time() - start_time, clf.score(test_X, test_y), train_X.shape[1]))\n",
        "print()\n",
        "\n",
        "\"Amazing work! The program took around 0.2 seconds in the case of the unigram model and more than 10 times longer for the higher order n-gram model. The unigram model had over 12,000 features whereas the n-gram model for upto n=3 had over 178,000! Despite taking higher computation time and generating more features, the classifier only performs marginally better in the latter case, producing an accuracy of 77% in comparison to the 75% for the unigram model.\""
      ],
      "metadata": {
        "colab": {
          "base_uri": "https://localhost:8080/",
          "height": 130
        },
        "id": "VnsLVvbMdHG1",
        "outputId": "d141c2d9-777d-41c5-e7ed-e3bda835cffb"
      },
      "execution_count": 46,
      "outputs": [
        {
          "output_type": "stream",
          "name": "stdout",
          "text": [
            "The program took 2.897 seconds to complete. The accuracy on the test set is 0.77. The ngram representation had 178240 features.\n",
            "\n"
          ]
        },
        {
          "output_type": "execute_result",
          "data": {
            "text/plain": [
              "'Amazing work! The program took around 0.2 seconds in the case of the unigram model and more than 10 times longer for the higher order n-gram model. The unigram model had over 12,000 features whereas the n-gram model for upto n=3 had over 178,000! Despite taking higher computation time and generating more features, the classifier only performs marginally better in the latter case, producing an accuracy of 77% in comparison to the 75% for the unigram model.'"
            ],
            "application/vnd.google.colaboratory.intrinsic+json": {
              "type": "string"
            }
          },
          "metadata": {},
          "execution_count": 46
        }
      ]
    },
    {
      "cell_type": "markdown",
      "source": [
        "# **4.TF-IDF and similarity scores**\n",
        "\n",
        "Learn how to compute tf-idf weights and the cosine similarity score between two vectors. You will use these concepts to build a movie and a TED Talk recommender. Finally, you will also learn about word embeddings and using word vector representations, you will compute similarities between various Pink Floyd songs."
      ],
      "metadata": {
        "id": "FPqv6F-hFRUc"
      }
    },
    {
      "cell_type": "markdown",
      "source": [
        "$$w_{i,j} = tf_{i,j}  \\cdot log(\\frac{N}{df_{i,j}})$$\n",
        "\n",
        "$$w_{i,j} = tf_{i,j}  \\cdot log\\left(\\frac{N}{df_{i}}\\right)$$  \n",
        "\n",
        "\n",
        "where:\n",
        "\n",
        "- $w_{i,j}$  $\\,$ weight of term (token, n-gram) $i$ in document $j$.\n",
        "\n",
        "- $tf_{i,j}$ $\\,$ term frequency of term $i$ in document $j$.\n",
        "- $N$ $\\,$ Number of documents in the corpus (collection of all documents).\n",
        "- $df_{i}$ Number of documents containing term $i$.\n",
        "\n",
        "\n",
        "let's say the word 'library' occurs in a document 5 times. There are 20 documents in the corpus and 'library' occurs in 8 of them. Then, the tf-idf weight of 'library' in the vector representation of this document will be 5 times log of 20 by 8 which is approximately 2. In general, higher the tf-idf weight, more important is the word in characterizing the document. A high tf-idf weight for a word in a document may imply that the word is relatively exclusive to that particular document or that the word occurs extremely commonly in the document, or both.\n",
        "\n",
        "$$\\,$$\n",
        "$$ w_{lib, doc}  \\, \\, \\, \\, \\, \\, \\, \\, =  \\, \\,5 \\cdot log\\left(\\frac{20}{8}\\right) \\approx 2.$$\n"
      ],
      "metadata": {
        "id": "wliPE6mgF6P6"
      }
    },
    {
      "cell_type": "markdown",
      "source": [
        "\n",
        "**tf-idf weight of commonly occurring words**\n",
        "\n",
        "The word bottle occurs 5 times in a particular document D and also occurs in every document of the corpus. What is the tf-idf weight of bottle in D?\n",
        "- 0 (Correct!)\n",
        "- 1\n",
        "- 5\n",
        "\n",
        "\n",
        "Correct! In fact, the tf-idf weight for bottle in every document will be **0**. This is because the inverse document frequency is constant across documents in a corpus and since bottle occurs in every document, its value is log(1), which is 0.\n",
        "\n"
      ],
      "metadata": {
        "id": "Ab2QvymMMioF"
      }
    },
    {
      "cell_type": "markdown",
      "source": [
        "**tf-idf vectors for TED talks**\n",
        "In this exercise, you have been given a corpus ted which contains the transcripts of 500 TED Talks. Your task is to generate the tf-idf vectors for these talks.\n",
        "\n",
        "In a later lesson, we will use these vectors to generate recommendations of similar talks based on the transcript."
      ],
      "metadata": {
        "id": "HYWYw4xpNfjf"
      }
    },
    {
      "cell_type": "code",
      "source": [
        "ted"
      ],
      "metadata": {
        "colab": {
          "base_uri": "https://localhost:8080/",
          "height": 534
        },
        "id": "oI0rtcxTOalB",
        "outputId": "d80a9731-8729-4cf9-dd30-88ed0401a6d8"
      },
      "execution_count": 48,
      "outputs": [
        {
          "output_type": "execute_result",
          "data": {
            "text/plain": [
              "                                            transcript  \\\n",
              "0    talk new lecture TED I illusion create TED I t...   \n",
              "1    representation brain brain break left half log...   \n",
              "2    great honor today share Digital Universe creat...   \n",
              "3    passion music technology thing combination thi...   \n",
              "4    use want get computer new program programming ...   \n",
              "..                                                 ...   \n",
              "495  today I unpack example iconic design perfect s...   \n",
              "496  brother belong demographic Pat percent accord ...   \n",
              "497  John Hockenberry great Tom I want start questi...   \n",
              "498  right moment kill More car internet even littl...   \n",
              "499  get real problem math education right basicall...   \n",
              "\n",
              "                                                   url  word_count  \n",
              "0    https://www.ted.com/talks/al_seckel_says_our_b...        1704  \n",
              "1    https://www.ted.com/talks/aaron_o_connell_maki...        1387  \n",
              "2    https://www.ted.com/talks/carter_emmart_demos_...         890  \n",
              "3    https://www.ted.com/talks/jared_ficklin_new_wa...        1548  \n",
              "4    https://www.ted.com/talks/jeremy_howard_the_wo...        3480  \n",
              "..                                                 ...         ...  \n",
              "495  https://www.ted.com/talks/john_hodgman_design_...         876  \n",
              "496  https://www.ted.com/talks/sheikha_al_mayassa_g...        1697  \n",
              "497  https://www.ted.com/talks/tom_shannon_the_pain...        1898  \n",
              "498  https://www.ted.com/talks/nilofer_merchant_got...         518  \n",
              "499  https://www.ted.com/talks/conrad_wolfram_teach...        2914  \n",
              "\n",
              "[500 rows x 3 columns]"
            ],
            "text/html": [
              "\n",
              "  <div id=\"df-ac3c005f-eb0f-4c54-9777-058ec7cb85ee\" class=\"colab-df-container\">\n",
              "    <div>\n",
              "<style scoped>\n",
              "    .dataframe tbody tr th:only-of-type {\n",
              "        vertical-align: middle;\n",
              "    }\n",
              "\n",
              "    .dataframe tbody tr th {\n",
              "        vertical-align: top;\n",
              "    }\n",
              "\n",
              "    .dataframe thead th {\n",
              "        text-align: right;\n",
              "    }\n",
              "</style>\n",
              "<table border=\"1\" class=\"dataframe\">\n",
              "  <thead>\n",
              "    <tr style=\"text-align: right;\">\n",
              "      <th></th>\n",
              "      <th>transcript</th>\n",
              "      <th>url</th>\n",
              "      <th>word_count</th>\n",
              "    </tr>\n",
              "  </thead>\n",
              "  <tbody>\n",
              "    <tr>\n",
              "      <th>0</th>\n",
              "      <td>talk new lecture TED I illusion create TED I t...</td>\n",
              "      <td>https://www.ted.com/talks/al_seckel_says_our_b...</td>\n",
              "      <td>1704</td>\n",
              "    </tr>\n",
              "    <tr>\n",
              "      <th>1</th>\n",
              "      <td>representation brain brain break left half log...</td>\n",
              "      <td>https://www.ted.com/talks/aaron_o_connell_maki...</td>\n",
              "      <td>1387</td>\n",
              "    </tr>\n",
              "    <tr>\n",
              "      <th>2</th>\n",
              "      <td>great honor today share Digital Universe creat...</td>\n",
              "      <td>https://www.ted.com/talks/carter_emmart_demos_...</td>\n",
              "      <td>890</td>\n",
              "    </tr>\n",
              "    <tr>\n",
              "      <th>3</th>\n",
              "      <td>passion music technology thing combination thi...</td>\n",
              "      <td>https://www.ted.com/talks/jared_ficklin_new_wa...</td>\n",
              "      <td>1548</td>\n",
              "    </tr>\n",
              "    <tr>\n",
              "      <th>4</th>\n",
              "      <td>use want get computer new program programming ...</td>\n",
              "      <td>https://www.ted.com/talks/jeremy_howard_the_wo...</td>\n",
              "      <td>3480</td>\n",
              "    </tr>\n",
              "    <tr>\n",
              "      <th>...</th>\n",
              "      <td>...</td>\n",
              "      <td>...</td>\n",
              "      <td>...</td>\n",
              "    </tr>\n",
              "    <tr>\n",
              "      <th>495</th>\n",
              "      <td>today I unpack example iconic design perfect s...</td>\n",
              "      <td>https://www.ted.com/talks/john_hodgman_design_...</td>\n",
              "      <td>876</td>\n",
              "    </tr>\n",
              "    <tr>\n",
              "      <th>496</th>\n",
              "      <td>brother belong demographic Pat percent accord ...</td>\n",
              "      <td>https://www.ted.com/talks/sheikha_al_mayassa_g...</td>\n",
              "      <td>1697</td>\n",
              "    </tr>\n",
              "    <tr>\n",
              "      <th>497</th>\n",
              "      <td>John Hockenberry great Tom I want start questi...</td>\n",
              "      <td>https://www.ted.com/talks/tom_shannon_the_pain...</td>\n",
              "      <td>1898</td>\n",
              "    </tr>\n",
              "    <tr>\n",
              "      <th>498</th>\n",
              "      <td>right moment kill More car internet even littl...</td>\n",
              "      <td>https://www.ted.com/talks/nilofer_merchant_got...</td>\n",
              "      <td>518</td>\n",
              "    </tr>\n",
              "    <tr>\n",
              "      <th>499</th>\n",
              "      <td>get real problem math education right basicall...</td>\n",
              "      <td>https://www.ted.com/talks/conrad_wolfram_teach...</td>\n",
              "      <td>2914</td>\n",
              "    </tr>\n",
              "  </tbody>\n",
              "</table>\n",
              "<p>500 rows × 3 columns</p>\n",
              "</div>\n",
              "    <div class=\"colab-df-buttons\">\n",
              "\n",
              "  <div class=\"colab-df-container\">\n",
              "    <button class=\"colab-df-convert\" onclick=\"convertToInteractive('df-ac3c005f-eb0f-4c54-9777-058ec7cb85ee')\"\n",
              "            title=\"Convert this dataframe to an interactive table.\"\n",
              "            style=\"display:none;\">\n",
              "\n",
              "  <svg xmlns=\"http://www.w3.org/2000/svg\" height=\"24px\" viewBox=\"0 -960 960 960\">\n",
              "    <path d=\"M120-120v-720h720v720H120Zm60-500h600v-160H180v160Zm220 220h160v-160H400v160Zm0 220h160v-160H400v160ZM180-400h160v-160H180v160Zm440 0h160v-160H620v160ZM180-180h160v-160H180v160Zm440 0h160v-160H620v160Z\"/>\n",
              "  </svg>\n",
              "    </button>\n",
              "\n",
              "  <style>\n",
              "    .colab-df-container {\n",
              "      display:flex;\n",
              "      gap: 12px;\n",
              "    }\n",
              "\n",
              "    .colab-df-convert {\n",
              "      background-color: #E8F0FE;\n",
              "      border: none;\n",
              "      border-radius: 50%;\n",
              "      cursor: pointer;\n",
              "      display: none;\n",
              "      fill: #1967D2;\n",
              "      height: 32px;\n",
              "      padding: 0 0 0 0;\n",
              "      width: 32px;\n",
              "    }\n",
              "\n",
              "    .colab-df-convert:hover {\n",
              "      background-color: #E2EBFA;\n",
              "      box-shadow: 0px 1px 2px rgba(60, 64, 67, 0.3), 0px 1px 3px 1px rgba(60, 64, 67, 0.15);\n",
              "      fill: #174EA6;\n",
              "    }\n",
              "\n",
              "    .colab-df-buttons div {\n",
              "      margin-bottom: 4px;\n",
              "    }\n",
              "\n",
              "    [theme=dark] .colab-df-convert {\n",
              "      background-color: #3B4455;\n",
              "      fill: #D2E3FC;\n",
              "    }\n",
              "\n",
              "    [theme=dark] .colab-df-convert:hover {\n",
              "      background-color: #434B5C;\n",
              "      box-shadow: 0px 1px 3px 1px rgba(0, 0, 0, 0.15);\n",
              "      filter: drop-shadow(0px 1px 2px rgba(0, 0, 0, 0.3));\n",
              "      fill: #FFFFFF;\n",
              "    }\n",
              "  </style>\n",
              "\n",
              "    <script>\n",
              "      const buttonEl =\n",
              "        document.querySelector('#df-ac3c005f-eb0f-4c54-9777-058ec7cb85ee button.colab-df-convert');\n",
              "      buttonEl.style.display =\n",
              "        google.colab.kernel.accessAllowed ? 'block' : 'none';\n",
              "\n",
              "      async function convertToInteractive(key) {\n",
              "        const element = document.querySelector('#df-ac3c005f-eb0f-4c54-9777-058ec7cb85ee');\n",
              "        const dataTable =\n",
              "          await google.colab.kernel.invokeFunction('convertToInteractive',\n",
              "                                                    [key], {});\n",
              "        if (!dataTable) return;\n",
              "\n",
              "        const docLinkHtml = 'Like what you see? Visit the ' +\n",
              "          '<a target=\"_blank\" href=https://colab.research.google.com/notebooks/data_table.ipynb>data table notebook</a>'\n",
              "          + ' to learn more about interactive tables.';\n",
              "        element.innerHTML = '';\n",
              "        dataTable['output_type'] = 'display_data';\n",
              "        await google.colab.output.renderOutput(dataTable, element);\n",
              "        const docLink = document.createElement('div');\n",
              "        docLink.innerHTML = docLinkHtml;\n",
              "        element.appendChild(docLink);\n",
              "      }\n",
              "    </script>\n",
              "  </div>\n",
              "\n",
              "\n",
              "<div id=\"df-5d148e32-0b0b-4c0d-959c-bc7114ad64b1\">\n",
              "  <button class=\"colab-df-quickchart\" onclick=\"quickchart('df-5d148e32-0b0b-4c0d-959c-bc7114ad64b1')\"\n",
              "            title=\"Suggest charts\"\n",
              "            style=\"display:none;\">\n",
              "\n",
              "<svg xmlns=\"http://www.w3.org/2000/svg\" height=\"24px\"viewBox=\"0 0 24 24\"\n",
              "     width=\"24px\">\n",
              "    <g>\n",
              "        <path d=\"M19 3H5c-1.1 0-2 .9-2 2v14c0 1.1.9 2 2 2h14c1.1 0 2-.9 2-2V5c0-1.1-.9-2-2-2zM9 17H7v-7h2v7zm4 0h-2V7h2v10zm4 0h-2v-4h2v4z\"/>\n",
              "    </g>\n",
              "</svg>\n",
              "  </button>\n",
              "\n",
              "<style>\n",
              "  .colab-df-quickchart {\n",
              "      --bg-color: #E8F0FE;\n",
              "      --fill-color: #1967D2;\n",
              "      --hover-bg-color: #E2EBFA;\n",
              "      --hover-fill-color: #174EA6;\n",
              "      --disabled-fill-color: #AAA;\n",
              "      --disabled-bg-color: #DDD;\n",
              "  }\n",
              "\n",
              "  [theme=dark] .colab-df-quickchart {\n",
              "      --bg-color: #3B4455;\n",
              "      --fill-color: #D2E3FC;\n",
              "      --hover-bg-color: #434B5C;\n",
              "      --hover-fill-color: #FFFFFF;\n",
              "      --disabled-bg-color: #3B4455;\n",
              "      --disabled-fill-color: #666;\n",
              "  }\n",
              "\n",
              "  .colab-df-quickchart {\n",
              "    background-color: var(--bg-color);\n",
              "    border: none;\n",
              "    border-radius: 50%;\n",
              "    cursor: pointer;\n",
              "    display: none;\n",
              "    fill: var(--fill-color);\n",
              "    height: 32px;\n",
              "    padding: 0;\n",
              "    width: 32px;\n",
              "  }\n",
              "\n",
              "  .colab-df-quickchart:hover {\n",
              "    background-color: var(--hover-bg-color);\n",
              "    box-shadow: 0 1px 2px rgba(60, 64, 67, 0.3), 0 1px 3px 1px rgba(60, 64, 67, 0.15);\n",
              "    fill: var(--button-hover-fill-color);\n",
              "  }\n",
              "\n",
              "  .colab-df-quickchart-complete:disabled,\n",
              "  .colab-df-quickchart-complete:disabled:hover {\n",
              "    background-color: var(--disabled-bg-color);\n",
              "    fill: var(--disabled-fill-color);\n",
              "    box-shadow: none;\n",
              "  }\n",
              "\n",
              "  .colab-df-spinner {\n",
              "    border: 2px solid var(--fill-color);\n",
              "    border-color: transparent;\n",
              "    border-bottom-color: var(--fill-color);\n",
              "    animation:\n",
              "      spin 1s steps(1) infinite;\n",
              "  }\n",
              "\n",
              "  @keyframes spin {\n",
              "    0% {\n",
              "      border-color: transparent;\n",
              "      border-bottom-color: var(--fill-color);\n",
              "      border-left-color: var(--fill-color);\n",
              "    }\n",
              "    20% {\n",
              "      border-color: transparent;\n",
              "      border-left-color: var(--fill-color);\n",
              "      border-top-color: var(--fill-color);\n",
              "    }\n",
              "    30% {\n",
              "      border-color: transparent;\n",
              "      border-left-color: var(--fill-color);\n",
              "      border-top-color: var(--fill-color);\n",
              "      border-right-color: var(--fill-color);\n",
              "    }\n",
              "    40% {\n",
              "      border-color: transparent;\n",
              "      border-right-color: var(--fill-color);\n",
              "      border-top-color: var(--fill-color);\n",
              "    }\n",
              "    60% {\n",
              "      border-color: transparent;\n",
              "      border-right-color: var(--fill-color);\n",
              "    }\n",
              "    80% {\n",
              "      border-color: transparent;\n",
              "      border-right-color: var(--fill-color);\n",
              "      border-bottom-color: var(--fill-color);\n",
              "    }\n",
              "    90% {\n",
              "      border-color: transparent;\n",
              "      border-bottom-color: var(--fill-color);\n",
              "    }\n",
              "  }\n",
              "</style>\n",
              "\n",
              "  <script>\n",
              "    async function quickchart(key) {\n",
              "      const quickchartButtonEl =\n",
              "        document.querySelector('#' + key + ' button');\n",
              "      quickchartButtonEl.disabled = true;  // To prevent multiple clicks.\n",
              "      quickchartButtonEl.classList.add('colab-df-spinner');\n",
              "      try {\n",
              "        const charts = await google.colab.kernel.invokeFunction(\n",
              "            'suggestCharts', [key], {});\n",
              "      } catch (error) {\n",
              "        console.error('Error during call to suggestCharts:', error);\n",
              "      }\n",
              "      quickchartButtonEl.classList.remove('colab-df-spinner');\n",
              "      quickchartButtonEl.classList.add('colab-df-quickchart-complete');\n",
              "    }\n",
              "    (() => {\n",
              "      let quickchartButtonEl =\n",
              "        document.querySelector('#df-5d148e32-0b0b-4c0d-959c-bc7114ad64b1 button');\n",
              "      quickchartButtonEl.style.display =\n",
              "        google.colab.kernel.accessAllowed ? 'block' : 'none';\n",
              "    })();\n",
              "  </script>\n",
              "</div>\n",
              "\n",
              "  <div id=\"id_3cfc0707-8a35-4b27-8c93-81e95fd55290\">\n",
              "    <style>\n",
              "      .colab-df-generate {\n",
              "        background-color: #E8F0FE;\n",
              "        border: none;\n",
              "        border-radius: 50%;\n",
              "        cursor: pointer;\n",
              "        display: none;\n",
              "        fill: #1967D2;\n",
              "        height: 32px;\n",
              "        padding: 0 0 0 0;\n",
              "        width: 32px;\n",
              "      }\n",
              "\n",
              "      .colab-df-generate:hover {\n",
              "        background-color: #E2EBFA;\n",
              "        box-shadow: 0px 1px 2px rgba(60, 64, 67, 0.3), 0px 1px 3px 1px rgba(60, 64, 67, 0.15);\n",
              "        fill: #174EA6;\n",
              "      }\n",
              "\n",
              "      [theme=dark] .colab-df-generate {\n",
              "        background-color: #3B4455;\n",
              "        fill: #D2E3FC;\n",
              "      }\n",
              "\n",
              "      [theme=dark] .colab-df-generate:hover {\n",
              "        background-color: #434B5C;\n",
              "        box-shadow: 0px 1px 3px 1px rgba(0, 0, 0, 0.15);\n",
              "        filter: drop-shadow(0px 1px 2px rgba(0, 0, 0, 0.3));\n",
              "        fill: #FFFFFF;\n",
              "      }\n",
              "    </style>\n",
              "    <button class=\"colab-df-generate\" onclick=\"generateWithVariable('ted')\"\n",
              "            title=\"Generate code using this dataframe.\"\n",
              "            style=\"display:none;\">\n",
              "\n",
              "  <svg xmlns=\"http://www.w3.org/2000/svg\" height=\"24px\"viewBox=\"0 0 24 24\"\n",
              "       width=\"24px\">\n",
              "    <path d=\"M7,19H8.4L18.45,9,17,7.55,7,17.6ZM5,21V16.75L18.45,3.32a2,2,0,0,1,2.83,0l1.4,1.43a1.91,1.91,0,0,1,.58,1.4,1.91,1.91,0,0,1-.58,1.4L9.25,21ZM18.45,9,17,7.55Zm-12,3A5.31,5.31,0,0,0,4.9,8.1,5.31,5.31,0,0,0,1,6.5,5.31,5.31,0,0,0,4.9,4.9,5.31,5.31,0,0,0,6.5,1,5.31,5.31,0,0,0,8.1,4.9,5.31,5.31,0,0,0,12,6.5,5.46,5.46,0,0,0,6.5,12Z\"/>\n",
              "  </svg>\n",
              "    </button>\n",
              "    <script>\n",
              "      (() => {\n",
              "      const buttonEl =\n",
              "        document.querySelector('#id_3cfc0707-8a35-4b27-8c93-81e95fd55290 button.colab-df-generate');\n",
              "      buttonEl.style.display =\n",
              "        google.colab.kernel.accessAllowed ? 'block' : 'none';\n",
              "\n",
              "      buttonEl.onclick = () => {\n",
              "        google.colab.notebook.generateWithVariable('ted');\n",
              "      }\n",
              "      })();\n",
              "    </script>\n",
              "  </div>\n",
              "\n",
              "    </div>\n",
              "  </div>\n"
            ],
            "application/vnd.google.colaboratory.intrinsic+json": {
              "type": "dataframe",
              "variable_name": "ted",
              "summary": "{\n  \"name\": \"ted\",\n  \"rows\": 500,\n  \"fields\": [\n    {\n      \"column\": \"transcript\",\n      \"properties\": {\n        \"dtype\": \"string\",\n        \"num_unique_values\": 500,\n        \"samples\": [\n          \"Chris Anderson Elon kind crazy dream persuade think try auto industry build electric Musk I university I think problem likely affect future world future humanity I think extremely important sustainable transport sustainable energy production sort overall sustainable energy problem big problem solve century independent environmental concern fact even produce good environment run out hydrocarbon need find sustainable mean operate CA Most american electricity come burn fossil fuel electric car plug electricity right element answer even source fuel produce power power plant use charge electric car natural gas prevalent hydrocarbon source fuel burn modern General Electric natural gas turbine get percent efficiency fuel internal combustion engine car get percent efficiency reason stationary power plant afford weigh lot voluminous waste heat run steam turbine generate secondary power source effect even transmission loss account even use source fuel twice charge electric car burn power plant CA scale deliver efficiency EM yes point sustainable mean power generation electricity generation solve sustainable electricity generation sense electric car mode transport CA get video Tesla assemble play video innovative process sure order accelerate advent electric transport I I think actually mode transport fully electric ironic exception rocket way Newton law question accelerate advent electric transport order car come energy efficient car mean incredibly light aluminum body chassis car North America fact apply lot rocket design technique car light despite large battery pack low drag coefficient car size result energy usage low advanced battery pack range competitive actually order mile range CA I mean battery pack incredibly heavy think math work out intelligently combine light body heavy battery gain spectacular efficiency EM exactly rest car light offset mass pack low drag coefficient good highway range fact customer Model S sort compete try get high possible range I think somebody recently get mile out single charge CA Bruno Bowden break world record EM Congratulations CA good news bad news drive mile hour constant speed get pull cop I mean certainly drive drive mile hour normal condition mile reasonable number CA let second video Tesla action ice dig New York Times way surprising thing experience drive create electric car responsiveness car incredible want people feel get mind meld car feel like car kind corner accelerate happen like car ESP electric car responsiveness gasoline car I think profound difference people experience test drive CA I mean beautiful expensive car road map mass market yeah goal Tesla sort step process version expensive car low volume version medium price medium volume version low price high volume step point sport car roadster get Model S start dollar generation car hopefully out year car get new technology generally major version order compelling mass market product I think progress direction I feel confident get CA I mean right get short commute drive get charge home huge nationwide network charge station fast come truly few key actually far charge station people realize Tesla develop supercharging technology offer buy Model S free forever maybe lot people realize actually California Nevada cover get eastern seaboard Boston cover end year able drive New York use Supercharger network charge time rate key thing ratio drive stop stop time seven drive hour want stop minute normally people stop start trip noon want stop bite eat hit restroom coffee CA proposition consumer charge hour common expect out minute wait hour good news help save planet way electricity free pay em actually expect people stop minute hour actually drive maybe mile stop half hour natural cadence trip CA right string energy bow work solar company SolarCity unusual I mention early sustainable electricity production consumption I confident primary mean power generation solar I mean indirect fusion get giant fusion generator sky sun need tap little bit energy purpose human civilization people know realize know world entirely solar powered sun frozen ice ball degree Kelvin sun power entire system precipitation ecosystem solar power CA gallon gasoline effectively thousand year sun power compress small space hard number work right solar remotely compete example natural gas fracke natural gas build business actually I confident solar beat hand include natural actually deep trouble CA sell solar panel consumer EM actually buy solar system lease solar system Most people choose lease thing solar power feed stock operational cost instal work decade work probably century key thing get cost initial installation low get cost financing low interest factor drive cost solar huge progress direction I confident actually beat natural gas CA current proposition consumer pay EM zero CA pay zero install panel roof pay long typical typical lease year value proposition sort allude straightforward money utility bill decrease pretty good deal CA like win consumer risk pay pay dream I mean electricity panel long term I mean company essentially SolarCity raise chunk capital company bank Google big partner expect return capital capital solarcity purchase install panel roof charge homeowner business owner monthly lease payment utility bill CA get long term commercial benefit power kind build new type distribute utility em exactly giant distribute utility I think good thing utility monopoly people choice effectively time competition monopoly utility power distribution line roof I think actually empowering homeowner business CA picture future majority power America decade lifetime I extremely confident solar plurality power likely majority I predict plurality year I bet CA Definition plurality solar source CA ah bet friend remain nameless CA I bet I think year ago roughly year I think power solar source CA right let bet I guess kind crazy bet money sale PayPal decide build space company Earth I get question lot true People hear joke guy small fortune space industry obviously start large punchline I tell people I try figure out fast way turn large fortune small look I like strangely close thing work out come close failure manage get point goal SpaceX try advance rocket technology particular try crack problem I think vital humanity space fare civilization rapidly fully reusable rocket CA humanity space fare civilization dream way young age dream Mars I build rocket I kid I think I involve standpoint thing need happen order future exciting inspire I think fundamental difference sort look future humanity space fare civilization out explore star multiple planet I think exciting compare forever confine Earth eventual extinction event CA slash cost build rocket percent depend calculate Earth NASA year significant advance technology airframe engine electronic launch operation long list innovation come little difficult communicate talk get copy right patent stuff interesting I EM patent CA patent think dangerous patent patent em primary competitor national government enforceability patent interesting big innovation ahead work tell em right big innovation CA fact let roll video talk happen EM absolutely thing rocket expendable rocket fly today fully expendable space shuttle attempt reusable rocket even main tank space shuttle throw away time reusable person group month refurbish flight space shuttle end cost billion dollar flight obviously work CA happen right important rocket stage able come able return launch site ready launch matter hour CA wow reusable rocket EM yes applause lot people realize cost fuel propellant small like jet cost propellant percent cost rocket possible achieve let roughly fold improvement cost spaceflight effectively reuse rocket important mode transport use plane train automobile bike horse reusable rocket solve problem order space fare civilization CA ask I question early popular travel cruise burn ship afterward EM certain cruise apparently highly problematic CA definitely expensive potentially absolutely disruptive technology I guess pave way dream actually point humanity Mars scale like colony Mars EM yeah exactly SpaceX combination company government need progress direction life multi planetary establish base planet Mars realistic option build base true multi planet specie CA progress let reusable simulation video actually good progress recently Grasshopper Test Project test vertical landing portion flight sort terminal portion tricky good test CA yeah sense scale dress cowboy Johnny Cash bolt mannequin rocket right let video actually amazing think rocket blast EM yeah rocket size story building rocket launch hover meter constantly adjust angle pitch yaw main engine maintain roll cold gas thruster CA cool applause Elon project Paypal SolarCity Tesla SpaceX spectacularly different ambitious project scale Earth person able innovate way I know actually I good answer I work lot I mean lot CA I theory EM okay right CA theory ability think system level design pull design technology business TED TBD design technology business package synthesize way few people critical thing feel damn confident click package crazy risk bet fortune multiple time I mean secret sauce education system learn truly amazing EM thank thank I think good framework think physics know sort principle reason generally I think I mean boil thing fundamental truth reason oppose reason analogy life get life reason analogy essentially mean copy people slight variation mentally able get day want new apply physics approach Physics figure out discover new thing counterintuitive like quantum mechanic counterintuitive I think important thing pay attention negative feedback solicit particularly friend sound like simple advice hardly incredibly helpful CA boy girl watch study physic learn man Elon Musk I wish day thank come thank CA awesome cool look bow fantastic thank\",\n          \"think US politic try sense year hit like follow proposition US partisanship bad time geographically spatialize divide coast want look outward center country want look inward today proposition sound reasonable true fact US partisanship way beginning republic geographically spatialize eerily way today US history far importantly actually extraordinary mechanism design help manage factional disagreement partisanship technology Constitution evolve subtly supplely design entity specific purpose teach manage factional disagreement possible technique overcome disagreement possible order tell story I want pivotal moment US history moment factional disagreement partisanship bear actually birth moment moment US history partisanship snap place person core story James Madison moment begin James Madison ride high Einstein US Constitution constitutional thought globally know period time year conceive theorize design pass get ratify US Constitution sense enormity accomplishment actually Madison know time today constitutional technology invent use US year later place like Canada India South Africa Brazil extraordinary range context world technology dominant effective technology manage governance moment Madison believe solve problem country run smoothly design technology minimize result faction political party remarkably think design constitution political party unnecessary get enormous degree help final marketing phase constitutional project man hear Alexander Hamilton Hamilton Madison passionate Madison restrain pansexual Madison speak woman expect year old marry Dolley live happily bluntly Hamilton kind person write hip hop musical Madison kind person write hip hop musical kind unlikely pairing produce Federalist Papers offer justification I mention marketing plan Constitution wildly effective wildly successful new government place Hamilton Secretary Treasury specific idea mind financial institution infrastructure exactly Madison constitution contemporary know tell Madison like Hamilton Newton infrastructure idea pretty straightforward Hamilton United States national bank permanent national debt immortal phrase manufacturing policy enable trade manufacturing agriculture country primary wealth historically Madison utterly ballistic pivotal critical decision instead tell world old friend Hamilton wrong adopt wrong policy actually begin argue Hamilton idea unconstitutional violate nature Constitution draft Hamilton respond way expect declare Madison personal political enemy word founder close friend close ally partner begin produce enmity good old fashioned way found political party Madison create party originally Democratic Republican Party republican short Hamilton create party Federalist Party party adopt position national politic extreme exaggerated clear example Madison believe country manufacturing trade agriculture begin attack Hamilton kind tool financial market Hamilton intend charge country overstatement Madison come believe attack city life coast corrupt people need look inward center country farmer essence republican virtue value american great specifically value Revolution value low taxis agriculture trade Hamilton respond Madison na\\u00efve childish goal turn United States primitive autarchy self reliant completely ineffectual global mean truth claim grossly exaggerate view order fight war found newspaper time US history news people receive come entirely lens Republican federalist party end turn out Constitution work work surprising way Madison fully anticipate series election time out box Federalists destroy Republicans Madison astonish course blame innovative view Madison fail innovate think reason press pro federalist advertiser federalist trader coast get capital Britain Federalism bed initial explanation despite fact Federalists power actually enact law criminalize criticism government happen United States Republicans fight Madison begin emphasize freedom speech build Bill Rights capacity civil society organize sure nationally small local group democratic Republican Societies begin form protest federalist dominate hegemony eventually Republicans manage win national election Madison Secretary State friend mentor Jefferson president actually time manage Federalists completely out business goal happen happen structure Constitution feature actually manage faction way suppose place important freedom speech innovative idea time out power government terrible civil society organization capacity private group individual political party organize try bring fundamental change significantly separation power extraordinary component Constitution thing separation power drive governance center get elect office United States help periphery right leave turn out actually govern bring board center midterm election come incredibly fast presidency begin drive president center structure president fact rule even govern propose law people agree feature tend drive president actually want get thing center glance newspaper today reveal principle completely operation matter president get elect president get president follow rule Constitution court stand occur recently past US history furthermore president need people elect official know need win election centrist voter policy order pass law happen takeaway brief excursus history partisanship follow partisanship real profound extraordinarily powerful terribly upsetting design Constitution great partisanship enable manage partisanship possible enable actually overcome partisan division produce compromise possible technology like technology work founder work grandchild work moment Civil War start work work grandparent parent work simple stand believe support organization care speak out issue matter get involve change express opinion respect knowledge confidence work constitutional technology job design stand believe deep breath\",\n          \"father I start company print human tissue organ people initially think little crazy progress lab lab world start get question like grow human body grow animal product like meat suggest I frankly I think little crazy I soon come realize crazy crazy today I convinced year look today raise slaughter billion animal hamburger handbag wasteful crazy know today maintain global herd billion animal provide meat dairy egg leather good few decade world population expand billion need nearly double billion animal maintain herd major toll planet animal raw material live livestock large user land fresh water big producer greenhouse gas drive climate change get animal close create breeding ground disease opportunity harm abuse clearly continue path environment public health food security risk way essentially animal product collection tissue right breed raise highly complex animal create product relatively simple tissue instead start complex sentient animal start tissue basic unit life biofabrication cell use grow biological product like tissue organ medicine biofabrication technique use grow sophisticated body like ear windpipe skin blood vessel bone successfully implant patient medicine biofabrication humane sustainable scalable new industry begin reimagine leather I emphasize leather widely beautiful long history grow leather technically simple grow animal product like meat mainly use cell type largely dimensional polarizing consumer regulator biofabrication understand clear initially people willing wear novel material willing eat novel food matter delicious sense leather gateway material beginning mainstream biofabrication industry succeed bring consumer bioproduct like meat close horizon grow leather begin cell animal simple biopsy animal cow lamb even exotic process harm Daisy cow live happy life isolate skin cell multiply cell culture medium million cell expand billion coax cell produce collagen naturally collagen stuff cell natural connective tissue extracellular matrix leather main building block cell collagen spread out form sheet layer thin sheet like phyllo pastry form thick sheet let mature finally multilayere skin short chemical tanning process create leather I excited time batch cultured leather fresh lab real genuine leather animal sacrifice characteristic leather cell hair remove scar insect bite waste leather grow shape wallet handbag car seat limit irregular shape cow alligator material grow leather ground control property interesting way piece leather mere seven tissue layer thick nearly transparent leather layer thick opaque kind fine control conventional leather tune leather desirable quality like softness breathability durability elasticity even thing like pattern mimic nature way improve type leather today leather imagination probably future animal product look like need look like actually state art today like manufacture cell culture thousand year begin product like wine beer yogurt speak food cultured food evolve today prepare cultured food beautiful sterile facility like brewery essentially bioreactor cell culture place imagine facility instead brewing beer brew leather meat imagine tour facility learn leather meat cultured process begin end even try clean open educational contrast hide guard remote factory leather meat produce today biofabrication natural evolution manufacture mankind environmentally responsible efficient humane allow creative design new material new product new facility need past kill animal resource civilized evolve ready literally figuratively cultured thank\"\n        ],\n        \"semantic_type\": \"\",\n        \"description\": \"\"\n      }\n    },\n    {\n      \"column\": \"url\",\n      \"properties\": {\n        \"dtype\": \"string\",\n        \"num_unique_values\": 500,\n        \"samples\": [\n          \"https://www.ted.com/talks/elon_musk_the_mind_behind_tesla_spacex_solarcity\\n\",\n          \"https://www.ted.com/talks/noah_feldman_hamilton_vs_madison_and_the_birth_of_american_partisanship\\n\",\n          \"https://www.ted.com/talks/andras_forgacs_leather_and_meat_without_killing_animals\\n\"\n        ],\n        \"semantic_type\": \"\",\n        \"description\": \"\"\n      }\n    },\n    {\n      \"column\": \"word_count\",\n      \"properties\": {\n        \"dtype\": \"number\",\n        \"std\": 931,\n        \"min\": 3,\n        \"max\": 5872,\n        \"num_unique_values\": 464,\n        \"samples\": [\n          2007,\n          3341,\n          2137\n        ],\n        \"semantic_type\": \"\",\n        \"description\": \"\"\n      }\n    }\n  ]\n}"
            }
          },
          "metadata": {},
          "execution_count": 48
        }
      ]
    },
    {
      "cell_type": "code",
      "source": [
        "# Import TfidfVectorizer\n",
        "from sklearn.feature_extraction.text import TfidfVectorizer\n",
        "\n",
        "# Create TfidfVectorizer object\n",
        "vectorizer = TfidfVectorizer()\n",
        "\n",
        "# Generate matrix of word vectors\n",
        "tfidf_matrix = vectorizer.fit_transform(ted.transcript)\n",
        "\n",
        "# Print the shape of tfidf_matrix\n",
        "print(tfidf_matrix.shape)\n",
        "\n",
        "\"Good job! You now know how to generate tf-idf vectors for a given corpus of text. You can use these vectors to perform predictive modeling just like we did with CountVectorizer. In the next few lessons, we will see another extremely useful application of the vectorized form of documents: generating recommendations.\""
      ],
      "metadata": {
        "colab": {
          "base_uri": "https://localhost:8080/",
          "height": 86
        },
        "id": "Ls4J85ntOYs0",
        "outputId": "e0b7ebe0-5fac-48c9-a297-23cb028d5aae"
      },
      "execution_count": 49,
      "outputs": [
        {
          "output_type": "stream",
          "name": "stdout",
          "text": [
            "(500, 21809)\n"
          ]
        },
        {
          "output_type": "execute_result",
          "data": {
            "text/plain": [
              "'Good job! You now know how to generate tf-idf vectors for a given corpus of text. You can use these vectors to perform predictive modeling just like we did with CountVectorizer. In the next few lessons, we will see another extremely useful application of the vectorized form of documents: generating recommendations.'"
            ],
            "application/vnd.google.colaboratory.intrinsic+json": {
              "type": "string"
            }
          },
          "metadata": {},
          "execution_count": 49
        }
      ]
    },
    {
      "cell_type": "code",
      "source": [
        "# Extract names for the vector and print first and last names\n",
        "\n",
        "ted_df_columns = vectorizer.get_feature_names_out()\n",
        "print(ted_df_columns[:10])\n",
        "print(ted_df_columns[-10:])"
      ],
      "metadata": {
        "colab": {
          "base_uri": "https://localhost:8080/"
        },
        "id": "T5YBMxDlOtMd",
        "outputId": "dba0733e-c8ed-459a-e5c1-78050b4b43e5"
      },
      "execution_count": 50,
      "outputs": [
        {
          "output_type": "stream",
          "name": "stdout",
          "text": [
            "['aa' 'aaa' 'aah' 'aak' 'aaleh' 'aaron' 'aarp' 'ab' 'ababa' 'abacha']\n",
            "['zyberk' 'zynga' 'zyprexa' 'zywiec' 'ºf' 'čapek' 'ʾan' 'ʾilla' 'ʾilāha'\n",
            " '送你葱']\n"
          ]
        }
      ]
    },
    {
      "cell_type": "markdown",
      "source": [
        "\n",
        "\n",
        "- The cosine similarity scores is the cosine of the angles between vectors.\n",
        "The cosine similarity score of two vectors is the cosine of the angle between the vectors. Mathematically, it is the ratio of the dot product of the vectors and the product of the magnitude of the two vectors.\n",
        "\n",
        "\n",
        "$$\\,$$\n",
        "**The Dot Product**\n",
        "\n",
        "Consider two vectors: w = {w1, w2, ... wn} and v = {v1, v2, ... vn}.\n",
        "- Then the **dot product:** $$ w*v =  (w1*v1) +  (w2*v2) + ... + (wn*vn) $$\n",
        "where n is number of elements\n",
        "\n",
        "e.g A and B: (4,7,1) and (5,2 3), A*B = 37.\n",
        "\n",
        "$$\\,$$\n",
        "\n",
        "**Magnitude of a Vector**\n",
        "\n",
        "It is essentially the lenght of a Vector.\n",
        "\n",
        "For any vector: $$v = {v1, v2, ... vn}.$$\n",
        "\n",
        "The magnitude is defined as:\n",
        "\n",
        "$$ ||V|| = \\sqrt{(v1)^{2} + (v2)^{2} + ... + (vn)^{2}}.  $$\n",
        "\n",
        "Magnitude of A from above is:\n",
        "$$||A|| = \\sqrt{66}$$\n",
        "\n",
        "$$\\,$$\n",
        "\n",
        "**Cosine Similarity Score - CS**\n",
        "\n",
        "We can now compute the cosine similarity scores of any two vectors given the above data. For example, suing A and B:\n",
        "\n",
        "The cosine score:\n",
        "$$Cos(A, B) = \\frac{A ⋅B}{|A||B|}.$$\n",
        "\n",
        "\n",
        "Inputing the figures, the cosine similarity score for A an B, will be: **0.7388**.\n",
        "This values is the cosine of the angle **theta** $\\theta$, between the two vectors.  \n",
        "\n",
        "- **CS** varies bweteen 0 and 1. However, in NLP document vectors almost always use non-negative weights, i.e 0 and 1. With 0 - No similarity and 1 indicates  \n",
        "identical.\n",
        "- Great job! Since document vectors use only non-negative weights, the cosine score lies between 0 and 1.\n",
        "\n",
        "- Which of the following is incorrect **CS**:\n",
        "\n",
        "$i \\in [0,1]$\n",
        "\n",
        "Great job! Since document vectors use only non-negative weights, the cosine score lies between 0 and 1.\n",
        "\n"
      ],
      "metadata": {
        "id": "L620f7vNPcd9"
      }
    },
    {
      "cell_type": "code",
      "source": [
        "# implement concept: CS\n",
        "from sklearn.metrics.pairwise import cosine_similarity\n",
        "\n",
        "# Initialize vectors\n",
        "a = (4, 7, 1)\n",
        "b = (5, 2, 3)\n",
        "\n",
        "# Compute cosine similarity\n",
        "cosine_similarity([a], [b])"
      ],
      "metadata": {
        "colab": {
          "base_uri": "https://localhost:8080/"
        },
        "id": "MjTnNAQgTo23",
        "outputId": "725ace07-5c16-4748-cb91-c3e5d67d33f5"
      },
      "execution_count": 52,
      "outputs": [
        {
          "output_type": "execute_result",
          "data": {
            "text/plain": [
              "array([[0.73881883]])"
            ]
          },
          "metadata": {},
          "execution_count": 52
        }
      ]
    },
    {
      "cell_type": "markdown",
      "source": [
        "**Computing dot product**\n",
        "\n",
        "In this exercise, we will learn to compute the dot product between two vectors, A = (1, 3) and B = (-2, 2), using the numpy library. More specifically, we will use the np.dot() function to compute the dot product of two numpy arrays."
      ],
      "metadata": {
        "id": "9pyQSoRuYRaq"
      }
    },
    {
      "cell_type": "code",
      "source": [
        "import numpy as np\n",
        "# Initialize numpy vectors\n",
        "A = np.array([1,3])\n",
        "B = np.array([-2, 2])\n",
        "\n",
        "# Compute dot product\n",
        "dot_prod = np.dot(A, B)\n",
        "\n",
        "# Print dot product\n",
        "print(dot_prod)\n",
        "\n",
        "\"Good job! The dot product of the two vectors is 1 * -2 + 3 * 2 = 4, which is indeed \\\n",
        "the output produced. We will not be using np.dot() too much in this course but it can \\\n",
        "prove to be a helpful function while computing dot products between two standalone vectors.\""
      ],
      "metadata": {
        "colab": {
          "base_uri": "https://localhost:8080/",
          "height": 86
        },
        "id": "KkgA3wOhYYTz",
        "outputId": "c9a1c719-d5d1-40be-b7ff-dda59b92d104"
      },
      "execution_count": 54,
      "outputs": [
        {
          "output_type": "stream",
          "name": "stdout",
          "text": [
            "4\n"
          ]
        },
        {
          "output_type": "execute_result",
          "data": {
            "text/plain": [
              "'Good job! The dot product of the two vectors is 1 * -2 + 3 * 2 = 4, which is indeed the output produced. We will not be using np.dot() too much in this course but it can prove to be a helpful function while computing dot products between two standalone vectors.'"
            ],
            "application/vnd.google.colaboratory.intrinsic+json": {
              "type": "string"
            }
          },
          "metadata": {},
          "execution_count": 54
        }
      ]
    },
    {
      "cell_type": "markdown",
      "source": [
        "**Cosine similarity matrix of a corpus**\n",
        "\n",
        "In this exercise, you have been given a corpus, which is a list containing five sentences. The corpus is printed in the console. You have to compute the cosine similarity matrix which contains the pairwise cosine similarity score for every pair of sentences (vectorized using tf-idf).\n",
        "\n",
        "Remember, the value corresponding to the ith row and jth column of a similarity matrix denotes the similarity score for the ith and jth vector."
      ],
      "metadata": {
        "id": "ukOMvo_cYlry"
      }
    },
    {
      "cell_type": "code",
      "source": [
        "# Initialize an instance of tf-idf Vectorizer\n",
        "tfidf_vectorizer = TfidfVectorizer()\n",
        "\n",
        "# Generate the tf-idf vectors for the corpus\n",
        "tfidf_matrix = tfidf_vectorizer.fit_transform(corpus)\n",
        "\n",
        "# Compute and print the cosine similarity matrix\n",
        "cosine_sim = cosine_similarity(tfidf_matrix,tfidf_matrix)\n",
        "print(cosine_sim, '\\n')\n",
        "\n",
        "\"Great work! As you will see in a subsequent lesson, computing the cosine similarity\\\n",
        " matrix lies at the heart of many practical systems such as recommenders. \\\n",
        " From our similarity matrix, we see that the first and the second sentence are \\\n",
        " the most similar. Also the fifth sentence has, on average, the lowest pairwise \\\n",
        " cosine scores. This is intuitive as it contains entities that are not present in the other sentences.\""
      ],
      "metadata": {
        "colab": {
          "base_uri": "https://localhost:8080/",
          "height": 240
        },
        "id": "yY68jnjNYOaF",
        "outputId": "8ec91a44-49ac-440d-d377-034ed26b2648"
      },
      "execution_count": 55,
      "outputs": [
        {
          "output_type": "stream",
          "name": "stdout",
          "text": [
            "[[1.         0.0817972  0.07474549 ... 0.06578764 0.0866769  0.15079147]\n",
            " [0.0817972  1.         0.07538805 ... 0.04409003 0.06637568 0.10458729]\n",
            " [0.07474549 0.07538805 1.         ... 0.0844377  0.09654146 0.15105839]\n",
            " ...\n",
            " [0.06578764 0.04409003 0.0844377  ... 1.         0.06806728 0.1166474 ]\n",
            " [0.0866769  0.06637568 0.09654146 ... 0.06806728 1.         0.11611499]\n",
            " [0.15079147 0.10458729 0.15105839 ... 0.1166474  0.11611499 1.        ]]\n"
          ]
        },
        {
          "output_type": "execute_result",
          "data": {
            "text/plain": [
              "'Great work! As you will see in a subsequent lesson, computing the cosine similarity matrix lies at the heart of many practical systems such as recommenders. From our similarity matrix, we see that the first and the second sentence are the most similar. Also the fifth sentence has, on average, the lowest pairwise cosine scores. This is intuitive as it contains entities that are not present in the other sentences.'"
            ],
            "application/vnd.google.colaboratory.intrinsic+json": {
              "type": "string"
            }
          },
          "metadata": {},
          "execution_count": 55
        }
      ]
    },
    {
      "cell_type": "markdown",
      "source": [
        "**Comparing linear_kernel and cosine_similarity**\n",
        "\n",
        "In this exercise, you have been given tfidf_matrix which contains the tf-idf vectors of a thousand documents. Your task is to generate the cosine similarity matrix for these vectors first using cosine_similarity and then, using linear_kernel.\n",
        "\n",
        "We will then compare the computation times for both functions."
      ],
      "metadata": {
        "id": "AZ7p3uGLaTdo"
      }
    },
    {
      "cell_type": "code",
      "source": [
        "# Record start time\n",
        "start = time.time()\n",
        "\n",
        "# Compute cosine similarity matrix\n",
        "cosine_sim = cosine_similarity(tfidf_matrix, tfidf_matrix)\n",
        "\n",
        "# Print cosine similarity matrix\n",
        "print(cosine_sim)\n",
        "\n",
        "# Print time taken\n",
        "print( )\n",
        "time_1 = time.time() - start\n",
        "print(\"Time taken: %s seconds\" %(time.time() - start))"
      ],
      "metadata": {
        "colab": {
          "base_uri": "https://localhost:8080/"
        },
        "id": "xrSKb9WoaZjs",
        "outputId": "664fa447-5b90-4e0d-97b1-f437c08ca024"
      },
      "execution_count": 69,
      "outputs": [
        {
          "output_type": "stream",
          "name": "stdout",
          "text": [
            "[[1.         0.0817972  0.07474549 ... 0.06578764 0.0866769  0.15079147]\n",
            " [0.0817972  1.         0.07538805 ... 0.04409003 0.06637568 0.10458729]\n",
            " [0.07474549 0.07538805 1.         ... 0.0844377  0.09654146 0.15105839]\n",
            " ...\n",
            " [0.06578764 0.04409003 0.0844377  ... 1.         0.06806728 0.1166474 ]\n",
            " [0.0866769  0.06637568 0.09654146 ... 0.06806728 1.         0.11611499]\n",
            " [0.15079147 0.10458729 0.15105839 ... 0.1166474  0.11611499 1.        ]]\n",
            "\n",
            "Time taken: 0.09083366394042969 seconds\n"
          ]
        }
      ]
    },
    {
      "cell_type": "code",
      "source": [
        "import time\n",
        "from sklearn.metrics.pairwise import linear_kernel\n",
        "# Record start time\n",
        "start = time.time()\n",
        "\n",
        "# Compute cosine similarity matrix\n",
        "cosine_sim = linear_kernel(tfidf_matrix, tfidf_matrix)\n",
        "\n",
        "# Print cosine similarity matrix\n",
        "print(cosine_sim)\n",
        "\n",
        "# Print time taken\n",
        "print( )\n",
        "time_2 = time.time() - start\n",
        "print(\"Time taken: %s seconds\" %(time.time() - start))\n",
        "print()\n",
        "print(\"linear_kernel time: %.3f and cosine_similarity time: %.3f\" % (time_2, time_1))\n",
        "print()\n",
        "print('The Linear Kernal is: ',  time_1/time_2, 'times faster', '\\n')\n",
        "\n",
        "\"Good job! Notice how both linear_kernel and cosine_similarity produced the same result. However, linear_kernel took a smaller amount of time to execute. When you're working with a very large amount of data and your vectors are in the tf-idf representation, it is good practice to default to linear_kernel to improve performance. (NOTE: In case, you see linear_kernel taking more time, it's because the dataset we're dealing with is extremely small and Python's time module is incapable of capture such minute time differences accurately)\""
      ],
      "metadata": {
        "colab": {
          "base_uri": "https://localhost:8080/",
          "height": 394
        },
        "id": "aeMxzNoBalny",
        "outputId": "0bf57263-6ba9-42bf-81c5-e0fc3c90e256"
      },
      "execution_count": 75,
      "outputs": [
        {
          "output_type": "stream",
          "name": "stdout",
          "text": [
            "[[1.         0.0817972  0.07474549 ... 0.06578764 0.0866769  0.15079147]\n",
            " [0.0817972  1.         0.07538805 ... 0.04409003 0.06637568 0.10458729]\n",
            " [0.07474549 0.07538805 1.         ... 0.0844377  0.09654146 0.15105839]\n",
            " ...\n",
            " [0.06578764 0.04409003 0.0844377  ... 1.         0.06806728 0.1166474 ]\n",
            " [0.0866769  0.06637568 0.09654146 ... 0.06806728 1.         0.11611499]\n",
            " [0.15079147 0.10458729 0.15105839 ... 0.1166474  0.11611499 1.        ]]\n",
            "\n",
            "Time taken: 0.08673477172851562 seconds\n",
            "\n",
            "linear_kernel time: 0.087 and cosine_similarity time: 0.091\n",
            "\n",
            "The Linear Kernal is:  1.0471405938851177 times faster \n",
            "\n"
          ]
        },
        {
          "output_type": "execute_result",
          "data": {
            "text/plain": [
              "\"Good job! Notice how both linear_kernel and cosine_similarity produced the same result. However, linear_kernel took a smaller amount of time to execute. When you're working with a very large amount of data and your vectors are in the tf-idf representation, it is good practice to default to linear_kernel to improve performance. (NOTE: In case, you see linear_kernel taking more time, it's because the dataset we're dealing with is extremely small and Python's time module is incapable of capture such minute time differences accurately)\""
            ],
            "application/vnd.google.colaboratory.intrinsic+json": {
              "type": "string"
            }
          },
          "metadata": {},
          "execution_count": 75
        }
      ]
    },
    {
      "cell_type": "code",
      "source": [
        "# extract title and plt line, save as movie_plot\n",
        "movie_plots_title = movie_plot_taglines[['title', 'overview']]\n",
        "movie_plots_title.head()\n",
        "\n",
        "# extract just overview\n",
        "movie_plots = movie_plot_taglines['overview']\n",
        "print(movie_plots.shape)\n",
        "movie_plots.head()"
      ],
      "metadata": {
        "colab": {
          "base_uri": "https://localhost:8080/",
          "height": 326
        },
        "id": "ljKbF3Kxc3IN",
        "outputId": "280f0a0d-404d-46d9-fa6a-a956e8b27157"
      },
      "execution_count": 87,
      "outputs": [
        {
          "output_type": "stream",
          "name": "stdout",
          "text": [
            "(9099,)\n"
          ]
        },
        {
          "output_type": "execute_result",
          "data": {
            "text/plain": [
              "0    Led by Woody, Andy's toys live happily in his ...\n",
              "1    When siblings Judy and Peter discover an encha...\n",
              "2    A family wedding reignites the ancient feud be...\n",
              "3    Cheated on, mistreated and stepped on, the wom...\n",
              "4    Just when George Banks has recovered from his ...\n",
              "Name: overview, dtype: object"
            ],
            "text/html": [
              "<div>\n",
              "<style scoped>\n",
              "    .dataframe tbody tr th:only-of-type {\n",
              "        vertical-align: middle;\n",
              "    }\n",
              "\n",
              "    .dataframe tbody tr th {\n",
              "        vertical-align: top;\n",
              "    }\n",
              "\n",
              "    .dataframe thead th {\n",
              "        text-align: right;\n",
              "    }\n",
              "</style>\n",
              "<table border=\"1\" class=\"dataframe\">\n",
              "  <thead>\n",
              "    <tr style=\"text-align: right;\">\n",
              "      <th></th>\n",
              "      <th>overview</th>\n",
              "    </tr>\n",
              "  </thead>\n",
              "  <tbody>\n",
              "    <tr>\n",
              "      <th>0</th>\n",
              "      <td>Led by Woody, Andy's toys live happily in his ...</td>\n",
              "    </tr>\n",
              "    <tr>\n",
              "      <th>1</th>\n",
              "      <td>When siblings Judy and Peter discover an encha...</td>\n",
              "    </tr>\n",
              "    <tr>\n",
              "      <th>2</th>\n",
              "      <td>A family wedding reignites the ancient feud be...</td>\n",
              "    </tr>\n",
              "    <tr>\n",
              "      <th>3</th>\n",
              "      <td>Cheated on, mistreated and stepped on, the wom...</td>\n",
              "    </tr>\n",
              "    <tr>\n",
              "      <th>4</th>\n",
              "      <td>Just when George Banks has recovered from his ...</td>\n",
              "    </tr>\n",
              "  </tbody>\n",
              "</table>\n",
              "</div><br><label><b>dtype:</b> object</label>"
            ]
          },
          "metadata": {},
          "execution_count": 87
        }
      ]
    },
    {
      "cell_type": "markdown",
      "source": [],
      "metadata": {
        "id": "XpvjYS4BfS6r"
      }
    },
    {
      "cell_type": "markdown",
      "source": [
        "**The recommender function**\n",
        "\n",
        "In this exercise, we will build a recommender function **get_recommendations()**, as discussed in the lesson and the previous exercise. As we know, it takes in a title, a cosine similarity matrix, and a movie title and index mapping as arguments and outputs a list of 10 titles most similar to the original title (excluding the title itself).\n",
        "\n",
        "You have been given a dataset metadata that consists of the movie titles and overviews. The head of this dataset has been printed to console."
      ],
      "metadata": {
        "id": "30HlVQZFfTfr"
      }
    },
    {
      "cell_type": "code",
      "source": [
        "metadata = movie_plot_taglines\n",
        "metadata.head()"
      ],
      "metadata": {
        "colab": {
          "base_uri": "https://localhost:8080/",
          "height": 260
        },
        "id": "SX9jjL-ffi0c",
        "outputId": "1e89608a-30a1-49e5-ef4e-a4cc4cd6c1ab"
      },
      "execution_count": 88,
      "outputs": [
        {
          "output_type": "execute_result",
          "data": {
            "text/plain": [
              "      id                        title  \\\n",
              "0    862                    Toy Story   \n",
              "1   8844                      Jumanji   \n",
              "2  15602             Grumpier Old Men   \n",
              "3  31357            Waiting to Exhale   \n",
              "4  11862  Father of the Bride Part II   \n",
              "\n",
              "                                            overview  \\\n",
              "0  Led by Woody, Andy's toys live happily in his ...   \n",
              "1  When siblings Judy and Peter discover an encha...   \n",
              "2  A family wedding reignites the ancient feud be...   \n",
              "3  Cheated on, mistreated and stepped on, the wom...   \n",
              "4  Just when George Banks has recovered from his ...   \n",
              "\n",
              "                                             tagline  \n",
              "0                                                NaN  \n",
              "1          Roll the dice and unleash the excitement!  \n",
              "2  Still Yelling. Still Fighting. Still Ready for...  \n",
              "3  Friends are the people who let you be yourself...  \n",
              "4  Just When His World Is Back To Normal... He's ...  "
            ],
            "text/html": [
              "\n",
              "  <div id=\"df-2ad11a96-4f1b-476e-9673-30ed46217dff\" class=\"colab-df-container\">\n",
              "    <div>\n",
              "<style scoped>\n",
              "    .dataframe tbody tr th:only-of-type {\n",
              "        vertical-align: middle;\n",
              "    }\n",
              "\n",
              "    .dataframe tbody tr th {\n",
              "        vertical-align: top;\n",
              "    }\n",
              "\n",
              "    .dataframe thead th {\n",
              "        text-align: right;\n",
              "    }\n",
              "</style>\n",
              "<table border=\"1\" class=\"dataframe\">\n",
              "  <thead>\n",
              "    <tr style=\"text-align: right;\">\n",
              "      <th></th>\n",
              "      <th>id</th>\n",
              "      <th>title</th>\n",
              "      <th>overview</th>\n",
              "      <th>tagline</th>\n",
              "    </tr>\n",
              "  </thead>\n",
              "  <tbody>\n",
              "    <tr>\n",
              "      <th>0</th>\n",
              "      <td>862</td>\n",
              "      <td>Toy Story</td>\n",
              "      <td>Led by Woody, Andy's toys live happily in his ...</td>\n",
              "      <td>NaN</td>\n",
              "    </tr>\n",
              "    <tr>\n",
              "      <th>1</th>\n",
              "      <td>8844</td>\n",
              "      <td>Jumanji</td>\n",
              "      <td>When siblings Judy and Peter discover an encha...</td>\n",
              "      <td>Roll the dice and unleash the excitement!</td>\n",
              "    </tr>\n",
              "    <tr>\n",
              "      <th>2</th>\n",
              "      <td>15602</td>\n",
              "      <td>Grumpier Old Men</td>\n",
              "      <td>A family wedding reignites the ancient feud be...</td>\n",
              "      <td>Still Yelling. Still Fighting. Still Ready for...</td>\n",
              "    </tr>\n",
              "    <tr>\n",
              "      <th>3</th>\n",
              "      <td>31357</td>\n",
              "      <td>Waiting to Exhale</td>\n",
              "      <td>Cheated on, mistreated and stepped on, the wom...</td>\n",
              "      <td>Friends are the people who let you be yourself...</td>\n",
              "    </tr>\n",
              "    <tr>\n",
              "      <th>4</th>\n",
              "      <td>11862</td>\n",
              "      <td>Father of the Bride Part II</td>\n",
              "      <td>Just when George Banks has recovered from his ...</td>\n",
              "      <td>Just When His World Is Back To Normal... He's ...</td>\n",
              "    </tr>\n",
              "  </tbody>\n",
              "</table>\n",
              "</div>\n",
              "    <div class=\"colab-df-buttons\">\n",
              "\n",
              "  <div class=\"colab-df-container\">\n",
              "    <button class=\"colab-df-convert\" onclick=\"convertToInteractive('df-2ad11a96-4f1b-476e-9673-30ed46217dff')\"\n",
              "            title=\"Convert this dataframe to an interactive table.\"\n",
              "            style=\"display:none;\">\n",
              "\n",
              "  <svg xmlns=\"http://www.w3.org/2000/svg\" height=\"24px\" viewBox=\"0 -960 960 960\">\n",
              "    <path d=\"M120-120v-720h720v720H120Zm60-500h600v-160H180v160Zm220 220h160v-160H400v160Zm0 220h160v-160H400v160ZM180-400h160v-160H180v160Zm440 0h160v-160H620v160ZM180-180h160v-160H180v160Zm440 0h160v-160H620v160Z\"/>\n",
              "  </svg>\n",
              "    </button>\n",
              "\n",
              "  <style>\n",
              "    .colab-df-container {\n",
              "      display:flex;\n",
              "      gap: 12px;\n",
              "    }\n",
              "\n",
              "    .colab-df-convert {\n",
              "      background-color: #E8F0FE;\n",
              "      border: none;\n",
              "      border-radius: 50%;\n",
              "      cursor: pointer;\n",
              "      display: none;\n",
              "      fill: #1967D2;\n",
              "      height: 32px;\n",
              "      padding: 0 0 0 0;\n",
              "      width: 32px;\n",
              "    }\n",
              "\n",
              "    .colab-df-convert:hover {\n",
              "      background-color: #E2EBFA;\n",
              "      box-shadow: 0px 1px 2px rgba(60, 64, 67, 0.3), 0px 1px 3px 1px rgba(60, 64, 67, 0.15);\n",
              "      fill: #174EA6;\n",
              "    }\n",
              "\n",
              "    .colab-df-buttons div {\n",
              "      margin-bottom: 4px;\n",
              "    }\n",
              "\n",
              "    [theme=dark] .colab-df-convert {\n",
              "      background-color: #3B4455;\n",
              "      fill: #D2E3FC;\n",
              "    }\n",
              "\n",
              "    [theme=dark] .colab-df-convert:hover {\n",
              "      background-color: #434B5C;\n",
              "      box-shadow: 0px 1px 3px 1px rgba(0, 0, 0, 0.15);\n",
              "      filter: drop-shadow(0px 1px 2px rgba(0, 0, 0, 0.3));\n",
              "      fill: #FFFFFF;\n",
              "    }\n",
              "  </style>\n",
              "\n",
              "    <script>\n",
              "      const buttonEl =\n",
              "        document.querySelector('#df-2ad11a96-4f1b-476e-9673-30ed46217dff button.colab-df-convert');\n",
              "      buttonEl.style.display =\n",
              "        google.colab.kernel.accessAllowed ? 'block' : 'none';\n",
              "\n",
              "      async function convertToInteractive(key) {\n",
              "        const element = document.querySelector('#df-2ad11a96-4f1b-476e-9673-30ed46217dff');\n",
              "        const dataTable =\n",
              "          await google.colab.kernel.invokeFunction('convertToInteractive',\n",
              "                                                    [key], {});\n",
              "        if (!dataTable) return;\n",
              "\n",
              "        const docLinkHtml = 'Like what you see? Visit the ' +\n",
              "          '<a target=\"_blank\" href=https://colab.research.google.com/notebooks/data_table.ipynb>data table notebook</a>'\n",
              "          + ' to learn more about interactive tables.';\n",
              "        element.innerHTML = '';\n",
              "        dataTable['output_type'] = 'display_data';\n",
              "        await google.colab.output.renderOutput(dataTable, element);\n",
              "        const docLink = document.createElement('div');\n",
              "        docLink.innerHTML = docLinkHtml;\n",
              "        element.appendChild(docLink);\n",
              "      }\n",
              "    </script>\n",
              "  </div>\n",
              "\n",
              "\n",
              "<div id=\"df-b1f29474-d37c-4e0d-9fe1-c2d62cf56c22\">\n",
              "  <button class=\"colab-df-quickchart\" onclick=\"quickchart('df-b1f29474-d37c-4e0d-9fe1-c2d62cf56c22')\"\n",
              "            title=\"Suggest charts\"\n",
              "            style=\"display:none;\">\n",
              "\n",
              "<svg xmlns=\"http://www.w3.org/2000/svg\" height=\"24px\"viewBox=\"0 0 24 24\"\n",
              "     width=\"24px\">\n",
              "    <g>\n",
              "        <path d=\"M19 3H5c-1.1 0-2 .9-2 2v14c0 1.1.9 2 2 2h14c1.1 0 2-.9 2-2V5c0-1.1-.9-2-2-2zM9 17H7v-7h2v7zm4 0h-2V7h2v10zm4 0h-2v-4h2v4z\"/>\n",
              "    </g>\n",
              "</svg>\n",
              "  </button>\n",
              "\n",
              "<style>\n",
              "  .colab-df-quickchart {\n",
              "      --bg-color: #E8F0FE;\n",
              "      --fill-color: #1967D2;\n",
              "      --hover-bg-color: #E2EBFA;\n",
              "      --hover-fill-color: #174EA6;\n",
              "      --disabled-fill-color: #AAA;\n",
              "      --disabled-bg-color: #DDD;\n",
              "  }\n",
              "\n",
              "  [theme=dark] .colab-df-quickchart {\n",
              "      --bg-color: #3B4455;\n",
              "      --fill-color: #D2E3FC;\n",
              "      --hover-bg-color: #434B5C;\n",
              "      --hover-fill-color: #FFFFFF;\n",
              "      --disabled-bg-color: #3B4455;\n",
              "      --disabled-fill-color: #666;\n",
              "  }\n",
              "\n",
              "  .colab-df-quickchart {\n",
              "    background-color: var(--bg-color);\n",
              "    border: none;\n",
              "    border-radius: 50%;\n",
              "    cursor: pointer;\n",
              "    display: none;\n",
              "    fill: var(--fill-color);\n",
              "    height: 32px;\n",
              "    padding: 0;\n",
              "    width: 32px;\n",
              "  }\n",
              "\n",
              "  .colab-df-quickchart:hover {\n",
              "    background-color: var(--hover-bg-color);\n",
              "    box-shadow: 0 1px 2px rgba(60, 64, 67, 0.3), 0 1px 3px 1px rgba(60, 64, 67, 0.15);\n",
              "    fill: var(--button-hover-fill-color);\n",
              "  }\n",
              "\n",
              "  .colab-df-quickchart-complete:disabled,\n",
              "  .colab-df-quickchart-complete:disabled:hover {\n",
              "    background-color: var(--disabled-bg-color);\n",
              "    fill: var(--disabled-fill-color);\n",
              "    box-shadow: none;\n",
              "  }\n",
              "\n",
              "  .colab-df-spinner {\n",
              "    border: 2px solid var(--fill-color);\n",
              "    border-color: transparent;\n",
              "    border-bottom-color: var(--fill-color);\n",
              "    animation:\n",
              "      spin 1s steps(1) infinite;\n",
              "  }\n",
              "\n",
              "  @keyframes spin {\n",
              "    0% {\n",
              "      border-color: transparent;\n",
              "      border-bottom-color: var(--fill-color);\n",
              "      border-left-color: var(--fill-color);\n",
              "    }\n",
              "    20% {\n",
              "      border-color: transparent;\n",
              "      border-left-color: var(--fill-color);\n",
              "      border-top-color: var(--fill-color);\n",
              "    }\n",
              "    30% {\n",
              "      border-color: transparent;\n",
              "      border-left-color: var(--fill-color);\n",
              "      border-top-color: var(--fill-color);\n",
              "      border-right-color: var(--fill-color);\n",
              "    }\n",
              "    40% {\n",
              "      border-color: transparent;\n",
              "      border-right-color: var(--fill-color);\n",
              "      border-top-color: var(--fill-color);\n",
              "    }\n",
              "    60% {\n",
              "      border-color: transparent;\n",
              "      border-right-color: var(--fill-color);\n",
              "    }\n",
              "    80% {\n",
              "      border-color: transparent;\n",
              "      border-right-color: var(--fill-color);\n",
              "      border-bottom-color: var(--fill-color);\n",
              "    }\n",
              "    90% {\n",
              "      border-color: transparent;\n",
              "      border-bottom-color: var(--fill-color);\n",
              "    }\n",
              "  }\n",
              "</style>\n",
              "\n",
              "  <script>\n",
              "    async function quickchart(key) {\n",
              "      const quickchartButtonEl =\n",
              "        document.querySelector('#' + key + ' button');\n",
              "      quickchartButtonEl.disabled = true;  // To prevent multiple clicks.\n",
              "      quickchartButtonEl.classList.add('colab-df-spinner');\n",
              "      try {\n",
              "        const charts = await google.colab.kernel.invokeFunction(\n",
              "            'suggestCharts', [key], {});\n",
              "      } catch (error) {\n",
              "        console.error('Error during call to suggestCharts:', error);\n",
              "      }\n",
              "      quickchartButtonEl.classList.remove('colab-df-spinner');\n",
              "      quickchartButtonEl.classList.add('colab-df-quickchart-complete');\n",
              "    }\n",
              "    (() => {\n",
              "      let quickchartButtonEl =\n",
              "        document.querySelector('#df-b1f29474-d37c-4e0d-9fe1-c2d62cf56c22 button');\n",
              "      quickchartButtonEl.style.display =\n",
              "        google.colab.kernel.accessAllowed ? 'block' : 'none';\n",
              "    })();\n",
              "  </script>\n",
              "</div>\n",
              "\n",
              "    </div>\n",
              "  </div>\n"
            ],
            "application/vnd.google.colaboratory.intrinsic+json": {
              "type": "dataframe",
              "variable_name": "metadata",
              "summary": "{\n  \"name\": \"metadata\",\n  \"rows\": 9099,\n  \"fields\": [\n    {\n      \"column\": \"id\",\n      \"properties\": {\n        \"dtype\": \"number\",\n        \"std\": 62159,\n        \"min\": 2,\n        \"max\": 416437,\n        \"num_unique_values\": 9082,\n        \"samples\": [\n          18320,\n          11362,\n          11797\n        ],\n        \"semantic_type\": \"\",\n        \"description\": \"\"\n      }\n    },\n    {\n      \"column\": \"title\",\n      \"properties\": {\n        \"dtype\": \"string\",\n        \"num_unique_values\": 8809,\n        \"samples\": [\n          \"Dark Passage\",\n          \"The 5,000 Fingers of Dr. T.\",\n          \"I Am Trying to Break Your Heart\"\n        ],\n        \"semantic_type\": \"\",\n        \"description\": \"\"\n      }\n    },\n    {\n      \"column\": \"overview\",\n      \"properties\": {\n        \"dtype\": \"string\",\n        \"num_unique_values\": 9064,\n        \"samples\": [\n          \"Jaded ex-CIA operative John Creasy reluctantly accepts a job as the bodyguard for a 10-year-old girl in Mexico City. They clash at first, but eventually bond, and when she's kidnapped he's consumed by fury and will stop at nothing to save her life.\",\n          \"A widescreen, Technicolor remake by Hitchcock of his 1934 film of the same title. A couple (James Stewart, Doris Day) vacationing in Morocco with their young son accidentally stumble upon an assassination plot. When the child is kidnapped to ensure their silence, they have to take matters into their own hands to save him.\",\n          \"In 1918, a young, disillusioned Adolph Hitler strikes up a friendship with a Jewish art dealer while weighing a life of passion for art vs. talent at politics\"\n        ],\n        \"semantic_type\": \"\",\n        \"description\": \"\"\n      }\n    },\n    {\n      \"column\": \"tagline\",\n      \"properties\": {\n        \"dtype\": \"string\",\n        \"num_unique_values\": 7010,\n        \"samples\": [\n          \"Some people change your life forever.\",\n          \"The Second Parts Are More Fools\",\n          \"If at first you don't succeed, lower your standards.\"\n        ],\n        \"semantic_type\": \"\",\n        \"description\": \"\"\n      }\n    }\n  ]\n}"
            }
          },
          "metadata": {},
          "execution_count": 88
        }
      ]
    },
    {
      "cell_type": "code",
      "source": [
        "# Generate mapping between titles and index\n",
        "indices = pd.Series(metadata.index, index=metadata['title']).drop_duplicates()\n",
        "indices.head(), indices.shape, indices.tail()"
      ],
      "metadata": {
        "colab": {
          "base_uri": "https://localhost:8080/"
        },
        "id": "HkvD3r4AhTFd",
        "outputId": "7a48ff3c-b8ba-4360-be29-268d9275b324"
      },
      "execution_count": 93,
      "outputs": [
        {
          "output_type": "execute_result",
          "data": {
            "text/plain": [
              "(title\n",
              " Toy Story                      0\n",
              " Jumanji                        1\n",
              " Grumpier Old Men               2\n",
              " Waiting to Exhale              3\n",
              " Father of the Bride Part II    4\n",
              " dtype: int64,\n",
              " (9099,),\n",
              " title\n",
              " The Last Brickmaker in America                        9094\n",
              " Rustom                                                9095\n",
              " Mohenjo Daro                                          9096\n",
              " Shin Godzilla                                         9097\n",
              " The Beatles: Eight Days a Week - The Touring Years    9098\n",
              " dtype: int64)"
            ]
          },
          "metadata": {},
          "execution_count": 93
        }
      ]
    },
    {
      "cell_type": "code",
      "source": [],
      "metadata": {
        "colab": {
          "base_uri": "https://localhost:8080/"
        },
        "id": "P9iq7zq1f22d",
        "outputId": "519618c4-18d8-4d7c-dd78-e59775e35de2"
      },
      "execution_count": 90,
      "outputs": [
        {
          "output_type": "execute_result",
          "data": {
            "text/plain": [
              "(title\n",
              " Toy Story                      0\n",
              " Jumanji                        1\n",
              " Grumpier Old Men               2\n",
              " Waiting to Exhale              3\n",
              " Father of the Bride Part II    4\n",
              " dtype: int64,\n",
              " (9099,),\n",
              " title\n",
              " The Last Brickmaker in America                        9094\n",
              " Rustom                                                9095\n",
              " Mohenjo Daro                                          9096\n",
              " Shin Godzilla                                         9097\n",
              " The Beatles: Eight Days a Week - The Touring Years    9098\n",
              " dtype: int64)"
            ]
          },
          "metadata": {},
          "execution_count": 90
        }
      ]
    },
    {
      "cell_type": "code",
      "source": [
        "# Generate mapping between titles and index\n",
        "indices = pd.Series(metadata.index, index=metadata['title']).drop_duplicates()\n",
        "\n",
        "\n",
        "# The recomender function\n",
        "def get_recommendations(title, cosine_sim, indices, num_recom = 10):\n",
        "    # Get index of movie that matches title\n",
        "    idx = indices[title]\n",
        "    # Sort the movies based on the similarity scores\n",
        "    sim_scores = list(enumerate(cosine_sim[idx]))\n",
        "    sim_scores = sorted(sim_scores, key=lambda x: x[1], reverse=True)\n",
        "    # Get the scores for 10 most similar movies\n",
        "    sim_scores = sim_scores[1: num_recom + 1]\n",
        "    # Get the movie indices\n",
        "    movie_indices = [i[0] for i in sim_scores]\n",
        "    # Return the top 10 most similar movies\n",
        "    return metadata['title'].iloc[movie_indices]\n",
        "\n",
        "\n",
        "\"Good job! With this recommender function in our toolkit, we are now in a very good place to build the rest of the components of our recommendation engine.\""
      ],
      "metadata": {
        "colab": {
          "base_uri": "https://localhost:8080/",
          "height": 42
        },
        "id": "dtusfm72fzCd",
        "outputId": "d9fc5030-979f-469f-c2fd-1149f9babbc7"
      },
      "execution_count": 112,
      "outputs": [
        {
          "output_type": "execute_result",
          "data": {
            "text/plain": [
              "'Good job! With this recommender function in our toolkit, we are now in a very good place to build the rest of the components of our recommendation engine.'"
            ],
            "application/vnd.google.colaboratory.intrinsic+json": {
              "type": "string"
            }
          },
          "metadata": {},
          "execution_count": 112
        }
      ]
    },
    {
      "cell_type": "markdown",
      "source": [
        "**TED talk recommender**\n",
        "\n",
        "In this exercise, we will build a recommendation system that suggests **TED Talks** based on their transcripts. You have been given a **get_recommendations()** function that takes in the **title of a talk**, a **similarity matrix** and an **indices series** as its arguments, and outputs a **list of most similar talks**. indices has already been provided to you.\n",
        "\n",
        "You have also been given a transcripts series that contains the transcripts of around 500 TED talks. Your task is to generate a cosine similarity matrix for the tf-idf vectors of the talk transcripts.\n",
        "\n",
        "Consequently, we will generate recommendations for a talk titled '5 ways to kill your dreams' by Brazilian entrepreneur Bel Pesce."
      ],
      "metadata": {
        "id": "ElsJ0yzfgQEz"
      }
    },
    {
      "cell_type": "code",
      "source": [
        "ted.head()"
      ],
      "metadata": {
        "colab": {
          "base_uri": "https://localhost:8080/",
          "height": 260
        },
        "id": "N_Ewf6OnhhFA",
        "outputId": "7d5bd077-bd33-4f13-b389-e1bafce5b2aa"
      },
      "execution_count": 94,
      "outputs": [
        {
          "output_type": "execute_result",
          "data": {
            "text/plain": [
              "                                          transcript  \\\n",
              "0  We're going to talk — my — a new lecture, just...   \n",
              "1  This is a representation of your brain, and yo...   \n",
              "2  It's a great honor today to share with you The...   \n",
              "3  My passions are music, technology and making t...   \n",
              "4  It used to be that if you wanted to get a comp...   \n",
              "\n",
              "                                                 url  \n",
              "0  https://www.ted.com/talks/al_seckel_says_our_b...  \n",
              "1  https://www.ted.com/talks/aaron_o_connell_maki...  \n",
              "2  https://www.ted.com/talks/carter_emmart_demos_...  \n",
              "3  https://www.ted.com/talks/jared_ficklin_new_wa...  \n",
              "4  https://www.ted.com/talks/jeremy_howard_the_wo...  "
            ],
            "text/html": [
              "\n",
              "  <div id=\"df-d777026d-cdb6-4592-b6af-b2eab69ce97a\" class=\"colab-df-container\">\n",
              "    <div>\n",
              "<style scoped>\n",
              "    .dataframe tbody tr th:only-of-type {\n",
              "        vertical-align: middle;\n",
              "    }\n",
              "\n",
              "    .dataframe tbody tr th {\n",
              "        vertical-align: top;\n",
              "    }\n",
              "\n",
              "    .dataframe thead th {\n",
              "        text-align: right;\n",
              "    }\n",
              "</style>\n",
              "<table border=\"1\" class=\"dataframe\">\n",
              "  <thead>\n",
              "    <tr style=\"text-align: right;\">\n",
              "      <th></th>\n",
              "      <th>transcript</th>\n",
              "      <th>url</th>\n",
              "    </tr>\n",
              "  </thead>\n",
              "  <tbody>\n",
              "    <tr>\n",
              "      <th>0</th>\n",
              "      <td>We're going to talk — my — a new lecture, just...</td>\n",
              "      <td>https://www.ted.com/talks/al_seckel_says_our_b...</td>\n",
              "    </tr>\n",
              "    <tr>\n",
              "      <th>1</th>\n",
              "      <td>This is a representation of your brain, and yo...</td>\n",
              "      <td>https://www.ted.com/talks/aaron_o_connell_maki...</td>\n",
              "    </tr>\n",
              "    <tr>\n",
              "      <th>2</th>\n",
              "      <td>It's a great honor today to share with you The...</td>\n",
              "      <td>https://www.ted.com/talks/carter_emmart_demos_...</td>\n",
              "    </tr>\n",
              "    <tr>\n",
              "      <th>3</th>\n",
              "      <td>My passions are music, technology and making t...</td>\n",
              "      <td>https://www.ted.com/talks/jared_ficklin_new_wa...</td>\n",
              "    </tr>\n",
              "    <tr>\n",
              "      <th>4</th>\n",
              "      <td>It used to be that if you wanted to get a comp...</td>\n",
              "      <td>https://www.ted.com/talks/jeremy_howard_the_wo...</td>\n",
              "    </tr>\n",
              "  </tbody>\n",
              "</table>\n",
              "</div>\n",
              "    <div class=\"colab-df-buttons\">\n",
              "\n",
              "  <div class=\"colab-df-container\">\n",
              "    <button class=\"colab-df-convert\" onclick=\"convertToInteractive('df-d777026d-cdb6-4592-b6af-b2eab69ce97a')\"\n",
              "            title=\"Convert this dataframe to an interactive table.\"\n",
              "            style=\"display:none;\">\n",
              "\n",
              "  <svg xmlns=\"http://www.w3.org/2000/svg\" height=\"24px\" viewBox=\"0 -960 960 960\">\n",
              "    <path d=\"M120-120v-720h720v720H120Zm60-500h600v-160H180v160Zm220 220h160v-160H400v160Zm0 220h160v-160H400v160ZM180-400h160v-160H180v160Zm440 0h160v-160H620v160ZM180-180h160v-160H180v160Zm440 0h160v-160H620v160Z\"/>\n",
              "  </svg>\n",
              "    </button>\n",
              "\n",
              "  <style>\n",
              "    .colab-df-container {\n",
              "      display:flex;\n",
              "      gap: 12px;\n",
              "    }\n",
              "\n",
              "    .colab-df-convert {\n",
              "      background-color: #E8F0FE;\n",
              "      border: none;\n",
              "      border-radius: 50%;\n",
              "      cursor: pointer;\n",
              "      display: none;\n",
              "      fill: #1967D2;\n",
              "      height: 32px;\n",
              "      padding: 0 0 0 0;\n",
              "      width: 32px;\n",
              "    }\n",
              "\n",
              "    .colab-df-convert:hover {\n",
              "      background-color: #E2EBFA;\n",
              "      box-shadow: 0px 1px 2px rgba(60, 64, 67, 0.3), 0px 1px 3px 1px rgba(60, 64, 67, 0.15);\n",
              "      fill: #174EA6;\n",
              "    }\n",
              "\n",
              "    .colab-df-buttons div {\n",
              "      margin-bottom: 4px;\n",
              "    }\n",
              "\n",
              "    [theme=dark] .colab-df-convert {\n",
              "      background-color: #3B4455;\n",
              "      fill: #D2E3FC;\n",
              "    }\n",
              "\n",
              "    [theme=dark] .colab-df-convert:hover {\n",
              "      background-color: #434B5C;\n",
              "      box-shadow: 0px 1px 3px 1px rgba(0, 0, 0, 0.15);\n",
              "      filter: drop-shadow(0px 1px 2px rgba(0, 0, 0, 0.3));\n",
              "      fill: #FFFFFF;\n",
              "    }\n",
              "  </style>\n",
              "\n",
              "    <script>\n",
              "      const buttonEl =\n",
              "        document.querySelector('#df-d777026d-cdb6-4592-b6af-b2eab69ce97a button.colab-df-convert');\n",
              "      buttonEl.style.display =\n",
              "        google.colab.kernel.accessAllowed ? 'block' : 'none';\n",
              "\n",
              "      async function convertToInteractive(key) {\n",
              "        const element = document.querySelector('#df-d777026d-cdb6-4592-b6af-b2eab69ce97a');\n",
              "        const dataTable =\n",
              "          await google.colab.kernel.invokeFunction('convertToInteractive',\n",
              "                                                    [key], {});\n",
              "        if (!dataTable) return;\n",
              "\n",
              "        const docLinkHtml = 'Like what you see? Visit the ' +\n",
              "          '<a target=\"_blank\" href=https://colab.research.google.com/notebooks/data_table.ipynb>data table notebook</a>'\n",
              "          + ' to learn more about interactive tables.';\n",
              "        element.innerHTML = '';\n",
              "        dataTable['output_type'] = 'display_data';\n",
              "        await google.colab.output.renderOutput(dataTable, element);\n",
              "        const docLink = document.createElement('div');\n",
              "        docLink.innerHTML = docLinkHtml;\n",
              "        element.appendChild(docLink);\n",
              "      }\n",
              "    </script>\n",
              "  </div>\n",
              "\n",
              "\n",
              "<div id=\"df-9451873a-b6d0-4cb9-9770-89ac7a3bde5e\">\n",
              "  <button class=\"colab-df-quickchart\" onclick=\"quickchart('df-9451873a-b6d0-4cb9-9770-89ac7a3bde5e')\"\n",
              "            title=\"Suggest charts\"\n",
              "            style=\"display:none;\">\n",
              "\n",
              "<svg xmlns=\"http://www.w3.org/2000/svg\" height=\"24px\"viewBox=\"0 0 24 24\"\n",
              "     width=\"24px\">\n",
              "    <g>\n",
              "        <path d=\"M19 3H5c-1.1 0-2 .9-2 2v14c0 1.1.9 2 2 2h14c1.1 0 2-.9 2-2V5c0-1.1-.9-2-2-2zM9 17H7v-7h2v7zm4 0h-2V7h2v10zm4 0h-2v-4h2v4z\"/>\n",
              "    </g>\n",
              "</svg>\n",
              "  </button>\n",
              "\n",
              "<style>\n",
              "  .colab-df-quickchart {\n",
              "      --bg-color: #E8F0FE;\n",
              "      --fill-color: #1967D2;\n",
              "      --hover-bg-color: #E2EBFA;\n",
              "      --hover-fill-color: #174EA6;\n",
              "      --disabled-fill-color: #AAA;\n",
              "      --disabled-bg-color: #DDD;\n",
              "  }\n",
              "\n",
              "  [theme=dark] .colab-df-quickchart {\n",
              "      --bg-color: #3B4455;\n",
              "      --fill-color: #D2E3FC;\n",
              "      --hover-bg-color: #434B5C;\n",
              "      --hover-fill-color: #FFFFFF;\n",
              "      --disabled-bg-color: #3B4455;\n",
              "      --disabled-fill-color: #666;\n",
              "  }\n",
              "\n",
              "  .colab-df-quickchart {\n",
              "    background-color: var(--bg-color);\n",
              "    border: none;\n",
              "    border-radius: 50%;\n",
              "    cursor: pointer;\n",
              "    display: none;\n",
              "    fill: var(--fill-color);\n",
              "    height: 32px;\n",
              "    padding: 0;\n",
              "    width: 32px;\n",
              "  }\n",
              "\n",
              "  .colab-df-quickchart:hover {\n",
              "    background-color: var(--hover-bg-color);\n",
              "    box-shadow: 0 1px 2px rgba(60, 64, 67, 0.3), 0 1px 3px 1px rgba(60, 64, 67, 0.15);\n",
              "    fill: var(--button-hover-fill-color);\n",
              "  }\n",
              "\n",
              "  .colab-df-quickchart-complete:disabled,\n",
              "  .colab-df-quickchart-complete:disabled:hover {\n",
              "    background-color: var(--disabled-bg-color);\n",
              "    fill: var(--disabled-fill-color);\n",
              "    box-shadow: none;\n",
              "  }\n",
              "\n",
              "  .colab-df-spinner {\n",
              "    border: 2px solid var(--fill-color);\n",
              "    border-color: transparent;\n",
              "    border-bottom-color: var(--fill-color);\n",
              "    animation:\n",
              "      spin 1s steps(1) infinite;\n",
              "  }\n",
              "\n",
              "  @keyframes spin {\n",
              "    0% {\n",
              "      border-color: transparent;\n",
              "      border-bottom-color: var(--fill-color);\n",
              "      border-left-color: var(--fill-color);\n",
              "    }\n",
              "    20% {\n",
              "      border-color: transparent;\n",
              "      border-left-color: var(--fill-color);\n",
              "      border-top-color: var(--fill-color);\n",
              "    }\n",
              "    30% {\n",
              "      border-color: transparent;\n",
              "      border-left-color: var(--fill-color);\n",
              "      border-top-color: var(--fill-color);\n",
              "      border-right-color: var(--fill-color);\n",
              "    }\n",
              "    40% {\n",
              "      border-color: transparent;\n",
              "      border-right-color: var(--fill-color);\n",
              "      border-top-color: var(--fill-color);\n",
              "    }\n",
              "    60% {\n",
              "      border-color: transparent;\n",
              "      border-right-color: var(--fill-color);\n",
              "    }\n",
              "    80% {\n",
              "      border-color: transparent;\n",
              "      border-right-color: var(--fill-color);\n",
              "      border-bottom-color: var(--fill-color);\n",
              "    }\n",
              "    90% {\n",
              "      border-color: transparent;\n",
              "      border-bottom-color: var(--fill-color);\n",
              "    }\n",
              "  }\n",
              "</style>\n",
              "\n",
              "  <script>\n",
              "    async function quickchart(key) {\n",
              "      const quickchartButtonEl =\n",
              "        document.querySelector('#' + key + ' button');\n",
              "      quickchartButtonEl.disabled = true;  // To prevent multiple clicks.\n",
              "      quickchartButtonEl.classList.add('colab-df-spinner');\n",
              "      try {\n",
              "        const charts = await google.colab.kernel.invokeFunction(\n",
              "            'suggestCharts', [key], {});\n",
              "      } catch (error) {\n",
              "        console.error('Error during call to suggestCharts:', error);\n",
              "      }\n",
              "      quickchartButtonEl.classList.remove('colab-df-spinner');\n",
              "      quickchartButtonEl.classList.add('colab-df-quickchart-complete');\n",
              "    }\n",
              "    (() => {\n",
              "      let quickchartButtonEl =\n",
              "        document.querySelector('#df-9451873a-b6d0-4cb9-9770-89ac7a3bde5e button');\n",
              "      quickchartButtonEl.style.display =\n",
              "        google.colab.kernel.accessAllowed ? 'block' : 'none';\n",
              "    })();\n",
              "  </script>\n",
              "</div>\n",
              "\n",
              "    </div>\n",
              "  </div>\n"
            ],
            "application/vnd.google.colaboratory.intrinsic+json": {
              "type": "dataframe",
              "variable_name": "ted",
              "summary": "{\n  \"name\": \"ted\",\n  \"rows\": 500,\n  \"fields\": [\n    {\n      \"column\": \"transcript\",\n      \"properties\": {\n        \"dtype\": \"string\",\n        \"num_unique_values\": 500,\n        \"samples\": [\n          \"Chris Anderson: Elon, what kind of crazy dream would persuade you to think of trying to take on the auto industry and build an all-electric car?Elon Musk: Well, it goes back to when I was in university. I thought about, what are the problems that are most likely to affect the future of the world or the future of humanity? I think it's extremely important that we have sustainable transport and sustainable energy production. That sort of overall sustainable energy problem is the biggest problem that we have to solve this century, independent of environmental concerns. In fact, even if producing CO2 was good for the environment, given that we're going to run out of hydrocarbons, we need to find some sustainable means of operating.CA: Most of American electricity comes from burning fossil fuels. How can an electric car that plugs into that electricity help?EM: Right. There's two elements to that answer. One is that, even if you take the same source fuel and produce power at the power plant and use it to charge electric cars, you're still better off. So if you take, say, natural gas, which is the most prevalent hydrocarbon source fuel, if you burn that in a modern General Electric natural gas turbine, you'll get about 60 percent efficiency. If you put that same fuel in an internal combustion engine car, you get about 20 percent efficiency. And the reason is, in the stationary power plant, you can afford to have something that weighs a lot more, is voluminous, and you can take the waste heat and run a steam turbine and generate a secondary power source. So in effect, even after you've taken transmission loss into account and everything, even using the same source fuel, you're at least twice as better off charging an electric car, then burning it at the power plant.CA: That scale delivers efficiency.EM: Yes, it does. And then the other point is, we have to have sustainable means of power generation anyway, electricity generation. So given that we have to solve sustainable electricity generation, then it makes sense for us to have electric cars as the mode of transport.CA: So we've got some video here of the Tesla being assembled, which, if we could play that first video \\u2014 So what is innovative about this process in this vehicle?EM: Sure. So, in order to accelerate the advent of electric transport, and I should say that I think, actually, all modes of transport will become fully electric with the ironic exception of rockets. There's just no way around Newton's third law. The question is how do you accelerate the advent of electric transport? And in order to do that for cars, you have to come up with a really energy efficient car, so that means making it incredibly light, and so what you're seeing here is the only all-aluminum body and chassis car made in North America. In fact, we applied a lot of rocket design techniques to make the car light despite having a very large battery pack. And then it also has the lowest drag coefficient of any car of its size. So as a result, the energy usage is very low, and it has the most advanced battery pack, and that's what gives it the range that's competitive, so you can actually have on the order of a 250-mile range.CA: I mean, those battery packs are incredibly heavy, but you think the math can still work out intelligently \\u2014 by combining light body, heavy battery, you can still gain spectacular efficiency.EM: Exactly. The rest of the car has to be very light to offset the mass of the pack, and then you have to have a low drag coefficient so that you have good highway range. And in fact, customers of the Model S are sort of competing with each other to try to get the highest possible range. I think somebody recently got 420 miles out of a single charge.CA: Bruno Bowden, who's here, did that, broke the world record.EM: Congratulations.CA: That was the good news. The bad news was that to do it, he had to drive at 18 miles an hour constant speed and got pulled over by the cops. (Laughter)EM: I mean, you can certainly drive \\u2014 if you drive it 65 miles an hour, under normal conditions, 250 miles is a reasonable number.CA: Let's show that second video showing the Tesla in action on ice. Not at all a dig at The New York Times, this, by the way. What is the most surprising thing about the experience of driving the car?EM: In creating an electric car, the responsiveness of the car is really incredible. So we wanted really to have people feel as though they've almost got to mind meld with the car, so you just feel like you and the car are kind of one, and as you corner and accelerate, it just happens, like the car has ESP. You can do that with an electric car because of its responsiveness. You can't do that with a gasoline car. I think that's really a profound difference, and people only experience that when they have a test drive.CA: I mean, this is a beautiful but expensive car. Is there a road map where this becomes a mass-market vehicle?EM: Yeah. The goal of Tesla has always been to have a sort of three-step process, where version one was an expensive car at low volume, version two is medium priced and medium volume, and then version three would be low price, high volume. So we're at step two at this point. So we had a $100,000 sports car, which was the Roadster. Then we've got the Model S, which starts at around 50,000 dollars. And our third generation car, which should hopefully be out in about three or four years will be a $30,000 car. But whenever you've got really new technology, it generally takes about three major versions in order to make it a compelling mass-market product. And so I think we're making progress in that direction, and I feel confident that we'll get there.CA: I mean, right now, if you've got a short commute, you can drive, you can get back, you can charge it at home. There isn't a huge nationwide network of charging stations now that are fast. Do you see that coming, really, truly, or just on a few key routes?EM: There actually are far more charging stations than people realize, and at Tesla we developed something called a Supercharging technology, and we're offering that if you buy a Model S for free, forever. And so this is something that maybe a lot of people don't realize. We actually have California and Nevada covered, and we've got the Eastern seaboard from Boston to D.C. covered. By the end of this year, you'll be able to drive from L.A. to New York just using the Supercharger network, which charges at five times the rate of anything else. And the key thing is to have a ratio of drive to stop, to stop time, of about six or seven. So if you drive for three hours, you want to stop for 20 or 30 minutes, because that's normally what people will stop for. So if you start a trip at 9 a.m., by noon you want to stop to have a bite to eat, hit the restroom, coffee, and keep going.CA: So your proposition to consumers is, for the full charge, it could take an hour. So it's common \\u2014 don't expect to be out of here in 10 minutes. Wait for an hour, but the good news is, you're helping save the planet, and by the way, the electricity is free. You don't pay anything.EM: Actually, what we're expecting is for people to stop for about 20 to 30 minutes, not for an hour. It's actually better to drive for about maybe 160, 170 miles and then stop for half an hour and then keep going. That's the natural cadence of a trip. CA: All right. So this is only one string to your energy bow. You've been working on this solar company SolarCity. What's unusual about that?EM: Well, as I mentioned earlier, we have to have sustainable electricity production as well as consumption, so I'm quite confident that the primary means of power generation will be solar. I mean, it's really indirect fusion, is what it is. We've got this giant fusion generator in the sky called the sun, and we just need to tap a little bit of that energy for purposes of human civilization. What most people know but don't realize they know is that the world is almost entirely solar-powered already. If the sun wasn't there, we'd be a frozen ice ball at three degrees Kelvin, and the sun powers the entire system of precipitation. The whole ecosystem is solar-powered.CA: But in a gallon of gasoline, you have, effectively, thousands of years of sun power compressed into a small space, so it's hard to make the numbers work right now on solar, and to remotely compete with, for example, natural gas, fracked natural gas. How are you going to build a business here?EM: Well actually, I'm confident that solar will beat everything, hands down, including natural gas.(Applause)CA: How?EM: It must, actually. If it doesn't, we're in deep trouble.CA: But you're not selling solar panels to consumers. What are you doing? EM: No, we actually are. You can buy a solar system or you can lease a solar system. Most people choose to lease. And the thing about solar power is that it doesn't have any feed stock or operational costs, so once it's installed, it's just there. It works for decades. It'll work for probably a century. So therefore, the key thing to do is to get the cost of that initial installation low, and then get the cost of the financing low, because that interest \\u2014 those are the two factors that drive the cost of solar. And we've made huge progress in that direction, and that's why I'm confident we'll actually beat natural gas.CA: So your current proposition to consumers is, don't pay so much up front.EM: Zero.CA: Pay zero up front. We will install panels on your roof. You will then pay, how long is a typical lease?EM: Typical leases are 20 years, but the value proposition is, as you're sort of alluding to, quite straightforward. It's no money down, and your utility bill decreases. Pretty good deal.CA: So that seems like a win for the consumer. No risk, you'll pay less than you're paying now. For you, the dream here then is that \\u2014 I mean, who owns the electricity from those panels for the longer term? I mean, how do you, the company, benefit?EM: Well, essentially, SolarCity raises a chunk of capital from say, a company or a bank. Google is one of our big partners here. And they have an expected return on that capital. With that capital, SolarCity purchases and installs the panel on the roof and then charges the homeowner or business owner a monthly lease payment, which is less than the utility bill.CA: But you yourself get a long-term commercial benefit from that power. You're kind of building a new type of distributed utility.EM: Exactly. What it amounts to is a giant distributed utility. I think it's a good thing, because utilities have been this monopoly, and people haven't had any choice. So effectively it's the first time there's been competition for this monopoly, because the utilities have been the only ones that owned those power distribution lines, but now it's on your roof. So I think it's actually very empowering for homeowners and businesses.CA: And you really picture a future where a majority of power in America, within a decade or two, or within your lifetime, it goes solar?EM: I'm extremely confident that solar will be at least a plurality of power, and most likely a majority, and I predict it will be a plurality in less than 20 years. I made that bet with someone \\u2014CA: Definition of plurality is?EM: More from solar than any other source.CA: Ah. Who did you make the bet with?EM: With a friend who will remain nameless.CA: Just between us. (Laughter)EM: I made that bet, I think, two or three years ago, so in roughly 18 years, I think we'll see more power from solar than any other source.CA: All right, so let's go back to another bet that you made with yourself, I guess, a kind of crazy bet. You'd made some money from the sale of PayPal. You decided to build a space company. Why on Earth would someone do that? (Laughter)EM: I got that question a lot, that's true. People would say, \\\"Did you hear the joke about the guy who made a small fortune in the space industry?\\\" Obviously, \\\"He started with a large one,\\\" is the punchline. And so I tell people, well, I was trying to figure out the fastest way to turn a large fortune into a small one. And they'd look at me, like, \\\"Is he serious?\\\"CA: And strangely, you were. So what happened?EM: It was a close call. Things almost didn't work out. We came very close to failure, but we managed to get through that point in 2008. The goal of SpaceX is to try to advance rocket technology, and in particular to try to crack a problem that I think is vital for humanity to become a space-faring civilization, which is to have a rapidly and fully reusable rocket.CA: Would humanity become a space-faring civilization? So that was a dream of yours, in a way, from a young age? You've dreamed of Mars and beyond?EM: I did build rockets when I was a kid, but I didn't think I'd be involved in this. It was really more from the standpoint of what are the things that need to happen in order for the future to be an exciting and inspiring one? And I really think there's a fundamental difference, if you sort of look into the future, between a humanity that is a space-faring civilization, that's out there exploring the stars, on multiple planets, and I think that's really exciting, compared with one where we are forever confined to Earth until some eventual extinction event.CA: So you've somehow slashed the cost of building a rocket by 75 percent, depending on how you calculate it. How on Earth have you done that? NASA has been doing this for years. How have you done this?EM: Well, we've made significant advances in the technology of the airframe, the engines, the electronics and the launch operation. There's a long list of innovations that we've come up with there that are a little difficult to communicate in this talk, but \\u2014CA: Not least because you could still get copied, right? You haven't patented this stuff. It's really interesting to me.EM: No, we don't patent.CA: You didn't patent because you think it's more dangerous to patent than not to patent.EM: Since our primary competitors are national governments, the enforceability of patents is questionable.(Laughter) (Applause)CA: That's really, really interesting. But the big innovation is still ahead, and you're working on it now. Tell us about this.EM: Right, so the big innovation\\u2014CA: In fact, let's roll that video and you can talk us through it, what's happening here.EM: Absolutely. So the thing about rockets is that they're all expendable. All rockets that fly today are fully expendable. The space shuttle was an attempt at a reusable rocket, but even the main tank of the space shuttle was thrown away every time, and the parts that were reusable took a 10,000-person group nine months to refurbish for flight. So the space shuttle ended up costing a billion dollars per flight. Obviously that doesn't work very well for \\u2014CA: What just happened there? We just saw something land?EM: That's right. So it's important that the rocket stages be able to come back, to be able to return to the launch site and be ready to launch again within a matter of hours.CA: Wow. Reusable rockets.EM: Yes. (Applause) And so what a lot of people don't realize is, the cost of the fuel, of the propellant, is very small. It's much like on a jet. So the cost of the propellant is about .3 percent of the cost of the rocket. So it's possible to achieve, let's say, roughly 100-fold improvement in the cost of spaceflight if you can effectively reuse the rocket. That's why it's so important. Every mode of transport that we use, whether it's planes, trains, automobiles, bikes, horses, is reusable, but not rockets. So we must solve this problem in order to become a space-faring civilization.CA: You asked me the question earlier of how popular traveling on cruises would be if you had to burn your ships afterward.EM: Certain cruises are apparently highly problematic.CA: Definitely more expensive. So that's potentially absolutely disruptive technology, and, I guess, paves the way for your dream to actually take, at some point, to take humanity to Mars at scale. You'd like to see a colony on Mars.EM: Yeah, exactly. SpaceX, or some combination of companies and governments, needs to make progress in the direction of making life multi-planetary, of establishing a base on another planet, on Mars \\u2014 being the only realistic option \\u2014 and then building that base up until we're a true multi-planet species.CA: So progress on this \\\"let's make it reusable,\\\" how is that going? That was just a simulation video we saw. How's it going?EM: We're actually, we've been making some good progress recently with something we call the Grasshopper Test Project, where we're testing the vertical landing portion of the flight, the sort of terminal portion which is quite tricky. And we've had some good tests.CA: Can we see that?EM: Yeah. So that's just to give a sense of scale. We dressed a cowboy as Johnny Cash and bolted the mannequin to the rocket. (Laughter)CA: All right, let's see that video then, because this is actually amazing when you think about it. You've never seen this before. A rocket blasting off and then \\u2014EM: Yeah, so that rocket is about the size of a 12-story building. (Rocket launch) So now it's hovering at about 40 meters, and it's constantly adjusting the angle, the pitch  and yaw of the main engine, and maintaining roll  with cold gas thrusters.CA: How cool is that? (Applause) Elon, how have you done this? These projects are so \\u2014 Paypal, SolarCity, Tesla, SpaceX, they're so spectacularly different, they're such ambitious projects at scale. How on Earth has one person been able to innovate in this way? What is it about you?EM: I don't know, actually. I don't have a good answer for you. I work a lot. I mean, a lot.CA: Well, I have a theory.EM: Okay. All right.CA: My theory is that you have an ability to think at a system level of design that pulls together design, technology and business, so if TED was TBD, design, technology and business, into one package, synthesize it in a way that very few people can and \\u2014 and this is the critical thing \\u2014 feel so damn confident in that clicked-together package that you take crazy risks. You bet your fortune on it, and you seem to have done that multiple times. I mean, almost no one can do that. Is that \\u2014 could we have some of that secret sauce? Can we put it into our education system? Can someone learn from you? It is truly amazing what you've done.EM: Well, thanks. Thank you. Well, I do think there's a good framework for thinking. It is physics. You know, the sort of first principles reasoning. Generally I think there are \\u2014 what I mean by that is, boil things down to their fundamental truths and reason up from there, as opposed to reasoning by analogy. Through most of our life, we get through life by reasoning by analogy, which essentially means copying what other people do with slight variations. And you have to do that. Otherwise, mentally, you wouldn't be able to get through the day. But when you want to do something new, you have to apply the physics approach. Physics is really figuring out how to discover new things that are counterintuitive, like quantum mechanics. It's really counterintuitive. So I think that's an important thing to do, and then also to really pay attention to negative feedback, and solicit it, particularly from friends. This may sound like simple advice, but hardly anyone does that, and it's incredibly helpful.CA: Boys and girls watching, study physics. Learn from this man. Elon Musk, I wish we had all day, but thank you so much for coming to TED.EM: Thank you. CA: That was awesome. That was really, really cool. Look at that. (Applause)Just take a bow. That was fantastic. Thank you so much.\",\n          \"If you've been thinking about US politics and trying to make sense of it for the last year or so, you might have hit on something like the following three propositions: one, US partisanship has never been so bad before; two, for the first time, it's geographically spatialized \\u2014 we're divided between the coasts, which want to look outwards, and the center of the country, which wants to look inwards; and third, there's nothing we can do about it.I'm here to today to say that all three of these propositions, all of which sound reasonable, are not true. In fact, our US partisanship goes all the way back to the very beginning of the republic. It was geographically spatialized in almost eerily the same way that it is today, and it often has been throughout US history. And last, and by far most importantly, we actually have an extraordinary mechanism that's designed to help us manage factional disagreement and partisanship. That technology is the Constitution. And this is an evolving, subtly, supplely designed entity that has the specific purpose of teaching us how to manage factional disagreement where it's possible to do that, and giving us techniques for overcoming that disagreement when that's possible.Now, in order to tell you the story, I want to go back to a pivotal moment in US history, and that is the moment when factional disagreement and partisanship was born. There actually was a birth moment \\u2014 a moment in US history when partisanship snapped into place. The person who's at the core of that story is James Madison. And at the moment that this began, James Madison was riding high. He himself was the Einstein of not only the US Constitution, but of constitutional thought more globally, and, to give him his due, he knew it. In a period of time of just three years, from 1785 to 1788, he had conceived, theorized, designed, passed and gotten ratified the US Constitution.And just to give you some sense of the enormity of what that accomplishment actually was, although Madison couldn't have known it at the time, today that same constitutional technology that he invented is still in use not only in the US, but, 230 years later, in places like Canada, India, South Africa, Brazil. So in an extraordinary range of contexts all over the world, this technology is still the dominant, most used, most effective technology to manage governance.In that moment, Madison believed that, having solved this problem, the country would run smoothly, and that he had designed a technology that would minimize the results of factions so there would be no political parties. Remarkably, he thought he had designed a constitution that was against political parties and would make them unnecessary.He had gotten an enormous degree of help in the final marketing phase of his constitutional project from a man you may have heard of, called Alexander Hamilton. Now, Hamilton was everything Madison was not. He was passionate, where Madison was restrained. He was pansexual, where Madison didn't speak to a woman expect for once until he was 42 years old, and then married Dolley and lived happily ever after for 40 years.(Laughter)To put it bluntly, Hamilton's the kind of person about whom you would write a hip-hop musical \\u2014(Laughter)and Madison is the kind of person about whom you would not write a hip-hop musical.(Laughter)Or indeed, a musical of any kind at all.But together, they had become a rather unlikely pairing, and they had produced the Federalist Papers, which offered a justification and, as I mentioned, a marketing plan for the Constitution, which had been wildly effective and wildly successful.Once the new government was in place, Hamilton became Secretary of the Treasury, and he had a very specific idea in mind. And that was to do for financial institutions and infrastructure exactly what Madison had done for constitutions. Again, his contemporaries all knew it. One of them told Madison, who can't have liked it very much, that Hamilton was the Newton of infrastructure. The idea was pretty straightforward. Hamilton would give the United States a national bank, a permanent national debt \\u2014 he said it would be \\\"immortal,\\\" his phrase \\u2014 and a manufacturing policy that would enable trade and manufacturing rather than agriculture, which was where the country's primary wealth had historically been.Madison went utterly ballistic. And in this pivotal, critical decision, instead of just telling the world that his old friend Hamilton was wrong and was adopting the wrong policies, he actually began to argue that Hamilton's ideas were unconstitutional \\u2014 that they violated the very nature of the Constitution that the two of them had drafted together. Hamilton responded the way you would expect. He declared Madison to be his \\\"personal and political enemy\\\" \\u2014 these are his words.So these two founders who had been such close friends and such close allies and such partners, then began to produce enmity. And they did it in the good, old-fashioned way. First, they founded political parties. Madison created a party originally called the Democratic Republican Party \\u2014 \\\"Republican\\\" for short \\u2014 and Hamilton created a party called the Federalist Party. Those two parties adopted positions on national politics that were extreme and exaggerated. To give you a clear example: Madison, who had always believed that the country would have some manufacturing and some trade and some agriculture, began attacking Hamilton as a kind of tool of the financial markets whom Hamilton himself intended to put in charge of the country. That was an overstatement, but it was something Madison came to believe.He also attacked city life, and he said that the coasts were corrupt, and what people needed to do was to look inwards to the center of the country, to farmers, who were the essence of Republican virtue, and they should go back to the values that had made American great, specifically the values of the Revolution, and those were the values of low taxes, agriculture and less trade. Hamilton responded to this by saying that Madison was na\\u00efve, that he was childish, and that his goal was to turn the United States into a primitive autarchy, self-reliant and completely ineffectual on the global scale.(Laughter)They both meant it, and there was some truth to each of their claims, because each side was grossly exaggerating the views of the other in order to fight their war. They founded newspapers, and so for the first time in US history, the news that people received came entirely through the lens of either the Republican or the Federalist party.How does this end? Well, as it turned out, the Constitution did its work. But it did its work in surprising ways that Madison himself had not fully anticipated. First, there was a series of elections. And the first two times out of the box, the Federalists destroyed the Republicans. Madison was astonished. Of course, he blamed the press.(Laughter)And in a rather innovative view \\u2014 Madison never failed to innovate when he thought about anything \\u2014 he said the reason that the press was so pro-Federalist is that the advertisers were all Federalists, because they were traders on the coasts who got their capital from Britain, which Federalism was in bed with. That was his initial explanation. But despite the fact that the Federalists, once in power, actually enacted laws that criminalized criticism of the government \\u2014 that happened in the United States \\u2014 nevertheless, the Republicans fought back, and Madison began to emphasize the freedom of speech, which he had built into the Bill of Rights, and the capacity of civil society to organize. And sure enough, nationally, small local groups \\u2014 they were called Democratic-Republican Societies \\u2014 began to form and protest against Federalist-dominated hegemony. Eventually, the Republicans managed to win a national election \\u2014 that was in 1800. Madison became the Secretary of State, his friend and mentor Jefferson became president, and they actually, over time, managed to put the Federalists completely out of business. That was their goal.Now, why did that happen? It happened because in the structure of the Constitution were several features that actually managed faction the way there were supposed to do in the first place. What were those? One \\u2014 most important of all \\u2014 the freedom of speech. This was an innovative idea at the time. Namely, that if you were out of power, you could still say that the government was terrible.Two, civil society organization. The capacity to put together private groups, individuals, political parties and others who would organize to try to bring about fundamental change. Perhaps most significantly was the separation of powers \\u2014 an extraordinary component of the Constitution. The thing about the separation of powers is that it did then and it does now, drive governance to the center. You can get elected to office in the United States with help from the periphery, right or left. It turns out, you actually can't govern unless you bring on board the center. There are midterm elections that come incredibly fast after a presidency begins. Those drive presidents towards the center.There's a structure in which the president, in fact, does not rule or even govern, but can only propose laws which other people have to agree with \\u2014 another feature that tends to drive presidents who actually want to get things done to the center. And a glance at the newspapers today will reveal to you that these principles are still completely in operation. No matter how a president gets elected, the president cannot get anything done unless the president first of all follows the rules of the Constitution, because if not, the courts will stand up, as indeed has sometimes occurred, not only recently, but in the past, in US history. And furthermore, the president needs people, elected officials who know they need to win election from centrist voters, also to back his or her policies in order to pass laws. Without it, nothing much happens.The takeaway of this brief excursus into the history of partisanship, then, is the following: partisanship is real; it's profound; it's extraordinarily powerful, and it's terribly upsetting. But the design of the Constitution is greater than partisanship. It enables us to manage partisanship when that's possible, and it enables us actually to overcome partisan division and produce compromise, when and only when that is possible. A technology like that is a technology that worked for the founders, it worked for their grandchildren, it didn't work at the moment of the Civil War, but then it started working again. And it worked for our grandparents, our parents, and it's going to work for us.(Applause)So what you should do is really simple. Stand up for what you believe in, support the organizations that you care about, speak out on the issues that matter to you, get involved, make change, express you opinion, and do it with respect and knowledge and confidence that it's only by working together that the constitutional technology can do the job that it is designed to do.Stand up for what you believe, but take a deep breath while you do it. It's going to be OK.Thanks.(Applause)\",\n          \"When my father and I started a company to 3D print human tissues and organs, some people initially thought we were a little crazy. But since then, much progress has been made, both in our lab and other labs around the world. And given this, we started getting questions like, \\\"If you can grow human body parts, can you also grow animal products like meat and leather?\\\"When someone first suggested this to me, quite frankly I thought they were a little crazy, but what I soon came to realize was that this is not so crazy after all. What's crazy is what we do today. I'm convinced that in 30 years, when we look back on today and on how we raise and slaughter billions of animals to make our hamburgers and our handbags, we'll see this as being wasteful and indeed crazy. Did you know that today we maintain a global herd of 60 billion animals to provide our meat, dairy, eggs and leather goods? And over the next few decades, as the world's population expands to 10 billion, this will need to nearly double to 100 billion animals.But maintaining this herd takes a major toll on our planet. Animals are not just raw materials. They're living beings, and already our livestock is one of the largest users of land, fresh water, and one of the biggest producers of greenhouse gases which drive climate change. On top of this, when you get so many animals so close together, it creates a breeding ground for disease and opportunities for harm and abuse. Clearly, we cannot continue on this path which puts the environment, public health, and food security at risk.There is another way, because essentially, animal products are just collections of tissues, and right now we breed and raise highly complex animals only to create products that are made of relatively simple tissues. What if, instead of starting with a complex and sentient animal, we started with what the tissues are made of, the basic unit of life, the cell?This is biofabrication, where cells themselves can be used to grow biological products like tissues and organs. Already in medicine, biofabrication techniques have been used to grow sophisticated body parts, like ears, windpipes, skin, blood vessels and bone, that have been successfully implanted into patients. And beyond medicine, biofabrication can be a humane, sustainable and scalable new industry.And we should begin by reimagining leather. I emphasize leather because it is so widely used. It is beautiful, and it has long been a part of our history. Growing leather is also technically simpler than growing other animal products like meat. It mainly uses one cell type, and it is largely two-dimensional. It is also less polarizing for consumers and regulators. Until biofabrication is better understood, it is clear that, initially at least, more people would be willing to wear novel materials than would be willing to eat novel foods, no matter how delicious. In this sense, leather is a gateway material, a beginning for the mainstream biofabrication industry. If we can succeed here, it brings our other consumer bioproducts like meat closer on the horizon.Now how do we do it? To grow leather, we begin by taking cells from an animal, through a simple biopsy. The animal could be a cow, lamb, or even something more exotic. This process does no harm, and Daisy the cow can live a happy life. We then isolate the skin cells and multiply them in a cell culture medium. This takes millions of cells and expands them into billions. And we then coax these cells to produce collagen, as they would naturally. This collagen is the stuff between cells. It's natural connective tissue. It's the extracellular matrix, but in leather, it's the main building block. And what we next do is we take the cells and their collagen and we spread them out to form sheets, and then we layer these thin sheets on top of one another, like phyllo pastry, to form thicker sheets, which we then let mature. And finally, we take this multilayered skin and through a shorter and much less chemical tanning process, we create leather. And so I'm very excited to show you, for the first time, the first batch of our cultured leather, fresh from the lab. This is real, genuine leather, without the animal sacrifice. It can have all the characteristics of leather because it is made of the same cells, and better yet, there is no hair to remove, no scars or insect's bites, and no waste. This leather can be grown in the shape of a wallet, a handbag or a car seat. It is not limited to the irregular shape of a cow or an alligator.And because we make this material, we grow this leather from the ground up, we can control its properties in very interesting ways. This piece of leather is a mere seven tissue layers thick, and as you can see, it is nearly transparent. And this leather is 21 layers thick and quite opaque. You don't have that kind of fine control with conventional leather. And we can tune this leather for other desirable qualities, like softness, breathability, durability, elasticity and even things like pattern. We can mimic nature, but in some ways also improve upon it. This type of leather can do what today's leather does, but with imagination, probably much more.What could the future of animal products look like? It need not look like this, which is actually the state of the art today. Rather, it could be much more like this. Already, we have been manufacturing with cell cultures for thousands of years, beginning with products like wine, beer and yogurt. And speaking of food, our cultured food has evolved, and today we prepare cultured food in beautiful, sterile facilities like this. A brewery is essentially a bioreactor. It is where cell culture takes place. Imagine that in this facility, instead of brewing beer, we were brewing leather or meat. Imagine touring this facility, learning about how the leather or meat is cultured, seeing the process from beginning to end, and even trying some. It's clean, open and educational, and this is in contrast to the hidden, guarded and remote factories where leather and meat is produced today. Perhaps biofabrication is a natural evolution of manufacturing for mankind. It's environmentally responsible, efficient and humane. It allows us to be creative. We can design new materials, new products, and new facilities. We need to move past just killing animals as a resource to something more civilized and evolved. Perhaps we are ready for something literally and figuratively more cultured.Thank you.(Applause)\"\n        ],\n        \"semantic_type\": \"\",\n        \"description\": \"\"\n      }\n    },\n    {\n      \"column\": \"url\",\n      \"properties\": {\n        \"dtype\": \"string\",\n        \"num_unique_values\": 500,\n        \"samples\": [\n          \"https://www.ted.com/talks/elon_musk_the_mind_behind_tesla_spacex_solarcity\\n\",\n          \"https://www.ted.com/talks/noah_feldman_hamilton_vs_madison_and_the_birth_of_american_partisanship\\n\",\n          \"https://www.ted.com/talks/andras_forgacs_leather_and_meat_without_killing_animals\\n\"\n        ],\n        \"semantic_type\": \"\",\n        \"description\": \"\"\n      }\n    }\n  ]\n}"
            }
          },
          "metadata": {},
          "execution_count": 94
        }
      ]
    },
    {
      "cell_type": "code",
      "source": [
        "ted.url.head().to_list()"
      ],
      "metadata": {
        "colab": {
          "base_uri": "https://localhost:8080/"
        },
        "id": "PLFt9AGRjbN_",
        "outputId": "0011fce6-84b9-43e7-dfaf-903fb91deef0"
      },
      "execution_count": 100,
      "outputs": [
        {
          "output_type": "execute_result",
          "data": {
            "text/plain": [
              "['https://www.ted.com/talks/al_seckel_says_our_brains_are_mis_wired\\n',\n",
              " 'https://www.ted.com/talks/aaron_o_connell_making_sense_of_a_visible_quantum_object\\n',\n",
              " 'https://www.ted.com/talks/carter_emmart_demos_a_3d_atlas_of_the_universe\\n',\n",
              " 'https://www.ted.com/talks/jared_ficklin_new_ways_to_see_music_with_color_and_fire\\n',\n",
              " 'https://www.ted.com/talks/jeremy_howard_the_wonderful_and_terrifying_implications_of_computers_that_can_learn\\n']"
            ]
          },
          "metadata": {},
          "execution_count": 100
        }
      ]
    },
    {
      "cell_type": "code",
      "source": [
        "def extract_ted_title(url):\n",
        "    \"\"\"\n",
        "    Extracts the title of a TED talk from the given URL.\n",
        "\n",
        "    Parameters:\n",
        "    url (str): The TED talk URL.\n",
        "\n",
        "    Returns:\n",
        "    str: The extracted title in a human-readable format.\n",
        "    \"\"\"\n",
        "    # Split the URL to extract the last part\n",
        "    title_slug = url.split('/')[-1].strip()\n",
        "\n",
        "    # Replace underscores with spaces and capitalize the words\n",
        "    title = ' '.join(word.capitalize() for word in title_slug.split('_')) # Capitalize each word\n",
        "    #title = ' '.join(word for word in title_slug.split('_'))\n",
        "\n",
        "    return title\n",
        "\n",
        "# Example usage\n",
        "urls = [\n",
        "    'https://www.ted.com/talks/al_seckel_says_our_brains_are_mis_wired\\n',\n",
        "    'https://www.ted.com/talks/aaron_o_connell_making_sense_of_a_visible_quantum_object\\n',\n",
        "    'https://www.ted.com/talks/carter_emmart_demos_a_3d_atlas_of_the_universe\\n',\n",
        "    'https://www.ted.com/talks/jared_ficklin_new_ways_to_see_music_with_color_and_fire\\n',\n",
        "    'https://www.ted.com/talks/jeremy_howard_the_wonderful_and_terrifying_implications_of_computers_that_can_learn\\n'\n",
        "]\n",
        "\n",
        "# Extract and print the title from the first URL\n",
        "print(extract_ted_title(urls[4]))"
      ],
      "metadata": {
        "colab": {
          "base_uri": "https://localhost:8080/"
        },
        "id": "ZDEuL6TAjRa-",
        "outputId": "94b264f6-f040-4b46-f838-09140ae71089"
      },
      "execution_count": 159,
      "outputs": [
        {
          "output_type": "stream",
          "name": "stdout",
          "text": [
            "Jeremy Howard The Wonderful And Terrifying Implications Of Computers That Can Learn\n"
          ]
        }
      ]
    },
    {
      "cell_type": "code",
      "source": [
        "# add title to ted\n",
        "ted['title'] = ted['url'].apply(extract_ted_title)\n",
        "print(ted.columns)\n",
        "ted.head()"
      ],
      "metadata": {
        "colab": {
          "base_uri": "https://localhost:8080/",
          "height": 282
        },
        "id": "K13WcZ4rvo6z",
        "outputId": "c16f2395-d477-4200-fcb1-3c0366672e7d"
      },
      "execution_count": 161,
      "outputs": [
        {
          "output_type": "stream",
          "name": "stdout",
          "text": [
            "Index(['transcript', 'url', 'title'], dtype='object')\n"
          ]
        },
        {
          "output_type": "execute_result",
          "data": {
            "text/plain": [
              "                                          transcript  \\\n",
              "0  We're going to talk — my — a new lecture, just...   \n",
              "1  This is a representation of your brain, and yo...   \n",
              "2  It's a great honor today to share with you The...   \n",
              "3  My passions are music, technology and making t...   \n",
              "4  It used to be that if you wanted to get a comp...   \n",
              "\n",
              "                                                 url  \\\n",
              "0  https://www.ted.com/talks/al_seckel_says_our_b...   \n",
              "1  https://www.ted.com/talks/aaron_o_connell_maki...   \n",
              "2  https://www.ted.com/talks/carter_emmart_demos_...   \n",
              "3  https://www.ted.com/talks/jared_ficklin_new_wa...   \n",
              "4  https://www.ted.com/talks/jeremy_howard_the_wo...   \n",
              "\n",
              "                                               title  \n",
              "0            Al Seckel Says Our Brains Are Mis Wired  \n",
              "1  Aaron O Connell Making Sense Of A Visible Quan...  \n",
              "2     Carter Emmart Demos A 3d Atlas Of The Universe  \n",
              "3  Jared Ficklin New Ways To See Music With Color...  \n",
              "4  Jeremy Howard The Wonderful And Terrifying Imp...  "
            ],
            "text/html": [
              "\n",
              "  <div id=\"df-b2e89216-8c48-4a4e-80b2-6246ad62fa28\" class=\"colab-df-container\">\n",
              "    <div>\n",
              "<style scoped>\n",
              "    .dataframe tbody tr th:only-of-type {\n",
              "        vertical-align: middle;\n",
              "    }\n",
              "\n",
              "    .dataframe tbody tr th {\n",
              "        vertical-align: top;\n",
              "    }\n",
              "\n",
              "    .dataframe thead th {\n",
              "        text-align: right;\n",
              "    }\n",
              "</style>\n",
              "<table border=\"1\" class=\"dataframe\">\n",
              "  <thead>\n",
              "    <tr style=\"text-align: right;\">\n",
              "      <th></th>\n",
              "      <th>transcript</th>\n",
              "      <th>url</th>\n",
              "      <th>title</th>\n",
              "    </tr>\n",
              "  </thead>\n",
              "  <tbody>\n",
              "    <tr>\n",
              "      <th>0</th>\n",
              "      <td>We're going to talk — my — a new lecture, just...</td>\n",
              "      <td>https://www.ted.com/talks/al_seckel_says_our_b...</td>\n",
              "      <td>Al Seckel Says Our Brains Are Mis Wired</td>\n",
              "    </tr>\n",
              "    <tr>\n",
              "      <th>1</th>\n",
              "      <td>This is a representation of your brain, and yo...</td>\n",
              "      <td>https://www.ted.com/talks/aaron_o_connell_maki...</td>\n",
              "      <td>Aaron O Connell Making Sense Of A Visible Quan...</td>\n",
              "    </tr>\n",
              "    <tr>\n",
              "      <th>2</th>\n",
              "      <td>It's a great honor today to share with you The...</td>\n",
              "      <td>https://www.ted.com/talks/carter_emmart_demos_...</td>\n",
              "      <td>Carter Emmart Demos A 3d Atlas Of The Universe</td>\n",
              "    </tr>\n",
              "    <tr>\n",
              "      <th>3</th>\n",
              "      <td>My passions are music, technology and making t...</td>\n",
              "      <td>https://www.ted.com/talks/jared_ficklin_new_wa...</td>\n",
              "      <td>Jared Ficklin New Ways To See Music With Color...</td>\n",
              "    </tr>\n",
              "    <tr>\n",
              "      <th>4</th>\n",
              "      <td>It used to be that if you wanted to get a comp...</td>\n",
              "      <td>https://www.ted.com/talks/jeremy_howard_the_wo...</td>\n",
              "      <td>Jeremy Howard The Wonderful And Terrifying Imp...</td>\n",
              "    </tr>\n",
              "  </tbody>\n",
              "</table>\n",
              "</div>\n",
              "    <div class=\"colab-df-buttons\">\n",
              "\n",
              "  <div class=\"colab-df-container\">\n",
              "    <button class=\"colab-df-convert\" onclick=\"convertToInteractive('df-b2e89216-8c48-4a4e-80b2-6246ad62fa28')\"\n",
              "            title=\"Convert this dataframe to an interactive table.\"\n",
              "            style=\"display:none;\">\n",
              "\n",
              "  <svg xmlns=\"http://www.w3.org/2000/svg\" height=\"24px\" viewBox=\"0 -960 960 960\">\n",
              "    <path d=\"M120-120v-720h720v720H120Zm60-500h600v-160H180v160Zm220 220h160v-160H400v160Zm0 220h160v-160H400v160ZM180-400h160v-160H180v160Zm440 0h160v-160H620v160ZM180-180h160v-160H180v160Zm440 0h160v-160H620v160Z\"/>\n",
              "  </svg>\n",
              "    </button>\n",
              "\n",
              "  <style>\n",
              "    .colab-df-container {\n",
              "      display:flex;\n",
              "      gap: 12px;\n",
              "    }\n",
              "\n",
              "    .colab-df-convert {\n",
              "      background-color: #E8F0FE;\n",
              "      border: none;\n",
              "      border-radius: 50%;\n",
              "      cursor: pointer;\n",
              "      display: none;\n",
              "      fill: #1967D2;\n",
              "      height: 32px;\n",
              "      padding: 0 0 0 0;\n",
              "      width: 32px;\n",
              "    }\n",
              "\n",
              "    .colab-df-convert:hover {\n",
              "      background-color: #E2EBFA;\n",
              "      box-shadow: 0px 1px 2px rgba(60, 64, 67, 0.3), 0px 1px 3px 1px rgba(60, 64, 67, 0.15);\n",
              "      fill: #174EA6;\n",
              "    }\n",
              "\n",
              "    .colab-df-buttons div {\n",
              "      margin-bottom: 4px;\n",
              "    }\n",
              "\n",
              "    [theme=dark] .colab-df-convert {\n",
              "      background-color: #3B4455;\n",
              "      fill: #D2E3FC;\n",
              "    }\n",
              "\n",
              "    [theme=dark] .colab-df-convert:hover {\n",
              "      background-color: #434B5C;\n",
              "      box-shadow: 0px 1px 3px 1px rgba(0, 0, 0, 0.15);\n",
              "      filter: drop-shadow(0px 1px 2px rgba(0, 0, 0, 0.3));\n",
              "      fill: #FFFFFF;\n",
              "    }\n",
              "  </style>\n",
              "\n",
              "    <script>\n",
              "      const buttonEl =\n",
              "        document.querySelector('#df-b2e89216-8c48-4a4e-80b2-6246ad62fa28 button.colab-df-convert');\n",
              "      buttonEl.style.display =\n",
              "        google.colab.kernel.accessAllowed ? 'block' : 'none';\n",
              "\n",
              "      async function convertToInteractive(key) {\n",
              "        const element = document.querySelector('#df-b2e89216-8c48-4a4e-80b2-6246ad62fa28');\n",
              "        const dataTable =\n",
              "          await google.colab.kernel.invokeFunction('convertToInteractive',\n",
              "                                                    [key], {});\n",
              "        if (!dataTable) return;\n",
              "\n",
              "        const docLinkHtml = 'Like what you see? Visit the ' +\n",
              "          '<a target=\"_blank\" href=https://colab.research.google.com/notebooks/data_table.ipynb>data table notebook</a>'\n",
              "          + ' to learn more about interactive tables.';\n",
              "        element.innerHTML = '';\n",
              "        dataTable['output_type'] = 'display_data';\n",
              "        await google.colab.output.renderOutput(dataTable, element);\n",
              "        const docLink = document.createElement('div');\n",
              "        docLink.innerHTML = docLinkHtml;\n",
              "        element.appendChild(docLink);\n",
              "      }\n",
              "    </script>\n",
              "  </div>\n",
              "\n",
              "\n",
              "<div id=\"df-316be271-c059-4ead-973e-6647267a3a73\">\n",
              "  <button class=\"colab-df-quickchart\" onclick=\"quickchart('df-316be271-c059-4ead-973e-6647267a3a73')\"\n",
              "            title=\"Suggest charts\"\n",
              "            style=\"display:none;\">\n",
              "\n",
              "<svg xmlns=\"http://www.w3.org/2000/svg\" height=\"24px\"viewBox=\"0 0 24 24\"\n",
              "     width=\"24px\">\n",
              "    <g>\n",
              "        <path d=\"M19 3H5c-1.1 0-2 .9-2 2v14c0 1.1.9 2 2 2h14c1.1 0 2-.9 2-2V5c0-1.1-.9-2-2-2zM9 17H7v-7h2v7zm4 0h-2V7h2v10zm4 0h-2v-4h2v4z\"/>\n",
              "    </g>\n",
              "</svg>\n",
              "  </button>\n",
              "\n",
              "<style>\n",
              "  .colab-df-quickchart {\n",
              "      --bg-color: #E8F0FE;\n",
              "      --fill-color: #1967D2;\n",
              "      --hover-bg-color: #E2EBFA;\n",
              "      --hover-fill-color: #174EA6;\n",
              "      --disabled-fill-color: #AAA;\n",
              "      --disabled-bg-color: #DDD;\n",
              "  }\n",
              "\n",
              "  [theme=dark] .colab-df-quickchart {\n",
              "      --bg-color: #3B4455;\n",
              "      --fill-color: #D2E3FC;\n",
              "      --hover-bg-color: #434B5C;\n",
              "      --hover-fill-color: #FFFFFF;\n",
              "      --disabled-bg-color: #3B4455;\n",
              "      --disabled-fill-color: #666;\n",
              "  }\n",
              "\n",
              "  .colab-df-quickchart {\n",
              "    background-color: var(--bg-color);\n",
              "    border: none;\n",
              "    border-radius: 50%;\n",
              "    cursor: pointer;\n",
              "    display: none;\n",
              "    fill: var(--fill-color);\n",
              "    height: 32px;\n",
              "    padding: 0;\n",
              "    width: 32px;\n",
              "  }\n",
              "\n",
              "  .colab-df-quickchart:hover {\n",
              "    background-color: var(--hover-bg-color);\n",
              "    box-shadow: 0 1px 2px rgba(60, 64, 67, 0.3), 0 1px 3px 1px rgba(60, 64, 67, 0.15);\n",
              "    fill: var(--button-hover-fill-color);\n",
              "  }\n",
              "\n",
              "  .colab-df-quickchart-complete:disabled,\n",
              "  .colab-df-quickchart-complete:disabled:hover {\n",
              "    background-color: var(--disabled-bg-color);\n",
              "    fill: var(--disabled-fill-color);\n",
              "    box-shadow: none;\n",
              "  }\n",
              "\n",
              "  .colab-df-spinner {\n",
              "    border: 2px solid var(--fill-color);\n",
              "    border-color: transparent;\n",
              "    border-bottom-color: var(--fill-color);\n",
              "    animation:\n",
              "      spin 1s steps(1) infinite;\n",
              "  }\n",
              "\n",
              "  @keyframes spin {\n",
              "    0% {\n",
              "      border-color: transparent;\n",
              "      border-bottom-color: var(--fill-color);\n",
              "      border-left-color: var(--fill-color);\n",
              "    }\n",
              "    20% {\n",
              "      border-color: transparent;\n",
              "      border-left-color: var(--fill-color);\n",
              "      border-top-color: var(--fill-color);\n",
              "    }\n",
              "    30% {\n",
              "      border-color: transparent;\n",
              "      border-left-color: var(--fill-color);\n",
              "      border-top-color: var(--fill-color);\n",
              "      border-right-color: var(--fill-color);\n",
              "    }\n",
              "    40% {\n",
              "      border-color: transparent;\n",
              "      border-right-color: var(--fill-color);\n",
              "      border-top-color: var(--fill-color);\n",
              "    }\n",
              "    60% {\n",
              "      border-color: transparent;\n",
              "      border-right-color: var(--fill-color);\n",
              "    }\n",
              "    80% {\n",
              "      border-color: transparent;\n",
              "      border-right-color: var(--fill-color);\n",
              "      border-bottom-color: var(--fill-color);\n",
              "    }\n",
              "    90% {\n",
              "      border-color: transparent;\n",
              "      border-bottom-color: var(--fill-color);\n",
              "    }\n",
              "  }\n",
              "</style>\n",
              "\n",
              "  <script>\n",
              "    async function quickchart(key) {\n",
              "      const quickchartButtonEl =\n",
              "        document.querySelector('#' + key + ' button');\n",
              "      quickchartButtonEl.disabled = true;  // To prevent multiple clicks.\n",
              "      quickchartButtonEl.classList.add('colab-df-spinner');\n",
              "      try {\n",
              "        const charts = await google.colab.kernel.invokeFunction(\n",
              "            'suggestCharts', [key], {});\n",
              "      } catch (error) {\n",
              "        console.error('Error during call to suggestCharts:', error);\n",
              "      }\n",
              "      quickchartButtonEl.classList.remove('colab-df-spinner');\n",
              "      quickchartButtonEl.classList.add('colab-df-quickchart-complete');\n",
              "    }\n",
              "    (() => {\n",
              "      let quickchartButtonEl =\n",
              "        document.querySelector('#df-316be271-c059-4ead-973e-6647267a3a73 button');\n",
              "      quickchartButtonEl.style.display =\n",
              "        google.colab.kernel.accessAllowed ? 'block' : 'none';\n",
              "    })();\n",
              "  </script>\n",
              "</div>\n",
              "\n",
              "    </div>\n",
              "  </div>\n"
            ],
            "application/vnd.google.colaboratory.intrinsic+json": {
              "type": "dataframe",
              "variable_name": "ted",
              "summary": "{\n  \"name\": \"ted\",\n  \"rows\": 500,\n  \"fields\": [\n    {\n      \"column\": \"transcript\",\n      \"properties\": {\n        \"dtype\": \"string\",\n        \"num_unique_values\": 500,\n        \"samples\": [\n          \"Chris Anderson: Elon, what kind of crazy dream would persuade you to think of trying to take on the auto industry and build an all-electric car?Elon Musk: Well, it goes back to when I was in university. I thought about, what are the problems that are most likely to affect the future of the world or the future of humanity? I think it's extremely important that we have sustainable transport and sustainable energy production. That sort of overall sustainable energy problem is the biggest problem that we have to solve this century, independent of environmental concerns. In fact, even if producing CO2 was good for the environment, given that we're going to run out of hydrocarbons, we need to find some sustainable means of operating.CA: Most of American electricity comes from burning fossil fuels. How can an electric car that plugs into that electricity help?EM: Right. There's two elements to that answer. One is that, even if you take the same source fuel and produce power at the power plant and use it to charge electric cars, you're still better off. So if you take, say, natural gas, which is the most prevalent hydrocarbon source fuel, if you burn that in a modern General Electric natural gas turbine, you'll get about 60 percent efficiency. If you put that same fuel in an internal combustion engine car, you get about 20 percent efficiency. And the reason is, in the stationary power plant, you can afford to have something that weighs a lot more, is voluminous, and you can take the waste heat and run a steam turbine and generate a secondary power source. So in effect, even after you've taken transmission loss into account and everything, even using the same source fuel, you're at least twice as better off charging an electric car, then burning it at the power plant.CA: That scale delivers efficiency.EM: Yes, it does. And then the other point is, we have to have sustainable means of power generation anyway, electricity generation. So given that we have to solve sustainable electricity generation, then it makes sense for us to have electric cars as the mode of transport.CA: So we've got some video here of the Tesla being assembled, which, if we could play that first video \\u2014 So what is innovative about this process in this vehicle?EM: Sure. So, in order to accelerate the advent of electric transport, and I should say that I think, actually, all modes of transport will become fully electric with the ironic exception of rockets. There's just no way around Newton's third law. The question is how do you accelerate the advent of electric transport? And in order to do that for cars, you have to come up with a really energy efficient car, so that means making it incredibly light, and so what you're seeing here is the only all-aluminum body and chassis car made in North America. In fact, we applied a lot of rocket design techniques to make the car light despite having a very large battery pack. And then it also has the lowest drag coefficient of any car of its size. So as a result, the energy usage is very low, and it has the most advanced battery pack, and that's what gives it the range that's competitive, so you can actually have on the order of a 250-mile range.CA: I mean, those battery packs are incredibly heavy, but you think the math can still work out intelligently \\u2014 by combining light body, heavy battery, you can still gain spectacular efficiency.EM: Exactly. The rest of the car has to be very light to offset the mass of the pack, and then you have to have a low drag coefficient so that you have good highway range. And in fact, customers of the Model S are sort of competing with each other to try to get the highest possible range. I think somebody recently got 420 miles out of a single charge.CA: Bruno Bowden, who's here, did that, broke the world record.EM: Congratulations.CA: That was the good news. The bad news was that to do it, he had to drive at 18 miles an hour constant speed and got pulled over by the cops. (Laughter)EM: I mean, you can certainly drive \\u2014 if you drive it 65 miles an hour, under normal conditions, 250 miles is a reasonable number.CA: Let's show that second video showing the Tesla in action on ice. Not at all a dig at The New York Times, this, by the way. What is the most surprising thing about the experience of driving the car?EM: In creating an electric car, the responsiveness of the car is really incredible. So we wanted really to have people feel as though they've almost got to mind meld with the car, so you just feel like you and the car are kind of one, and as you corner and accelerate, it just happens, like the car has ESP. You can do that with an electric car because of its responsiveness. You can't do that with a gasoline car. I think that's really a profound difference, and people only experience that when they have a test drive.CA: I mean, this is a beautiful but expensive car. Is there a road map where this becomes a mass-market vehicle?EM: Yeah. The goal of Tesla has always been to have a sort of three-step process, where version one was an expensive car at low volume, version two is medium priced and medium volume, and then version three would be low price, high volume. So we're at step two at this point. So we had a $100,000 sports car, which was the Roadster. Then we've got the Model S, which starts at around 50,000 dollars. And our third generation car, which should hopefully be out in about three or four years will be a $30,000 car. But whenever you've got really new technology, it generally takes about three major versions in order to make it a compelling mass-market product. And so I think we're making progress in that direction, and I feel confident that we'll get there.CA: I mean, right now, if you've got a short commute, you can drive, you can get back, you can charge it at home. There isn't a huge nationwide network of charging stations now that are fast. Do you see that coming, really, truly, or just on a few key routes?EM: There actually are far more charging stations than people realize, and at Tesla we developed something called a Supercharging technology, and we're offering that if you buy a Model S for free, forever. And so this is something that maybe a lot of people don't realize. We actually have California and Nevada covered, and we've got the Eastern seaboard from Boston to D.C. covered. By the end of this year, you'll be able to drive from L.A. to New York just using the Supercharger network, which charges at five times the rate of anything else. And the key thing is to have a ratio of drive to stop, to stop time, of about six or seven. So if you drive for three hours, you want to stop for 20 or 30 minutes, because that's normally what people will stop for. So if you start a trip at 9 a.m., by noon you want to stop to have a bite to eat, hit the restroom, coffee, and keep going.CA: So your proposition to consumers is, for the full charge, it could take an hour. So it's common \\u2014 don't expect to be out of here in 10 minutes. Wait for an hour, but the good news is, you're helping save the planet, and by the way, the electricity is free. You don't pay anything.EM: Actually, what we're expecting is for people to stop for about 20 to 30 minutes, not for an hour. It's actually better to drive for about maybe 160, 170 miles and then stop for half an hour and then keep going. That's the natural cadence of a trip. CA: All right. So this is only one string to your energy bow. You've been working on this solar company SolarCity. What's unusual about that?EM: Well, as I mentioned earlier, we have to have sustainable electricity production as well as consumption, so I'm quite confident that the primary means of power generation will be solar. I mean, it's really indirect fusion, is what it is. We've got this giant fusion generator in the sky called the sun, and we just need to tap a little bit of that energy for purposes of human civilization. What most people know but don't realize they know is that the world is almost entirely solar-powered already. If the sun wasn't there, we'd be a frozen ice ball at three degrees Kelvin, and the sun powers the entire system of precipitation. The whole ecosystem is solar-powered.CA: But in a gallon of gasoline, you have, effectively, thousands of years of sun power compressed into a small space, so it's hard to make the numbers work right now on solar, and to remotely compete with, for example, natural gas, fracked natural gas. How are you going to build a business here?EM: Well actually, I'm confident that solar will beat everything, hands down, including natural gas.(Applause)CA: How?EM: It must, actually. If it doesn't, we're in deep trouble.CA: But you're not selling solar panels to consumers. What are you doing? EM: No, we actually are. You can buy a solar system or you can lease a solar system. Most people choose to lease. And the thing about solar power is that it doesn't have any feed stock or operational costs, so once it's installed, it's just there. It works for decades. It'll work for probably a century. So therefore, the key thing to do is to get the cost of that initial installation low, and then get the cost of the financing low, because that interest \\u2014 those are the two factors that drive the cost of solar. And we've made huge progress in that direction, and that's why I'm confident we'll actually beat natural gas.CA: So your current proposition to consumers is, don't pay so much up front.EM: Zero.CA: Pay zero up front. We will install panels on your roof. You will then pay, how long is a typical lease?EM: Typical leases are 20 years, but the value proposition is, as you're sort of alluding to, quite straightforward. It's no money down, and your utility bill decreases. Pretty good deal.CA: So that seems like a win for the consumer. No risk, you'll pay less than you're paying now. For you, the dream here then is that \\u2014 I mean, who owns the electricity from those panels for the longer term? I mean, how do you, the company, benefit?EM: Well, essentially, SolarCity raises a chunk of capital from say, a company or a bank. Google is one of our big partners here. And they have an expected return on that capital. With that capital, SolarCity purchases and installs the panel on the roof and then charges the homeowner or business owner a monthly lease payment, which is less than the utility bill.CA: But you yourself get a long-term commercial benefit from that power. You're kind of building a new type of distributed utility.EM: Exactly. What it amounts to is a giant distributed utility. I think it's a good thing, because utilities have been this monopoly, and people haven't had any choice. So effectively it's the first time there's been competition for this monopoly, because the utilities have been the only ones that owned those power distribution lines, but now it's on your roof. So I think it's actually very empowering for homeowners and businesses.CA: And you really picture a future where a majority of power in America, within a decade or two, or within your lifetime, it goes solar?EM: I'm extremely confident that solar will be at least a plurality of power, and most likely a majority, and I predict it will be a plurality in less than 20 years. I made that bet with someone \\u2014CA: Definition of plurality is?EM: More from solar than any other source.CA: Ah. Who did you make the bet with?EM: With a friend who will remain nameless.CA: Just between us. (Laughter)EM: I made that bet, I think, two or three years ago, so in roughly 18 years, I think we'll see more power from solar than any other source.CA: All right, so let's go back to another bet that you made with yourself, I guess, a kind of crazy bet. You'd made some money from the sale of PayPal. You decided to build a space company. Why on Earth would someone do that? (Laughter)EM: I got that question a lot, that's true. People would say, \\\"Did you hear the joke about the guy who made a small fortune in the space industry?\\\" Obviously, \\\"He started with a large one,\\\" is the punchline. And so I tell people, well, I was trying to figure out the fastest way to turn a large fortune into a small one. And they'd look at me, like, \\\"Is he serious?\\\"CA: And strangely, you were. So what happened?EM: It was a close call. Things almost didn't work out. We came very close to failure, but we managed to get through that point in 2008. The goal of SpaceX is to try to advance rocket technology, and in particular to try to crack a problem that I think is vital for humanity to become a space-faring civilization, which is to have a rapidly and fully reusable rocket.CA: Would humanity become a space-faring civilization? So that was a dream of yours, in a way, from a young age? You've dreamed of Mars and beyond?EM: I did build rockets when I was a kid, but I didn't think I'd be involved in this. It was really more from the standpoint of what are the things that need to happen in order for the future to be an exciting and inspiring one? And I really think there's a fundamental difference, if you sort of look into the future, between a humanity that is a space-faring civilization, that's out there exploring the stars, on multiple planets, and I think that's really exciting, compared with one where we are forever confined to Earth until some eventual extinction event.CA: So you've somehow slashed the cost of building a rocket by 75 percent, depending on how you calculate it. How on Earth have you done that? NASA has been doing this for years. How have you done this?EM: Well, we've made significant advances in the technology of the airframe, the engines, the electronics and the launch operation. There's a long list of innovations that we've come up with there that are a little difficult to communicate in this talk, but \\u2014CA: Not least because you could still get copied, right? You haven't patented this stuff. It's really interesting to me.EM: No, we don't patent.CA: You didn't patent because you think it's more dangerous to patent than not to patent.EM: Since our primary competitors are national governments, the enforceability of patents is questionable.(Laughter) (Applause)CA: That's really, really interesting. But the big innovation is still ahead, and you're working on it now. Tell us about this.EM: Right, so the big innovation\\u2014CA: In fact, let's roll that video and you can talk us through it, what's happening here.EM: Absolutely. So the thing about rockets is that they're all expendable. All rockets that fly today are fully expendable. The space shuttle was an attempt at a reusable rocket, but even the main tank of the space shuttle was thrown away every time, and the parts that were reusable took a 10,000-person group nine months to refurbish for flight. So the space shuttle ended up costing a billion dollars per flight. Obviously that doesn't work very well for \\u2014CA: What just happened there? We just saw something land?EM: That's right. So it's important that the rocket stages be able to come back, to be able to return to the launch site and be ready to launch again within a matter of hours.CA: Wow. Reusable rockets.EM: Yes. (Applause) And so what a lot of people don't realize is, the cost of the fuel, of the propellant, is very small. It's much like on a jet. So the cost of the propellant is about .3 percent of the cost of the rocket. So it's possible to achieve, let's say, roughly 100-fold improvement in the cost of spaceflight if you can effectively reuse the rocket. That's why it's so important. Every mode of transport that we use, whether it's planes, trains, automobiles, bikes, horses, is reusable, but not rockets. So we must solve this problem in order to become a space-faring civilization.CA: You asked me the question earlier of how popular traveling on cruises would be if you had to burn your ships afterward.EM: Certain cruises are apparently highly problematic.CA: Definitely more expensive. So that's potentially absolutely disruptive technology, and, I guess, paves the way for your dream to actually take, at some point, to take humanity to Mars at scale. You'd like to see a colony on Mars.EM: Yeah, exactly. SpaceX, or some combination of companies and governments, needs to make progress in the direction of making life multi-planetary, of establishing a base on another planet, on Mars \\u2014 being the only realistic option \\u2014 and then building that base up until we're a true multi-planet species.CA: So progress on this \\\"let's make it reusable,\\\" how is that going? That was just a simulation video we saw. How's it going?EM: We're actually, we've been making some good progress recently with something we call the Grasshopper Test Project, where we're testing the vertical landing portion of the flight, the sort of terminal portion which is quite tricky. And we've had some good tests.CA: Can we see that?EM: Yeah. So that's just to give a sense of scale. We dressed a cowboy as Johnny Cash and bolted the mannequin to the rocket. (Laughter)CA: All right, let's see that video then, because this is actually amazing when you think about it. You've never seen this before. A rocket blasting off and then \\u2014EM: Yeah, so that rocket is about the size of a 12-story building. (Rocket launch) So now it's hovering at about 40 meters, and it's constantly adjusting the angle, the pitch  and yaw of the main engine, and maintaining roll  with cold gas thrusters.CA: How cool is that? (Applause) Elon, how have you done this? These projects are so \\u2014 Paypal, SolarCity, Tesla, SpaceX, they're so spectacularly different, they're such ambitious projects at scale. How on Earth has one person been able to innovate in this way? What is it about you?EM: I don't know, actually. I don't have a good answer for you. I work a lot. I mean, a lot.CA: Well, I have a theory.EM: Okay. All right.CA: My theory is that you have an ability to think at a system level of design that pulls together design, technology and business, so if TED was TBD, design, technology and business, into one package, synthesize it in a way that very few people can and \\u2014 and this is the critical thing \\u2014 feel so damn confident in that clicked-together package that you take crazy risks. You bet your fortune on it, and you seem to have done that multiple times. I mean, almost no one can do that. Is that \\u2014 could we have some of that secret sauce? Can we put it into our education system? Can someone learn from you? It is truly amazing what you've done.EM: Well, thanks. Thank you. Well, I do think there's a good framework for thinking. It is physics. You know, the sort of first principles reasoning. Generally I think there are \\u2014 what I mean by that is, boil things down to their fundamental truths and reason up from there, as opposed to reasoning by analogy. Through most of our life, we get through life by reasoning by analogy, which essentially means copying what other people do with slight variations. And you have to do that. Otherwise, mentally, you wouldn't be able to get through the day. But when you want to do something new, you have to apply the physics approach. Physics is really figuring out how to discover new things that are counterintuitive, like quantum mechanics. It's really counterintuitive. So I think that's an important thing to do, and then also to really pay attention to negative feedback, and solicit it, particularly from friends. This may sound like simple advice, but hardly anyone does that, and it's incredibly helpful.CA: Boys and girls watching, study physics. Learn from this man. Elon Musk, I wish we had all day, but thank you so much for coming to TED.EM: Thank you. CA: That was awesome. That was really, really cool. Look at that. (Applause)Just take a bow. That was fantastic. Thank you so much.\",\n          \"If you've been thinking about US politics and trying to make sense of it for the last year or so, you might have hit on something like the following three propositions: one, US partisanship has never been so bad before; two, for the first time, it's geographically spatialized \\u2014 we're divided between the coasts, which want to look outwards, and the center of the country, which wants to look inwards; and third, there's nothing we can do about it.I'm here to today to say that all three of these propositions, all of which sound reasonable, are not true. In fact, our US partisanship goes all the way back to the very beginning of the republic. It was geographically spatialized in almost eerily the same way that it is today, and it often has been throughout US history. And last, and by far most importantly, we actually have an extraordinary mechanism that's designed to help us manage factional disagreement and partisanship. That technology is the Constitution. And this is an evolving, subtly, supplely designed entity that has the specific purpose of teaching us how to manage factional disagreement where it's possible to do that, and giving us techniques for overcoming that disagreement when that's possible.Now, in order to tell you the story, I want to go back to a pivotal moment in US history, and that is the moment when factional disagreement and partisanship was born. There actually was a birth moment \\u2014 a moment in US history when partisanship snapped into place. The person who's at the core of that story is James Madison. And at the moment that this began, James Madison was riding high. He himself was the Einstein of not only the US Constitution, but of constitutional thought more globally, and, to give him his due, he knew it. In a period of time of just three years, from 1785 to 1788, he had conceived, theorized, designed, passed and gotten ratified the US Constitution.And just to give you some sense of the enormity of what that accomplishment actually was, although Madison couldn't have known it at the time, today that same constitutional technology that he invented is still in use not only in the US, but, 230 years later, in places like Canada, India, South Africa, Brazil. So in an extraordinary range of contexts all over the world, this technology is still the dominant, most used, most effective technology to manage governance.In that moment, Madison believed that, having solved this problem, the country would run smoothly, and that he had designed a technology that would minimize the results of factions so there would be no political parties. Remarkably, he thought he had designed a constitution that was against political parties and would make them unnecessary.He had gotten an enormous degree of help in the final marketing phase of his constitutional project from a man you may have heard of, called Alexander Hamilton. Now, Hamilton was everything Madison was not. He was passionate, where Madison was restrained. He was pansexual, where Madison didn't speak to a woman expect for once until he was 42 years old, and then married Dolley and lived happily ever after for 40 years.(Laughter)To put it bluntly, Hamilton's the kind of person about whom you would write a hip-hop musical \\u2014(Laughter)and Madison is the kind of person about whom you would not write a hip-hop musical.(Laughter)Or indeed, a musical of any kind at all.But together, they had become a rather unlikely pairing, and they had produced the Federalist Papers, which offered a justification and, as I mentioned, a marketing plan for the Constitution, which had been wildly effective and wildly successful.Once the new government was in place, Hamilton became Secretary of the Treasury, and he had a very specific idea in mind. And that was to do for financial institutions and infrastructure exactly what Madison had done for constitutions. Again, his contemporaries all knew it. One of them told Madison, who can't have liked it very much, that Hamilton was the Newton of infrastructure. The idea was pretty straightforward. Hamilton would give the United States a national bank, a permanent national debt \\u2014 he said it would be \\\"immortal,\\\" his phrase \\u2014 and a manufacturing policy that would enable trade and manufacturing rather than agriculture, which was where the country's primary wealth had historically been.Madison went utterly ballistic. And in this pivotal, critical decision, instead of just telling the world that his old friend Hamilton was wrong and was adopting the wrong policies, he actually began to argue that Hamilton's ideas were unconstitutional \\u2014 that they violated the very nature of the Constitution that the two of them had drafted together. Hamilton responded the way you would expect. He declared Madison to be his \\\"personal and political enemy\\\" \\u2014 these are his words.So these two founders who had been such close friends and such close allies and such partners, then began to produce enmity. And they did it in the good, old-fashioned way. First, they founded political parties. Madison created a party originally called the Democratic Republican Party \\u2014 \\\"Republican\\\" for short \\u2014 and Hamilton created a party called the Federalist Party. Those two parties adopted positions on national politics that were extreme and exaggerated. To give you a clear example: Madison, who had always believed that the country would have some manufacturing and some trade and some agriculture, began attacking Hamilton as a kind of tool of the financial markets whom Hamilton himself intended to put in charge of the country. That was an overstatement, but it was something Madison came to believe.He also attacked city life, and he said that the coasts were corrupt, and what people needed to do was to look inwards to the center of the country, to farmers, who were the essence of Republican virtue, and they should go back to the values that had made American great, specifically the values of the Revolution, and those were the values of low taxes, agriculture and less trade. Hamilton responded to this by saying that Madison was na\\u00efve, that he was childish, and that his goal was to turn the United States into a primitive autarchy, self-reliant and completely ineffectual on the global scale.(Laughter)They both meant it, and there was some truth to each of their claims, because each side was grossly exaggerating the views of the other in order to fight their war. They founded newspapers, and so for the first time in US history, the news that people received came entirely through the lens of either the Republican or the Federalist party.How does this end? Well, as it turned out, the Constitution did its work. But it did its work in surprising ways that Madison himself had not fully anticipated. First, there was a series of elections. And the first two times out of the box, the Federalists destroyed the Republicans. Madison was astonished. Of course, he blamed the press.(Laughter)And in a rather innovative view \\u2014 Madison never failed to innovate when he thought about anything \\u2014 he said the reason that the press was so pro-Federalist is that the advertisers were all Federalists, because they were traders on the coasts who got their capital from Britain, which Federalism was in bed with. That was his initial explanation. But despite the fact that the Federalists, once in power, actually enacted laws that criminalized criticism of the government \\u2014 that happened in the United States \\u2014 nevertheless, the Republicans fought back, and Madison began to emphasize the freedom of speech, which he had built into the Bill of Rights, and the capacity of civil society to organize. And sure enough, nationally, small local groups \\u2014 they were called Democratic-Republican Societies \\u2014 began to form and protest against Federalist-dominated hegemony. Eventually, the Republicans managed to win a national election \\u2014 that was in 1800. Madison became the Secretary of State, his friend and mentor Jefferson became president, and they actually, over time, managed to put the Federalists completely out of business. That was their goal.Now, why did that happen? It happened because in the structure of the Constitution were several features that actually managed faction the way there were supposed to do in the first place. What were those? One \\u2014 most important of all \\u2014 the freedom of speech. This was an innovative idea at the time. Namely, that if you were out of power, you could still say that the government was terrible.Two, civil society organization. The capacity to put together private groups, individuals, political parties and others who would organize to try to bring about fundamental change. Perhaps most significantly was the separation of powers \\u2014 an extraordinary component of the Constitution. The thing about the separation of powers is that it did then and it does now, drive governance to the center. You can get elected to office in the United States with help from the periphery, right or left. It turns out, you actually can't govern unless you bring on board the center. There are midterm elections that come incredibly fast after a presidency begins. Those drive presidents towards the center.There's a structure in which the president, in fact, does not rule or even govern, but can only propose laws which other people have to agree with \\u2014 another feature that tends to drive presidents who actually want to get things done to the center. And a glance at the newspapers today will reveal to you that these principles are still completely in operation. No matter how a president gets elected, the president cannot get anything done unless the president first of all follows the rules of the Constitution, because if not, the courts will stand up, as indeed has sometimes occurred, not only recently, but in the past, in US history. And furthermore, the president needs people, elected officials who know they need to win election from centrist voters, also to back his or her policies in order to pass laws. Without it, nothing much happens.The takeaway of this brief excursus into the history of partisanship, then, is the following: partisanship is real; it's profound; it's extraordinarily powerful, and it's terribly upsetting. But the design of the Constitution is greater than partisanship. It enables us to manage partisanship when that's possible, and it enables us actually to overcome partisan division and produce compromise, when and only when that is possible. A technology like that is a technology that worked for the founders, it worked for their grandchildren, it didn't work at the moment of the Civil War, but then it started working again. And it worked for our grandparents, our parents, and it's going to work for us.(Applause)So what you should do is really simple. Stand up for what you believe in, support the organizations that you care about, speak out on the issues that matter to you, get involved, make change, express you opinion, and do it with respect and knowledge and confidence that it's only by working together that the constitutional technology can do the job that it is designed to do.Stand up for what you believe, but take a deep breath while you do it. It's going to be OK.Thanks.(Applause)\",\n          \"When my father and I started a company to 3D print human tissues and organs, some people initially thought we were a little crazy. But since then, much progress has been made, both in our lab and other labs around the world. And given this, we started getting questions like, \\\"If you can grow human body parts, can you also grow animal products like meat and leather?\\\"When someone first suggested this to me, quite frankly I thought they were a little crazy, but what I soon came to realize was that this is not so crazy after all. What's crazy is what we do today. I'm convinced that in 30 years, when we look back on today and on how we raise and slaughter billions of animals to make our hamburgers and our handbags, we'll see this as being wasteful and indeed crazy. Did you know that today we maintain a global herd of 60 billion animals to provide our meat, dairy, eggs and leather goods? And over the next few decades, as the world's population expands to 10 billion, this will need to nearly double to 100 billion animals.But maintaining this herd takes a major toll on our planet. Animals are not just raw materials. They're living beings, and already our livestock is one of the largest users of land, fresh water, and one of the biggest producers of greenhouse gases which drive climate change. On top of this, when you get so many animals so close together, it creates a breeding ground for disease and opportunities for harm and abuse. Clearly, we cannot continue on this path which puts the environment, public health, and food security at risk.There is another way, because essentially, animal products are just collections of tissues, and right now we breed and raise highly complex animals only to create products that are made of relatively simple tissues. What if, instead of starting with a complex and sentient animal, we started with what the tissues are made of, the basic unit of life, the cell?This is biofabrication, where cells themselves can be used to grow biological products like tissues and organs. Already in medicine, biofabrication techniques have been used to grow sophisticated body parts, like ears, windpipes, skin, blood vessels and bone, that have been successfully implanted into patients. And beyond medicine, biofabrication can be a humane, sustainable and scalable new industry.And we should begin by reimagining leather. I emphasize leather because it is so widely used. It is beautiful, and it has long been a part of our history. Growing leather is also technically simpler than growing other animal products like meat. It mainly uses one cell type, and it is largely two-dimensional. It is also less polarizing for consumers and regulators. Until biofabrication is better understood, it is clear that, initially at least, more people would be willing to wear novel materials than would be willing to eat novel foods, no matter how delicious. In this sense, leather is a gateway material, a beginning for the mainstream biofabrication industry. If we can succeed here, it brings our other consumer bioproducts like meat closer on the horizon.Now how do we do it? To grow leather, we begin by taking cells from an animal, through a simple biopsy. The animal could be a cow, lamb, or even something more exotic. This process does no harm, and Daisy the cow can live a happy life. We then isolate the skin cells and multiply them in a cell culture medium. This takes millions of cells and expands them into billions. And we then coax these cells to produce collagen, as they would naturally. This collagen is the stuff between cells. It's natural connective tissue. It's the extracellular matrix, but in leather, it's the main building block. And what we next do is we take the cells and their collagen and we spread them out to form sheets, and then we layer these thin sheets on top of one another, like phyllo pastry, to form thicker sheets, which we then let mature. And finally, we take this multilayered skin and through a shorter and much less chemical tanning process, we create leather. And so I'm very excited to show you, for the first time, the first batch of our cultured leather, fresh from the lab. This is real, genuine leather, without the animal sacrifice. It can have all the characteristics of leather because it is made of the same cells, and better yet, there is no hair to remove, no scars or insect's bites, and no waste. This leather can be grown in the shape of a wallet, a handbag or a car seat. It is not limited to the irregular shape of a cow or an alligator.And because we make this material, we grow this leather from the ground up, we can control its properties in very interesting ways. This piece of leather is a mere seven tissue layers thick, and as you can see, it is nearly transparent. And this leather is 21 layers thick and quite opaque. You don't have that kind of fine control with conventional leather. And we can tune this leather for other desirable qualities, like softness, breathability, durability, elasticity and even things like pattern. We can mimic nature, but in some ways also improve upon it. This type of leather can do what today's leather does, but with imagination, probably much more.What could the future of animal products look like? It need not look like this, which is actually the state of the art today. Rather, it could be much more like this. Already, we have been manufacturing with cell cultures for thousands of years, beginning with products like wine, beer and yogurt. And speaking of food, our cultured food has evolved, and today we prepare cultured food in beautiful, sterile facilities like this. A brewery is essentially a bioreactor. It is where cell culture takes place. Imagine that in this facility, instead of brewing beer, we were brewing leather or meat. Imagine touring this facility, learning about how the leather or meat is cultured, seeing the process from beginning to end, and even trying some. It's clean, open and educational, and this is in contrast to the hidden, guarded and remote factories where leather and meat is produced today. Perhaps biofabrication is a natural evolution of manufacturing for mankind. It's environmentally responsible, efficient and humane. It allows us to be creative. We can design new materials, new products, and new facilities. We need to move past just killing animals as a resource to something more civilized and evolved. Perhaps we are ready for something literally and figuratively more cultured.Thank you.(Applause)\"\n        ],\n        \"semantic_type\": \"\",\n        \"description\": \"\"\n      }\n    },\n    {\n      \"column\": \"url\",\n      \"properties\": {\n        \"dtype\": \"string\",\n        \"num_unique_values\": 500,\n        \"samples\": [\n          \"https://www.ted.com/talks/elon_musk_the_mind_behind_tesla_spacex_solarcity\\n\",\n          \"https://www.ted.com/talks/noah_feldman_hamilton_vs_madison_and_the_birth_of_american_partisanship\\n\",\n          \"https://www.ted.com/talks/andras_forgacs_leather_and_meat_without_killing_animals\\n\"\n        ],\n        \"semantic_type\": \"\",\n        \"description\": \"\"\n      }\n    },\n    {\n      \"column\": \"title\",\n      \"properties\": {\n        \"dtype\": \"string\",\n        \"num_unique_values\": 500,\n        \"samples\": [\n          \"Elon Musk The Mind Behind Tesla Spacex Solarcity\",\n          \"Noah Feldman Hamilton Vs Madison And The Birth Of American Partisanship\",\n          \"Andras Forgacs Leather And Meat Without Killing Animals\"\n        ],\n        \"semantic_type\": \"\",\n        \"description\": \"\"\n      }\n    }\n  ]\n}"
            }
          },
          "metadata": {},
          "execution_count": 161
        }
      ]
    },
    {
      "cell_type": "code",
      "source": [
        "# extract transcript\n",
        "transcripts = ted['transcript']\n",
        "transcripts.head()"
      ],
      "metadata": {
        "colab": {
          "base_uri": "https://localhost:8080/",
          "height": 304
        },
        "id": "W7BTtb2wklw9",
        "outputId": "7b6947a2-b974-45a2-b255-a54c102d2e44"
      },
      "execution_count": 162,
      "outputs": [
        {
          "output_type": "execute_result",
          "data": {
            "text/plain": [
              "0    We're going to talk — my — a new lecture, just...\n",
              "1    This is a representation of your brain, and yo...\n",
              "2    It's a great honor today to share with you The...\n",
              "3    My passions are music, technology and making t...\n",
              "4    It used to be that if you wanted to get a comp...\n",
              "Name: transcript, dtype: object"
            ],
            "text/html": [
              "<div>\n",
              "<style scoped>\n",
              "    .dataframe tbody tr th:only-of-type {\n",
              "        vertical-align: middle;\n",
              "    }\n",
              "\n",
              "    .dataframe tbody tr th {\n",
              "        vertical-align: top;\n",
              "    }\n",
              "\n",
              "    .dataframe thead th {\n",
              "        text-align: right;\n",
              "    }\n",
              "</style>\n",
              "<table border=\"1\" class=\"dataframe\">\n",
              "  <thead>\n",
              "    <tr style=\"text-align: right;\">\n",
              "      <th></th>\n",
              "      <th>transcript</th>\n",
              "    </tr>\n",
              "  </thead>\n",
              "  <tbody>\n",
              "    <tr>\n",
              "      <th>0</th>\n",
              "      <td>We're going to talk — my — a new lecture, just...</td>\n",
              "    </tr>\n",
              "    <tr>\n",
              "      <th>1</th>\n",
              "      <td>This is a representation of your brain, and yo...</td>\n",
              "    </tr>\n",
              "    <tr>\n",
              "      <th>2</th>\n",
              "      <td>It's a great honor today to share with you The...</td>\n",
              "    </tr>\n",
              "    <tr>\n",
              "      <th>3</th>\n",
              "      <td>My passions are music, technology and making t...</td>\n",
              "    </tr>\n",
              "    <tr>\n",
              "      <th>4</th>\n",
              "      <td>It used to be that if you wanted to get a comp...</td>\n",
              "    </tr>\n",
              "  </tbody>\n",
              "</table>\n",
              "</div><br><label><b>dtype:</b> object</label>"
            ]
          },
          "metadata": {},
          "execution_count": 162
        }
      ]
    },
    {
      "cell_type": "code",
      "source": [
        "# compute cosine sim\n",
        "tfidf_matrix = tfidf_vectorizer.fit_transform(transcripts)\n",
        "cosine_sim = cosine_similarity(tfidf_matrix, tfidf_matrix)\n",
        "cosine_sim, cosine_sim.shape"
      ],
      "metadata": {
        "colab": {
          "base_uri": "https://localhost:8080/"
        },
        "id": "l1h4oZRkmRAl",
        "outputId": "72b0ec86-6f52-4815-a256-ddd3d83664d9"
      },
      "execution_count": 163,
      "outputs": [
        {
          "output_type": "execute_result",
          "data": {
            "text/plain": [
              "(array([[1.        , 0.47014672, 0.43111468, ..., 0.46412547, 0.45670633,\n",
              "         0.49282253],\n",
              "        [0.47014672, 1.        , 0.44271363, ..., 0.46985012, 0.44711665,\n",
              "         0.50449557],\n",
              "        [0.43111468, 0.44271363, 1.        , ..., 0.46801727, 0.39181858,\n",
              "         0.46637994],\n",
              "        ...,\n",
              "        [0.46412547, 0.46985012, 0.46801727, ..., 1.        , 0.45097242,\n",
              "         0.48634418],\n",
              "        [0.45670633, 0.44711665, 0.39181858, ..., 0.45097242, 1.        ,\n",
              "         0.49410619],\n",
              "        [0.49282253, 0.50449557, 0.46637994, ..., 0.48634418, 0.49410619,\n",
              "         1.        ]]),\n",
              " (500, 500))"
            ]
          },
          "metadata": {},
          "execution_count": 163
        }
      ]
    },
    {
      "cell_type": "code",
      "source": [
        "# create indices\n",
        "indices = pd.Series(ted.index, index=ted['title']).drop_duplicates()\n",
        "print(indices.shape)\n",
        "indices.head()"
      ],
      "metadata": {
        "colab": {
          "base_uri": "https://localhost:8080/",
          "height": 366
        },
        "id": "n9KNtVH6hLvP",
        "outputId": "96932154-ff8c-40f1-87fa-1b4c2180621d"
      },
      "execution_count": 164,
      "outputs": [
        {
          "output_type": "stream",
          "name": "stdout",
          "text": [
            "(500,)\n"
          ]
        },
        {
          "output_type": "execute_result",
          "data": {
            "text/plain": [
              "title\n",
              "Al Seckel Says Our Brains Are Mis Wired                                                0\n",
              "Aaron O Connell Making Sense Of A Visible Quantum Object                               1\n",
              "Carter Emmart Demos A 3d Atlas Of The Universe                                         2\n",
              "Jared Ficklin New Ways To See Music With Color And Fire                                3\n",
              "Jeremy Howard The Wonderful And Terrifying Implications Of Computers That Can Learn    4\n",
              "dtype: int64"
            ],
            "text/html": [
              "<div>\n",
              "<style scoped>\n",
              "    .dataframe tbody tr th:only-of-type {\n",
              "        vertical-align: middle;\n",
              "    }\n",
              "\n",
              "    .dataframe tbody tr th {\n",
              "        vertical-align: top;\n",
              "    }\n",
              "\n",
              "    .dataframe thead th {\n",
              "        text-align: right;\n",
              "    }\n",
              "</style>\n",
              "<table border=\"1\" class=\"dataframe\">\n",
              "  <thead>\n",
              "    <tr style=\"text-align: right;\">\n",
              "      <th></th>\n",
              "      <th>0</th>\n",
              "    </tr>\n",
              "    <tr>\n",
              "      <th>title</th>\n",
              "      <th></th>\n",
              "    </tr>\n",
              "  </thead>\n",
              "  <tbody>\n",
              "    <tr>\n",
              "      <th>Al Seckel Says Our Brains Are Mis Wired</th>\n",
              "      <td>0</td>\n",
              "    </tr>\n",
              "    <tr>\n",
              "      <th>Aaron O Connell Making Sense Of A Visible Quantum Object</th>\n",
              "      <td>1</td>\n",
              "    </tr>\n",
              "    <tr>\n",
              "      <th>Carter Emmart Demos A 3d Atlas Of The Universe</th>\n",
              "      <td>2</td>\n",
              "    </tr>\n",
              "    <tr>\n",
              "      <th>Jared Ficklin New Ways To See Music With Color And Fire</th>\n",
              "      <td>3</td>\n",
              "    </tr>\n",
              "    <tr>\n",
              "      <th>Jeremy Howard The Wonderful And Terrifying Implications Of Computers That Can Learn</th>\n",
              "      <td>4</td>\n",
              "    </tr>\n",
              "  </tbody>\n",
              "</table>\n",
              "</div><br><label><b>dtype:</b> int64</label>"
            ]
          },
          "metadata": {},
          "execution_count": 164
        }
      ]
    },
    {
      "cell_type": "code",
      "source": [
        "## get index\n",
        "ex_title_1 = ted['title'][5]\n",
        "ex_idx_1 = indices[ex_title_1]\n",
        "print('Title: ', ex_title_1)\n",
        "print('Titles index', ex_idx_1)\n",
        "print()\n",
        "\n",
        "ex_title_2 = ted['title'][3]\n",
        "ex_idx_2 = indices[ex_title_2]\n",
        "print('Title: ', ex_title_2)\n",
        "print('Titles index', ex_idx_2)\n",
        "\n",
        "ex_title_3 = ted['title'][0]\n",
        "ex_idx_3 = indices[ex_title_3]\n",
        "print('Title: ', ex_title_3)\n",
        "print('Titles index', ex_idx_3)"
      ],
      "metadata": {
        "colab": {
          "base_uri": "https://localhost:8080/"
        },
        "id": "V5S-pJxVov_z",
        "outputId": "38975bc6-64ef-4569-b1d8-4eb6713e3085"
      },
      "execution_count": 165,
      "outputs": [
        {
          "output_type": "stream",
          "name": "stdout",
          "text": [
            "Title:  Gregoire Courtine The Paralyzed Rat That Walked\n",
            "Titles index 5\n",
            "\n",
            "Title:  Jared Ficklin New Ways To See Music With Color And Fire\n",
            "Titles index 3\n",
            "Title:  Al Seckel Says Our Brains Are Mis Wired\n",
            "Titles index 0\n"
          ]
        }
      ]
    },
    {
      "cell_type": "code",
      "source": [
        "# array of Cosine Similarity - CS, for first talk\n",
        "\" we use first title to view  its CS, againts other talks, it's first value would definitely be 1\"\n",
        "# We\n",
        "cs = cosine_sim[ex_idx_3]\n",
        "cs[:100]"
      ],
      "metadata": {
        "colab": {
          "base_uri": "https://localhost:8080/"
        },
        "id": "Dfn9kunvpIzJ",
        "outputId": "6a9edb0a-6b30-4a94-9f0a-734e44e1f877"
      },
      "execution_count": 166,
      "outputs": [
        {
          "output_type": "execute_result",
          "data": {
            "text/plain": [
              "array([1.        , 0.47014672, 0.43111468, 0.50214908, 0.51771685,\n",
              "       0.35221225, 0.26710873, 0.29294589, 0.47359705, 0.48710916,\n",
              "       0.40885699, 0.47435232, 0.37295762, 0.46785475, 0.50333577,\n",
              "       0.51032627, 0.46651674, 0.3587933 , 0.48003259, 0.28349263,\n",
              "       0.49467893, 0.48902038, 0.30038633, 0.41582454, 0.31983845,\n",
              "       0.44282574, 0.3321545 , 0.43559755, 0.50485792, 0.412063  ,\n",
              "       0.45822533, 0.33748212, 0.52123914, 0.45451557, 0.38057831,\n",
              "       0.550021  , 0.47098305, 0.45367056, 0.4217499 , 0.4906255 ,\n",
              "       0.53123515, 0.43317402, 0.46075213, 0.36668057, 0.50397837,\n",
              "       0.4666393 , 0.27469466, 0.52656461, 0.35940241, 0.41178204,\n",
              "       0.44906419, 0.40682684, 0.54384983, 0.39971644, 0.4815915 ,\n",
              "       0.50313841, 0.32844592, 0.49512725, 0.5392414 , 0.44785118,\n",
              "       0.32139229, 0.41356764, 0.40161098, 0.54517723, 0.42953041,\n",
              "       0.62107918, 0.4624512 , 0.43394946, 0.53300745, 0.52044679,\n",
              "       0.46249908, 0.34755334, 0.43139632, 0.40758449, 0.4421698 ,\n",
              "       0.47594323, 0.3884464 , 0.44949624, 0.470934  , 0.47920489,\n",
              "       0.55842808, 0.44703368, 0.44927901, 0.42349928, 0.4231032 ,\n",
              "       0.31138461, 0.        , 0.41491818, 0.4366401 , 0.48045287,\n",
              "       0.47748141, 0.50393698, 0.51792035, 0.51678493, 0.48108336,\n",
              "       0.37898511, 0.46614425, 0.57958989, 0.49119417, 0.45089126])"
            ]
          },
          "metadata": {},
          "execution_count": 166
        }
      ]
    },
    {
      "cell_type": "code",
      "source": [
        "# import sample\n",
        "from random import sample\n",
        "# create list\n",
        "cs_list = list(enumerate(cs)) # creates index and value pairs\n",
        "print(cs_list[:10])\n",
        "\n",
        "# randomized\n",
        "#cs_sorted = sample(cs_list, 10)\n",
        "#print(cs_sorted[:10])\n",
        "#cs_sorted = sorted(cs_list)\n",
        "\n",
        "# now we sort the list of tuples, based on only their second element - magical\n",
        "'We use a lamda function, to isntruct sorting() based on second element in the tuple'\n",
        "cs_sorted = sorted(cs_list, key=lambda x: x[1], reverse=True)\n",
        "\n",
        "\n",
        "cs_sorted[:10]"
      ],
      "metadata": {
        "colab": {
          "base_uri": "https://localhost:8080/"
        },
        "id": "N8ICqhnTtmhX",
        "outputId": "f9995ee7-1415-4be3-98e5-502e48dda821"
      },
      "execution_count": 167,
      "outputs": [
        {
          "output_type": "stream",
          "name": "stdout",
          "text": [
            "[(0, 1.0), (1, 0.4701467195919895), (2, 0.4311146819573743), (3, 0.5021490794233271), (4, 0.517716854884543), (5, 0.3522122538164479), (6, 0.26710872818549997), (7, 0.2929458885468626), (8, 0.4735970528959512), (9, 0.4871091591441328)]\n"
          ]
        },
        {
          "output_type": "execute_result",
          "data": {
            "text/plain": [
              "[(0, 1.0),\n",
              " (65, 0.62107917656293),\n",
              " (153, 0.6082491875020032),\n",
              " (223, 0.5907976762539818),\n",
              " (139, 0.5868410340859063),\n",
              " (434, 0.5859633904328494),\n",
              " (97, 0.5795898905648744),\n",
              " (357, 0.5784953507554258),\n",
              " (296, 0.5763411900395952),\n",
              " (260, 0.5755971735350032)]"
            ]
          },
          "metadata": {},
          "execution_count": 167
        }
      ]
    },
    {
      "cell_type": "code",
      "source": [
        "# extract indeices\n",
        "cs_sorted_indices = [i[0] for i in cs_sorted]\n",
        "print(cs_sorted_indices[:10])\n",
        "print()\n",
        "\n",
        "# extract titles\n",
        "cs_sorted_titles = ted['title'].iloc[cs_sorted_indices]\n",
        "print(cs_sorted_titles[:10])"
      ],
      "metadata": {
        "colab": {
          "base_uri": "https://localhost:8080/"
        },
        "id": "nWv-xl34t6Hk",
        "outputId": "d53a4f18-13ca-4218-d9cb-3dc59bf9ebc2"
      },
      "execution_count": 168,
      "outputs": [
        {
          "output_type": "stream",
          "name": "stdout",
          "text": [
            "[0, 65, 153, 223, 139, 434, 97, 357, 296, 260]\n",
            "\n",
            "0                Al Seckel Says Our Brains Are Mis Wired\n",
            "65                     Kary Mullis On What Scientists Do\n",
            "153             Scott Dinsmore How To Find Work You Love\n",
            "223    Ricardo Semler How To Run A Company With Almos...\n",
            "139    George Whitesides A Lab The Size Of A Postage ...\n",
            "434               Tony Robbins Asks Why We Do What We Do\n",
            "97     Dan Ariely Asks Are We In Control Of Our Own D...\n",
            "357           George Smoot On The Design Of The Universe\n",
            "296    Nicholas Negroponte On One Laptop Per Child Tw...\n",
            "260                   Paul Maccready On Nature Vs Humans\n",
            "Name: title, dtype: object\n"
          ]
        }
      ]
    },
    {
      "cell_type": "code",
      "source": [
        "# @title Automate the process\n",
        "'Re run process using function'\n",
        "# Initialize the TfidfVectorizer\n",
        "tfidf = TfidfVectorizer(stop_words='english')\n",
        "\n",
        "# Construct the TF-IDF matrix\n",
        "tfidf_matrix = tfidf.fit_transform(transcripts)\n",
        "\n",
        "# Generate the cosine similarity matrix\n",
        "cosine_sim = linear_kernel(tfidf_matrix, tfidf_matrix)\n",
        "\n",
        "# Generate recommendations\n",
        "ex_title = ted['title'][133]\n",
        "# print index\n",
        "print('Title of talk:', ex_title)\n",
        "print()\n",
        "print('Title of talk:', ex_title)\n",
        "print()\n",
        "print(get_recommendations(ex_title, cosine_sim, indices))"
      ],
      "metadata": {
        "colab": {
          "base_uri": "https://localhost:8080/"
        },
        "id": "ntMrCsQHgOOh",
        "outputId": "80f1a6ef-4c5f-4416-9b52-4862024be368"
      },
      "execution_count": 172,
      "outputs": [
        {
          "output_type": "stream",
          "name": "stdout",
          "text": [
            "Title of talk: Drew Dudley Everyday Leadership\n",
            "\n",
            "Title of talk: Drew Dudley Everyday Leadership\n",
            "\n",
            "223             The Hunted\n",
            "434         Lightning Jack\n",
            "153              Jury Duty\n",
            "213                  Fluke\n",
            "52                 Georgia\n",
            "256          Beyond Bedlam\n",
            "335              The Paper\n",
            "132         Batman Forever\n",
            "174           Strange Days\n",
            "65     From Dusk Till Dawn\n",
            "Name: title, dtype: object\n"
          ]
        }
      ]
    },
    {
      "cell_type": "markdown",
      "source": [
        "**Excellent work! You have successfully built a TED talk recommender. This recommender works surprisingly well despite being trained only on a small subset of TED talks. In fact, three of the talks recommended by our system is also recommended by the official TED website as talks to watch next after '5 ways to kill your dreams'!**"
      ],
      "metadata": {
        "id": "iOqEDfSOwoiT"
      }
    },
    {
      "cell_type": "markdown",
      "source": [
        "**Generating word vectors**\n",
        "\n",
        "In this exercise, we will generate the pairwise similarity scores of all the words in a sentence. The sentence is available as sent and has been printed to the console for your convenience."
      ],
      "metadata": {
        "id": "VgSuzlj9yuMA"
      }
    },
    {
      "cell_type": "code",
      "source": [
        "sent = \"Financial Mathematicss Statistics and Machine Learning\"\n",
        "\n",
        "#nlp = spacy.load('en_core_web_lg') # lg for large model\n",
        "nlp = spacy.load('en_core_web_sm') # sm for small model\n",
        "doc = nlp(sent)\n",
        "print(doc)\n",
        "\n",
        "# Generate word vectors\n",
        "word_vectors = [token.vector for token in doc]\n",
        "\n",
        "\n",
        "\n",
        "print(word_vectors[:2])\n",
        "for token in doc[:1]:\n",
        "  print(token.text, token.vector_norm, token.vector)\n",
        "\n",
        "# word vector df\n",
        "word_vectors_df = pd.DataFrame(word_vectors)\n",
        "word_vectors_df.head()\n",
        "\n",
        "# create index\n",
        "word_vectors_df.index = doc\n",
        "word_vectors_df.head()"
      ],
      "metadata": {
        "id": "GyZ5DKiq22gs"
      },
      "execution_count": null,
      "outputs": []
    },
    {
      "cell_type": "code",
      "source": [
        "# Create the doc object\n",
        "sent = \"I like apples and oranges\"\n",
        "doc = nlp(sent)\n",
        "\n",
        "# Compute pairwise similarity scores\n",
        "for token1 in doc:\n",
        "  for token2 in doc:\n",
        "    if token1.text == token2.text:\n",
        "      print()\n",
        "    print(token1.text, token2.text, token1.similarity(token2))\n",
        "\n",
        "\n",
        "print()\n",
        "\"Good job! Notice how the words 'apples' and 'oranges' have the highest pairwaise similarity score. This is expected as they are both fruits and are more related to each other than any other pair of words.\""
      ],
      "metadata": {
        "colab": {
          "base_uri": "https://localhost:8080/",
          "height": 810
        },
        "id": "LwBp5r28wnbQ",
        "outputId": "c69b2a90-ccb8-48d0-f5f1-a692edbb4d11"
      },
      "execution_count": 179,
      "outputs": [
        {
          "output_type": "stream",
          "name": "stdout",
          "text": [
            "\n",
            "I I 1.0\n",
            "I like -0.06950665265321732\n",
            "I apples 0.1816101223230362\n",
            "I and -0.050600726157426834\n",
            "I oranges -0.01758648455142975\n",
            "like I -0.06950665265321732\n",
            "\n",
            "like like 1.0\n",
            "like apples 0.10200604051351547\n",
            "like and 0.0523926205933094\n",
            "like oranges 0.08973564207553864\n",
            "apples I 0.1816101223230362\n",
            "apples like 0.10200604051351547\n",
            "\n",
            "apples apples 1.0\n",
            "apples and -0.0011530559277161956\n",
            "apples oranges 0.41077685356140137\n",
            "and I -0.050600726157426834\n",
            "and like 0.0523926205933094\n",
            "and apples -0.0011530559277161956\n",
            "\n",
            "and and 1.0\n",
            "and oranges 0.028571248054504395\n",
            "oranges I -0.01758648455142975\n",
            "oranges like 0.08973564207553864\n",
            "oranges apples 0.41077685356140137\n",
            "oranges and 0.028571248054504395\n",
            "\n",
            "oranges oranges 1.0\n",
            "\n"
          ]
        },
        {
          "output_type": "stream",
          "name": "stderr",
          "text": [
            "<ipython-input-179-c2f1fc5bdfb9>:10: UserWarning: [W007] The model you're using has no word vectors loaded, so the result of the Token.similarity method will be based on the tagger, parser and NER, which may not give useful similarity judgements. This may happen if you're using one of the small models, e.g. `en_core_web_sm`, which don't ship with word vectors and only use context-sensitive tensors. You can always add your own word vectors, or use one of the larger models instead if available.\n",
            "  print(token1.text, token2.text, token1.similarity(token2))\n"
          ]
        },
        {
          "output_type": "execute_result",
          "data": {
            "text/plain": [
              "\"Good job! Notice how the words 'apples' and 'oranges' have the highest pairwaise similarity score. This is expected as they are both fruits and are more related to each other than any other pair of words.\""
            ],
            "application/vnd.google.colaboratory.intrinsic+json": {
              "type": "string"
            }
          },
          "metadata": {},
          "execution_count": 179
        }
      ]
    },
    {
      "cell_type": "code",
      "source": [
        "# Create the doc object\n",
        "sent = \"I like Mathematics Statistics and Machine Learning and their applications in finance\"\n",
        "doc = nlp(sent)\n",
        "\n",
        "# Compute pairwise similarity scores\n",
        "for token1 in doc:\n",
        "  for token2 in doc:\n",
        "    if token1.text == token2.text:\n",
        "      print()\n",
        "    print(token1.text, token2.text, token1.similarity(token2))\n",
        "\n",
        "\n",
        "print()"
      ],
      "metadata": {
        "colab": {
          "base_uri": "https://localhost:8080/"
        },
        "id": "ocmXnxbCz6d2",
        "outputId": "1a01c767-beef-414a-faf8-fcd6930147ca"
      },
      "execution_count": 182,
      "outputs": [
        {
          "output_type": "stream",
          "name": "stdout",
          "text": [
            "\n",
            "I I 1.0\n",
            "I like -0.019492877647280693\n",
            "I Mathematics 0.018626749515533447\n",
            "I Statistics 0.1725122630596161\n",
            "I and -0.05467589572072029\n",
            "I Machine 0.12071316689252853\n",
            "I Learning 0.14802229404449463\n",
            "I and 0.05448015406727791\n",
            "I their 0.15038031339645386\n",
            "I applications 0.12108775228261948\n",
            "I in -0.06653664261102676\n",
            "I finance -0.13923512399196625\n",
            "like I -0.019492877647280693\n",
            "\n",
            "like like 1.0\n",
            "like Mathematics 0.004482297692447901\n",
            "like Statistics 0.05164600908756256\n",
            "like and 0.02712358348071575\n",
            "like Machine -0.1528715193271637\n",
            "like Learning 0.04375191777944565\n",
            "like and 0.1261395663022995\n",
            "like their -0.10644371062517166\n",
            "like applications -0.030655918642878532\n",
            "like in 0.37024322152137756\n",
            "like finance -0.12296771258115768\n",
            "Mathematics I 0.018626749515533447\n",
            "Mathematics like 0.004482297692447901\n",
            "\n",
            "Mathematics Mathematics 1.0\n",
            "Mathematics Statistics 0.41738781332969666\n",
            "Mathematics and -0.004621808882802725\n",
            "Mathematics Machine 0.5144813060760498\n",
            "Mathematics Learning 0.2293206751346588\n",
            "Mathematics and -0.035962656140327454\n",
            "Mathematics their -0.04337974637746811\n",
            "Mathematics applications 0.21475350856781006\n",
            "Mathematics in 0.050338052213191986\n",
            "Mathematics finance 0.056697916239500046\n",
            "Statistics I 0.1725122630596161\n",
            "Statistics like 0.05164600908756256\n",
            "Statistics Mathematics 0.41738781332969666\n",
            "\n",
            "Statistics Statistics 1.0\n",
            "Statistics and 0.12665708363056183\n",
            "Statistics Machine 0.28596001863479614\n",
            "Statistics Learning 0.6016594171524048\n",
            "Statistics and 0.13168205320835114\n",
            "Statistics their -0.006792112719267607\n",
            "Statistics applications 0.37898048758506775\n",
            "Statistics in 0.14905014634132385\n",
            "Statistics finance -0.017132585868239403\n",
            "and I -0.05467589572072029\n",
            "and like 0.02712358348071575\n",
            "and Mathematics -0.004621808882802725\n",
            "and Statistics 0.12665708363056183\n",
            "\n",
            "and and 1.0\n",
            "and Machine 0.09938150644302368\n",
            "and Learning 0.14080867171287537\n",
            "\n",
            "and and 1.0\n",
            "and their -0.07636530697345734\n",
            "and applications -0.05394503474235535\n",
            "and in 0.054595593363046646\n",
            "and finance -0.007390335667878389\n",
            "Machine I 0.12071316689252853\n",
            "Machine like -0.1528715193271637\n",
            "Machine Mathematics 0.5144813060760498\n",
            "Machine Statistics 0.28596001863479614\n",
            "Machine and 0.09938150644302368\n",
            "\n",
            "Machine Machine 1.0\n",
            "Machine Learning 0.28091874718666077\n",
            "Machine and 0.10344811528921127\n",
            "Machine their 0.26353174448013306\n",
            "Machine applications 0.0934659019112587\n",
            "Machine in -0.1379653960466385\n",
            "Machine finance 0.044161755591630936\n",
            "Learning I 0.14802229404449463\n",
            "Learning like 0.04375191777944565\n",
            "Learning Mathematics 0.2293206751346588\n",
            "Learning Statistics 0.6016594171524048\n",
            "Learning and 0.14080867171287537\n",
            "Learning Machine 0.28091874718666077\n",
            "\n",
            "Learning Learning 1.0\n",
            "Learning and 0.15469543635845184\n",
            "Learning their -0.09187792986631393\n",
            "Learning applications 0.2074105441570282\n",
            "Learning in 0.004771047737449408\n",
            "Learning finance 0.24803361296653748\n",
            "and I 0.05448015406727791\n",
            "and like 0.1261395663022995\n",
            "and Mathematics -0.035962656140327454\n",
            "and Statistics 0.13168205320835114\n",
            "\n",
            "and and 1.0\n",
            "and Machine 0.10344811528921127\n",
            "and Learning 0.15469543635845184\n",
            "\n",
            "and and 1.0\n",
            "and their 0.04212404787540436\n",
            "and applications 0.04042555391788483\n",
            "and in 0.1353548765182495\n",
            "and finance -0.02865215204656124\n",
            "their I 0.15038031339645386\n",
            "their like -0.10644371062517166\n",
            "their Mathematics -0.04337974637746811\n",
            "their Statistics -0.006792112719267607\n",
            "their and -0.07636530697345734\n",
            "their Machine 0.26353174448013306\n",
            "their Learning -0.09187792986631393\n",
            "their and 0.04212404787540436\n",
            "\n",
            "their their 1.0\n",
            "their applications 0.07638322561979294\n",
            "their in -0.08687250316143036\n",
            "their finance -0.16610737144947052\n",
            "applications I 0.12108775228261948\n",
            "applications like -0.030655918642878532\n",
            "applications Mathematics 0.21475350856781006\n",
            "applications Statistics 0.37898048758506775\n",
            "applications and -0.05394503474235535\n",
            "applications Machine 0.0934659019112587\n",
            "applications Learning 0.2074105441570282\n",
            "applications and 0.04042555391788483\n",
            "applications their 0.07638322561979294\n",
            "\n",
            "applications applications 1.0\n",
            "applications in 0.12015584856271744\n",
            "applications finance 0.19257059693336487\n",
            "in I -0.06653664261102676\n",
            "in like 0.37024322152137756\n",
            "in Mathematics 0.050338052213191986\n",
            "in Statistics 0.14905014634132385\n",
            "in and 0.054595593363046646\n",
            "in Machine -0.1379653960466385\n",
            "in Learning 0.004771047737449408\n",
            "in and 0.1353548765182495\n",
            "in their -0.08687250316143036\n",
            "in applications 0.12015584856271744\n",
            "\n",
            "in in 1.0\n",
            "in finance -0.13571949303150177\n",
            "finance I -0.13923512399196625\n",
            "finance like -0.12296771258115768\n",
            "finance Mathematics 0.056697916239500046\n",
            "finance Statistics -0.017132585868239403\n",
            "finance and -0.007390335667878389\n",
            "finance Machine 0.044161755591630936\n",
            "finance Learning 0.24803361296653748\n",
            "finance and -0.02865215204656124\n",
            "finance their -0.16610737144947052\n",
            "finance applications 0.19257059693336487\n",
            "finance in -0.13571949303150177\n",
            "\n",
            "finance finance 1.0\n",
            "\n"
          ]
        },
        {
          "output_type": "stream",
          "name": "stderr",
          "text": [
            "<ipython-input-182-c993a6a7ee71>:10: UserWarning: [W007] The model you're using has no word vectors loaded, so the result of the Token.similarity method will be based on the tagger, parser and NER, which may not give useful similarity judgements. This may happen if you're using one of the small models, e.g. `en_core_web_sm`, which don't ship with word vectors and only use context-sensitive tensors. You can always add your own word vectors, or use one of the larger models instead if available.\n",
            "  print(token1.text, token2.text, token1.similarity(token2))\n"
          ]
        }
      ]
    },
    {
      "cell_type": "markdown",
      "source": [
        "**Computing similarity of Pink Floyd songs**\n",
        "\n",
        "In this final exercise, you have been given lyrics of three songs by the British band Pink Floyd, namely 'High Hopes', 'Hey You' and 'Mother'. The lyrics to these songs are available as hopes, hey and mother respectively.\n",
        "\n",
        "Your task is to compute the pairwise similarity between mother and hopes, and mother and hey."
      ],
      "metadata": {
        "id": "msfoHVp93Eku"
      }
    },
    {
      "cell_type": "code",
      "source": [
        "#\n",
        "mother = \"\\nMother do you think they'll drop the bomb?\\nMother do you think they'll like this song?\\nMother do you think they'll try to break my balls?\\nOoh, ah\\nMother should I build the wall?\\nMother should I run for President?\\nMother should I trust the government?\\nMother will they put me in the firing mine?\\nOoh ah,\\nIs it just a waste of time?\\nHush now baby, baby, don't you cry.\\nMama's gonna make all your nightmares come true.\\nMama's gonna put all her fears into you.\\nMama's gonna keep you right here under her wing.\\nShe won't let you fly, but she might let you sing.\\nMama's gonna keep baby cozy and warm.\\nOoh baby, ooh baby, ooh baby,\\nOf course mama's gonna help build the wall.\\nMother do you think she's good enough, for me?\\nMother do you think she's dangerous, to me?\\nMother will she tear your little boy apart?\\nOoh ah,\\nMother will she break my heart?\\nHush now baby, baby don't you cry.\\nMama's gonna check out all your girlfriends for you.\\nMama won't let anyone dirty get through.\\nMama's gonna wait up until you get in.\\nMama will always find out where you've been.\\nMama's gonna keep baby healthy and clean.\\nOoh baby, ooh baby, ooh baby,\\nYou'll always be baby to me.\\nMother, did it need to be so high?\\n\"\n",
        "\n",
        "\n",
        "hey = \"\\nHey you, out there in the cold\\nGetting lonely, getting old\\nCan you feel me?\\nHey you, standing in the aisles\\nWith itchy feet and fading smiles\\nCan you feel me?\\nHey you, don't help them to bury the light\\nDon't give in without a fight\\nHey you out there on your own\\nSitting naked by the phone\\nWould you touch me?\\nHey you with you ear against the wall\\nWaiting for someone to call out\\nWould you touch me?\\nHey you, would you help me to carry the stone?\\nOpen your heart, I'm coming home\\nBut it was only fantasy\\nThe wall was too high\\nAs you can see\\nNo matter how he tried\\nHe could not break free\\nAnd the worms ate into his brain\\nHey you, out there on the road\\nAlways doing what you're told\\nCan you help me?\\nHey you, out there beyond the wall\\nBreaking bottles in the hall\\nCan you help me?\\nHey you, don't tell me there's no hope at all\\nTogether we stand, divided we fall\\n\"\n",
        "\n",
        "\n",
        "hopes = \"\\nBeyond the horizon of the place we lived when we were young\\nIn a world of magnets and miracles\\nOur thoughts strayed constantly and without boundary\\nThe ringing of the division bell had begun\\nAlong the Long Road and on down the Causeway\\nDo they still meet there by the Cut\\nThere was a ragged band that followed in our footsteps\\nRunning before times took our dreams away\\nLeaving the myriad small creatures trying to tie us to the ground\\nTo a life consumed by slow decay\\nThe grass was greener\\nThe light was brighter\\nWhen friends surrounded\\nThe nights of wonder\\nLooking beyond the embers of bridges glowing behind us\\nTo a glimpse of how green it was on the other side\\nSteps taken forwards but sleepwalking back again\\nDragged by the force of some in a tide\\nAt a higher altitude with flag unfurled\\nWe reached the dizzy heights of that dreamed of world\\nEncumbered forever by desire and ambition\\nThere's a hunger still unsatisfied\\nOur weary eyes still stray to the horizon\\nThough down this road we've been so many times\\nThe grass was greener\\nThe light was brighter\\nThe taste was sweeter\\nThe nights of wonder\\nWith friends surrounded\\nThe dawn mist glowing\\nThe water flowing\\nThe endless river\\nForever and ever\\n\"\n"
      ],
      "metadata": {
        "id": "RhOvnnZT3G76"
      },
      "execution_count": 196,
      "outputs": []
    },
    {
      "cell_type": "code",
      "source": [
        "# Create Doc objects\n",
        "mother_doc = nlp(mother)\n",
        "hopes_doc = nlp(hopes)\n",
        "hey_doc = nlp(hey)\n",
        "\n",
        "# Print similarity between mother and hopes\n",
        "print(mother_doc.similarity(hopes_doc), '\\n')\n",
        "\n",
        "# Print similarity between mother and hey\n",
        "print(mother_doc.similarity(hey_doc), '\\n')\n",
        "\n",
        "\"Excellent work! Notice that 'Mother' and 'Hey You' have a similarity score of 0.9 whereas \\\n",
        "'Mother' and 'High Hopes' has a score of only 0.6. This is probably because 'Mother' and \\\n",
        "'Hey You' were both songs from the same album 'The Wall' and were penned by Roger Waters. \\\n",
        "On the other hand, 'High Hopes' was a part of the album 'Division Bell' with lyrics by \\\n",
        "David Gilmour and his wife, Penny Samson. Treat yourself by listening to these songs. They're some of the best!\""
      ],
      "metadata": {
        "colab": {
          "base_uri": "https://localhost:8080/",
          "height": 282
        },
        "id": "HRtbl5gv4I1W",
        "outputId": "cea1ccd0-21ff-42fe-d1e1-65a3f6ab1ee0"
      },
      "execution_count": 198,
      "outputs": [
        {
          "output_type": "stream",
          "name": "stdout",
          "text": [
            "0.4734780725243333 \n",
            "\n",
            "0.817943786306124 \n",
            "\n"
          ]
        },
        {
          "output_type": "stream",
          "name": "stderr",
          "text": [
            "<ipython-input-198-7c57c1151a24>:7: UserWarning: [W007] The model you're using has no word vectors loaded, so the result of the Doc.similarity method will be based on the tagger, parser and NER, which may not give useful similarity judgements. This may happen if you're using one of the small models, e.g. `en_core_web_sm`, which don't ship with word vectors and only use context-sensitive tensors. You can always add your own word vectors, or use one of the larger models instead if available.\n",
            "  print(mother_doc.similarity(hopes_doc), '\\n')\n",
            "<ipython-input-198-7c57c1151a24>:10: UserWarning: [W007] The model you're using has no word vectors loaded, so the result of the Doc.similarity method will be based on the tagger, parser and NER, which may not give useful similarity judgements. This may happen if you're using one of the small models, e.g. `en_core_web_sm`, which don't ship with word vectors and only use context-sensitive tensors. You can always add your own word vectors, or use one of the larger models instead if available.\n",
            "  print(mother_doc.similarity(hey_doc), '\\n')\n"
          ]
        },
        {
          "output_type": "execute_result",
          "data": {
            "text/plain": [
              "\"Excellent work! Notice that 'Mother' and 'Hey You' have a similarity score of 0.9 whereas 'Mother' and 'High Hopes' has a score of only 0.6. This is probably because 'Mother' and 'Hey You' were both songs from the same album 'The Wall' and were penned by Roger Waters. On the other hand, 'High Hopes' was a part of the album 'Division Bell' with lyrics by David Gilmour and his wife, Penny Samson. Treat yourself by listening to these songs. They're some of the best!\""
            ],
            "application/vnd.google.colaboratory.intrinsic+json": {
              "type": "string"
            }
          },
          "metadata": {},
          "execution_count": 198
        }
      ]
    },
    {
      "cell_type": "markdown",
      "source": [
        "**Application - Project**\n",
        "\n",
        "**Apply Knowledge to Movie data**\n"
      ],
      "metadata": {
        "id": "EhIDproR5Quv"
      }
    },
    {
      "cell_type": "code",
      "source": [
        "# View movie plots and taglines\n",
        "movie_plot_taglines = pd.read_csv('movie_plot_taglines.csv')\n",
        "print(movie_plot_taglines.shape)\n",
        "movie_plot_taglines.head()"
      ],
      "metadata": {
        "colab": {
          "base_uri": "https://localhost:8080/",
          "height": 282
        },
        "id": "hBKSl5jA5TW5",
        "outputId": "a17de82d-9167-44fe-e445-7f90b8da4205"
      },
      "execution_count": 203,
      "outputs": [
        {
          "output_type": "stream",
          "name": "stdout",
          "text": [
            "(9099, 4)\n"
          ]
        },
        {
          "output_type": "execute_result",
          "data": {
            "text/plain": [
              "      id                        title  \\\n",
              "0    862                    Toy Story   \n",
              "1   8844                      Jumanji   \n",
              "2  15602             Grumpier Old Men   \n",
              "3  31357            Waiting to Exhale   \n",
              "4  11862  Father of the Bride Part II   \n",
              "\n",
              "                                            overview  \\\n",
              "0  Led by Woody, Andy's toys live happily in his ...   \n",
              "1  When siblings Judy and Peter discover an encha...   \n",
              "2  A family wedding reignites the ancient feud be...   \n",
              "3  Cheated on, mistreated and stepped on, the wom...   \n",
              "4  Just when George Banks has recovered from his ...   \n",
              "\n",
              "                                             tagline  \n",
              "0                                                NaN  \n",
              "1          Roll the dice and unleash the excitement!  \n",
              "2  Still Yelling. Still Fighting. Still Ready for...  \n",
              "3  Friends are the people who let you be yourself...  \n",
              "4  Just When His World Is Back To Normal... He's ...  "
            ],
            "text/html": [
              "\n",
              "  <div id=\"df-7b8a6ba0-6554-4000-bdbe-e7b372bda9b3\" class=\"colab-df-container\">\n",
              "    <div>\n",
              "<style scoped>\n",
              "    .dataframe tbody tr th:only-of-type {\n",
              "        vertical-align: middle;\n",
              "    }\n",
              "\n",
              "    .dataframe tbody tr th {\n",
              "        vertical-align: top;\n",
              "    }\n",
              "\n",
              "    .dataframe thead th {\n",
              "        text-align: right;\n",
              "    }\n",
              "</style>\n",
              "<table border=\"1\" class=\"dataframe\">\n",
              "  <thead>\n",
              "    <tr style=\"text-align: right;\">\n",
              "      <th></th>\n",
              "      <th>id</th>\n",
              "      <th>title</th>\n",
              "      <th>overview</th>\n",
              "      <th>tagline</th>\n",
              "    </tr>\n",
              "  </thead>\n",
              "  <tbody>\n",
              "    <tr>\n",
              "      <th>0</th>\n",
              "      <td>862</td>\n",
              "      <td>Toy Story</td>\n",
              "      <td>Led by Woody, Andy's toys live happily in his ...</td>\n",
              "      <td>NaN</td>\n",
              "    </tr>\n",
              "    <tr>\n",
              "      <th>1</th>\n",
              "      <td>8844</td>\n",
              "      <td>Jumanji</td>\n",
              "      <td>When siblings Judy and Peter discover an encha...</td>\n",
              "      <td>Roll the dice and unleash the excitement!</td>\n",
              "    </tr>\n",
              "    <tr>\n",
              "      <th>2</th>\n",
              "      <td>15602</td>\n",
              "      <td>Grumpier Old Men</td>\n",
              "      <td>A family wedding reignites the ancient feud be...</td>\n",
              "      <td>Still Yelling. Still Fighting. Still Ready for...</td>\n",
              "    </tr>\n",
              "    <tr>\n",
              "      <th>3</th>\n",
              "      <td>31357</td>\n",
              "      <td>Waiting to Exhale</td>\n",
              "      <td>Cheated on, mistreated and stepped on, the wom...</td>\n",
              "      <td>Friends are the people who let you be yourself...</td>\n",
              "    </tr>\n",
              "    <tr>\n",
              "      <th>4</th>\n",
              "      <td>11862</td>\n",
              "      <td>Father of the Bride Part II</td>\n",
              "      <td>Just when George Banks has recovered from his ...</td>\n",
              "      <td>Just When His World Is Back To Normal... He's ...</td>\n",
              "    </tr>\n",
              "  </tbody>\n",
              "</table>\n",
              "</div>\n",
              "    <div class=\"colab-df-buttons\">\n",
              "\n",
              "  <div class=\"colab-df-container\">\n",
              "    <button class=\"colab-df-convert\" onclick=\"convertToInteractive('df-7b8a6ba0-6554-4000-bdbe-e7b372bda9b3')\"\n",
              "            title=\"Convert this dataframe to an interactive table.\"\n",
              "            style=\"display:none;\">\n",
              "\n",
              "  <svg xmlns=\"http://www.w3.org/2000/svg\" height=\"24px\" viewBox=\"0 -960 960 960\">\n",
              "    <path d=\"M120-120v-720h720v720H120Zm60-500h600v-160H180v160Zm220 220h160v-160H400v160Zm0 220h160v-160H400v160ZM180-400h160v-160H180v160Zm440 0h160v-160H620v160ZM180-180h160v-160H180v160Zm440 0h160v-160H620v160Z\"/>\n",
              "  </svg>\n",
              "    </button>\n",
              "\n",
              "  <style>\n",
              "    .colab-df-container {\n",
              "      display:flex;\n",
              "      gap: 12px;\n",
              "    }\n",
              "\n",
              "    .colab-df-convert {\n",
              "      background-color: #E8F0FE;\n",
              "      border: none;\n",
              "      border-radius: 50%;\n",
              "      cursor: pointer;\n",
              "      display: none;\n",
              "      fill: #1967D2;\n",
              "      height: 32px;\n",
              "      padding: 0 0 0 0;\n",
              "      width: 32px;\n",
              "    }\n",
              "\n",
              "    .colab-df-convert:hover {\n",
              "      background-color: #E2EBFA;\n",
              "      box-shadow: 0px 1px 2px rgba(60, 64, 67, 0.3), 0px 1px 3px 1px rgba(60, 64, 67, 0.15);\n",
              "      fill: #174EA6;\n",
              "    }\n",
              "\n",
              "    .colab-df-buttons div {\n",
              "      margin-bottom: 4px;\n",
              "    }\n",
              "\n",
              "    [theme=dark] .colab-df-convert {\n",
              "      background-color: #3B4455;\n",
              "      fill: #D2E3FC;\n",
              "    }\n",
              "\n",
              "    [theme=dark] .colab-df-convert:hover {\n",
              "      background-color: #434B5C;\n",
              "      box-shadow: 0px 1px 3px 1px rgba(0, 0, 0, 0.15);\n",
              "      filter: drop-shadow(0px 1px 2px rgba(0, 0, 0, 0.3));\n",
              "      fill: #FFFFFF;\n",
              "    }\n",
              "  </style>\n",
              "\n",
              "    <script>\n",
              "      const buttonEl =\n",
              "        document.querySelector('#df-7b8a6ba0-6554-4000-bdbe-e7b372bda9b3 button.colab-df-convert');\n",
              "      buttonEl.style.display =\n",
              "        google.colab.kernel.accessAllowed ? 'block' : 'none';\n",
              "\n",
              "      async function convertToInteractive(key) {\n",
              "        const element = document.querySelector('#df-7b8a6ba0-6554-4000-bdbe-e7b372bda9b3');\n",
              "        const dataTable =\n",
              "          await google.colab.kernel.invokeFunction('convertToInteractive',\n",
              "                                                    [key], {});\n",
              "        if (!dataTable) return;\n",
              "\n",
              "        const docLinkHtml = 'Like what you see? Visit the ' +\n",
              "          '<a target=\"_blank\" href=https://colab.research.google.com/notebooks/data_table.ipynb>data table notebook</a>'\n",
              "          + ' to learn more about interactive tables.';\n",
              "        element.innerHTML = '';\n",
              "        dataTable['output_type'] = 'display_data';\n",
              "        await google.colab.output.renderOutput(dataTable, element);\n",
              "        const docLink = document.createElement('div');\n",
              "        docLink.innerHTML = docLinkHtml;\n",
              "        element.appendChild(docLink);\n",
              "      }\n",
              "    </script>\n",
              "  </div>\n",
              "\n",
              "\n",
              "<div id=\"df-a9c402a7-5876-487c-9f0a-bf40933d7ea0\">\n",
              "  <button class=\"colab-df-quickchart\" onclick=\"quickchart('df-a9c402a7-5876-487c-9f0a-bf40933d7ea0')\"\n",
              "            title=\"Suggest charts\"\n",
              "            style=\"display:none;\">\n",
              "\n",
              "<svg xmlns=\"http://www.w3.org/2000/svg\" height=\"24px\"viewBox=\"0 0 24 24\"\n",
              "     width=\"24px\">\n",
              "    <g>\n",
              "        <path d=\"M19 3H5c-1.1 0-2 .9-2 2v14c0 1.1.9 2 2 2h14c1.1 0 2-.9 2-2V5c0-1.1-.9-2-2-2zM9 17H7v-7h2v7zm4 0h-2V7h2v10zm4 0h-2v-4h2v4z\"/>\n",
              "    </g>\n",
              "</svg>\n",
              "  </button>\n",
              "\n",
              "<style>\n",
              "  .colab-df-quickchart {\n",
              "      --bg-color: #E8F0FE;\n",
              "      --fill-color: #1967D2;\n",
              "      --hover-bg-color: #E2EBFA;\n",
              "      --hover-fill-color: #174EA6;\n",
              "      --disabled-fill-color: #AAA;\n",
              "      --disabled-bg-color: #DDD;\n",
              "  }\n",
              "\n",
              "  [theme=dark] .colab-df-quickchart {\n",
              "      --bg-color: #3B4455;\n",
              "      --fill-color: #D2E3FC;\n",
              "      --hover-bg-color: #434B5C;\n",
              "      --hover-fill-color: #FFFFFF;\n",
              "      --disabled-bg-color: #3B4455;\n",
              "      --disabled-fill-color: #666;\n",
              "  }\n",
              "\n",
              "  .colab-df-quickchart {\n",
              "    background-color: var(--bg-color);\n",
              "    border: none;\n",
              "    border-radius: 50%;\n",
              "    cursor: pointer;\n",
              "    display: none;\n",
              "    fill: var(--fill-color);\n",
              "    height: 32px;\n",
              "    padding: 0;\n",
              "    width: 32px;\n",
              "  }\n",
              "\n",
              "  .colab-df-quickchart:hover {\n",
              "    background-color: var(--hover-bg-color);\n",
              "    box-shadow: 0 1px 2px rgba(60, 64, 67, 0.3), 0 1px 3px 1px rgba(60, 64, 67, 0.15);\n",
              "    fill: var(--button-hover-fill-color);\n",
              "  }\n",
              "\n",
              "  .colab-df-quickchart-complete:disabled,\n",
              "  .colab-df-quickchart-complete:disabled:hover {\n",
              "    background-color: var(--disabled-bg-color);\n",
              "    fill: var(--disabled-fill-color);\n",
              "    box-shadow: none;\n",
              "  }\n",
              "\n",
              "  .colab-df-spinner {\n",
              "    border: 2px solid var(--fill-color);\n",
              "    border-color: transparent;\n",
              "    border-bottom-color: var(--fill-color);\n",
              "    animation:\n",
              "      spin 1s steps(1) infinite;\n",
              "  }\n",
              "\n",
              "  @keyframes spin {\n",
              "    0% {\n",
              "      border-color: transparent;\n",
              "      border-bottom-color: var(--fill-color);\n",
              "      border-left-color: var(--fill-color);\n",
              "    }\n",
              "    20% {\n",
              "      border-color: transparent;\n",
              "      border-left-color: var(--fill-color);\n",
              "      border-top-color: var(--fill-color);\n",
              "    }\n",
              "    30% {\n",
              "      border-color: transparent;\n",
              "      border-left-color: var(--fill-color);\n",
              "      border-top-color: var(--fill-color);\n",
              "      border-right-color: var(--fill-color);\n",
              "    }\n",
              "    40% {\n",
              "      border-color: transparent;\n",
              "      border-right-color: var(--fill-color);\n",
              "      border-top-color: var(--fill-color);\n",
              "    }\n",
              "    60% {\n",
              "      border-color: transparent;\n",
              "      border-right-color: var(--fill-color);\n",
              "    }\n",
              "    80% {\n",
              "      border-color: transparent;\n",
              "      border-right-color: var(--fill-color);\n",
              "      border-bottom-color: var(--fill-color);\n",
              "    }\n",
              "    90% {\n",
              "      border-color: transparent;\n",
              "      border-bottom-color: var(--fill-color);\n",
              "    }\n",
              "  }\n",
              "</style>\n",
              "\n",
              "  <script>\n",
              "    async function quickchart(key) {\n",
              "      const quickchartButtonEl =\n",
              "        document.querySelector('#' + key + ' button');\n",
              "      quickchartButtonEl.disabled = true;  // To prevent multiple clicks.\n",
              "      quickchartButtonEl.classList.add('colab-df-spinner');\n",
              "      try {\n",
              "        const charts = await google.colab.kernel.invokeFunction(\n",
              "            'suggestCharts', [key], {});\n",
              "      } catch (error) {\n",
              "        console.error('Error during call to suggestCharts:', error);\n",
              "      }\n",
              "      quickchartButtonEl.classList.remove('colab-df-spinner');\n",
              "      quickchartButtonEl.classList.add('colab-df-quickchart-complete');\n",
              "    }\n",
              "    (() => {\n",
              "      let quickchartButtonEl =\n",
              "        document.querySelector('#df-a9c402a7-5876-487c-9f0a-bf40933d7ea0 button');\n",
              "      quickchartButtonEl.style.display =\n",
              "        google.colab.kernel.accessAllowed ? 'block' : 'none';\n",
              "    })();\n",
              "  </script>\n",
              "</div>\n",
              "\n",
              "    </div>\n",
              "  </div>\n"
            ],
            "application/vnd.google.colaboratory.intrinsic+json": {
              "type": "dataframe",
              "variable_name": "movie_plot_taglines",
              "summary": "{\n  \"name\": \"movie_plot_taglines\",\n  \"rows\": 9099,\n  \"fields\": [\n    {\n      \"column\": \"id\",\n      \"properties\": {\n        \"dtype\": \"number\",\n        \"std\": 62159,\n        \"min\": 2,\n        \"max\": 416437,\n        \"num_unique_values\": 9082,\n        \"samples\": [\n          18320,\n          11362,\n          11797\n        ],\n        \"semantic_type\": \"\",\n        \"description\": \"\"\n      }\n    },\n    {\n      \"column\": \"title\",\n      \"properties\": {\n        \"dtype\": \"string\",\n        \"num_unique_values\": 8809,\n        \"samples\": [\n          \"Dark Passage\",\n          \"The 5,000 Fingers of Dr. T.\",\n          \"I Am Trying to Break Your Heart\"\n        ],\n        \"semantic_type\": \"\",\n        \"description\": \"\"\n      }\n    },\n    {\n      \"column\": \"overview\",\n      \"properties\": {\n        \"dtype\": \"string\",\n        \"num_unique_values\": 9064,\n        \"samples\": [\n          \"Jaded ex-CIA operative John Creasy reluctantly accepts a job as the bodyguard for a 10-year-old girl in Mexico City. They clash at first, but eventually bond, and when she's kidnapped he's consumed by fury and will stop at nothing to save her life.\",\n          \"A widescreen, Technicolor remake by Hitchcock of his 1934 film of the same title. A couple (James Stewart, Doris Day) vacationing in Morocco with their young son accidentally stumble upon an assassination plot. When the child is kidnapped to ensure their silence, they have to take matters into their own hands to save him.\",\n          \"In 1918, a young, disillusioned Adolph Hitler strikes up a friendship with a Jewish art dealer while weighing a life of passion for art vs. talent at politics\"\n        ],\n        \"semantic_type\": \"\",\n        \"description\": \"\"\n      }\n    },\n    {\n      \"column\": \"tagline\",\n      \"properties\": {\n        \"dtype\": \"string\",\n        \"num_unique_values\": 7010,\n        \"samples\": [\n          \"Some people change your life forever.\",\n          \"The Second Parts Are More Fools\",\n          \"If at first you don't succeed, lower your standards.\"\n        ],\n        \"semantic_type\": \"\",\n        \"description\": \"\"\n      }\n    }\n  ]\n}"
            }
          },
          "metadata": {},
          "execution_count": 203
        }
      ]
    },
    {
      "cell_type": "markdown",
      "source": [
        "**Build recommendation engine**\n",
        "\n",
        "In this exercise, we will build a recommendation engine that suggests movies based on similarity of plot lines. You have been given a get_recommendations() function that takes in the title of a movie, a similarity matrix and an indices series as its arguments and outputs a list of most similar movies. indices has already been provided to you.\n",
        "\n",
        "You have also been given a movie_plots Series that contains the plot lines of several movies. Your task is to generate a cosine similarity matrix for the tf-idf vectors of these plots.\n",
        "\n",
        "Consequently, we will check the potency of our engine by generating recommendations for one of my favorite movies, The Dark Knight Rises."
      ],
      "metadata": {
        "id": "hQQy93YL5p_j"
      }
    },
    {
      "cell_type": "code",
      "source": [
        "# The recomender function\n",
        "def get_recommendations(title, cosine_sim, indices, num_recom = 10):\n",
        "    # Get index of movie that matches title\n",
        "    idx = indices[title]\n",
        "    # Sort the movies based on the similarity scores\n",
        "    sim_scores = list(enumerate(cosine_sim[idx]))\n",
        "    sim_scores = sorted(sim_scores, key=lambda x: x[1], reverse=True)\n",
        "    # Get the scores for 10 most similar movies\n",
        "    sim_scores = sim_scores[1: num_recom + 1]\n",
        "    # Get the movie indices\n",
        "    movie_indices = [i[0] for i in sim_scores]\n",
        "    # Return the top 10 most similar movies\n",
        "    return metadata['title'].iloc[movie_indices]"
      ],
      "metadata": {
        "id": "ctF5rAMG522W"
      },
      "execution_count": 200,
      "outputs": []
    },
    {
      "cell_type": "code",
      "source": [
        "trans_c = movie_plot_taglines.overview\n",
        "trans_c = trans_c.fillna('')"
      ],
      "metadata": {
        "id": "Do1nIi7Q7JQm"
      },
      "execution_count": 214,
      "outputs": []
    },
    {
      "cell_type": "code",
      "source": [
        "# Initialize the TfidfVectorizer\n",
        "tfidf = TfidfVectorizer(stop_words='english')\n",
        "\n",
        "# Construct the TF-IDF matrix\n",
        "#tfidf_matrix = tfidf.fit_transform(movie_plot_taglines.overview)\n",
        "tfidf_matrix = tfidf.fit_transform(trans_c)\n",
        "\n",
        "# Generate the cosine similarity matrix\n",
        "cosine_sim = linear_kernel(tfidf_matrix, tfidf_matrix)\n",
        "print(cosine_sim.shape)\n",
        "\n",
        "# create indices\n",
        "indices = pd.Series(movie_plot_taglines.index, index= movie_plot_taglines['title']).drop_duplicates()\n",
        "print(indices.shape)\n",
        "indices.head()\n",
        "\n",
        "# Generate recommendations\n",
        "print(get_recommendations('The Dark Knight Rises', cosine_sim, indices))"
      ],
      "metadata": {
        "colab": {
          "base_uri": "https://localhost:8080/"
        },
        "id": "QQ1qMHec5nGL",
        "outputId": "82420c97-9b33-4041-ade6-dd2a7afff108"
      },
      "execution_count": 216,
      "outputs": [
        {
          "output_type": "stream",
          "name": "stdout",
          "text": [
            "(9099, 9099)\n",
            "(9099,)\n",
            "132                              Batman Forever\n",
            "6907                            The Dark Knight\n",
            "1116                             Batman Returns\n",
            "7573                 Batman: Under the Red Hood\n",
            "524                                      Batman\n",
            "7907                           Batman: Year One\n",
            "8171    Batman: The Dark Knight Returns, Part 1\n",
            "2581               Batman: Mask of the Phantasm\n",
            "8232    Batman: The Dark Knight Returns, Part 2\n",
            "6150                              Batman Begins\n",
            "Name: title, dtype: object\n"
          ]
        }
      ]
    }
  ]
}