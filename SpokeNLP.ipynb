{
  "nbformat": 4,
  "nbformat_minor": 0,
  "metadata": {
    "colab": {
      "provenance": [],
      "authorship_tag": "ABX9TyM2yz7rG8Dq9kWYnVQ4v53E",
      "include_colab_link": true
    },
    "kernelspec": {
      "name": "python3",
      "display_name": "Python 3"
    },
    "language_info": {
      "name": "python"
    }
  },
  "cells": [
    {
      "cell_type": "markdown",
      "metadata": {
        "id": "view-in-github",
        "colab_type": "text"
      },
      "source": [
        "<a href=\"https://colab.research.google.com/github/GildasTaliah/NatLangPro_py/blob/main/SpokeNLP.ipynb\" target=\"_parent\"><img src=\"https://colab.research.google.com/assets/colab-badge.svg\" alt=\"Open In Colab\"/></a>"
      ]
    },
    {
      "cell_type": "markdown",
      "source": [
        "# **DESCRIPTION**\n",
        "We learn to speak far before we learn to read. Even in the digital age, our main method of communication is speech. Spoken Language Processing with Python will help you load, transform and transcribe audio files. You'll start by seeing what raw audio looks like in Python. And then finish by working through an example business use case, transcribing and classifying phone call data."
      ],
      "metadata": {
        "id": "R78PSZznMARm"
      }
    },
    {
      "cell_type": "markdown",
      "source": [
        "# **1.Introduction To Spoken Language Processing with Python**\n",
        "Audio files are different from most other types of data. Before you can start working with them, they require some preprocessing. In this chapter, you'll learn the first steps to working with speech files by converting two different audio files into soundwaves and comparing them visually.\n",
        "\n",
        "- Movies show on average **30 pictures per second** which our brain registers as moving imgaes, the sampling rate of an audio file is a measure of data chunks per second used to represent a digital sound, with **1 kHz (digital sounds measure in frequency) equalling 1000 pieces of information per second**.\n",
        "- For example a typical song usually have **32kHz sampling rate**  This means 32,000 pieces of information per second. Speech and audio books are usually between 8 and 16 kHz.\n",
        "\n",
        "\n",
        "\n"
      ],
      "metadata": {
        "id": "Y61IFCGpMc63"
      }
    },
    {
      "cell_type": "markdown",
      "source": [
        "**The right frequency**\n",
        "\n",
        "Movies play multiple pictures per second succession to give the illusion of moving pictures, sound is similar but usually at a much larger rate. What's the standard unit of measure for sound frequency?\n",
        "\n",
        "- That's it! Our audio files have been 48 kHz so far, that's 48,000 cycles per second!"
      ],
      "metadata": {
        "id": "MxRYDOORP2x-"
      }
    },
    {
      "cell_type": "markdown",
      "source": [
        "Importing an audio file with Python\n",
        "You've seen how there are different kinds of audio files and how streaming music and spoken language have different sampling rates. But now we want to start working with these files.\n",
        "\n",
        "To begin, we're going to import the good_morning.wav audio file using Python's in-built wave library. Then we'll see what it looks like in byte form using the built-in readframes() method.\n",
        "\n",
        "You can listen to good_morning.wav here [Link](https://assets.datacamp.com/production/repositories/4637/datasets/d30b8e2319792fb3e9d7ce1e469b15ecf3f75227/good-morning.wav).\n",
        "\n",
        "Remember, good_morning.wav is only a few seconds long but at 48 kHz, that means it contains 48,000 pieces of information per second."
      ],
      "metadata": {
        "id": "IqsVwFovQBjw"
      }
    },
    {
      "cell_type": "code",
      "source": [
        "# Downlod audio\n",
        "import requests\n",
        "\n",
        "url = \"https://assets.datacamp.com/production/repositories/4637/datasets/\\\n",
        "d30b8e2319792fb3e9d7ce1e469b15ecf3f75227/good-morning.wav\"\n",
        "\n",
        "response = requests.get(url)\n",
        "\n",
        "with open(\"good_morning.wav\", \"wb\") as file:\n",
        "    file.write(response.content)\n",
        "print('File successfully downloaded')"
      ],
      "metadata": {
        "colab": {
          "base_uri": "https://localhost:8080/"
        },
        "id": "QqoRqL8ZQT-p",
        "outputId": "53a0140b-6807-420b-e303-976dbe478ccc"
      },
      "execution_count": 17,
      "outputs": [
        {
          "output_type": "stream",
          "name": "stdout",
          "text": [
            "File successfully downloaded\n"
          ]
        }
      ]
    },
    {
      "cell_type": "code",
      "source": [
        "import wave\n",
        "\n",
        "# Create audio file wave object\n",
        "good_morning = wave.open('good_morning.wav', 'r')\n",
        "\n",
        "# Read all frames from wave object\n",
        "# The -1 means we want to read in all of the pieces of information within the wave_object.\n",
        "signal_gm = good_morning.readframes(-1)\n",
        "\n",
        "# View first 10\n",
        "print(signal_gm[:10])\n",
        "print('\\n', \"Boom! You've just imported your first audio file and seen what it looks like with pure Python. Now let's convert it something more readable.\" )\n"
      ],
      "metadata": {
        "colab": {
          "base_uri": "https://localhost:8080/"
        },
        "id": "J1zrRiExQUcT",
        "outputId": "10df19f3-5941-4477-f40f-2a7cb3291fdd"
      },
      "execution_count": 18,
      "outputs": [
        {
          "output_type": "stream",
          "name": "stdout",
          "text": [
            "b'\\xfd\\xff\\xfb\\xff\\xf8\\xff\\xf8\\xff\\xf7\\xff'\n",
            "\n",
            " Boom! You've just imported your first audio file and seen what it looks like with pure Python. Now let's convert it something more readable.\n"
          ]
        }
      ]
    },
    {
      "cell_type": "markdown",
      "source": [
        "- Our good morning sound wave is a freqquency of 48 kHz and a length of 2 seconds"
      ],
      "metadata": {
        "id": "ipz7GjsMR8rv"
      }
    },
    {
      "cell_type": "code",
      "source": [
        "# Pieces of information\n",
        "# kHz and length of audio\n",
        "kHz, length = 48 * 1000, 2\n",
        "info = kHz * length\n",
        "print('Pieces of info: ', info)\n",
        "#print(good_morning.getnframes())"
      ],
      "metadata": {
        "colab": {
          "base_uri": "https://localhost:8080/"
        },
        "id": "l7-FQDCnR7o5",
        "outputId": "7be4c93c-2d90-4a01-e5ca-bbed14f2f240"
      },
      "execution_count": 19,
      "outputs": [
        {
          "output_type": "stream",
          "name": "stdout",
          "text": [
            "Pieces of info:  96000\n"
          ]
        }
      ]
    },
    {
      "cell_type": "markdown",
      "source": [
        "**Finding the frame**\n",
        "\n",
        " $$\\mathbf{Frequency(Hz) = \\frac{Lenght Of Wave Object Array}{ Duration Of Audio Files (in second)}}$$"
      ],
      "metadata": {
        "id": "bu17mSd7S7MP"
      }
    },
    {
      "cell_type": "markdown",
      "source": [
        "**The right data type**\n",
        "\n",
        "dtype defaults to float in np.frombuffer(), what's the correct dtype to set it to for visualizing sound wave bytes?\n",
        "\n",
        "You can try the different options by running np.frombuffer(signal_gm, dtype=____).\n",
        "- Nice! The 'int16' data type returns positive and negative integers, just as we wanted. Our sound wave integers will be ready to plot in no time!"
      ],
      "metadata": {
        "id": "9bc0_IO6UpzZ"
      }
    },
    {
      "cell_type": "markdown",
      "source": [
        "**Bytes to integers**\n",
        "\n",
        "You've seen how to import and read an audio file using Python's wave module and the readframes() method. But doing that results in an array of bytes.\n",
        "\n",
        "To convert the bytes into something more useful, we'll use NumPy's frombuffer() method.\n",
        "\n",
        "Passing frombuffer() our sound waves bytes and indicating a dtype of 'int16', we can convert our bytes to integers. Integers are much easier to work with than bytes.\n",
        "\n",
        "The Python wave library has already been imported along with the good_morning.wav audio file."
      ],
      "metadata": {
        "id": "0NuQdH3aU2FZ"
      }
    },
    {
      "cell_type": "markdown",
      "source": [],
      "metadata": {
        "id": "0R4gzducUiD1"
      }
    },
    {
      "cell_type": "code",
      "source": [
        "import numpy as np\n",
        "\n",
        "# Open good morning sound wave and read frames as bytes\n",
        "good_morning = wave.open('good_morning.wav', 'r')\n",
        "signal_gm = good_morning.readframes(-1)\n",
        "\n",
        "# Convert good morning audio bytes to integers\n",
        "soundwave_gm = np.frombuffer(signal_gm, dtype='int16')\n",
        "\n",
        "# View the first 10 sound wave values\n",
        "print(soundwave_gm[:10], '\\n')\n",
        "\n",
        "\"Great effort! You've read in an audio file with Python and converted into to integers, that's the first step towards speech recognition!\""
      ],
      "metadata": {
        "colab": {
          "base_uri": "https://localhost:8080/",
          "height": 86
        },
        "id": "csnh5G2IS9OI",
        "outputId": "6b7d52ee-78d1-418c-a0fa-36f694ce7289"
      },
      "execution_count": 20,
      "outputs": [
        {
          "output_type": "stream",
          "name": "stdout",
          "text": [
            "[ -3  -5  -8  -8  -9 -13  -8 -10  -9 -11] \n",
            "\n"
          ]
        },
        {
          "output_type": "execute_result",
          "data": {
            "text/plain": [
              "\"Great effort! You've read in an audio file with Python and converted into to integers, that's the first step towards speech recognition!\""
            ],
            "application/vnd.google.colaboratory.intrinsic+json": {
              "type": "string"
            }
          },
          "metadata": {},
          "execution_count": 20
        }
      ]
    },
    {
      "cell_type": "markdown",
      "source": [
        "**Finding the time stamps**\n",
        "\n",
        "We know the frequency of our sound wave is 48 kHz, but what if we didn't? We could find it by dividing the length of our sound wave array by the duration of our sound wave. However, Python's wave module has a better way. Calling getframerate() on a wave object returns the frame rate of that wave object.\n",
        "\n",
        "We can then use NumPy's linspace() method to find the time stamp of each integer in our sound wave array. This will help us visualize our sound wave in the future.\n",
        "\n",
        "The linspace() method takes start, stop and num parameters and returns num evenly spaced values between start and stop.\n",
        "\n",
        "In our case, start will be zero, stop will be the length of our sound wave array over the frame rate (or the duration of our audio file) and num will be the length of our sound wave array."
      ],
      "metadata": {
        "id": "46NRUaJpVaXB"
      }
    },
    {
      "cell_type": "markdown",
      "source": [],
      "metadata": {
        "id": "tKG_OtTOhUgP"
      }
    },
    {
      "cell_type": "code",
      "source": [
        "# Read in sound wave and convert from bytes to integers\n",
        "good_morning = wave.open('good_morning.wav', 'r')\n",
        "signal_gm = good_morning.readframes(-1)\n",
        "soundwave_gm = np.frombuffer(signal_gm, dtype='int16')\n",
        "\n",
        "# Get the sound wave frame rate\n",
        "framerate_gm = good_morning.getframerate()\n",
        "print('Lenght of Wave object: ', len(soundwave_gm) ,'Frame rate: ', framerate_gm)\n",
        "\n",
        "# Find the sound wave timestamps\n",
        "time_gm = np.linspace(start=0,\n",
        "                      stop=len(soundwave_gm)/framerate_gm,\n",
        "                      num=len(soundwave_gm))\n",
        "\n",
        "# Print the first 10 timestamps\n",
        "print(\"Let's check out the first 10 timestamps. Each of these values is the time in seconds where each sound wave byte occurred.\", '\\n')\n",
        "print(time_gm[:10], '\\n')\n",
        "\n",
        "\"Nice! You've done some great data manipulation to our good morning sound wave. Now we'll use all your hard work to plot it and see what it looks like!\""
      ],
      "metadata": {
        "colab": {
          "base_uri": "https://localhost:8080/",
          "height": 196
        },
        "id": "RjKrrM8QVcfI",
        "outputId": "be0fd9b8-341d-4677-d141-4fd4f5679c11"
      },
      "execution_count": 21,
      "outputs": [
        {
          "output_type": "stream",
          "name": "stdout",
          "text": [
            "Lenght of Wave object:  249984 Frame rate:  48000\n",
            "Let's check out the first 10 timestamps. Each of these values is the time in seconds where each sound wave byte occurred. \n",
            "\n",
            "[0.00000000e+00 2.08334167e-05 4.16668333e-05 6.25002500e-05\n",
            " 8.33336667e-05 1.04167083e-04 1.25000500e-04 1.45833917e-04\n",
            " 1.66667333e-04 1.87500750e-04] \n",
            "\n"
          ]
        },
        {
          "output_type": "execute_result",
          "data": {
            "text/plain": [
              "\"Nice! You've done some great data manipulation to our good morning sound wave. Now we'll use all your hard work to plot it and see what it looks like!\""
            ],
            "application/vnd.google.colaboratory.intrinsic+json": {
              "type": "string"
            }
          },
          "metadata": {},
          "execution_count": 21
        }
      ]
    },
    {
      "cell_type": "markdown",
      "source": [
        "- **Amplitudde** : The y-axis is the amplitude or how much the sound wave displaces air particles as it moves through the air. A value of 0 indicates no sound at all.\n",
        "\n",
        "**Staying consistent**\n",
        "\n",
        "Why is it important to ensure the same data transformations are performed on all of your audio files?\n",
        "- To ensure data consistency and prevent potential data mismatches.Correct! Performing the same transformations on all of audio files, allows us to work with them in a consistent manner."
      ],
      "metadata": {
        "id": "A4e4DBbDWzar"
      }
    },
    {
      "cell_type": "markdown",
      "source": [
        "**Processing audio data with Python**\n",
        "You've seen how a sound waves can be turned into numbers but what does all that conversion look like?\n",
        "\n",
        "And how about another similar sound wave? One slightly different?\n",
        "\n",
        "In this exercise, we're going to use MatPlotLib to plot the sound wave of good_morning against good_afternoon.\n",
        "\n",
        "To have the good_morning and good_afternoon sound waves on the same plot and distinguishable from each other, we'll use MatPlotLib's alpha parameter.\n",
        "\n",
        "You can listen to the good_afternoon audio [here](https://assets.datacamp.com/production/repositories/4637/datasets/16379ca3c3689f5f7cfb3de20585cb6da609294b/good-afternoon.wav) and good_morning audio [here](https://assets.datacamp.com/production/repositories/4637/datasets/d30b8e2319792fb3e9d7ce1e469b15ecf3f75227/good-morning.wav)."
      ],
      "metadata": {
        "id": "AH73QUgXYdyN"
      }
    },
    {
      "cell_type": "code",
      "source": [
        "# Download good afternoon\n",
        "url = \"https://assets.datacamp.com/production/repositories/4637/datasets/16379ca3c3689f5f7cfb3de20585cb6da609294b/good-afternoon.wav\"\n",
        "\n",
        "response = requests.get(url)\n",
        "\n",
        "with open(\"good_afternoon.wav\", \"wb\") as file:\n",
        "    file.write(response.content)\n",
        "print('File successfully downloaded')"
      ],
      "metadata": {
        "colab": {
          "base_uri": "https://localhost:8080/"
        },
        "id": "OQdPi-sWXqUd",
        "outputId": "c3a2dd0c-a45f-4a15-9835-f3ac75170d86"
      },
      "execution_count": 22,
      "outputs": [
        {
          "output_type": "stream",
          "name": "stdout",
          "text": [
            "File successfully downloaded\n"
          ]
        }
      ]
    },
    {
      "cell_type": "code",
      "source": [
        "# Open good afternoon sound wave\n",
        "\n",
        "good_afternoon = wave.open('good_afternoon.wav', 'r')\n",
        "signal_ga = good_afternoon.readframes(-1)\n",
        "\n",
        "# convert good afternoon bytes to integers\n",
        "soundwave_ga = np.frombuffer(signal_ga, dtype='int16')\n",
        "\n",
        "# View first 10 sound wave values\n",
        "print(soundwave_ga[:10], '\\n')\n",
        "\n",
        "# Get the sound wave frame rate\n",
        "framerate_ga = good_afternoon.getframerate()\n",
        "print('Lenght of Wave object: ', len(soundwave_ga) ,'Frame rate: ', framerate_ga, '\\n')"
      ],
      "metadata": {
        "colab": {
          "base_uri": "https://localhost:8080/"
        },
        "id": "A21fBlQqYQCh",
        "outputId": "aec31c07-38d0-49ea-c4ea-e56f5f5f4b89"
      },
      "execution_count": 23,
      "outputs": [
        {
          "output_type": "stream",
          "name": "stdout",
          "text": [
            "[-79 -54 -80 -49 -85 -45 -87 -51 -87 -58] \n",
            "\n",
            "Lenght of Wave object:  332288 Frame rate:  48000 \n",
            "\n"
          ]
        }
      ]
    },
    {
      "cell_type": "code",
      "source": [
        "## Data Transformation\n",
        "# Ensure equality in length\n",
        "soundwave_ga = soundwave_ga[:len(soundwave_gm)]\n",
        "print('Lenght of Wave object: ', len(soundwave_ga),'Frame rate: ', framerate_ga)\n",
        "print('Lenght of Wave object: ', len(soundwave_gm) ,'Frame rate: ', framerate_gm)\n",
        "\n",
        "# Find the sound wave timestamps\n",
        "time_ga = np.linspace(start=0,\n",
        "                      stop=len(soundwave_ga)/framerate_ga,\n",
        "                      num=len(soundwave_ga))\n",
        "print('Length time ga: ', len(time_ga))\n",
        "print('Length time gm: ', len(time_gm))\n",
        "time_gm = time_gm[:len(time_ga)]\n",
        "print('Length time gm: ', len(time_gm))\n",
        "\n",
        "# Print the first 10 timestamps\n",
        "print(\"Let's check out the first 10 timestamps. Each of these values is the time in seconds where each sound wave byte occurred.\", '\\n')\n",
        "print(time_ga[:10], '\\n')"
      ],
      "metadata": {
        "colab": {
          "base_uri": "https://localhost:8080/"
        },
        "id": "5jwd_nwqaCAo",
        "outputId": "45c08194-0f28-493c-8e55-b8b9a4ff5613"
      },
      "execution_count": 24,
      "outputs": [
        {
          "output_type": "stream",
          "name": "stdout",
          "text": [
            "Lenght of Wave object:  249984 Frame rate:  48000\n",
            "Lenght of Wave object:  249984 Frame rate:  48000\n",
            "Length time ga:  249984\n",
            "Length time gm:  249984\n",
            "Length time gm:  249984\n",
            "Let's check out the first 10 timestamps. Each of these values is the time in seconds where each sound wave byte occurred. \n",
            "\n",
            "[0.00000000e+00 2.08334167e-05 4.16668333e-05 6.25002500e-05\n",
            " 8.33336667e-05 1.04167083e-04 1.25000500e-04 1.45833917e-04\n",
            " 1.66667333e-04 1.87500750e-04] \n",
            "\n"
          ]
        }
      ]
    },
    {
      "cell_type": "code",
      "source": [
        "# Check equity\n",
        "print('Lenght of Wave object: ', len(soundwave_ga) ,'Frame rate: ', framerate_ga, '\\n')\n",
        "print('Lenght of Wave object: ', len(soundwave_gm) ,'Frame rate: ', framerate_gm, '\\n')\n",
        "\n",
        "# print shapes\n",
        "print(soundwave_ga.shape, soundwave_gm.shape)"
      ],
      "metadata": {
        "colab": {
          "base_uri": "https://localhost:8080/"
        },
        "id": "Dunjsz30cgYs",
        "outputId": "7a395765-0c65-4b92-9189-a50164c826d6"
      },
      "execution_count": 25,
      "outputs": [
        {
          "output_type": "stream",
          "name": "stdout",
          "text": [
            "Lenght of Wave object:  249984 Frame rate:  48000 \n",
            "\n",
            "Lenght of Wave object:  249984 Frame rate:  48000 \n",
            "\n",
            "(249984,) (249984,)\n"
          ]
        }
      ]
    },
    {
      "cell_type": "code",
      "source": [
        "# Setup the title and axis titles\n",
        "from matplotlib import pyplot as plt\n",
        "plt.style.use('ggplot')\n",
        "\n",
        "plt.title('Good Afternoon vs. Good Morning')\n",
        "plt.ylabel('Amplitude')\n",
        "plt.xlabel('Time (seconds)')\n",
        "\n",
        "# Add the Good Afternoon data to the plot\n",
        "plt.plot(time_ga, soundwave_ga, label='Good Afternoon')\n",
        "\n",
        "# Add the Good Morning data to the plot\n",
        "\n",
        "plt.plot(time_gm, soundwave_gm, label='Good Morning')#,\n",
        "   # Set the alpha variable to 0.5\n",
        "  # alpha=0.5)\n",
        "\n",
        "plt.legend()\n",
        "plt.show()\n",
        "\n",
        "\" Great effort! Notice the two sound waves are very similar in the beginning. \\\n",
        "Because the first word is good in both audio files, they almost completely overlap. \\\n",
        "A well-built speech recognition system would recognize this and return the same \\\n",
        "first word for each wave. Let's build one to do just that.\""
      ],
      "metadata": {
        "colab": {
          "base_uri": "https://localhost:8080/",
          "height": 524
        },
        "id": "u3YeAFircHCP",
        "outputId": "a93a3d23-3e4b-48a5-b495-f527470a9435"
      },
      "execution_count": 26,
      "outputs": [
        {
          "output_type": "display_data",
          "data": {
            "text/plain": [
              "<Figure size 640x480 with 1 Axes>"
            ],
            "image/png": "[encoded data removed]"
          },
          "metadata": {}
        },
        {
          "output_type": "execute_result",
          "data": {
            "text/plain": [
              "\" Great effort! Notice the two sound waves are very similar in the beginning. Because the first word is good in both audio files, they almost completely overlap. A well-built speech recognition system would recognize this and return the same first word for each wave. Let's build one to do just that.\""
            ],
            "application/vnd.google.colaboratory.intrinsic+json": {
              "type": "string"
            }
          },
          "metadata": {},
          "execution_count": 26
        }
      ]
    },
    {
      "cell_type": "markdown",
      "source": [
        "# **2. Using the Python Speech Recognition Library**\n",
        "\n",
        "Speech recognition is still far from perfect. But the SpeechRecognition library provides an easy way to interact with many speech-to-text APIs. In this section, you'll learn how to use the SpeechRecognition library to easily start converting the spoken language in your audio files to text.\n",
        "\n",
        "Speech recognition is still far from perfect. But the SpeechRecognition library provides an easy way to interact with many speech-to-text APIs. In this section, you'll learn how to use the SpeechRecognition library to easily start converting the spoken language in your audio files to text.\n"
      ],
      "metadata": {
        "id": "JQTawgoEgRVl"
      }
    },
    {
      "cell_type": "markdown",
      "source": [
        "Which of the following is not a speech recognition API within the speech_recognition library?\n",
        "\n",
        "An instance of the Recognizer class has been created and saved to recognizer. You can try calling the API on recognizer to see what happens.\n",
        " **recognize_google_cloud()** **recognize_google()** **recognize_bing()** **what does this say()**"
      ],
      "metadata": {
        "id": "Z1yMdm2DwxaY"
      }
    },
    {
      "cell_type": "markdown",
      "source": [
        "**Using the SpeechRecognition library**\n",
        "\n",
        "To save typing speech_recognition every time, we'll import it as sr.\n",
        "\n",
        "We'll also setup an instance of the Recognizer class to use later.\n",
        "\n",
        "The energy_threshold is a number between 0 and 4000 for how much the Recognizer class should listen to an audio file.\n",
        "\n",
        "energy_threshold will dynamically adjust whilst the recognizer class listens to audio."
      ],
      "metadata": {
        "id": "pssRxvcBxa3f"
      }
    },
    {
      "cell_type": "code",
      "source": [
        "#!pip install SpeechRecognition"
      ],
      "metadata": {
        "id": "JgXf3aNBxvTv"
      },
      "execution_count": null,
      "outputs": []
    },
    {
      "cell_type": "markdown",
      "source": [],
      "metadata": {
        "id": "ZPtV7ttSx7CC"
      }
    },
    {
      "cell_type": "code",
      "source": [
        "# Importing the speech_recognition library\n",
        "import speech_recognition as sr\n",
        "\n",
        "# Create an instance of the Recognizer class\n",
        "recognizer = sr.Recognizer()\n",
        "\n",
        "# Set the energy threshold\n",
        "recognizer.energy_threshold = 300\n",
        "\n",
        "\"The most important step done! Now you're ready to start accessing the speech_recognition library and use the Recognizer class!\""
      ],
      "metadata": {
        "colab": {
          "base_uri": "https://localhost:8080/",
          "height": 42
        },
        "id": "TTi6jknBxr1n",
        "outputId": "af6f60c1-73db-4871-e07f-ecc06b0e44f1"
      },
      "execution_count": 29,
      "outputs": [
        {
          "output_type": "execute_result",
          "data": {
            "text/plain": [
              "\"The most important step done! Now you're ready to start accessing the speech_recognition library and use the Recognizer class!\""
            ],
            "application/vnd.google.colaboratory.intrinsic+json": {
              "type": "string"
            }
          },
          "metadata": {},
          "execution_count": 29
        }
      ]
    },
    {
      "cell_type": "markdown",
      "source": [
        "Using the Recognizer class\n",
        "Now you've created an instance of the Recognizer class we'll use the recognize_google() method on it to access the Google web speech API and turn spoken language into text.\n",
        "\n",
        "recognize_google() requires an argument audio_data otherwise it will return an error.\n",
        "\n",
        "US English is the default language. If your audio file isn't in US English, you can change the language with the language argument. A list of language codes can be seen [here](https://cloud.google.com/speech-to-text/docs/speech-to-text-supported-languages).\n",
        "\n",
        "An audio file containing English speech has been imported as clean_support_call_audio. You can listen to the audio file [here](https://assets.datacamp.com/production/repositories/4637/datasets/393a2f76d057c906de27ec57ea655cb1dc999fce/clean-support-call.wav).\n",
        "Example codes; English (South Africa): **en-ZA**. English (Ghana): **en-GH**. German (Germany): **de-DE**. SpeechRecognition has also been imported as sr.\n",
        "\n",
        "To avoid hitting the API request limit of Google's web API, we've mocked the Recognizer class to work with our audio files. This means some functionality will be limited."
      ],
      "metadata": {
        "id": "165iZn5Qx8KY"
      }
    },
    {
      "cell_type": "code",
      "source": [
        "url = \"https://assets.datacamp.com/production/repositories/4637/datasets/393a2f76d057c906de27ec57ea655cb1dc999fce/clean-support-call.wav\"\n",
        "\n",
        "response = requests.get(url)\n",
        "\n",
        "with open(\"clean_support_call.wav\", \"wb\") as file:\n",
        "    file.write(response.content)\n",
        "print('File successfully downloaded')"
      ],
      "metadata": {
        "colab": {
          "base_uri": "https://localhost:8080/"
        },
        "id": "5h1qeNv4zw9i",
        "outputId": "77775df5-87c0-47c6-af3c-895926c12d87"
      },
      "execution_count": 30,
      "outputs": [
        {
          "output_type": "stream",
          "name": "stdout",
          "text": [
            "File successfully downloaded\n"
          ]
        }
      ]
    },
    {
      "cell_type": "code",
      "source": [
        "import speech_recognition as sr\n",
        "\n",
        "# Assuming you've already created the AudioFile object\n",
        "r = sr.Recognizer()\n",
        "\n",
        "with sr.AudioFile('clean_support_call.wav') as source:\n",
        "    # Read the entire audio file\n",
        "    audio = r.record(source)\n",
        "\n",
        "clean_support_call_audio = audio"
      ],
      "metadata": {
        "id": "4gRGz-lb1P-8"
      },
      "execution_count": 39,
      "outputs": []
    },
    {
      "cell_type": "code",
      "source": [
        "# Create a recognizer class\n",
        "recognizer = sr.Recognizer()\n",
        "# import\n",
        "#clean_support_call_audio = open('clean_support_call.wav', 'rb')\n",
        "# open file\n",
        "#clean_support_call_audio = wave.open('clean_support_call.wav', 'r')\n",
        "\n",
        "#\n",
        "clean_support_call_audio = sr.AudioFile('clean_support_call.wav')\n",
        "# Transcribe the support call audio\n",
        "text = recognizer.recognize_google(\n",
        "  audio_data=clean_support_call_audio,\n",
        "  language=\"en-US\")\n",
        "\n"
      ],
      "metadata": {
        "colab": {
          "base_uri": "https://localhost:8080/",
          "height": 436
        },
        "id": "wIRA_xCdzxEL",
        "outputId": "0d1c1fbf-dc18-4b5a-c9b4-0cbd7923ccf5"
      },
      "execution_count": 40,
      "outputs": [
        {
          "output_type": "error",
          "ename": "ValueError",
          "evalue": "``audio_data`` must be audio data",
          "traceback": [
            "\u001b[0;31m---------------------------------------------------------------------------\u001b[0m",
            "\u001b[0;31mValueError\u001b[0m                                Traceback (most recent call last)",
            "\u001b[0;32m<ipython-input-40-5f51bc3e41cf>\u001b[0m in \u001b[0;36m<cell line: 11>\u001b[0;34m()\u001b[0m\n\u001b[1;32m      9\u001b[0m \u001b[0mclean_support_call_audio\u001b[0m \u001b[0;34m=\u001b[0m \u001b[0msr\u001b[0m\u001b[0;34m.\u001b[0m\u001b[0mAudioFile\u001b[0m\u001b[0;34m(\u001b[0m\u001b[0;34m'clean_support_call.wav'\u001b[0m\u001b[0;34m)\u001b[0m\u001b[0;34m\u001b[0m\u001b[0;34m\u001b[0m\u001b[0m\n\u001b[1;32m     10\u001b[0m \u001b[0;31m# Transcribe the support call audio\u001b[0m\u001b[0;34m\u001b[0m\u001b[0;34m\u001b[0m\u001b[0m\n\u001b[0;32m---> 11\u001b[0;31m text = recognizer.recognize_google(\n\u001b[0m\u001b[1;32m     12\u001b[0m   \u001b[0maudio_data\u001b[0m\u001b[0;34m=\u001b[0m\u001b[0mclean_support_call_audio\u001b[0m\u001b[0;34m,\u001b[0m\u001b[0;34m\u001b[0m\u001b[0;34m\u001b[0m\u001b[0m\n\u001b[1;32m     13\u001b[0m   language=\"en-US\")\n",
            "\u001b[0;32m/usr/local/lib/python3.10/dist-packages/speech_recognition/recognizers/google.py\u001b[0m in \u001b[0;36mrecognize_legacy\u001b[0;34m(recognizer, audio_data, key, language, pfilter, show_all, with_confidence, endpoint)\u001b[0m\n\u001b[1;32m    252\u001b[0m         \u001b[0mendpoint\u001b[0m\u001b[0;34m=\u001b[0m\u001b[0mendpoint\u001b[0m\u001b[0;34m,\u001b[0m \u001b[0mkey\u001b[0m\u001b[0;34m=\u001b[0m\u001b[0mkey\u001b[0m\u001b[0;34m,\u001b[0m \u001b[0mlanguage\u001b[0m\u001b[0;34m=\u001b[0m\u001b[0mlanguage\u001b[0m\u001b[0;34m,\u001b[0m \u001b[0mfilter_level\u001b[0m\u001b[0;34m=\u001b[0m\u001b[0mpfilter\u001b[0m\u001b[0;34m\u001b[0m\u001b[0;34m\u001b[0m\u001b[0m\n\u001b[1;32m    253\u001b[0m     )\n\u001b[0;32m--> 254\u001b[0;31m     \u001b[0mrequest\u001b[0m \u001b[0;34m=\u001b[0m \u001b[0mrequest_builder\u001b[0m\u001b[0;34m.\u001b[0m\u001b[0mbuild\u001b[0m\u001b[0;34m(\u001b[0m\u001b[0maudio_data\u001b[0m\u001b[0;34m)\u001b[0m\u001b[0;34m\u001b[0m\u001b[0;34m\u001b[0m\u001b[0m\n\u001b[0m\u001b[1;32m    255\u001b[0m \u001b[0;34m\u001b[0m\u001b[0m\n\u001b[1;32m    256\u001b[0m     response_text = obtain_transcription(\n",
            "\u001b[0;32m/usr/local/lib/python3.10/dist-packages/speech_recognition/recognizers/google.py\u001b[0m in \u001b[0;36mbuild\u001b[0;34m(self, audio_data)\u001b[0m\n\u001b[1;32m     50\u001b[0m     \u001b[0;32mdef\u001b[0m \u001b[0mbuild\u001b[0m\u001b[0;34m(\u001b[0m\u001b[0mself\u001b[0m\u001b[0;34m,\u001b[0m \u001b[0maudio_data\u001b[0m\u001b[0;34m:\u001b[0m \u001b[0mAudioData\u001b[0m\u001b[0;34m)\u001b[0m \u001b[0;34m->\u001b[0m \u001b[0mRequest\u001b[0m\u001b[0;34m:\u001b[0m\u001b[0;34m\u001b[0m\u001b[0;34m\u001b[0m\u001b[0m\n\u001b[1;32m     51\u001b[0m         \u001b[0;32mif\u001b[0m \u001b[0;32mnot\u001b[0m \u001b[0misinstance\u001b[0m\u001b[0;34m(\u001b[0m\u001b[0maudio_data\u001b[0m\u001b[0;34m,\u001b[0m \u001b[0mAudioData\u001b[0m\u001b[0;34m)\u001b[0m\u001b[0;34m:\u001b[0m\u001b[0;34m\u001b[0m\u001b[0;34m\u001b[0m\u001b[0m\n\u001b[0;32m---> 52\u001b[0;31m             \u001b[0;32mraise\u001b[0m \u001b[0mValueError\u001b[0m\u001b[0;34m(\u001b[0m\u001b[0;34m\"``audio_data`` must be audio data\"\u001b[0m\u001b[0;34m)\u001b[0m\u001b[0;34m\u001b[0m\u001b[0;34m\u001b[0m\u001b[0m\n\u001b[0m\u001b[1;32m     53\u001b[0m \u001b[0;34m\u001b[0m\u001b[0m\n\u001b[1;32m     54\u001b[0m         \u001b[0murl\u001b[0m \u001b[0;34m=\u001b[0m \u001b[0mself\u001b[0m\u001b[0;34m.\u001b[0m\u001b[0mbuild_url\u001b[0m\u001b[0;34m(\u001b[0m\u001b[0;34m)\u001b[0m\u001b[0;34m\u001b[0m\u001b[0;34m\u001b[0m\u001b[0m\n",
            "\u001b[0;31mValueError\u001b[0m: ``audio_data`` must be audio data"
          ]
        }
      ]
    },
    {
      "cell_type": "code",
      "source": [
        "clean_support_call_audio"
      ],
      "metadata": {
        "colab": {
          "base_uri": "https://localhost:8080/"
        },
        "id": "jCyV2atm0v7Y",
        "outputId": "36438279-076c-48ce-ac0c-a87c47cd871d"
      },
      "execution_count": 35,
      "outputs": [
        {
          "output_type": "execute_result",
          "data": {
            "text/plain": [
              "<speech_recognition.AudioFile at 0x79be59d7dc30>"
            ]
          },
          "metadata": {},
          "execution_count": 35
        }
      ]
    },
    {
      "cell_type": "code",
      "source": [
        "import speech_recognition as sr\n",
        "\n",
        "# Create a recognizer object\n",
        "recognizer = sr.Recognizer()\n",
        "\n",
        "# Open the audio file\n",
        "with sr.AudioFile('clean_support_call.wav') as source:\n",
        "    # Check type first time\n",
        "    print('Type of file: ', type(source), '\\n')\n",
        "\n",
        "    # Read the entire audio file\n",
        "    audio_data = recognizer.record(source)\n",
        "    print('Type of file: ', type(audio_data), '\\n')\n",
        "\n",
        "    # Now transcribe the audio data\n",
        "    try:\n",
        "        text = recognizer.recognize_google(\n",
        "            audio_data=audio_data,\n",
        "            language=\"en-US\"\n",
        "        )\n",
        "        print(\"Transcription:\", text)\n",
        "    except sr.UnknownValueError:\n",
        "        print(\"Google Speech Recognition could not understand the audio\")\n",
        "    except sr.RequestError as e:\n",
        "        print(f\"Could not request results from Google Speech Recognition service; {e}\")\n",
        "\n",
        "\n",
        "print()\n",
        "print(text, '\\n')\n",
        "\"Massive effort! You just transcribed your first piece of audio using speech_recognition's \\\n",
        "Recognizer class! Well, we've set it a mock version of Recognizer so we don't hit the \\\n",
        "API max requests limit. Notice how the 'hello' wasn't seperate from the rest of the text. \\\n",
        "As powerful as recognize_google() is, it doesn't have sentence separation.\""
      ],
      "metadata": {
        "colab": {
          "base_uri": "https://localhost:8080/",
          "height": 262
        },
        "id": "Gh4EI78V0Axq",
        "outputId": "ed2c6a4c-008a-42bf-9388-53d9f252ea4a"
      },
      "execution_count": 45,
      "outputs": [
        {
          "output_type": "stream",
          "name": "stdout",
          "text": [
            "Type of file:  <class 'speech_recognition.AudioFile'> \n",
            "\n",
            "Type of file:  <class 'speech_recognition.audio.AudioData'> \n",
            "\n",
            "Transcription: hello I'd like to get some help setting up my account please\n",
            "\n",
            "hello I'd like to get some help setting up my account please \n",
            "\n"
          ]
        },
        {
          "output_type": "execute_result",
          "data": {
            "text/plain": [
              "\"Massive effort! You just transcribed your first piece of audio using speech_recognition's Recognizer class! Well, we've set it a mock version of Recognizer so we don't hit the API max requests limit. Notice how the 'hello' wasn't seperate from the rest of the text. As powerful as recognize_google() is, it doesn't have sentence separation.\""
            ],
            "application/vnd.google.colaboratory.intrinsic+json": {
              "type": "string"
            }
          },
          "metadata": {},
          "execution_count": 45
        }
      ]
    },
    {
      "cell_type": "markdown",
      "source": [
        "**From AudioFile to AudioData**\n",
        "\n",
        "As you saw earlier, there are some transformation steps we have to take to make our audio data useful. The same goes for SpeechRecognition.\n",
        "\n",
        "In this exercise, we'll import the clean_support_call.wav audio file and get it ready to be recognized.\n",
        "\n",
        "We first read our audio file using the AudioFile class. But the recognize_google() method requires an input of type AudioData.\n",
        "\n",
        "To convert our AudioFile to AudioData, we'll use the Recognizer class's method record() along with a context manager. The record() method takes an AudioFile as input and converts it to AudioData, ready to be used with recognize_google().\n",
        "\n",
        "SpeechRecognition has already been imported as sr.\n",
        "\n",
        "- once more we use the Python **with**, to neatly open read and close file."
      ],
      "metadata": {
        "id": "Cth7X8B-4Q_l"
      }
    },
    {
      "cell_type": "code",
      "source": [
        "text, text.split()[:2]"
      ],
      "metadata": {
        "colab": {
          "base_uri": "https://localhost:8080/"
        },
        "id": "xP9CvQ0B4NAE",
        "outputId": "b865edce-7331-4b7e-ebde-f5f02c3325fd"
      },
      "execution_count": 49,
      "outputs": [
        {
          "output_type": "execute_result",
          "data": {
            "text/plain": [
              "(\"hello I'd like to get some help setting up my account please\",\n",
              " ['hello', \"I'd\"])"
            ]
          },
          "metadata": {},
          "execution_count": 49
        }
      ]
    },
    {
      "cell_type": "code",
      "source": [
        "# Instantiate Recognizer\n",
        "recognizer = sr.Recognizer()\n",
        "\n",
        "# Convert audio to AudioFile\n",
        "clean_support_call = sr.AudioFile(\"clean_support_call.wav\")\n",
        "\n",
        "# Convert AudioFile to AudioData\n",
        "with clean_support_call as source:\n",
        "    clean_support_call_audio = recognizer.record(source)\n",
        "\n",
        "# Transcribe AudioData to text\n",
        "text = recognizer.recognize_google(clean_support_call_audio,\n",
        "                                   language=\"en-US\")\n",
        "print(text, '\\n')\n",
        "\n",
        "\"Nice! You've gone end to end with SpeechRecognition, you've imported an audio \\\n",
        "file, converted it to the right data type and transcribed it using Google's free web API! \\\n",
        "Now let's see a few more capabilities of the record() method.\""
      ],
      "metadata": {
        "colab": {
          "base_uri": "https://localhost:8080/",
          "height": 86
        },
        "id": "v7kLOtKK4o9C",
        "outputId": "a098de14-672b-46f8-ebfb-b4823321f35b"
      },
      "execution_count": 50,
      "outputs": [
        {
          "output_type": "stream",
          "name": "stdout",
          "text": [
            "hello I'd like to get some help setting up my account please\n"
          ]
        },
        {
          "output_type": "execute_result",
          "data": {
            "text/plain": [
              "\"Nice! You've gone end to end with SpeechRecognition, you've imported an audio file, converted it to the right data type and transcribed it using Google's free web API! Now let's see a few more capabilities of the record() method.\""
            ],
            "application/vnd.google.colaboratory.intrinsic+json": {
              "type": "string"
            }
          },
          "metadata": {},
          "execution_count": 50
        }
      ]
    },
    {
      "cell_type": "markdown",
      "source": [
        "**Recording the audio we need**\n",
        "Sometimes you may not want the entire audio file you're working with. The duration and offset parameters of the record() method can help with this.\n",
        "\n",
        "After exploring your dataset, you find there's one file, imported as **nothing_at_end**  [here](https://assets.datacamp.com/production/repositories/4637/datasets/ca799cf2a7b093c06e1a5ae1dd96a49d48d65efa/30-seconds-of-nothing-16k.wav) which has 30-seconds of silence at the end and a support call file, imported as **out_of_warranty** here[here](https://assets.datacamp.com/production/repositories/4637/datasets/dbc47d8210fdf8de42b0da73d1c2ba92e883b2d2/static-out-of-warranty.wav) has 3-seconds of static at the front.\n",
        "\n",
        "Setting duration and offset means the record() method will record up to duration audio starting at offset. They're both measured in seconds."
      ],
      "metadata": {
        "id": "mKk1Mzx45xsZ"
      }
    },
    {
      "cell_type": "code",
      "source": [
        "# import file and name: nothing at the end of it\n",
        "url = \"https://assets.datacamp.com/production/repositories/4637/datasets/ca799cf2a7b093c06e1a5ae1dd96a49d48d65efa/30-seconds-of-nothing-16k.wav\"\n",
        "\n",
        "response = requests.get(url)\n",
        "\n",
        "with open(\"nothing_at_end.wav\", \"wb\") as file:\n",
        "    file.write(response.content)\n",
        "print('File successfully downloaded')\n",
        "\n",
        "# import file and name: out of warranty\n",
        "url = \"https://assets.datacamp.com/production/repositories/4637/datasets/dbc47d8210fdf8de42b0da73d1c2ba92e883b2d2/static-out-of-warranty.wav\"\n",
        "\n",
        "response = requests.get(url)\n",
        "\n",
        "with open(\"out_of_warranty.wav\", \"wb\") as file:\n",
        "    file.write(response.content)\n",
        "print('File successfully downloaded')"
      ],
      "metadata": {
        "colab": {
          "base_uri": "https://localhost:8080/"
        },
        "id": "sIAk9uRy5w1c",
        "outputId": "f8e5c555-d55c-488f-f449-c4bb905fede1"
      },
      "execution_count": 51,
      "outputs": [
        {
          "output_type": "stream",
          "name": "stdout",
          "text": [
            "File successfully downloaded\n",
            "File successfully downloaded\n"
          ]
        }
      ]
    },
    {
      "cell_type": "code",
      "source": [
        "# read file\n",
        "nothing_at_end = sr.AudioFile(\"nothing_at_end.wav\")\n",
        "out_of_warranty = sr.AudioFile(\"out_of_warranty.wav\")\n",
        "\n",
        "# Instantiate Recognizer\n",
        "recognizer = sr.Recognizer()\n",
        "# Convert AudioFile to AudioData\n",
        "with nothing_at_end as source:\n",
        "    nothing_at_end_audio = recognizer.record(source,\n",
        "                                             duration=10,\n",
        "                                             offset=None)\n",
        "\n",
        "# Transcribe AudioData to text\n",
        "text = recognizer.recognize_google(nothing_at_end_audio,\n",
        "                                   language=\"en-US\")\n",
        "\n",
        "print(text)\n",
        "\n",
        "\n",
        "\n",
        "#\n",
        "# Convert AudioFile to AudioData\n",
        "with out_of_warranty as source:\n",
        "    static_art_start_audio = recognizer.record(source,\n",
        "                                               duration=None,\n",
        "                                               offset=3)\n",
        "\n",
        "# Transcribe AudioData to text\n",
        "text = recognizer.recognize_google(static_art_start_audio,\n",
        "                                   language=\"en-US\")\n",
        "\n",
        "print(text)\n",
        "\n",
        "\"That's much better! Speech recognition can be resource intensive, so in practice, \\\n",
        "you'll want to explore your audio files to make you're not wasting any compute power trying to transcribe static or silence.\""
      ],
      "metadata": {
        "colab": {
          "base_uri": "https://localhost:8080/",
          "height": 108
        },
        "id": "1p4syK9o5tV0",
        "outputId": "0f59c6e9-68a8-4f75-f884-91d10911a776"
      },
      "execution_count": 55,
      "outputs": [
        {
          "output_type": "stream",
          "name": "stdout",
          "text": [
            "this audio file has 30 seconds of nothing at the end of it\n",
            "hello I'd like to get some help with my device please I think it's out of warranty I bought it about 2 years ago\n"
          ]
        },
        {
          "output_type": "execute_result",
          "data": {
            "text/plain": [
              "\"That's much better! Speech recognition can be resource intensive, so in practice, you'll want to explore your audio files to make you're not wasting any compute power trying to transcribe static or silence.\""
            ],
            "application/vnd.google.colaboratory.intrinsic+json": {
              "type": "string"
            }
          },
          "metadata": {},
          "execution_count": 55
        }
      ]
    },
    {
      "cell_type": "markdown",
      "source": [
        "**Different kinds of audio**\n",
        "\n",
        "Now you've seen an example of how the Recognizer class works. Let's try a few more. How about speech from a different language?\n",
        "\n",
        "What do you think will happen when we call the recognize_google() function on a Japanese version of good_morning.wav (file) [here](https://assets.datacamp.com/production/repositories/4637/datasets/cd9b801670d0664275cdbd3a24b6b70a8c2e5222/good-morning-japanense.wav) (japanese_audio)?\n",
        "\n",
        "The default language is \"en-US\", are the results the same with the \"ja\" tag?\n",
        "\n",
        "How about non-speech audio? Like this leopard roaring (leopard_audio) [here]().\n",
        "\n",
        "Or speech where the sounds may not be real words, such as a baby talking (charlie_audio) [here]()?\n",
        "\n",
        "To familiarize more with the Recognizer class, we'll look at an example of each of these."
      ],
      "metadata": {
        "id": "R9eduuCG8yKv"
      }
    },
    {
      "cell_type": "code",
      "source": [
        "# read Japenese audio\n",
        "url = \"https://assets.datacamp.com/production/repositories/4637/datasets/cd9b801670d0664275cdbd3a24b6b70a8c2e5222/good-morning-japanense.wav\"\n",
        "\n",
        "response = requests.get(url)\n",
        "\n",
        "with open(\"japanese_audio.wav\", \"wb\") as file:\n",
        "    file.write(response.content)\n",
        "print('File successfully downloaded')\n",
        "\n",
        "\n",
        "# Leopard audio\n",
        "url = \"https://assets.datacamp.com/production/repositories/4637/datasets/cd9b801670d0664275cdbd3a24b6b70a8c2e5222/good-morning-japanense.wav\"\n",
        "\n",
        "response = requests.get(url)\n",
        "\n",
        "with open(\"leopard_audio.wav\", \"wb\") as file:\n",
        "    file.write(response.content)\n",
        "print('File successfully downloaded')\n",
        "\n",
        "\n",
        "# Charlie audio: Baby talking\n",
        "url = \"https://assets.datacamp.com/production/repositories/4637/datasets/e9fd46a06d74431e3baa942c489e1b119d85a233/charlie-bit-me-5.wav\"\n",
        "\n",
        "response = requests.get(url)\n",
        "\n",
        "with open(\"charlie_audio.wav\", \"wb\") as file:\n",
        "    file.write(response.content)\n",
        "print('File successfully downloaded')"
      ],
      "metadata": {
        "colab": {
          "base_uri": "https://localhost:8080/"
        },
        "id": "jldhC5gR1K4a",
        "outputId": "63bc3fb9-c97b-4b9b-84d4-50ee9c706c21"
      },
      "execution_count": 65,
      "outputs": [
        {
          "output_type": "stream",
          "name": "stdout",
          "text": [
            "File successfully downloaded\n",
            "File successfully downloaded\n",
            "File successfully downloaded\n"
          ]
        }
      ]
    },
    {
      "cell_type": "code",
      "source": [
        "# read data from audio files\n",
        "japanese_audio = sr.AudioFile(\"japanese_audio.wav\")\n",
        "leopard_audio = sr.AudioFile(\"leopard_audio.wav\")\n",
        "charlie_audio = sr.AudioFile(\"charlie_audio.wav\")"
      ],
      "metadata": {
        "id": "D_0iY9CD-JcS"
      },
      "execution_count": 66,
      "outputs": []
    },
    {
      "cell_type": "code",
      "source": [
        "# Create a recognizer class\n",
        "recognizer = sr.Recognizer()\n",
        "\n",
        "# Pass the Japanese audio to recognize_google\n",
        "with japanese_audio as source:\n",
        "    japanese_audio = recognizer.record(source)\n",
        "text = recognizer.recognize_google(japanese_audio, language=\"en-US\")\n",
        "\n",
        "# Print the text\n",
        "print(text, '\\n')\n",
        "\n",
        "# Create a recognizer class\n",
        "recognizer = sr.Recognizer()\n",
        "\n",
        "# Pass the Japanese audio to recognize_google\n",
        "text = recognizer.recognize_google(japanese_audio, language=\"ja\")\n",
        "\n",
        "# Print the text\n",
        "print(text, '\\n')"
      ],
      "metadata": {
        "colab": {
          "base_uri": "https://localhost:8080/"
        },
        "id": "k8XFS-i7_L8L",
        "outputId": "ef45b5c0-de4c-4581-ab52-3eade57011f3"
      },
      "execution_count": 67,
      "outputs": [
        {
          "output_type": "stream",
          "name": "stdout",
          "text": [
            "ohayo gozaimasu \n",
            "\n",
            "おはようございます \n",
            "\n"
          ]
        }
      ]
    },
    {
      "cell_type": "code",
      "source": [
        "# Create a recognizer class\n",
        "recognizer = sr.Recognizer()\n",
        "\n",
        "# Pass the leopard audio to recognize_google\n",
        "with leopard_audio as source:\n",
        "    leopard_audio = recognizer.record(source)\n",
        "text = recognizer.recognize_google(leopard_audio,\n",
        "                                   language=\"en-US\",\n",
        "                                   show_all=True)\n",
        "\n",
        "# Print the text\n",
        "print(text, '\\n')\n",
        "\n",
        "# Create a recognizer class\n",
        "recognizer = sr.Recognizer()\n",
        "\n",
        "# Pass charlie_audio to recognize_google\n",
        "with charlie_audio as source:\n",
        "    charlie_audio = recognizer.record(source)\n",
        "text = recognizer.recognize_google(charlie_audio,\n",
        "                                   language=\"en-US\")\n",
        "\n",
        "# Print the text\n",
        "print(text)\n",
        "\n",
        "\n",
        "\"What an effort! You've seen how the recognize_google() deals with different \\\n",
        "kinds of audio. It's worth noting the recognize_google() function is only going \\\n",
        "to return words, as in, it didn't return the baby saying 'ahhh!' because it doesn't\\\n",
        " recognize it as a word. Speech recognition has come a long way but it's far from perfect. Let's push on!\""
      ],
      "metadata": {
        "colab": {
          "base_uri": "https://localhost:8080/",
          "height": 130
        },
        "id": "8iMXBpiI-ny2",
        "outputId": "783cfb1a-2bbf-421e-abff-a30c6f4bb06a"
      },
      "execution_count": 62,
      "outputs": [
        {
          "output_type": "stream",
          "name": "stdout",
          "text": [
            "{'alternative': [{'transcript': 'ohayo gozaimasu', 'confidence': 0.4822723}, {'transcript': 'Ohio gozaimasu', 'confidence': 0.4822723}], 'final': True}\n",
            "Charlie Charlie Bit Me\n"
          ]
        },
        {
          "output_type": "execute_result",
          "data": {
            "text/plain": [
              "\"What an effort! You've seen how the recognize_google() deals with different kinds of audio. It's worth noting the recognize_google() function is only going to return words, as in, it didn't return the baby saying 'ahhh!' because it doesn't recognize it as a word. Speech recognition has come a long way but it's far from perfect. Let's push on!\""
            ],
            "application/vnd.google.colaboratory.intrinsic+json": {
              "type": "string"
            }
          },
          "metadata": {},
          "execution_count": 62
        }
      ]
    },
    {
      "cell_type": "markdown",
      "source": [
        "**Multiple Speakers 1**\n",
        "\n",
        "If your goal is to transcribe conversations, there will be more than one speaker. However, as you'll see, the recognize_google() function will only transcribe speech into a single block of text.\n",
        "\n",
        "You can hear in this audio file [here](https://assets.datacamp.com/production/repositories/4637/datasets/925c8c31d6e4af9c291c692f13e4f41c7b5e86b2/multiple-speakers-16k.wav) there are three different speakers.\n",
        "\n",
        "But if you transcribe it on its own, recognize_google() returns a single block of text. Which is still useful but it doesn't let you know which speaker said what.\n",
        "\n",
        "We'll see an alternative to this in the next exercise.\n",
        "\n",
        "The multiple speakers audio file has been imported and converted to AudioData as multiple_speakers."
      ],
      "metadata": {
        "id": "DCvIRRVPAW1W"
      }
    },
    {
      "cell_type": "code",
      "source": [
        "# read\n",
        "url = \"https://assets.datacamp.com/production/repositories/4637/datasets/925c8c31d6e4af9c291c692f13e4f41c7b5e86b2/multiple-speakers-16k.wav\"\n",
        "\n",
        "response = requests.get(url)\n",
        "\n",
        "with open(\"multiple_speakers.wav\", \"wb\") as file:\n",
        "    file.write(response.content)\n",
        "print('File successfully downloaded')"
      ],
      "metadata": {
        "colab": {
          "base_uri": "https://localhost:8080/"
        },
        "id": "297sxCNBAWF9",
        "outputId": "fabbbeea-17bd-4d67-fc7e-2f8ef4e93414"
      },
      "execution_count": 74,
      "outputs": [
        {
          "output_type": "stream",
          "name": "stdout",
          "text": [
            "File successfully downloaded\n"
          ]
        }
      ]
    },
    {
      "cell_type": "code",
      "source": [
        "# multiple speakers\n",
        "#multiple_speakers = sr.AudioFile(\"multiple_speakers.wav\")\n",
        "\n",
        "# Create a recognizer class\n",
        "recognizer = sr.Recognizer()\n",
        "\n",
        "#\n",
        "with sr.AudioFile('multiple_speakers.wav') as source:\n",
        "    # Convert the audio to AudioData\n",
        "    multiple_speakers = recognizer.record(source)\n",
        "# Recognize the multiple speaker AudioData\n",
        "text = recognizer.recognize_google(multiple_speakers,\n",
        "                                   language=\"en-US\")\n",
        "\n",
        "# Print the text\n",
        "print(text)\n",
        "\n",
        "\"Boom! You did it. But see how all of the speakers speech came out in one big block of text? In the next exercise we'll see a way of working around this.\""
      ],
      "metadata": {
        "colab": {
          "base_uri": "https://localhost:8080/",
          "height": 84
        },
        "id": "1YSMu7XFAi3r",
        "outputId": "18b3904b-eb24-4849-87a4-29bca5ce535d"
      },
      "execution_count": 75,
      "outputs": [
        {
          "output_type": "stream",
          "name": "stdout",
          "text": [
            "what are the limitations of the speech recognition library is that it doesn't recognize different speakers and voices it would just return it all as one block a text\n"
          ]
        },
        {
          "output_type": "execute_result",
          "data": {
            "text/plain": [
              "\"Boom! You did it. But see how all of the speakers speech came out in one big block of text? In the next exercise we'll see a way of working around this.\""
            ],
            "application/vnd.google.colaboratory.intrinsic+json": {
              "type": "string"
            }
          },
          "metadata": {},
          "execution_count": 75
        }
      ]
    },
    {
      "cell_type": "markdown",
      "source": [
        "**Multiple Speakers 2**\n",
        "\n",
        "Deciphering between multiple speakers in one audio file is called speaker diarization. However, you've seen the free function we've been using, recognize_google() doesn't have the ability to transcribe different speakers.\n",
        "\n",
        "One way around this, without using one of the paid speech to text services, is to ensure your audio files are single speaker.\n",
        "\n",
        "This means if you were working with phone call data, you would make sure the caller and receiver are recorded separately. Then you could transcribe each file individually.\n",
        "\n",
        "In this exercise, we'll transcribe each of the speakers in our multiple speakers audio file individually."
      ],
      "metadata": {
        "id": "_PdbdbDlBc1n"
      }
    },
    {
      "cell_type": "code",
      "source": [
        "\n",
        "#recognizer = sr.Recognizer()\n",
        "\n",
        "# Multiple speakers on different files\n",
        "#speakers = [sr.AudioFile(\"speaker_0.wav\"),\n",
        " #           sr.AudioFile(\"speaker_1.wav\"),\n",
        "  #          sr.AudioFile(\"speaker_2.wav\")]\n",
        "\n",
        "# Transcribe each speaker individually\n",
        "#for i, speaker in enumerate(speakers):\n",
        " #   with speaker as source:\n",
        "  #      speaker_audio = recognizer.record(source)\n",
        "   # print(f\"Text from speaker {i}:\")\n",
        "    #print(recognizer.recognize_google(speaker_audio,\n",
        "    #    \t\t\t\t\t\t\t  language=\"en-US\"))\n",
        "\n",
        "\"Nice work! Something to remember is I had to manually split the audio file into \\\n",
        "different speakers. You can see this solution still isn't perfect but it's easier \\\n",
        "to deal with than having a single block of text. You could think about automating \\\n",
        "this process in the future by having a model split the audio when it detects different \\\n",
        "speakers. For now, let's look into what happens when you've got noisy audio!\""
      ],
      "metadata": {
        "colab": {
          "base_uri": "https://localhost:8080/",
          "height": 86
        },
        "id": "pUGBjq5MCO6m",
        "outputId": "861b95be-5411-42d0-a148-1d7ff68ec0e3"
      },
      "execution_count": 76,
      "outputs": [
        {
          "output_type": "execute_result",
          "data": {
            "text/plain": [
              "\"Nice work! Something to remember is I had to manually split the audio file into different speakers. You can see this solution still isn't perfect but it's easier to deal with than having a single block of text. You could think about automating this process in the future by having a model split the audio when it detects different speakers. For now, let's look into what happens when you've got noisy audio!\""
            ],
            "application/vnd.google.colaboratory.intrinsic+json": {
              "type": "string"
            }
          },
          "metadata": {},
          "execution_count": 76
        }
      ]
    },
    {
      "cell_type": "markdown",
      "source": [
        "**Working with noisy audio**\n",
        "\n",
        "In this exercise, we'll start by transcribing a clean speech sample to text and then see what happens when we add some background noise.\n",
        "\n",
        "A clean audio sample has been imported as clean_support_call.\n",
        "\n",
        "Play clean support call [here](https://assets.datacamp.com/production/repositories/4637/datasets/393a2f76d057c906de27ec57ea655cb1dc999fce/clean-support-call.wav).\n",
        "\n",
        "We'll then do the same with the noisy audio file saved as noisy_support_call. It has the same speech as clean_support_call [here](https://assets.datacamp.com/production/repositories/4637/datasets/f3edd5024944eac2f424b592840475890c86d405/2-noisy-support-call.wav) but with additional background noise.\n",
        "\n",
        "Play noisy support call.\n",
        "\n",
        "To try and negate the background noise, we'll take advantage of Recognizer's adjust_for_ambient_noise() function."
      ],
      "metadata": {
        "id": "0JN7Adq-DI-K"
      }
    },
    {
      "cell_type": "code",
      "source": [
        "# download noisy support call\n",
        "url = \"https://assets.datacamp.com/production/repositories/4637/datasets/f3edd5024944eac2f424b592840475890c86d405/2-noisy-support-call.wav\"\n",
        "\n",
        "response = requests.get(url)\n",
        "\n",
        "with open(\"noisy_support_call.wav\", \"wb\") as file:\n",
        "    file.write(response.content)\n",
        "print('File successfully downloaded')"
      ],
      "metadata": {
        "colab": {
          "base_uri": "https://localhost:8080/"
        },
        "id": "v2NNnwPfDnN6",
        "outputId": "d553e84e-ceb1-4cf1-e6c5-6c2dbfb38698"
      },
      "execution_count": 77,
      "outputs": [
        {
          "output_type": "stream",
          "name": "stdout",
          "text": [
            "File successfully downloaded\n"
          ]
        }
      ]
    },
    {
      "cell_type": "code",
      "source": [
        "recognizer = sr.Recognizer()\n",
        "\n",
        "# read audio\n",
        "clean_support_call = sr.AudioFile(\"clean_support_call.wav\")\n",
        "noisy_support_call = sr.AudioFile(\"noisy_support_call.wav\")\n",
        "\n",
        "# Record the audio from the clean support call\n",
        "with clean_support_call as source:\n",
        "  clean_support_call_audio = recognizer.record(source)\n",
        "\n",
        "# Transcribe the speech from the clean support call\n",
        "text = recognizer.recognize_google(clean_support_call_audio,\n",
        "                                   language=\"en-US\")\n",
        "\n",
        "print(text)"
      ],
      "metadata": {
        "colab": {
          "base_uri": "https://localhost:8080/"
        },
        "id": "VglIpCGYDzPT",
        "outputId": "1c82d5fc-0a61-4745-d597-98209fbaa85d"
      },
      "execution_count": 78,
      "outputs": [
        {
          "output_type": "stream",
          "name": "stdout",
          "text": [
            "hello I'd like to get some help setting up my account please\n"
          ]
        }
      ]
    },
    {
      "cell_type": "code",
      "source": [
        "recognizer = sr.Recognizer()\n",
        "\n",
        "# Record the audio from the noisy support call\n",
        "with noisy_support_call as source:\n",
        "  noisy_support_call_audio = recognizer.record(source)\n",
        "\n",
        "# Transcribe the speech from the noisy support call\n",
        "text = recognizer.recognize_google(noisy_support_call_audio,\n",
        "                                   language=\"en-US\",\n",
        "                                   show_all=True)\n",
        "\n",
        "print(text)"
      ],
      "metadata": {
        "colab": {
          "base_uri": "https://localhost:8080/"
        },
        "id": "-JW_YKiGD-Re",
        "outputId": "73e6b9e4-b3db-4737-f06f-ab2fc78e5097"
      },
      "execution_count": 79,
      "outputs": [
        {
          "output_type": "stream",
          "name": "stdout",
          "text": [
            "{'alternative': [{'transcript': \"hello I'd like to get some help setting up my account please talk to you today\", 'confidence': 0.73268276}, {'transcript': \"hello I'd like to get some help setting up my account please talk to you babe\", 'confidence': 0.71981758}, {'transcript': \"hello I'd like to get some help setting up my account please babe\", 'confidence': 0.83759969}, {'transcript': \"hello I'd like to get some help setting up my account please say\", 'confidence': 0.8341434}, {'transcript': \"hellow I'd like to get some help setting up my account please talk to you today\", 'confidence': 0.73268276}], 'final': True}\n"
          ]
        }
      ]
    },
    {
      "cell_type": "code",
      "source": [
        "recognizer = sr.Recognizer()\n",
        "\n",
        "# Record the audio from the noisy support call\n",
        "with noisy_support_call as source:\n",
        "\t# Adjust the recognizer energy threshold for ambient noise\n",
        "    recognizer.adjust_for_ambient_noise(source, duration=1)\n",
        "    noisy_support_call_audio = recognizer.record(noisy_support_call)\n",
        "\n",
        "# Transcribe the speech from the noisy support call\n",
        "text = recognizer.recognize_google(noisy_support_call_audio,\n",
        "                                   language=\"en-US\",\n",
        "                                   show_all=True)\n",
        "\n",
        "print(text)"
      ],
      "metadata": {
        "colab": {
          "base_uri": "https://localhost:8080/"
        },
        "id": "U_hPbnHjEPRZ",
        "outputId": "9da23dd1-f3dd-44c6-e005-5d44a84968fc"
      },
      "execution_count": 80,
      "outputs": [
        {
          "output_type": "stream",
          "name": "stdout",
          "text": [
            "{'alternative': [{'transcript': 'eBay eBay', 'confidence': 0.089962251}, {'transcript': 'eBay', 'confidence': 0.058715414}], 'final': True}\n"
          ]
        }
      ]
    },
    {
      "cell_type": "code",
      "source": [
        "recognizer = sr.Recognizer()\n",
        "\n",
        "# Record the audio from the noisy support call\n",
        "with noisy_support_call as source:\n",
        "\t# Adjust the recognizer energy threshold for ambient noise\n",
        "    recognizer.adjust_for_ambient_noise(source, duration=0.5)\n",
        "    noisy_support_call_audio = recognizer.record(noisy_support_call)\n",
        "\n",
        "# Transcribe the speech from the noisy support call\n",
        "text = recognizer.recognize_google(noisy_support_call_audio,\n",
        "                                   language=\"en-US\",\n",
        "                                   show_all=True)\n",
        "\n",
        "print(text)\n",
        "\n",
        "\"Well, the results still weren't perfect. This should be expected with some audio \\\n",
        "files though, sometimes the background noise is too much. If your audio files have a \\\n",
        "large amount of background noise, you may need to preprocess them with an audio tool \\\n",
        "such as Audacity before using them with speech_recognition.\""
      ],
      "metadata": {
        "colab": {
          "base_uri": "https://localhost:8080/",
          "height": 106
        },
        "id": "ZusHQTZzEb7l",
        "outputId": "6ef4dd18-ae18-4ac9-bab5-b620c3470c4c"
      },
      "execution_count": 81,
      "outputs": [
        {
          "output_type": "stream",
          "name": "stdout",
          "text": [
            "{'alternative': [{'transcript': \"hello I'd like to get sent home to setting up my account please say\", 'confidence': 0.77181345}, {'transcript': \"hello I'd like to get sent home to setting up my account please please say\", 'confidence': 0.78352511}, {'transcript': \"hello I'd like to get sent home to setting up my account please\", 'confidence': 0.83003515}, {'transcript': \"hello I'd like to get sent home to setting up my account please please baby\", 'confidence': 0.78332496}, {'transcript': \"hello I'd like to get sent home to setting up my account please please\", 'confidence': 0.83853596}], 'final': True}\n"
          ]
        },
        {
          "output_type": "execute_result",
          "data": {
            "text/plain": [
              "\"Well, the results still weren't perfect. This should be expected with some audio files though, sometimes the background noise is too much. If your audio files have a large amount of background noise, you may need to preprocess them with an audio tool such as Audacity before using them with speech_recognition.\""
            ],
            "application/vnd.google.colaboratory.intrinsic+json": {
              "type": "string"
            }
          },
          "metadata": {},
          "execution_count": 81
        }
      ]
    }
  ]
}